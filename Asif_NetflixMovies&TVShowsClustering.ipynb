{
  "nbformat": 4,
  "nbformat_minor": 0,
  "metadata": {
    "colab": {
      "provenance": [],
      "collapsed_sections": [
        "vncDsAP0Gaoa",
        "FJNUwmbgGyua",
        "w6K7xa23Elo4",
        "yQaldy8SH6Dl",
        "mDgbUHAGgjLW",
        "O_i_v8NEhb9l",
        "HhfV-JJviCcP",
        "Y3lxredqlCYt",
        "3RnN4peoiCZX",
        "x71ZqKXriCWQ",
        "7hBIi_osiCS2",
        "JlHwYmJAmNHm",
        "35m5QtbWiB9F",
        "PoPl-ycgm1ru",
        "H0kj-8xxnORC",
        "nA9Y7ga8ng1Z",
        "PBTbrJXOngz2",
        "u3PMJOP6ngxN",
        "dauF4eBmngu3",
        "bKJF3rekwFvQ",
        "MSa1f5Uengrz",
        "GF8Ens_Soomf",
        "0wOQAZs5pc--",
        "K5QZ13OEpz2H",
        "lQ7QKXXCp7Bj",
        "448CDAPjqfQr",
        "KSlN3yHqYklG",
        "t6dVpIINYklI",
        "ijmpgYnKYklI",
        "-JiQyfWJYklI",
        "EM7whBJCYoAo",
        "fge-S5ZAYoAp",
        "85gYPyotYoAp",
        "RoGjAbkUYoAp",
        "4Of9eVA-YrdM",
        "iky9q4vBYrdO",
        "F6T5p64dYrdO",
        "y-Ehk30pYrdP",
        "bamQiAODYuh1",
        "QHF8YVU7Yuh3",
        "GwzvFGzlYuh3",
        "qYpmQ266Yuh3",
        "OH-pJp9IphqM",
        "bbFf2-_FphqN",
        "_ouA3fa0phqN",
        "Seke61FWphqN",
        "PIIx-8_IphqN",
        "t27r6nlMphqO",
        "r2jJGEOYphqO",
        "b0JNsNcRphqO",
        "BZR9WyysphqO",
        "jj7wYXLtphqO",
        "eZrbJ2SmphqO",
        "rFu4xreNphqO",
        "YJ55k-q6phqO",
        "gCFgpxoyphqP",
        "OVtJsKN_phqQ",
        "lssrdh5qphqQ",
        "U2RJ9gkRphqQ",
        "1M8mcRywphqQ",
        "tgIPom80phqQ",
        "JMzcOPDDphqR",
        "x-EpHcCOp1ci",
        "X_VqEhTip1ck",
        "8zGJKyg5p1ck",
        "PVzmfK_Ep1ck",
        "n3dbpmDWp1ck",
        "ylSl6qgtp1ck",
        "ZWILFDl5p1ck",
        "M7G43BXep1ck",
        "Ag9LCva-p1cl",
        "E6MkPsBcp1cl",
        "2cELzS2fp1cl",
        "3MPXvC8up1cl",
        "NC_X3p0fY2L0",
        "UV0SzAkaZNRQ",
        "YPEH6qLeZNRQ",
        "q29F0dvdveiT",
        "EXh0U9oCveiU",
        "22aHeOlLveiV",
        "g-ATYxFrGrvw",
        "Yfr_Vlr8HBkt",
        "8yEUt7NnHlrM",
        "tEA2Xm5dHt1r",
        "I79__PHVH19G",
        "Ou-I18pAyIpj",
        "fF3858GYyt-u",
        "4_0_7-oCpUZd",
        "hwyV_J3ipUZe",
        "3yB-zSqbpUZe",
        "dEUvejAfpUZe",
        "Fd15vwWVpUZf",
        "bn_IUdTipZyH",
        "49K5P_iCpZyH",
        "Nff-vKELpZyI",
        "kLW572S8pZyI",
        "dWbDXHzopZyI",
        "yLjJCtPM0KBk",
        "xiyOF9F70UgQ",
        "7wuGOrhz0itI",
        "id1riN9m0vUs",
        "578E2V7j08f6",
        "89xtkJwZ18nB",
        "67NQN5KX2AMe",
        "Iwf50b-R2tYG",
        "GMQiZwjn3iu7",
        "WVIkgGqN3qsr",
        "XkPnILGE3zoT",
        "Hlsf0x5436Go",
        "mT9DMSJo4nBL",
        "c49ITxTc407N",
        "OeJFEK0N496M",
        "9ExmJH0g5HBk",
        "cJNqERVU536h",
        "k5UmGsbsOxih",
        "T0VqWOYE6DLQ",
        "qBMux9mC6MCf",
        "-oLEiFgy-5Pf",
        "C74aWNz2AliB",
        "2DejudWSA-a0",
        "pEMng2IbBLp7",
        "rAdphbQ9Bhjc",
        "TNVZ9zx19K6k",
        "nqoHp30x9hH9",
        "rMDnDkt2B6du",
        "yiiVWRdJDDil",
        "1UUpS68QDMuG",
        "kexQrXU-DjzY",
        "T5CmagL3EC8N",
        "BhH2vgX9EjGr",
        "qjKvONjwE8ra",
        "P1XJ9OREExlT",
        "VFOzZv6IFROw",
        "TIqpNgepFxVj",
        "VfCC591jGiD4",
        "OB4l2ZhMeS1U",
        "ArJBuiUVfxKd",
        "4qY1EAkEfxKe",
        "PiV4Ypx8fxKe",
        "TfvqoZmBfxKf",
        "dJ2tPlVmpsJ0",
        "JWYfwnehpsJ1",
        "-jK_YjpMpsJ2",
        "HAih1iBOpsJ2",
        "zVGeBEFhpsJ2",
        "bmKjuQ-FpsJ3",
        "Fze-IPXLpx6K",
        "7AN1z2sKpx6M",
        "9PIHJqyupx6M",
        "_-qAgymDpx6N",
        "Z-hykwinpx6N",
        "h_CCil-SKHpo",
        "cBFFvTBNJzUa",
        "HvGl1hHyA_VK",
        "EyNgTHvd2WFk",
        "KH5McJBi2d8v",
        "iW_Lq9qf2h6X",
        "-Kee-DAl2viO",
        "gCX9965dhzqZ",
        "gIfDvo9L0UH2"
      ],
      "include_colab_link": true
    },
    "kernelspec": {
      "name": "python3",
      "display_name": "Python 3"
    },
    "language_info": {
      "name": "python"
    },
    "gpuClass": "standard"
  },
  "cells": [
    {
      "cell_type": "markdown",
      "metadata": {
        "id": "view-in-github",
        "colab_type": "text"
      },
      "source": [
        "<a href=\"https://colab.research.google.com/github/Asif-PA/NetflixMovies-TVShowsClustering/blob/main/Asif_NetflixMovies%26TVShowsClustering.ipynb\" target=\"_parent\"><img src=\"https://colab.research.google.com/assets/colab-badge.svg\" alt=\"Open In Colab\"/></a>"
      ]
    },
    {
      "cell_type": "markdown",
      "source": [
        "# **Project Name**    - \n",
        "\n"
      ],
      "metadata": {
        "id": "vncDsAP0Gaoa"
      }
    },
    {
      "cell_type": "markdown",
      "source": [
        "##### **Project Type**    - EDA/Regression/Classification/Unsupervised\n",
        "##### **Contribution**    - Individual/Team\n",
        "##### **Team Member 1 -**\n",
        "##### **Team Member 2 -**\n",
        "##### **Team Member 3 -**\n",
        "##### **Team Member 4 -**"
      ],
      "metadata": {
        "id": "beRrZCGUAJYm"
      }
    },
    {
      "cell_type": "markdown",
      "source": [
        "# **Project Summary -**"
      ],
      "metadata": {
        "id": "FJNUwmbgGyua"
      }
    },
    {
      "cell_type": "markdown",
      "source": [
        "Write the summary here within 500-600 words."
      ],
      "metadata": {
        "id": "F6v_1wHtG2nS"
      }
    },
    {
      "cell_type": "markdown",
      "source": [
        "# **GitHub Link -**"
      ],
      "metadata": {
        "id": "w6K7xa23Elo4"
      }
    },
    {
      "cell_type": "markdown",
      "source": [
        "Provide your GitHub Link here."
      ],
      "metadata": {
        "id": "h1o69JH3Eqqn"
      }
    },
    {
      "cell_type": "markdown",
      "source": [
        "# **Problem Statement**\n"
      ],
      "metadata": {
        "id": "yQaldy8SH6Dl"
      }
    },
    {
      "cell_type": "markdown",
      "source": [
        "**Write Problem Statement Here.**"
      ],
      "metadata": {
        "id": "DpeJGUA3kjGy"
      }
    },
    {
      "cell_type": "markdown",
      "source": [
        "# **General Guidelines** : -  "
      ],
      "metadata": {
        "id": "mDgbUHAGgjLW"
      }
    },
    {
      "cell_type": "markdown",
      "source": [
        "1.   Well-structured, formatted, and commented code is required. \n",
        "2.   Exception Handling, Production Grade Code & Deployment Ready Code will be a plus. Those students will be awarded some additional credits. \n",
        "     \n",
        "     The additional credits will have advantages over other students during Star Student selection.\n",
        "       \n",
        "             [ Note: - Deployment Ready Code is defined as, the whole .ipynb notebook should be executable in one go\n",
        "                       without a single error logged. ]\n",
        "\n",
        "3.   Each and every logic should have proper comments.\n",
        "4. You may add as many number of charts you want. Make Sure for each and every chart the following format should be answered.\n",
        "        \n",
        "\n",
        "```\n",
        "# Chart visualization code\n",
        "```\n",
        "            \n",
        "\n",
        "*   Why did you pick the specific chart?\n",
        "*   What is/are the insight(s) found from the chart?\n",
        "* Will the gained insights help creating a positive business impact? \n",
        "Are there any insights that lead to negative growth? Justify with specific reason.\n",
        "\n",
        "5. You have to create at least 15 logical & meaningful charts having important insights.\n",
        "\n",
        "\n",
        "[ Hints : - Do the Vizualization in  a structured way while following \"UBM\" Rule. \n",
        "\n",
        "U - Univariate Analysis,\n",
        "\n",
        "B - Bivariate Analysis (Numerical - Categorical, Numerical - Numerical, Categorical - Categorical)\n",
        "\n",
        "M - Multivariate Analysis\n",
        " ]\n",
        "\n",
        "\n",
        "\n",
        "\n",
        "\n",
        "6. You may add more ml algorithms for model creation. Make sure for each and every algorithm, the following format should be answered.\n",
        "\n",
        "\n",
        "*   Explain the ML Model used and it's performance using Evaluation metric Score Chart.\n",
        "\n",
        "\n",
        "*   Cross- Validation & Hyperparameter Tuning\n",
        "\n",
        "*   Have you seen any improvement? Note down the improvement with updates Evaluation metric Score Chart.\n",
        "\n",
        "*   Explain each evaluation metric's indication towards business and the business impact pf the ML model used.\n",
        "\n",
        "\n",
        "\n",
        "\n",
        "\n",
        "\n",
        "\n",
        "\n",
        "\n",
        "\n",
        "\n",
        "\n",
        "\n",
        "\n",
        "\n",
        "\n",
        "\n",
        "\n"
      ],
      "metadata": {
        "id": "ZrxVaUj-hHfC"
      }
    },
    {
      "cell_type": "markdown",
      "source": [
        "# ***Let's Begin !***"
      ],
      "metadata": {
        "id": "O_i_v8NEhb9l"
      }
    },
    {
      "cell_type": "code",
      "source": [],
      "metadata": {
        "id": "4TNB1pnvoD5p"
      },
      "execution_count": null,
      "outputs": []
    },
    {
      "cell_type": "markdown",
      "source": [
        "## ***1. Know Your Data***"
      ],
      "metadata": {
        "id": "HhfV-JJviCcP"
      }
    },
    {
      "cell_type": "markdown",
      "source": [
        "### Import Libraries"
      ],
      "metadata": {
        "id": "Y3lxredqlCYt"
      }
    },
    {
      "cell_type": "code",
      "source": [
        "# Import Libraries\n",
        "!pip install mapclassify\n",
        "!pip install geopandas\n",
        "# Import Libraries\n",
        "import geopandas\n",
        "import pandas as pd\n",
        "import numpy as np\n",
        "import matplotlib.pyplot as plt\n",
        "import seaborn as sns\n",
        "import missingno as msno\n",
        "import matplotlib.cm as cm\n",
        "import math\n",
        "from scipy.stats import *\n",
        "\n",
        "from os import path\n",
        "from PIL import Image\n",
        "from wordcloud import WordCloud, STOPWORDS, ImageColorGenerator\n",
        "\n",
        "import plotly.express as px\n",
        "import plotly.graph_objects as go\n",
        "from plotly.subplots import make_subplots\n",
        "import matplotlib.cm as cm\n",
        "\n",
        "from sklearn import preprocessing\n",
        "from sklearn.feature_extraction.text import CountVectorizer, TfidfVectorizer\n",
        "from sklearn.feature_extraction.text import TfidfTransformer\n",
        "from sklearn.model_selection import train_test_split, KFold\n",
        "from nltk.corpus import stopwords\n",
        "from nltk.stem.snowball import SnowballStemmer\n",
        "import nltk\n",
        "nltk.download('wordnet')\n",
        "nltk.download('stopwords')\n",
        "from nltk.corpus import stopwords\n",
        "import string\n",
        "string.punctuation\n",
        "nltk.download('omw-1.4')\n",
        "\n",
        "from sklearn.preprocessing import LabelEncoder\n",
        "from sklearn.preprocessing import StandardScaler\n",
        "from sklearn import metrics\n",
        "from sklearn.decomposition import PCA\n",
        "\n",
        "\n",
        "from sklearn.metrics import silhouette_score\n",
        "from sklearn.cluster import KMeans\n",
        "from sklearn.metrics import silhouette_samples\n",
        "import scipy.cluster.hierarchy as sch\n",
        "\n",
        "\n",
        "import warnings\n",
        "warnings.filterwarnings('ignore')"
      ],
      "metadata": {
        "id": "M8Vqi-pPk-HR",
        "colab": {
          "base_uri": "https://localhost:8080/"
        },
        "outputId": "ec3d0b7e-d722-4d33-83fb-4b1c704d9dc4"
      },
      "execution_count": 31,
      "outputs": [
        {
          "output_type": "stream",
          "name": "stdout",
          "text": [
            "Looking in indexes: https://pypi.org/simple, https://us-python.pkg.dev/colab-wheels/public/simple/\n",
            "Requirement already satisfied: mapclassify in /usr/local/lib/python3.8/dist-packages (2.5.0)\n",
            "Requirement already satisfied: numpy>=1.3 in /usr/local/lib/python3.8/dist-packages (from mapclassify) (1.21.6)\n",
            "Requirement already satisfied: scipy>=1.0 in /usr/local/lib/python3.8/dist-packages (from mapclassify) (1.7.3)\n",
            "Requirement already satisfied: networkx in /usr/local/lib/python3.8/dist-packages (from mapclassify) (3.0)\n",
            "Requirement already satisfied: scikit-learn in /usr/local/lib/python3.8/dist-packages (from mapclassify) (1.0.2)\n",
            "Requirement already satisfied: pandas>=1.0 in /usr/local/lib/python3.8/dist-packages (from mapclassify) (1.3.5)\n",
            "Requirement already satisfied: pytz>=2017.3 in /usr/local/lib/python3.8/dist-packages (from pandas>=1.0->mapclassify) (2022.7.1)\n",
            "Requirement already satisfied: python-dateutil>=2.7.3 in /usr/local/lib/python3.8/dist-packages (from pandas>=1.0->mapclassify) (2.8.2)\n",
            "Requirement already satisfied: threadpoolctl>=2.0.0 in /usr/local/lib/python3.8/dist-packages (from scikit-learn->mapclassify) (3.1.0)\n",
            "Requirement already satisfied: joblib>=0.11 in /usr/local/lib/python3.8/dist-packages (from scikit-learn->mapclassify) (1.2.0)\n",
            "Requirement already satisfied: six>=1.5 in /usr/local/lib/python3.8/dist-packages (from python-dateutil>=2.7.3->pandas>=1.0->mapclassify) (1.15.0)\n",
            "Looking in indexes: https://pypi.org/simple, https://us-python.pkg.dev/colab-wheels/public/simple/\n",
            "Requirement already satisfied: geopandas in /usr/local/lib/python3.8/dist-packages (0.12.2)\n",
            "Requirement already satisfied: fiona>=1.8 in /usr/local/lib/python3.8/dist-packages (from geopandas) (1.9.1)\n",
            "Requirement already satisfied: packaging in /usr/local/lib/python3.8/dist-packages (from geopandas) (23.0)\n",
            "Requirement already satisfied: pandas>=1.0.0 in /usr/local/lib/python3.8/dist-packages (from geopandas) (1.3.5)\n",
            "Requirement already satisfied: pyproj>=2.6.1.post1 in /usr/local/lib/python3.8/dist-packages (from geopandas) (3.4.1)\n",
            "Requirement already satisfied: shapely>=1.7 in /usr/local/lib/python3.8/dist-packages (from geopandas) (2.0.1)\n",
            "Requirement already satisfied: setuptools in /usr/local/lib/python3.8/dist-packages (from fiona>=1.8->geopandas) (57.4.0)\n",
            "Requirement already satisfied: munch>=2.3.2 in /usr/local/lib/python3.8/dist-packages (from fiona>=1.8->geopandas) (2.5.0)\n",
            "Requirement already satisfied: certifi in /usr/local/lib/python3.8/dist-packages (from fiona>=1.8->geopandas) (2022.12.7)\n",
            "Requirement already satisfied: cligj>=0.5 in /usr/local/lib/python3.8/dist-packages (from fiona>=1.8->geopandas) (0.7.2)\n",
            "Requirement already satisfied: click~=8.0 in /usr/local/lib/python3.8/dist-packages (from fiona>=1.8->geopandas) (8.1.3)\n",
            "Requirement already satisfied: click-plugins>=1.0 in /usr/local/lib/python3.8/dist-packages (from fiona>=1.8->geopandas) (1.1.1)\n",
            "Requirement already satisfied: attrs>=19.2.0 in /usr/local/lib/python3.8/dist-packages (from fiona>=1.8->geopandas) (22.2.0)\n",
            "Requirement already satisfied: pytz>=2017.3 in /usr/local/lib/python3.8/dist-packages (from pandas>=1.0.0->geopandas) (2022.7.1)\n",
            "Requirement already satisfied: python-dateutil>=2.7.3 in /usr/local/lib/python3.8/dist-packages (from pandas>=1.0.0->geopandas) (2.8.2)\n",
            "Requirement already satisfied: numpy>=1.17.3 in /usr/local/lib/python3.8/dist-packages (from pandas>=1.0.0->geopandas) (1.21.6)\n",
            "Requirement already satisfied: six in /usr/local/lib/python3.8/dist-packages (from munch>=2.3.2->fiona>=1.8->geopandas) (1.15.0)\n"
          ]
        },
        {
          "output_type": "stream",
          "name": "stderr",
          "text": [
            "[nltk_data] Downloading package wordnet to /root/nltk_data...\n",
            "[nltk_data]   Package wordnet is already up-to-date!\n",
            "[nltk_data] Downloading package stopwords to /root/nltk_data...\n",
            "[nltk_data]   Package stopwords is already up-to-date!\n",
            "[nltk_data] Downloading package omw-1.4 to /root/nltk_data...\n",
            "[nltk_data]   Package omw-1.4 is already up-to-date!\n"
          ]
        }
      ]
    },
    {
      "cell_type": "markdown",
      "source": [
        "### Dataset Loading"
      ],
      "metadata": {
        "id": "3RnN4peoiCZX"
      }
    },
    {
      "cell_type": "code",
      "source": [
        "# Load Dataset\n",
        "#Mounting Google Drive\n",
        "from google.colab import drive\n",
        "drive.mount('/content/drive/')\n",
        "# Importing the dataset\n",
        "df = pd.read_csv('/content/drive/MyDrive/netflix capstone/Copy of NETFLIX MOVIES AND TV SHOWS CLUSTERING.csv')"
      ],
      "metadata": {
        "id": "4CkvbW_SlZ_R",
        "colab": {
          "base_uri": "https://localhost:8080/"
        },
        "outputId": "6940603f-44c3-4673-f5ca-b05c132f1328"
      },
      "execution_count": 2,
      "outputs": [
        {
          "output_type": "stream",
          "name": "stdout",
          "text": [
            "Mounted at /content/drive/\n"
          ]
        }
      ]
    },
    {
      "cell_type": "markdown",
      "source": [
        "### Dataset First View"
      ],
      "metadata": {
        "id": "x71ZqKXriCWQ"
      }
    },
    {
      "cell_type": "code",
      "source": [
        "# Dataset First Look\n",
        "df.head(5)"
      ],
      "metadata": {
        "id": "LWNFOSvLl09H",
        "colab": {
          "base_uri": "https://localhost:8080/",
          "height": 337
        },
        "outputId": "d8b8c090-fa6b-4040-8513-389a974bea5c"
      },
      "execution_count": 4,
      "outputs": [
        {
          "output_type": "execute_result",
          "data": {
            "text/plain": [
              "  show_id     type  title           director  \\\n",
              "0      s1  TV Show     3%                NaN   \n",
              "1      s2    Movie   7:19  Jorge Michel Grau   \n",
              "2      s3    Movie  23:59       Gilbert Chan   \n",
              "3      s4    Movie      9        Shane Acker   \n",
              "4      s5    Movie     21     Robert Luketic   \n",
              "\n",
              "                                                cast        country  \\\n",
              "0  João Miguel, Bianca Comparato, Michel Gomes, R...         Brazil   \n",
              "1  Demián Bichir, Héctor Bonilla, Oscar Serrano, ...         Mexico   \n",
              "2  Tedd Chan, Stella Chung, Henley Hii, Lawrence ...      Singapore   \n",
              "3  Elijah Wood, John C. Reilly, Jennifer Connelly...  United States   \n",
              "4  Jim Sturgess, Kevin Spacey, Kate Bosworth, Aar...  United States   \n",
              "\n",
              "          date_added  release_year rating   duration  \\\n",
              "0    August 14, 2020          2020  TV-MA  4 Seasons   \n",
              "1  December 23, 2016          2016  TV-MA     93 min   \n",
              "2  December 20, 2018          2011      R     78 min   \n",
              "3  November 16, 2017          2009  PG-13     80 min   \n",
              "4    January 1, 2020          2008  PG-13    123 min   \n",
              "\n",
              "                                           listed_in  \\\n",
              "0  International TV Shows, TV Dramas, TV Sci-Fi &...   \n",
              "1                       Dramas, International Movies   \n",
              "2                Horror Movies, International Movies   \n",
              "3  Action & Adventure, Independent Movies, Sci-Fi...   \n",
              "4                                             Dramas   \n",
              "\n",
              "                                         description  \n",
              "0  In a future where the elite inhabit an island ...  \n",
              "1  After a devastating earthquake hits Mexico Cit...  \n",
              "2  When an army recruit is found dead, his fellow...  \n",
              "3  In a postapocalyptic world, rag-doll robots hi...  \n",
              "4  A brilliant group of students become card-coun...  "
            ],
            "text/html": [
              "\n",
              "  <div id=\"df-e2aecef2-cbaf-4c05-a66d-179f7af7a0c0\">\n",
              "    <div class=\"colab-df-container\">\n",
              "      <div>\n",
              "<style scoped>\n",
              "    .dataframe tbody tr th:only-of-type {\n",
              "        vertical-align: middle;\n",
              "    }\n",
              "\n",
              "    .dataframe tbody tr th {\n",
              "        vertical-align: top;\n",
              "    }\n",
              "\n",
              "    .dataframe thead th {\n",
              "        text-align: right;\n",
              "    }\n",
              "</style>\n",
              "<table border=\"1\" class=\"dataframe\">\n",
              "  <thead>\n",
              "    <tr style=\"text-align: right;\">\n",
              "      <th></th>\n",
              "      <th>show_id</th>\n",
              "      <th>type</th>\n",
              "      <th>title</th>\n",
              "      <th>director</th>\n",
              "      <th>cast</th>\n",
              "      <th>country</th>\n",
              "      <th>date_added</th>\n",
              "      <th>release_year</th>\n",
              "      <th>rating</th>\n",
              "      <th>duration</th>\n",
              "      <th>listed_in</th>\n",
              "      <th>description</th>\n",
              "    </tr>\n",
              "  </thead>\n",
              "  <tbody>\n",
              "    <tr>\n",
              "      <th>0</th>\n",
              "      <td>s1</td>\n",
              "      <td>TV Show</td>\n",
              "      <td>3%</td>\n",
              "      <td>NaN</td>\n",
              "      <td>João Miguel, Bianca Comparato, Michel Gomes, R...</td>\n",
              "      <td>Brazil</td>\n",
              "      <td>August 14, 2020</td>\n",
              "      <td>2020</td>\n",
              "      <td>TV-MA</td>\n",
              "      <td>4 Seasons</td>\n",
              "      <td>International TV Shows, TV Dramas, TV Sci-Fi &amp;...</td>\n",
              "      <td>In a future where the elite inhabit an island ...</td>\n",
              "    </tr>\n",
              "    <tr>\n",
              "      <th>1</th>\n",
              "      <td>s2</td>\n",
              "      <td>Movie</td>\n",
              "      <td>7:19</td>\n",
              "      <td>Jorge Michel Grau</td>\n",
              "      <td>Demián Bichir, Héctor Bonilla, Oscar Serrano, ...</td>\n",
              "      <td>Mexico</td>\n",
              "      <td>December 23, 2016</td>\n",
              "      <td>2016</td>\n",
              "      <td>TV-MA</td>\n",
              "      <td>93 min</td>\n",
              "      <td>Dramas, International Movies</td>\n",
              "      <td>After a devastating earthquake hits Mexico Cit...</td>\n",
              "    </tr>\n",
              "    <tr>\n",
              "      <th>2</th>\n",
              "      <td>s3</td>\n",
              "      <td>Movie</td>\n",
              "      <td>23:59</td>\n",
              "      <td>Gilbert Chan</td>\n",
              "      <td>Tedd Chan, Stella Chung, Henley Hii, Lawrence ...</td>\n",
              "      <td>Singapore</td>\n",
              "      <td>December 20, 2018</td>\n",
              "      <td>2011</td>\n",
              "      <td>R</td>\n",
              "      <td>78 min</td>\n",
              "      <td>Horror Movies, International Movies</td>\n",
              "      <td>When an army recruit is found dead, his fellow...</td>\n",
              "    </tr>\n",
              "    <tr>\n",
              "      <th>3</th>\n",
              "      <td>s4</td>\n",
              "      <td>Movie</td>\n",
              "      <td>9</td>\n",
              "      <td>Shane Acker</td>\n",
              "      <td>Elijah Wood, John C. Reilly, Jennifer Connelly...</td>\n",
              "      <td>United States</td>\n",
              "      <td>November 16, 2017</td>\n",
              "      <td>2009</td>\n",
              "      <td>PG-13</td>\n",
              "      <td>80 min</td>\n",
              "      <td>Action &amp; Adventure, Independent Movies, Sci-Fi...</td>\n",
              "      <td>In a postapocalyptic world, rag-doll robots hi...</td>\n",
              "    </tr>\n",
              "    <tr>\n",
              "      <th>4</th>\n",
              "      <td>s5</td>\n",
              "      <td>Movie</td>\n",
              "      <td>21</td>\n",
              "      <td>Robert Luketic</td>\n",
              "      <td>Jim Sturgess, Kevin Spacey, Kate Bosworth, Aar...</td>\n",
              "      <td>United States</td>\n",
              "      <td>January 1, 2020</td>\n",
              "      <td>2008</td>\n",
              "      <td>PG-13</td>\n",
              "      <td>123 min</td>\n",
              "      <td>Dramas</td>\n",
              "      <td>A brilliant group of students become card-coun...</td>\n",
              "    </tr>\n",
              "  </tbody>\n",
              "</table>\n",
              "</div>\n",
              "      <button class=\"colab-df-convert\" onclick=\"convertToInteractive('df-e2aecef2-cbaf-4c05-a66d-179f7af7a0c0')\"\n",
              "              title=\"Convert this dataframe to an interactive table.\"\n",
              "              style=\"display:none;\">\n",
              "        \n",
              "  <svg xmlns=\"http://www.w3.org/2000/svg\" height=\"24px\"viewBox=\"0 0 24 24\"\n",
              "       width=\"24px\">\n",
              "    <path d=\"M0 0h24v24H0V0z\" fill=\"none\"/>\n",
              "    <path d=\"M18.56 5.44l.94 2.06.94-2.06 2.06-.94-2.06-.94-.94-2.06-.94 2.06-2.06.94zm-11 1L8.5 8.5l.94-2.06 2.06-.94-2.06-.94L8.5 2.5l-.94 2.06-2.06.94zm10 10l.94 2.06.94-2.06 2.06-.94-2.06-.94-.94-2.06-.94 2.06-2.06.94z\"/><path d=\"M17.41 7.96l-1.37-1.37c-.4-.4-.92-.59-1.43-.59-.52 0-1.04.2-1.43.59L10.3 9.45l-7.72 7.72c-.78.78-.78 2.05 0 2.83L4 21.41c.39.39.9.59 1.41.59.51 0 1.02-.2 1.41-.59l7.78-7.78 2.81-2.81c.8-.78.8-2.07 0-2.86zM5.41 20L4 18.59l7.72-7.72 1.47 1.35L5.41 20z\"/>\n",
              "  </svg>\n",
              "      </button>\n",
              "      \n",
              "  <style>\n",
              "    .colab-df-container {\n",
              "      display:flex;\n",
              "      flex-wrap:wrap;\n",
              "      gap: 12px;\n",
              "    }\n",
              "\n",
              "    .colab-df-convert {\n",
              "      background-color: #E8F0FE;\n",
              "      border: none;\n",
              "      border-radius: 50%;\n",
              "      cursor: pointer;\n",
              "      display: none;\n",
              "      fill: #1967D2;\n",
              "      height: 32px;\n",
              "      padding: 0 0 0 0;\n",
              "      width: 32px;\n",
              "    }\n",
              "\n",
              "    .colab-df-convert:hover {\n",
              "      background-color: #E2EBFA;\n",
              "      box-shadow: 0px 1px 2px rgba(60, 64, 67, 0.3), 0px 1px 3px 1px rgba(60, 64, 67, 0.15);\n",
              "      fill: #174EA6;\n",
              "    }\n",
              "\n",
              "    [theme=dark] .colab-df-convert {\n",
              "      background-color: #3B4455;\n",
              "      fill: #D2E3FC;\n",
              "    }\n",
              "\n",
              "    [theme=dark] .colab-df-convert:hover {\n",
              "      background-color: #434B5C;\n",
              "      box-shadow: 0px 1px 3px 1px rgba(0, 0, 0, 0.15);\n",
              "      filter: drop-shadow(0px 1px 2px rgba(0, 0, 0, 0.3));\n",
              "      fill: #FFFFFF;\n",
              "    }\n",
              "  </style>\n",
              "\n",
              "      <script>\n",
              "        const buttonEl =\n",
              "          document.querySelector('#df-e2aecef2-cbaf-4c05-a66d-179f7af7a0c0 button.colab-df-convert');\n",
              "        buttonEl.style.display =\n",
              "          google.colab.kernel.accessAllowed ? 'block' : 'none';\n",
              "\n",
              "        async function convertToInteractive(key) {\n",
              "          const element = document.querySelector('#df-e2aecef2-cbaf-4c05-a66d-179f7af7a0c0');\n",
              "          const dataTable =\n",
              "            await google.colab.kernel.invokeFunction('convertToInteractive',\n",
              "                                                     [key], {});\n",
              "          if (!dataTable) return;\n",
              "\n",
              "          const docLinkHtml = 'Like what you see? Visit the ' +\n",
              "            '<a target=\"_blank\" href=https://colab.research.google.com/notebooks/data_table.ipynb>data table notebook</a>'\n",
              "            + ' to learn more about interactive tables.';\n",
              "          element.innerHTML = '';\n",
              "          dataTable['output_type'] = 'display_data';\n",
              "          await google.colab.output.renderOutput(dataTable, element);\n",
              "          const docLink = document.createElement('div');\n",
              "          docLink.innerHTML = docLinkHtml;\n",
              "          element.appendChild(docLink);\n",
              "        }\n",
              "      </script>\n",
              "    </div>\n",
              "  </div>\n",
              "  "
            ]
          },
          "metadata": {},
          "execution_count": 4
        }
      ]
    },
    {
      "cell_type": "code",
      "source": [
        "df.tail(5)"
      ],
      "metadata": {
        "colab": {
          "base_uri": "https://localhost:8080/",
          "height": 406
        },
        "id": "zv0eluFMrkkn",
        "outputId": "21f102f2-0a55-4ba3-96c9-8bd431381ecd"
      },
      "execution_count": 5,
      "outputs": [
        {
          "output_type": "execute_result",
          "data": {
            "text/plain": [
              "     show_id     type                                    title     director  \\\n",
              "7782   s7783    Movie                                     Zozo  Josef Fares   \n",
              "7783   s7784    Movie                                   Zubaan  Mozez Singh   \n",
              "7784   s7785    Movie                        Zulu Man in Japan          NaN   \n",
              "7785   s7786  TV Show                    Zumbo's Just Desserts          NaN   \n",
              "7786   s7787    Movie  ZZ TOP: THAT LITTLE OL' BAND FROM TEXAS     Sam Dunn   \n",
              "\n",
              "                                                   cast  \\\n",
              "7782  Imad Creidi, Antoinette Turk, Elias Gergi, Car...   \n",
              "7783  Vicky Kaushal, Sarah-Jane Dias, Raaghav Chanan...   \n",
              "7784                                            Nasty C   \n",
              "7785                         Adriano Zumbo, Rachel Khoo   \n",
              "7786                                                NaN   \n",
              "\n",
              "                                                country          date_added  \\\n",
              "7782  Sweden, Czech Republic, United Kingdom, Denmar...    October 19, 2020   \n",
              "7783                                              India       March 2, 2019   \n",
              "7784                                                NaN  September 25, 2020   \n",
              "7785                                          Australia    October 31, 2020   \n",
              "7786              United Kingdom, Canada, United States       March 1, 2020   \n",
              "\n",
              "      release_year rating  duration  \\\n",
              "7782          2005  TV-MA    99 min   \n",
              "7783          2015  TV-14   111 min   \n",
              "7784          2019  TV-MA    44 min   \n",
              "7785          2019  TV-PG  1 Season   \n",
              "7786          2019  TV-MA    90 min   \n",
              "\n",
              "                                              listed_in  \\\n",
              "7782                       Dramas, International Movies   \n",
              "7783     Dramas, International Movies, Music & Musicals   \n",
              "7784  Documentaries, International Movies, Music & M...   \n",
              "7785                 International TV Shows, Reality TV   \n",
              "7786                    Documentaries, Music & Musicals   \n",
              "\n",
              "                                            description  \n",
              "7782  When Lebanon's Civil War deprives Zozo of his ...  \n",
              "7783  A scrappy but poor boy worms his way into a ty...  \n",
              "7784  In this documentary, South African rapper Nast...  \n",
              "7785  Dessert wizard Adriano Zumbo looks for the nex...  \n",
              "7786  This documentary delves into the mystique behi...  "
            ],
            "text/html": [
              "\n",
              "  <div id=\"df-2998152a-1719-44b5-a4b0-ecd4eef7993e\">\n",
              "    <div class=\"colab-df-container\">\n",
              "      <div>\n",
              "<style scoped>\n",
              "    .dataframe tbody tr th:only-of-type {\n",
              "        vertical-align: middle;\n",
              "    }\n",
              "\n",
              "    .dataframe tbody tr th {\n",
              "        vertical-align: top;\n",
              "    }\n",
              "\n",
              "    .dataframe thead th {\n",
              "        text-align: right;\n",
              "    }\n",
              "</style>\n",
              "<table border=\"1\" class=\"dataframe\">\n",
              "  <thead>\n",
              "    <tr style=\"text-align: right;\">\n",
              "      <th></th>\n",
              "      <th>show_id</th>\n",
              "      <th>type</th>\n",
              "      <th>title</th>\n",
              "      <th>director</th>\n",
              "      <th>cast</th>\n",
              "      <th>country</th>\n",
              "      <th>date_added</th>\n",
              "      <th>release_year</th>\n",
              "      <th>rating</th>\n",
              "      <th>duration</th>\n",
              "      <th>listed_in</th>\n",
              "      <th>description</th>\n",
              "    </tr>\n",
              "  </thead>\n",
              "  <tbody>\n",
              "    <tr>\n",
              "      <th>7782</th>\n",
              "      <td>s7783</td>\n",
              "      <td>Movie</td>\n",
              "      <td>Zozo</td>\n",
              "      <td>Josef Fares</td>\n",
              "      <td>Imad Creidi, Antoinette Turk, Elias Gergi, Car...</td>\n",
              "      <td>Sweden, Czech Republic, United Kingdom, Denmar...</td>\n",
              "      <td>October 19, 2020</td>\n",
              "      <td>2005</td>\n",
              "      <td>TV-MA</td>\n",
              "      <td>99 min</td>\n",
              "      <td>Dramas, International Movies</td>\n",
              "      <td>When Lebanon's Civil War deprives Zozo of his ...</td>\n",
              "    </tr>\n",
              "    <tr>\n",
              "      <th>7783</th>\n",
              "      <td>s7784</td>\n",
              "      <td>Movie</td>\n",
              "      <td>Zubaan</td>\n",
              "      <td>Mozez Singh</td>\n",
              "      <td>Vicky Kaushal, Sarah-Jane Dias, Raaghav Chanan...</td>\n",
              "      <td>India</td>\n",
              "      <td>March 2, 2019</td>\n",
              "      <td>2015</td>\n",
              "      <td>TV-14</td>\n",
              "      <td>111 min</td>\n",
              "      <td>Dramas, International Movies, Music &amp; Musicals</td>\n",
              "      <td>A scrappy but poor boy worms his way into a ty...</td>\n",
              "    </tr>\n",
              "    <tr>\n",
              "      <th>7784</th>\n",
              "      <td>s7785</td>\n",
              "      <td>Movie</td>\n",
              "      <td>Zulu Man in Japan</td>\n",
              "      <td>NaN</td>\n",
              "      <td>Nasty C</td>\n",
              "      <td>NaN</td>\n",
              "      <td>September 25, 2020</td>\n",
              "      <td>2019</td>\n",
              "      <td>TV-MA</td>\n",
              "      <td>44 min</td>\n",
              "      <td>Documentaries, International Movies, Music &amp; M...</td>\n",
              "      <td>In this documentary, South African rapper Nast...</td>\n",
              "    </tr>\n",
              "    <tr>\n",
              "      <th>7785</th>\n",
              "      <td>s7786</td>\n",
              "      <td>TV Show</td>\n",
              "      <td>Zumbo's Just Desserts</td>\n",
              "      <td>NaN</td>\n",
              "      <td>Adriano Zumbo, Rachel Khoo</td>\n",
              "      <td>Australia</td>\n",
              "      <td>October 31, 2020</td>\n",
              "      <td>2019</td>\n",
              "      <td>TV-PG</td>\n",
              "      <td>1 Season</td>\n",
              "      <td>International TV Shows, Reality TV</td>\n",
              "      <td>Dessert wizard Adriano Zumbo looks for the nex...</td>\n",
              "    </tr>\n",
              "    <tr>\n",
              "      <th>7786</th>\n",
              "      <td>s7787</td>\n",
              "      <td>Movie</td>\n",
              "      <td>ZZ TOP: THAT LITTLE OL' BAND FROM TEXAS</td>\n",
              "      <td>Sam Dunn</td>\n",
              "      <td>NaN</td>\n",
              "      <td>United Kingdom, Canada, United States</td>\n",
              "      <td>March 1, 2020</td>\n",
              "      <td>2019</td>\n",
              "      <td>TV-MA</td>\n",
              "      <td>90 min</td>\n",
              "      <td>Documentaries, Music &amp; Musicals</td>\n",
              "      <td>This documentary delves into the mystique behi...</td>\n",
              "    </tr>\n",
              "  </tbody>\n",
              "</table>\n",
              "</div>\n",
              "      <button class=\"colab-df-convert\" onclick=\"convertToInteractive('df-2998152a-1719-44b5-a4b0-ecd4eef7993e')\"\n",
              "              title=\"Convert this dataframe to an interactive table.\"\n",
              "              style=\"display:none;\">\n",
              "        \n",
              "  <svg xmlns=\"http://www.w3.org/2000/svg\" height=\"24px\"viewBox=\"0 0 24 24\"\n",
              "       width=\"24px\">\n",
              "    <path d=\"M0 0h24v24H0V0z\" fill=\"none\"/>\n",
              "    <path d=\"M18.56 5.44l.94 2.06.94-2.06 2.06-.94-2.06-.94-.94-2.06-.94 2.06-2.06.94zm-11 1L8.5 8.5l.94-2.06 2.06-.94-2.06-.94L8.5 2.5l-.94 2.06-2.06.94zm10 10l.94 2.06.94-2.06 2.06-.94-2.06-.94-.94-2.06-.94 2.06-2.06.94z\"/><path d=\"M17.41 7.96l-1.37-1.37c-.4-.4-.92-.59-1.43-.59-.52 0-1.04.2-1.43.59L10.3 9.45l-7.72 7.72c-.78.78-.78 2.05 0 2.83L4 21.41c.39.39.9.59 1.41.59.51 0 1.02-.2 1.41-.59l7.78-7.78 2.81-2.81c.8-.78.8-2.07 0-2.86zM5.41 20L4 18.59l7.72-7.72 1.47 1.35L5.41 20z\"/>\n",
              "  </svg>\n",
              "      </button>\n",
              "      \n",
              "  <style>\n",
              "    .colab-df-container {\n",
              "      display:flex;\n",
              "      flex-wrap:wrap;\n",
              "      gap: 12px;\n",
              "    }\n",
              "\n",
              "    .colab-df-convert {\n",
              "      background-color: #E8F0FE;\n",
              "      border: none;\n",
              "      border-radius: 50%;\n",
              "      cursor: pointer;\n",
              "      display: none;\n",
              "      fill: #1967D2;\n",
              "      height: 32px;\n",
              "      padding: 0 0 0 0;\n",
              "      width: 32px;\n",
              "    }\n",
              "\n",
              "    .colab-df-convert:hover {\n",
              "      background-color: #E2EBFA;\n",
              "      box-shadow: 0px 1px 2px rgba(60, 64, 67, 0.3), 0px 1px 3px 1px rgba(60, 64, 67, 0.15);\n",
              "      fill: #174EA6;\n",
              "    }\n",
              "\n",
              "    [theme=dark] .colab-df-convert {\n",
              "      background-color: #3B4455;\n",
              "      fill: #D2E3FC;\n",
              "    }\n",
              "\n",
              "    [theme=dark] .colab-df-convert:hover {\n",
              "      background-color: #434B5C;\n",
              "      box-shadow: 0px 1px 3px 1px rgba(0, 0, 0, 0.15);\n",
              "      filter: drop-shadow(0px 1px 2px rgba(0, 0, 0, 0.3));\n",
              "      fill: #FFFFFF;\n",
              "    }\n",
              "  </style>\n",
              "\n",
              "      <script>\n",
              "        const buttonEl =\n",
              "          document.querySelector('#df-2998152a-1719-44b5-a4b0-ecd4eef7993e button.colab-df-convert');\n",
              "        buttonEl.style.display =\n",
              "          google.colab.kernel.accessAllowed ? 'block' : 'none';\n",
              "\n",
              "        async function convertToInteractive(key) {\n",
              "          const element = document.querySelector('#df-2998152a-1719-44b5-a4b0-ecd4eef7993e');\n",
              "          const dataTable =\n",
              "            await google.colab.kernel.invokeFunction('convertToInteractive',\n",
              "                                                     [key], {});\n",
              "          if (!dataTable) return;\n",
              "\n",
              "          const docLinkHtml = 'Like what you see? Visit the ' +\n",
              "            '<a target=\"_blank\" href=https://colab.research.google.com/notebooks/data_table.ipynb>data table notebook</a>'\n",
              "            + ' to learn more about interactive tables.';\n",
              "          element.innerHTML = '';\n",
              "          dataTable['output_type'] = 'display_data';\n",
              "          await google.colab.output.renderOutput(dataTable, element);\n",
              "          const docLink = document.createElement('div');\n",
              "          docLink.innerHTML = docLinkHtml;\n",
              "          element.appendChild(docLink);\n",
              "        }\n",
              "      </script>\n",
              "    </div>\n",
              "  </div>\n",
              "  "
            ]
          },
          "metadata": {},
          "execution_count": 5
        }
      ]
    },
    {
      "cell_type": "markdown",
      "source": [
        "### Dataset Rows & Columns count"
      ],
      "metadata": {
        "id": "7hBIi_osiCS2"
      }
    },
    {
      "cell_type": "code",
      "source": [
        "# Dataset Rows & Columns count\n",
        "print(f'The number of rows in the dataset is: {df.shape[0]}')\n",
        "print(f'The number of columns in the dataset is: {df.shape[1]}')"
      ],
      "metadata": {
        "id": "Kllu7SJgmLij",
        "colab": {
          "base_uri": "https://localhost:8080/"
        },
        "outputId": "7bb88b99-389a-4df8-f044-23e24e8bde41"
      },
      "execution_count": 6,
      "outputs": [
        {
          "output_type": "stream",
          "name": "stdout",
          "text": [
            "The number of rows in the dataset is: 7787\n",
            "The number of columns in the dataset is: 12\n"
          ]
        }
      ]
    },
    {
      "cell_type": "markdown",
      "source": [
        "### Dataset Information"
      ],
      "metadata": {
        "id": "JlHwYmJAmNHm"
      }
    },
    {
      "cell_type": "code",
      "source": [
        "# Dataset Info\n",
        "df.info()"
      ],
      "metadata": {
        "id": "e9hRXRi6meOf",
        "colab": {
          "base_uri": "https://localhost:8080/"
        },
        "outputId": "e414db3d-616e-43e5-fb50-1bee27eb1232"
      },
      "execution_count": 7,
      "outputs": [
        {
          "output_type": "stream",
          "name": "stdout",
          "text": [
            "<class 'pandas.core.frame.DataFrame'>\n",
            "RangeIndex: 7787 entries, 0 to 7786\n",
            "Data columns (total 12 columns):\n",
            " #   Column        Non-Null Count  Dtype \n",
            "---  ------        --------------  ----- \n",
            " 0   show_id       7787 non-null   object\n",
            " 1   type          7787 non-null   object\n",
            " 2   title         7787 non-null   object\n",
            " 3   director      5398 non-null   object\n",
            " 4   cast          7069 non-null   object\n",
            " 5   country       7280 non-null   object\n",
            " 6   date_added    7777 non-null   object\n",
            " 7   release_year  7787 non-null   int64 \n",
            " 8   rating        7780 non-null   object\n",
            " 9   duration      7787 non-null   object\n",
            " 10  listed_in     7787 non-null   object\n",
            " 11  description   7787 non-null   object\n",
            "dtypes: int64(1), object(11)\n",
            "memory usage: 730.2+ KB\n"
          ]
        }
      ]
    },
    {
      "cell_type": "markdown",
      "source": [
        "#### Duplicate Values"
      ],
      "metadata": {
        "id": "35m5QtbWiB9F"
      }
    },
    {
      "cell_type": "code",
      "source": [
        "# Dataset Duplicate Value Count\n",
        "len(df[df.duplicated()])"
      ],
      "metadata": {
        "id": "1sLdpKYkmox0",
        "colab": {
          "base_uri": "https://localhost:8080/"
        },
        "outputId": "d4b78601-4afd-4fe0-d050-c02264de8f07"
      },
      "execution_count": 8,
      "outputs": [
        {
          "output_type": "execute_result",
          "data": {
            "text/plain": [
              "0"
            ]
          },
          "metadata": {},
          "execution_count": 8
        }
      ]
    },
    {
      "cell_type": "markdown",
      "source": [
        "#### Missing Values/Null Values"
      ],
      "metadata": {
        "id": "PoPl-ycgm1ru"
      }
    },
    {
      "cell_type": "code",
      "source": [
        "# Missing Values/Null Values Count\n",
        "df.isnull().sum()"
      ],
      "metadata": {
        "id": "GgHWkxvamxVg",
        "colab": {
          "base_uri": "https://localhost:8080/"
        },
        "outputId": "a7adc072-a3c0-462d-f1a5-74c977205393"
      },
      "execution_count": 9,
      "outputs": [
        {
          "output_type": "execute_result",
          "data": {
            "text/plain": [
              "show_id            0\n",
              "type               0\n",
              "title              0\n",
              "director        2389\n",
              "cast             718\n",
              "country          507\n",
              "date_added        10\n",
              "release_year       0\n",
              "rating             7\n",
              "duration           0\n",
              "listed_in          0\n",
              "description        0\n",
              "dtype: int64"
            ]
          },
          "metadata": {},
          "execution_count": 9
        }
      ]
    },
    {
      "cell_type": "code",
      "source": [
        "# Visualizing the missing values\n",
        "#plotting missing values in heatmap\n",
        "fig, ax = plt.subplots(figsize=(12,5))\n",
        "sns.heatmap(df.isnull(), cbar=False)\n"
      ],
      "metadata": {
        "id": "3q5wnI3om9sJ",
        "colab": {
          "base_uri": "https://localhost:8080/",
          "height": 395
        },
        "outputId": "9e7a8879-0334-4a35-f059-94677a316ed5"
      },
      "execution_count": 10,
      "outputs": [
        {
          "output_type": "execute_result",
          "data": {
            "text/plain": [
              "<matplotlib.axes._subplots.AxesSubplot at 0x7fdd1cd5a460>"
            ]
          },
          "metadata": {},
          "execution_count": 10
        },
        {
          "output_type": "display_data",
          "data": {
            "text/plain": [
              "<Figure size 864x360 with 1 Axes>"
            ],
            "image/png": "[encoded data removed]"
          },
          "metadata": {
            "needs_background": "light"
          }
        }
      ]
    },
    {
      "cell_type": "code",
      "source": [
        "from pandas.core import missing\n",
        "# calulating perscentage of null values in the columns\n",
        "total = df.isnull().sum().sort_values(ascending=False)\n",
        "percent = (df.isnull().sum()/df.isnull().count()).sort_values(ascending=False)\n",
        "missing_data = pd.concat([total, percent],axis=1,keys=['Total','Percent'])\n",
        "missing_data\n",
        "     "
      ],
      "metadata": {
        "id": "0RKc1YcUs6cU",
        "colab": {
          "base_uri": "https://localhost:8080/",
          "height": 426
        },
        "outputId": "8658bee2-9321-4b5c-956a-48745e372e8c"
      },
      "execution_count": 11,
      "outputs": [
        {
          "output_type": "execute_result",
          "data": {
            "text/plain": [
              "              Total   Percent\n",
              "director       2389  0.306793\n",
              "cast            718  0.092205\n",
              "country         507  0.065109\n",
              "date_added       10  0.001284\n",
              "rating            7  0.000899\n",
              "show_id           0  0.000000\n",
              "type              0  0.000000\n",
              "title             0  0.000000\n",
              "release_year      0  0.000000\n",
              "duration          0  0.000000\n",
              "listed_in         0  0.000000\n",
              "description       0  0.000000"
            ],
            "text/html": [
              "\n",
              "  <div id=\"df-77990d33-25c0-49a2-a6a0-01ff333387f7\">\n",
              "    <div class=\"colab-df-container\">\n",
              "      <div>\n",
              "<style scoped>\n",
              "    .dataframe tbody tr th:only-of-type {\n",
              "        vertical-align: middle;\n",
              "    }\n",
              "\n",
              "    .dataframe tbody tr th {\n",
              "        vertical-align: top;\n",
              "    }\n",
              "\n",
              "    .dataframe thead th {\n",
              "        text-align: right;\n",
              "    }\n",
              "</style>\n",
              "<table border=\"1\" class=\"dataframe\">\n",
              "  <thead>\n",
              "    <tr style=\"text-align: right;\">\n",
              "      <th></th>\n",
              "      <th>Total</th>\n",
              "      <th>Percent</th>\n",
              "    </tr>\n",
              "  </thead>\n",
              "  <tbody>\n",
              "    <tr>\n",
              "      <th>director</th>\n",
              "      <td>2389</td>\n",
              "      <td>0.306793</td>\n",
              "    </tr>\n",
              "    <tr>\n",
              "      <th>cast</th>\n",
              "      <td>718</td>\n",
              "      <td>0.092205</td>\n",
              "    </tr>\n",
              "    <tr>\n",
              "      <th>country</th>\n",
              "      <td>507</td>\n",
              "      <td>0.065109</td>\n",
              "    </tr>\n",
              "    <tr>\n",
              "      <th>date_added</th>\n",
              "      <td>10</td>\n",
              "      <td>0.001284</td>\n",
              "    </tr>\n",
              "    <tr>\n",
              "      <th>rating</th>\n",
              "      <td>7</td>\n",
              "      <td>0.000899</td>\n",
              "    </tr>\n",
              "    <tr>\n",
              "      <th>show_id</th>\n",
              "      <td>0</td>\n",
              "      <td>0.000000</td>\n",
              "    </tr>\n",
              "    <tr>\n",
              "      <th>type</th>\n",
              "      <td>0</td>\n",
              "      <td>0.000000</td>\n",
              "    </tr>\n",
              "    <tr>\n",
              "      <th>title</th>\n",
              "      <td>0</td>\n",
              "      <td>0.000000</td>\n",
              "    </tr>\n",
              "    <tr>\n",
              "      <th>release_year</th>\n",
              "      <td>0</td>\n",
              "      <td>0.000000</td>\n",
              "    </tr>\n",
              "    <tr>\n",
              "      <th>duration</th>\n",
              "      <td>0</td>\n",
              "      <td>0.000000</td>\n",
              "    </tr>\n",
              "    <tr>\n",
              "      <th>listed_in</th>\n",
              "      <td>0</td>\n",
              "      <td>0.000000</td>\n",
              "    </tr>\n",
              "    <tr>\n",
              "      <th>description</th>\n",
              "      <td>0</td>\n",
              "      <td>0.000000</td>\n",
              "    </tr>\n",
              "  </tbody>\n",
              "</table>\n",
              "</div>\n",
              "      <button class=\"colab-df-convert\" onclick=\"convertToInteractive('df-77990d33-25c0-49a2-a6a0-01ff333387f7')\"\n",
              "              title=\"Convert this dataframe to an interactive table.\"\n",
              "              style=\"display:none;\">\n",
              "        \n",
              "  <svg xmlns=\"http://www.w3.org/2000/svg\" height=\"24px\"viewBox=\"0 0 24 24\"\n",
              "       width=\"24px\">\n",
              "    <path d=\"M0 0h24v24H0V0z\" fill=\"none\"/>\n",
              "    <path d=\"M18.56 5.44l.94 2.06.94-2.06 2.06-.94-2.06-.94-.94-2.06-.94 2.06-2.06.94zm-11 1L8.5 8.5l.94-2.06 2.06-.94-2.06-.94L8.5 2.5l-.94 2.06-2.06.94zm10 10l.94 2.06.94-2.06 2.06-.94-2.06-.94-.94-2.06-.94 2.06-2.06.94z\"/><path d=\"M17.41 7.96l-1.37-1.37c-.4-.4-.92-.59-1.43-.59-.52 0-1.04.2-1.43.59L10.3 9.45l-7.72 7.72c-.78.78-.78 2.05 0 2.83L4 21.41c.39.39.9.59 1.41.59.51 0 1.02-.2 1.41-.59l7.78-7.78 2.81-2.81c.8-.78.8-2.07 0-2.86zM5.41 20L4 18.59l7.72-7.72 1.47 1.35L5.41 20z\"/>\n",
              "  </svg>\n",
              "      </button>\n",
              "      \n",
              "  <style>\n",
              "    .colab-df-container {\n",
              "      display:flex;\n",
              "      flex-wrap:wrap;\n",
              "      gap: 12px;\n",
              "    }\n",
              "\n",
              "    .colab-df-convert {\n",
              "      background-color: #E8F0FE;\n",
              "      border: none;\n",
              "      border-radius: 50%;\n",
              "      cursor: pointer;\n",
              "      display: none;\n",
              "      fill: #1967D2;\n",
              "      height: 32px;\n",
              "      padding: 0 0 0 0;\n",
              "      width: 32px;\n",
              "    }\n",
              "\n",
              "    .colab-df-convert:hover {\n",
              "      background-color: #E2EBFA;\n",
              "      box-shadow: 0px 1px 2px rgba(60, 64, 67, 0.3), 0px 1px 3px 1px rgba(60, 64, 67, 0.15);\n",
              "      fill: #174EA6;\n",
              "    }\n",
              "\n",
              "    [theme=dark] .colab-df-convert {\n",
              "      background-color: #3B4455;\n",
              "      fill: #D2E3FC;\n",
              "    }\n",
              "\n",
              "    [theme=dark] .colab-df-convert:hover {\n",
              "      background-color: #434B5C;\n",
              "      box-shadow: 0px 1px 3px 1px rgba(0, 0, 0, 0.15);\n",
              "      filter: drop-shadow(0px 1px 2px rgba(0, 0, 0, 0.3));\n",
              "      fill: #FFFFFF;\n",
              "    }\n",
              "  </style>\n",
              "\n",
              "      <script>\n",
              "        const buttonEl =\n",
              "          document.querySelector('#df-77990d33-25c0-49a2-a6a0-01ff333387f7 button.colab-df-convert');\n",
              "        buttonEl.style.display =\n",
              "          google.colab.kernel.accessAllowed ? 'block' : 'none';\n",
              "\n",
              "        async function convertToInteractive(key) {\n",
              "          const element = document.querySelector('#df-77990d33-25c0-49a2-a6a0-01ff333387f7');\n",
              "          const dataTable =\n",
              "            await google.colab.kernel.invokeFunction('convertToInteractive',\n",
              "                                                     [key], {});\n",
              "          if (!dataTable) return;\n",
              "\n",
              "          const docLinkHtml = 'Like what you see? Visit the ' +\n",
              "            '<a target=\"_blank\" href=https://colab.research.google.com/notebooks/data_table.ipynb>data table notebook</a>'\n",
              "            + ' to learn more about interactive tables.';\n",
              "          element.innerHTML = '';\n",
              "          dataTable['output_type'] = 'display_data';\n",
              "          await google.colab.output.renderOutput(dataTable, element);\n",
              "          const docLink = document.createElement('div');\n",
              "          docLink.innerHTML = docLinkHtml;\n",
              "          element.appendChild(docLink);\n",
              "        }\n",
              "      </script>\n",
              "    </div>\n",
              "  </div>\n",
              "  "
            ]
          },
          "metadata": {},
          "execution_count": 11
        }
      ]
    },
    {
      "cell_type": "markdown",
      "source": [
        "### What did you know about your dataset?"
      ],
      "metadata": {
        "id": "H0kj-8xxnORC"
      }
    },
    {
      "cell_type": "markdown",
      "source": [
        "*   **Our dataset contain 7787 rows and 12 columns.**\n",
        "*   **Datatype of all variables is object except release_year which is int64.**\n",
        "\n",
        "\n",
        "*   **There is no duplicates in dataset**\n",
        "*   **Maximum number of null values present in director column followed by cast.**\n",
        "\n"
      ],
      "metadata": {
        "id": "gfoNAAC-nUe_"
      }
    },
    {
      "cell_type": "markdown",
      "source": [
        "## ***2. Understanding Your Variables***"
      ],
      "metadata": {
        "id": "nA9Y7ga8ng1Z"
      }
    },
    {
      "cell_type": "code",
      "source": [
        "# Dataset Columns\n",
        "df.columns"
      ],
      "metadata": {
        "id": "j7xfkqrt5Ag5",
        "colab": {
          "base_uri": "https://localhost:8080/"
        },
        "outputId": "3e9dc8e3-beb9-4503-ee01-61c342829dda"
      },
      "execution_count": 12,
      "outputs": [
        {
          "output_type": "execute_result",
          "data": {
            "text/plain": [
              "Index(['show_id', 'type', 'title', 'director', 'cast', 'country', 'date_added',\n",
              "       'release_year', 'rating', 'duration', 'listed_in', 'description'],\n",
              "      dtype='object')"
            ]
          },
          "metadata": {},
          "execution_count": 12
        }
      ]
    },
    {
      "cell_type": "code",
      "source": [
        "# Dataset Describe\n",
        "df.describe().T"
      ],
      "metadata": {
        "id": "DnOaZdaE5Q5t",
        "colab": {
          "base_uri": "https://localhost:8080/",
          "height": 81
        },
        "outputId": "f0188d7d-2b52-48da-8bc2-576f3b8e9471"
      },
      "execution_count": 14,
      "outputs": [
        {
          "output_type": "execute_result",
          "data": {
            "text/plain": [
              "               count        mean       std     min     25%     50%     75%  \\\n",
              "release_year  7787.0  2013.93258  8.757395  1925.0  2013.0  2017.0  2018.0   \n",
              "\n",
              "                 max  \n",
              "release_year  2021.0  "
            ],
            "text/html": [
              "\n",
              "  <div id=\"df-7872c86e-3df8-44da-9017-2d4cbc330c98\">\n",
              "    <div class=\"colab-df-container\">\n",
              "      <div>\n",
              "<style scoped>\n",
              "    .dataframe tbody tr th:only-of-type {\n",
              "        vertical-align: middle;\n",
              "    }\n",
              "\n",
              "    .dataframe tbody tr th {\n",
              "        vertical-align: top;\n",
              "    }\n",
              "\n",
              "    .dataframe thead th {\n",
              "        text-align: right;\n",
              "    }\n",
              "</style>\n",
              "<table border=\"1\" class=\"dataframe\">\n",
              "  <thead>\n",
              "    <tr style=\"text-align: right;\">\n",
              "      <th></th>\n",
              "      <th>count</th>\n",
              "      <th>mean</th>\n",
              "      <th>std</th>\n",
              "      <th>min</th>\n",
              "      <th>25%</th>\n",
              "      <th>50%</th>\n",
              "      <th>75%</th>\n",
              "      <th>max</th>\n",
              "    </tr>\n",
              "  </thead>\n",
              "  <tbody>\n",
              "    <tr>\n",
              "      <th>release_year</th>\n",
              "      <td>7787.0</td>\n",
              "      <td>2013.93258</td>\n",
              "      <td>8.757395</td>\n",
              "      <td>1925.0</td>\n",
              "      <td>2013.0</td>\n",
              "      <td>2017.0</td>\n",
              "      <td>2018.0</td>\n",
              "      <td>2021.0</td>\n",
              "    </tr>\n",
              "  </tbody>\n",
              "</table>\n",
              "</div>\n",
              "      <button class=\"colab-df-convert\" onclick=\"convertToInteractive('df-7872c86e-3df8-44da-9017-2d4cbc330c98')\"\n",
              "              title=\"Convert this dataframe to an interactive table.\"\n",
              "              style=\"display:none;\">\n",
              "        \n",
              "  <svg xmlns=\"http://www.w3.org/2000/svg\" height=\"24px\"viewBox=\"0 0 24 24\"\n",
              "       width=\"24px\">\n",
              "    <path d=\"M0 0h24v24H0V0z\" fill=\"none\"/>\n",
              "    <path d=\"M18.56 5.44l.94 2.06.94-2.06 2.06-.94-2.06-.94-.94-2.06-.94 2.06-2.06.94zm-11 1L8.5 8.5l.94-2.06 2.06-.94-2.06-.94L8.5 2.5l-.94 2.06-2.06.94zm10 10l.94 2.06.94-2.06 2.06-.94-2.06-.94-.94-2.06-.94 2.06-2.06.94z\"/><path d=\"M17.41 7.96l-1.37-1.37c-.4-.4-.92-.59-1.43-.59-.52 0-1.04.2-1.43.59L10.3 9.45l-7.72 7.72c-.78.78-.78 2.05 0 2.83L4 21.41c.39.39.9.59 1.41.59.51 0 1.02-.2 1.41-.59l7.78-7.78 2.81-2.81c.8-.78.8-2.07 0-2.86zM5.41 20L4 18.59l7.72-7.72 1.47 1.35L5.41 20z\"/>\n",
              "  </svg>\n",
              "      </button>\n",
              "      \n",
              "  <style>\n",
              "    .colab-df-container {\n",
              "      display:flex;\n",
              "      flex-wrap:wrap;\n",
              "      gap: 12px;\n",
              "    }\n",
              "\n",
              "    .colab-df-convert {\n",
              "      background-color: #E8F0FE;\n",
              "      border: none;\n",
              "      border-radius: 50%;\n",
              "      cursor: pointer;\n",
              "      display: none;\n",
              "      fill: #1967D2;\n",
              "      height: 32px;\n",
              "      padding: 0 0 0 0;\n",
              "      width: 32px;\n",
              "    }\n",
              "\n",
              "    .colab-df-convert:hover {\n",
              "      background-color: #E2EBFA;\n",
              "      box-shadow: 0px 1px 2px rgba(60, 64, 67, 0.3), 0px 1px 3px 1px rgba(60, 64, 67, 0.15);\n",
              "      fill: #174EA6;\n",
              "    }\n",
              "\n",
              "    [theme=dark] .colab-df-convert {\n",
              "      background-color: #3B4455;\n",
              "      fill: #D2E3FC;\n",
              "    }\n",
              "\n",
              "    [theme=dark] .colab-df-convert:hover {\n",
              "      background-color: #434B5C;\n",
              "      box-shadow: 0px 1px 3px 1px rgba(0, 0, 0, 0.15);\n",
              "      filter: drop-shadow(0px 1px 2px rgba(0, 0, 0, 0.3));\n",
              "      fill: #FFFFFF;\n",
              "    }\n",
              "  </style>\n",
              "\n",
              "      <script>\n",
              "        const buttonEl =\n",
              "          document.querySelector('#df-7872c86e-3df8-44da-9017-2d4cbc330c98 button.colab-df-convert');\n",
              "        buttonEl.style.display =\n",
              "          google.colab.kernel.accessAllowed ? 'block' : 'none';\n",
              "\n",
              "        async function convertToInteractive(key) {\n",
              "          const element = document.querySelector('#df-7872c86e-3df8-44da-9017-2d4cbc330c98');\n",
              "          const dataTable =\n",
              "            await google.colab.kernel.invokeFunction('convertToInteractive',\n",
              "                                                     [key], {});\n",
              "          if (!dataTable) return;\n",
              "\n",
              "          const docLinkHtml = 'Like what you see? Visit the ' +\n",
              "            '<a target=\"_blank\" href=https://colab.research.google.com/notebooks/data_table.ipynb>data table notebook</a>'\n",
              "            + ' to learn more about interactive tables.';\n",
              "          element.innerHTML = '';\n",
              "          dataTable['output_type'] = 'display_data';\n",
              "          await google.colab.output.renderOutput(dataTable, element);\n",
              "          const docLink = document.createElement('div');\n",
              "          docLink.innerHTML = docLinkHtml;\n",
              "          element.appendChild(docLink);\n",
              "        }\n",
              "      </script>\n",
              "    </div>\n",
              "  </div>\n",
              "  "
            ]
          },
          "metadata": {},
          "execution_count": 14
        }
      ]
    },
    {
      "cell_type": "markdown",
      "source": [
        "### Variables Description "
      ],
      "metadata": {
        "id": "PBTbrJXOngz2"
      }
    },
    {
      "cell_type": "markdown",
      "source": [
        "*   show_id:Unique ID for every Movie / Tv Show\n",
        "\n",
        "*   type : Identifier - A Movie or TV Show\n",
        "\n",
        "*   title : Title of the Movie / Tv Show\n",
        "\n",
        "*   director : Director of the Movie\n",
        "\n",
        "*   cast : Actors involved in the movie / show\n",
        "*   country : Country where the movie / show was produced\n",
        "\n",
        "\n",
        "*   date_added : Date it was added on Netflix\n",
        "\n",
        "\n",
        "*   release_year : Actual Releaseyear of the movie / show\n",
        "\n",
        "\n",
        "*   rating : TV Rating of the movie / show\n",
        "\n",
        "\n",
        "*   duration : Total Duration - in minutes or number of seasons\n",
        "\n",
        "\n",
        "*   listed_in : Genere\n",
        "*   description: The Summary description"
      ],
      "metadata": {
        "id": "aJV4KIxSnxay"
      }
    },
    {
      "cell_type": "markdown",
      "source": [
        "### Check Unique Values for each variable."
      ],
      "metadata": {
        "id": "u3PMJOP6ngxN"
      }
    },
    {
      "cell_type": "code",
      "source": [
        "# Check Unique Values for each variable.\n",
        "df.apply(lambda x: x.nunique())\n"
      ],
      "metadata": {
        "id": "zms12Yq5n-jE",
        "colab": {
          "base_uri": "https://localhost:8080/"
        },
        "outputId": "1f6b150a-0877-499c-aeb5-79336bca687f"
      },
      "execution_count": 15,
      "outputs": [
        {
          "output_type": "execute_result",
          "data": {
            "text/plain": [
              "show_id         7787\n",
              "type               2\n",
              "title           7787\n",
              "director        4049\n",
              "cast            6831\n",
              "country          681\n",
              "date_added      1565\n",
              "release_year      73\n",
              "rating            14\n",
              "duration         216\n",
              "listed_in        492\n",
              "description     7769\n",
              "dtype: int64"
            ]
          },
          "metadata": {},
          "execution_count": 15
        }
      ]
    },
    {
      "cell_type": "markdown",
      "source": [
        "## 3. ***Data Wrangling***"
      ],
      "metadata": {
        "id": "dauF4eBmngu3"
      }
    },
    {
      "cell_type": "markdown",
      "source": [
        "### Data Wrangling Code"
      ],
      "metadata": {
        "id": "bKJF3rekwFvQ"
      }
    },
    {
      "cell_type": "code",
      "source": [
        "# Write your code to make your dataset analysis ready.\n",
        "#Changing date_added to date time format\n",
        "df[\"date_added\"] = pd.to_datetime(df['date_added'])\n",
        "#Extracting Year\n",
        "df['year_added'] = df['date_added'].dt.year\n",
        "#Extracting Month\n",
        "df['month_added'] = df['date_added'].dt.month\n",
        "#Extracting Day\n",
        "df['day_added'] = df['date_added'].dt.day\n"
      ],
      "metadata": {
        "id": "wk-9a2fpoLcV"
      },
      "execution_count": 16,
      "outputs": []
    },
    {
      "cell_type": "code",
      "source": [
        "#Seperating TV Show And Movie\n",
        "netflix_tvshows=df[df['type']=='TV Show']\n",
        "netflix_movies=df[df['type']=='Movie']"
      ],
      "metadata": {
        "id": "PI0oudYaDioI"
      },
      "execution_count": 17,
      "outputs": []
    },
    {
      "cell_type": "code",
      "source": [
        "print(f'shape of netflix_tvshows: {netflix_tvshows.shape}')\n",
        "print(f'shape of netflix_movies: {netflix_movies.shape}')"
      ],
      "metadata": {
        "colab": {
          "base_uri": "https://localhost:8080/"
        },
        "id": "5cQstGCau8LD",
        "outputId": "fbca50cf-182b-43fb-ceab-1ec8c974fb00"
      },
      "execution_count": 18,
      "outputs": [
        {
          "output_type": "stream",
          "name": "stdout",
          "text": [
            "shape of netflix_tvshows: (2410, 15)\n",
            "shape of netflix_movies: (5377, 15)\n"
          ]
        }
      ]
    },
    {
      "cell_type": "code",
      "source": [
        "netflix_tvshows['duration']"
      ],
      "metadata": {
        "colab": {
          "base_uri": "https://localhost:8080/"
        },
        "id": "hgzYGQhUvP7p",
        "outputId": "86023f59-3e5c-4f12-da24-612ed97cf5fa"
      },
      "execution_count": 24,
      "outputs": [
        {
          "output_type": "execute_result",
          "data": {
            "text/plain": [
              "0       4 Seasons\n",
              "5        1 Season\n",
              "11       1 Season\n",
              "12       1 Season\n",
              "16       1 Season\n",
              "          ...    \n",
              "7767     1 Season\n",
              "7775     1 Season\n",
              "7777    2 Seasons\n",
              "7779     1 Season\n",
              "7785     1 Season\n",
              "Name: duration, Length: 2410, dtype: object"
            ]
          },
          "metadata": {},
          "execution_count": 24
        }
      ]
    },
    {
      "cell_type": "code",
      "source": [
        "#Changing the duration format for movies\n",
        "netflix_movies['duration']=netflix_movies['duration'].str.replace(' min','')\n",
        "netflix_movies['duration']=netflix_movies['duration'].astype(str).astype(int)\n",
        "netflix_movies['duration']"
      ],
      "metadata": {
        "colab": {
          "base_uri": "https://localhost:8080/"
        },
        "id": "VlIOPrC-wCMN",
        "outputId": "31695ef6-4380-4948-a6a3-c3f481c4ee65"
      },
      "execution_count": 25,
      "outputs": [
        {
          "output_type": "execute_result",
          "data": {
            "text/plain": [
              "1        93\n",
              "2        78\n",
              "3        80\n",
              "4       123\n",
              "6        95\n",
              "       ... \n",
              "7781     88\n",
              "7782     99\n",
              "7783    111\n",
              "7784     44\n",
              "7786     90\n",
              "Name: duration, Length: 5377, dtype: int64"
            ]
          },
          "metadata": {},
          "execution_count": 25
        }
      ]
    },
    {
      "cell_type": "code",
      "source": [
        "netflix_tvshows['duration']"
      ],
      "metadata": {
        "colab": {
          "base_uri": "https://localhost:8080/"
        },
        "id": "k6QwJWBNwQiw",
        "outputId": "0f323864-525f-470d-cbec-d9d7f3b945a2"
      },
      "execution_count": 26,
      "outputs": [
        {
          "output_type": "execute_result",
          "data": {
            "text/plain": [
              "0       4 Seasons\n",
              "5        1 Season\n",
              "11       1 Season\n",
              "12       1 Season\n",
              "16       1 Season\n",
              "          ...    \n",
              "7767     1 Season\n",
              "7775     1 Season\n",
              "7777    2 Seasons\n",
              "7779     1 Season\n",
              "7785     1 Season\n",
              "Name: duration, Length: 2410, dtype: object"
            ]
          },
          "metadata": {},
          "execution_count": 26
        }
      ]
    },
    {
      "cell_type": "code",
      "source": [
        "#Changing duration of tvshows to interger\n",
        "netflix_tvshows['duration']=netflix_tvshows['duration'].str.replace(' Season','')\n",
        "netflix_tvshows['duration']=netflix_tvshows['duration'].str.replace(' Seasons','')\n",
        "netflix_tvshows['duration']=netflix_tvshows['duration'].str.replace('s','')\n",
        "netflix_tvshows['duration']=netflix_tvshows['duration'].astype(str).astype(int)\n",
        "netflix_tvshows['duration']"
      ],
      "metadata": {
        "colab": {
          "base_uri": "https://localhost:8080/"
        },
        "id": "iS-17kTdwY-K",
        "outputId": "e921ea73-6fff-4704-ab36-32ab58b67ca6"
      },
      "execution_count": 27,
      "outputs": [
        {
          "output_type": "execute_result",
          "data": {
            "text/plain": [
              "0       4\n",
              "5       1\n",
              "11      1\n",
              "12      1\n",
              "16      1\n",
              "       ..\n",
              "7767    1\n",
              "7775    1\n",
              "7777    2\n",
              "7779    1\n",
              "7785    1\n",
              "Name: duration, Length: 2410, dtype: int64"
            ]
          },
          "metadata": {},
          "execution_count": 27
        }
      ]
    },
    {
      "cell_type": "markdown",
      "source": [
        "### What all manipulations have you done and insights you found?"
      ],
      "metadata": {
        "id": "MSa1f5Uengrz"
      }
    },
    {
      "cell_type": "markdown",
      "source": [
        "*   **I have changed the date_added column dtype to datetime format and we have extracted year and month from that and made two seperate columns.**\n",
        "*   **Made two seperate dataframe for movies and tvshows.**\n",
        "\n",
        "*   **Changed the duration of movies and tvshows dataframe into string.**\n"
      ],
      "metadata": {
        "id": "LbyXE7I1olp8"
      }
    },
    {
      "cell_type": "markdown",
      "source": [
        "## ***4. Data Vizualization, Storytelling & Experimenting with charts : Understand the relationships between variables***"
      ],
      "metadata": {
        "id": "GF8Ens_Soomf"
      }
    },
    {
      "cell_type": "code",
      "source": [
        "#made a custom function for the countplot as it helps the reusability of the code.This fuction accepts 6 positional arguments and 1 optional argument\n",
        "def create_countplot(data, x, title, xlabel, ylabel,figsize,hue=None,order=None):\n",
        "    plt.figure(figsize=figsize)\n",
        "    sns.countplot(data=data, x=x,hue=hue,order=order)\n",
        "    plt.title(title)\n",
        "    plt.xlabel(xlabel)\n",
        "    plt.ylabel(ylabel)\n",
        "    plt.xticks(rotation=45)  # rotate x-axis labels by 45 degrees\n",
        "    plt.tight_layout()  \n",
        "    plt.show()"
      ],
      "metadata": {
        "id": "hFQwGW2AxRAS"
      },
      "execution_count": 35,
      "outputs": []
    },
    {
      "cell_type": "markdown",
      "source": [
        "#### Chart - 1 **Visualisaztion of most watch type**"
      ],
      "metadata": {
        "id": "0wOQAZs5pc--"
      }
    },
    {
      "cell_type": "code",
      "source": [
        "#using countplot function for the visualization\n",
        "create_countplot(data=df,x='type',title='Most Watched On Netflix',xlabel='Type',ylabel='COUNT',figsize=(8, 6))"
      ],
      "metadata": {
        "colab": {
          "base_uri": "https://localhost:8080/",
          "height": 441
        },
        "id": "_22suQ58xmqv",
        "outputId": "0afc3196-75b4-47ac-fbae-8a4010e5952a"
      },
      "execution_count": 29,
      "outputs": [
        {
          "output_type": "display_data",
          "data": {
            "text/plain": [
              "<Figure size 576x432 with 1 Axes>"
            ],
            "image/png": "[encoded data removed]"
          },
          "metadata": {
            "needs_background": "light"
          }
        }
      ]
    },
    {
      "cell_type": "code",
      "source": [
        "# Create a piechart\n",
        "#Ploting Donut chart for better visualisation\n",
        "# Create data for the chart\n",
        "labels = df.type.value_counts().sort_index().index\n",
        "values = df.type.value_counts().sort_index().values\n",
        "# Create the donut chart\n",
        "fig = px.pie(values=values, names=labels,height=500, width=600, hole=.5,title='Mostly watched on Netflix')\n",
        "fig.update_traces(hovertemplate=None, textposition='outside',\n",
        "textinfo='percent+label', rotation=90)\n",
        "# Display the chart\n",
        "fig.show()\n"
      ],
      "metadata": {
        "id": "QlpVL3AL_aqO",
        "colab": {
          "base_uri": "https://localhost:8080/",
          "height": 517
        },
        "outputId": "51ba2d09-0a48-4c66-e142-d7cd299d7dc5"
      },
      "execution_count": 32,
      "outputs": [
        {
          "output_type": "display_data",
          "data": {
            "text/html": [
              "<html>\n",
              "<head><meta charset=\"utf-8\" /></head>\n",
              "<body>\n",
              "    <div>            <script src=\"https://cdnjs.cloudflare.com/ajax/libs/mathjax/2.7.5/MathJax.js?config=TeX-AMS-MML_SVG\"></script><script type=\"text/javascript\">if (window.MathJax) {MathJax.Hub.Config({SVG: {font: \"STIX-Web\"}});}</script>                <script type=\"text/javascript\">window.PlotlyConfig = {MathJaxConfig: 'local'};</script>\n",
              "        <script src=\"https://cdn.plot.ly/plotly-2.8.3.min.js\"></script>                <div id=\"aac6a718-057b-47f0-ad03-99142f58689e\" class=\"plotly-graph-div\" style=\"height:500px; width:600px;\"></div>            <script type=\"text/javascript\">                                    window.PLOTLYENV=window.PLOTLYENV || {};                                    if (document.getElementById(\"aac6a718-057b-47f0-ad03-99142f58689e\")) {                    Plotly.newPlot(                        \"aac6a718-057b-47f0-ad03-99142f58689e\",                        [{\"domain\":{\"x\":[0.0,1.0],\"y\":[0.0,1.0]},\"hole\":0.5,\"labels\":[\"Movie\",\"TV Show\"],\"legendgroup\":\"\",\"name\":\"\",\"showlegend\":true,\"values\":[5377,2410],\"type\":\"pie\",\"rotation\":90,\"textinfo\":\"percent+label\",\"textposition\":\"outside\"}],                        {\"template\":{\"data\":{\"bar\":[{\"error_x\":{\"color\":\"#2a3f5f\"},\"error_y\":{\"color\":\"#2a3f5f\"},\"marker\":{\"line\":{\"color\":\"#E5ECF6\",\"width\":0.5},\"pattern\":{\"fillmode\":\"overlay\",\"size\":10,\"solidity\":0.2}},\"type\":\"bar\"}],\"barpolar\":[{\"marker\":{\"line\":{\"color\":\"#E5ECF6\",\"width\":0.5},\"pattern\":{\"fillmode\":\"overlay\",\"size\":10,\"solidity\":0.2}},\"type\":\"barpolar\"}],\"carpet\":[{\"aaxis\":{\"endlinecolor\":\"#2a3f5f\",\"gridcolor\":\"white\",\"linecolor\":\"white\",\"minorgridcolor\":\"white\",\"startlinecolor\":\"#2a3f5f\"},\"baxis\":{\"endlinecolor\":\"#2a3f5f\",\"gridcolor\":\"white\",\"linecolor\":\"white\",\"minorgridcolor\":\"white\",\"startlinecolor\":\"#2a3f5f\"},\"type\":\"carpet\"}],\"choropleth\":[{\"colorbar\":{\"outlinewidth\":0,\"ticks\":\"\"},\"type\":\"choropleth\"}],\"contour\":[{\"colorbar\":{\"outlinewidth\":0,\"ticks\":\"\"},\"colorscale\":[[0.0,\"#0d0887\"],[0.1111111111111111,\"#46039f\"],[0.2222222222222222,\"#7201a8\"],[0.3333333333333333,\"#9c179e\"],[0.4444444444444444,\"#bd3786\"],[0.5555555555555556,\"#d8576b\"],[0.6666666666666666,\"#ed7953\"],[0.7777777777777778,\"#fb9f3a\"],[0.8888888888888888,\"#fdca26\"],[1.0,\"#f0f921\"]],\"type\":\"contour\"}],\"contourcarpet\":[{\"colorbar\":{\"outlinewidth\":0,\"ticks\":\"\"},\"type\":\"contourcarpet\"}],\"heatmap\":[{\"colorbar\":{\"outlinewidth\":0,\"ticks\":\"\"},\"colorscale\":[[0.0,\"#0d0887\"],[0.1111111111111111,\"#46039f\"],[0.2222222222222222,\"#7201a8\"],[0.3333333333333333,\"#9c179e\"],[0.4444444444444444,\"#bd3786\"],[0.5555555555555556,\"#d8576b\"],[0.6666666666666666,\"#ed7953\"],[0.7777777777777778,\"#fb9f3a\"],[0.8888888888888888,\"#fdca26\"],[1.0,\"#f0f921\"]],\"type\":\"heatmap\"}],\"heatmapgl\":[{\"colorbar\":{\"outlinewidth\":0,\"ticks\":\"\"},\"colorscale\":[[0.0,\"#0d0887\"],[0.1111111111111111,\"#46039f\"],[0.2222222222222222,\"#7201a8\"],[0.3333333333333333,\"#9c179e\"],[0.4444444444444444,\"#bd3786\"],[0.5555555555555556,\"#d8576b\"],[0.6666666666666666,\"#ed7953\"],[0.7777777777777778,\"#fb9f3a\"],[0.8888888888888888,\"#fdca26\"],[1.0,\"#f0f921\"]],\"type\":\"heatmapgl\"}],\"histogram\":[{\"marker\":{\"pattern\":{\"fillmode\":\"overlay\",\"size\":10,\"solidity\":0.2}},\"type\":\"histogram\"}],\"histogram2d\":[{\"colorbar\":{\"outlinewidth\":0,\"ticks\":\"\"},\"colorscale\":[[0.0,\"#0d0887\"],[0.1111111111111111,\"#46039f\"],[0.2222222222222222,\"#7201a8\"],[0.3333333333333333,\"#9c179e\"],[0.4444444444444444,\"#bd3786\"],[0.5555555555555556,\"#d8576b\"],[0.6666666666666666,\"#ed7953\"],[0.7777777777777778,\"#fb9f3a\"],[0.8888888888888888,\"#fdca26\"],[1.0,\"#f0f921\"]],\"type\":\"histogram2d\"}],\"histogram2dcontour\":[{\"colorbar\":{\"outlinewidth\":0,\"ticks\":\"\"},\"colorscale\":[[0.0,\"#0d0887\"],[0.1111111111111111,\"#46039f\"],[0.2222222222222222,\"#7201a8\"],[0.3333333333333333,\"#9c179e\"],[0.4444444444444444,\"#bd3786\"],[0.5555555555555556,\"#d8576b\"],[0.6666666666666666,\"#ed7953\"],[0.7777777777777778,\"#fb9f3a\"],[0.8888888888888888,\"#fdca26\"],[1.0,\"#f0f921\"]],\"type\":\"histogram2dcontour\"}],\"mesh3d\":[{\"colorbar\":{\"outlinewidth\":0,\"ticks\":\"\"},\"type\":\"mesh3d\"}],\"parcoords\":[{\"line\":{\"colorbar\":{\"outlinewidth\":0,\"ticks\":\"\"}},\"type\":\"parcoords\"}],\"pie\":[{\"automargin\":true,\"type\":\"pie\"}],\"scatter\":[{\"marker\":{\"colorbar\":{\"outlinewidth\":0,\"ticks\":\"\"}},\"type\":\"scatter\"}],\"scatter3d\":[{\"line\":{\"colorbar\":{\"outlinewidth\":0,\"ticks\":\"\"}},\"marker\":{\"colorbar\":{\"outlinewidth\":0,\"ticks\":\"\"}},\"type\":\"scatter3d\"}],\"scattercarpet\":[{\"marker\":{\"colorbar\":{\"outlinewidth\":0,\"ticks\":\"\"}},\"type\":\"scattercarpet\"}],\"scattergeo\":[{\"marker\":{\"colorbar\":{\"outlinewidth\":0,\"ticks\":\"\"}},\"type\":\"scattergeo\"}],\"scattergl\":[{\"marker\":{\"colorbar\":{\"outlinewidth\":0,\"ticks\":\"\"}},\"type\":\"scattergl\"}],\"scattermapbox\":[{\"marker\":{\"colorbar\":{\"outlinewidth\":0,\"ticks\":\"\"}},\"type\":\"scattermapbox\"}],\"scatterpolar\":[{\"marker\":{\"colorbar\":{\"outlinewidth\":0,\"ticks\":\"\"}},\"type\":\"scatterpolar\"}],\"scatterpolargl\":[{\"marker\":{\"colorbar\":{\"outlinewidth\":0,\"ticks\":\"\"}},\"type\":\"scatterpolargl\"}],\"scatterternary\":[{\"marker\":{\"colorbar\":{\"outlinewidth\":0,\"ticks\":\"\"}},\"type\":\"scatterternary\"}],\"surface\":[{\"colorbar\":{\"outlinewidth\":0,\"ticks\":\"\"},\"colorscale\":[[0.0,\"#0d0887\"],[0.1111111111111111,\"#46039f\"],[0.2222222222222222,\"#7201a8\"],[0.3333333333333333,\"#9c179e\"],[0.4444444444444444,\"#bd3786\"],[0.5555555555555556,\"#d8576b\"],[0.6666666666666666,\"#ed7953\"],[0.7777777777777778,\"#fb9f3a\"],[0.8888888888888888,\"#fdca26\"],[1.0,\"#f0f921\"]],\"type\":\"surface\"}],\"table\":[{\"cells\":{\"fill\":{\"color\":\"#EBF0F8\"},\"line\":{\"color\":\"white\"}},\"header\":{\"fill\":{\"color\":\"#C8D4E3\"},\"line\":{\"color\":\"white\"}},\"type\":\"table\"}]},\"layout\":{\"annotationdefaults\":{\"arrowcolor\":\"#2a3f5f\",\"arrowhead\":0,\"arrowwidth\":1},\"autotypenumbers\":\"strict\",\"coloraxis\":{\"colorbar\":{\"outlinewidth\":0,\"ticks\":\"\"}},\"colorscale\":{\"diverging\":[[0,\"#8e0152\"],[0.1,\"#c51b7d\"],[0.2,\"#de77ae\"],[0.3,\"#f1b6da\"],[0.4,\"#fde0ef\"],[0.5,\"#f7f7f7\"],[0.6,\"#e6f5d0\"],[0.7,\"#b8e186\"],[0.8,\"#7fbc41\"],[0.9,\"#4d9221\"],[1,\"#276419\"]],\"sequential\":[[0.0,\"#0d0887\"],[0.1111111111111111,\"#46039f\"],[0.2222222222222222,\"#7201a8\"],[0.3333333333333333,\"#9c179e\"],[0.4444444444444444,\"#bd3786\"],[0.5555555555555556,\"#d8576b\"],[0.6666666666666666,\"#ed7953\"],[0.7777777777777778,\"#fb9f3a\"],[0.8888888888888888,\"#fdca26\"],[1.0,\"#f0f921\"]],\"sequentialminus\":[[0.0,\"#0d0887\"],[0.1111111111111111,\"#46039f\"],[0.2222222222222222,\"#7201a8\"],[0.3333333333333333,\"#9c179e\"],[0.4444444444444444,\"#bd3786\"],[0.5555555555555556,\"#d8576b\"],[0.6666666666666666,\"#ed7953\"],[0.7777777777777778,\"#fb9f3a\"],[0.8888888888888888,\"#fdca26\"],[1.0,\"#f0f921\"]]},\"colorway\":[\"#636efa\",\"#EF553B\",\"#00cc96\",\"#ab63fa\",\"#FFA15A\",\"#19d3f3\",\"#FF6692\",\"#B6E880\",\"#FF97FF\",\"#FECB52\"],\"font\":{\"color\":\"#2a3f5f\"},\"geo\":{\"bgcolor\":\"white\",\"lakecolor\":\"white\",\"landcolor\":\"#E5ECF6\",\"showlakes\":true,\"showland\":true,\"subunitcolor\":\"white\"},\"hoverlabel\":{\"align\":\"left\"},\"hovermode\":\"closest\",\"mapbox\":{\"style\":\"light\"},\"paper_bgcolor\":\"white\",\"plot_bgcolor\":\"#E5ECF6\",\"polar\":{\"angularaxis\":{\"gridcolor\":\"white\",\"linecolor\":\"white\",\"ticks\":\"\"},\"bgcolor\":\"#E5ECF6\",\"radialaxis\":{\"gridcolor\":\"white\",\"linecolor\":\"white\",\"ticks\":\"\"}},\"scene\":{\"xaxis\":{\"backgroundcolor\":\"#E5ECF6\",\"gridcolor\":\"white\",\"gridwidth\":2,\"linecolor\":\"white\",\"showbackground\":true,\"ticks\":\"\",\"zerolinecolor\":\"white\"},\"yaxis\":{\"backgroundcolor\":\"#E5ECF6\",\"gridcolor\":\"white\",\"gridwidth\":2,\"linecolor\":\"white\",\"showbackground\":true,\"ticks\":\"\",\"zerolinecolor\":\"white\"},\"zaxis\":{\"backgroundcolor\":\"#E5ECF6\",\"gridcolor\":\"white\",\"gridwidth\":2,\"linecolor\":\"white\",\"showbackground\":true,\"ticks\":\"\",\"zerolinecolor\":\"white\"}},\"shapedefaults\":{\"line\":{\"color\":\"#2a3f5f\"}},\"ternary\":{\"aaxis\":{\"gridcolor\":\"white\",\"linecolor\":\"white\",\"ticks\":\"\"},\"baxis\":{\"gridcolor\":\"white\",\"linecolor\":\"white\",\"ticks\":\"\"},\"bgcolor\":\"#E5ECF6\",\"caxis\":{\"gridcolor\":\"white\",\"linecolor\":\"white\",\"ticks\":\"\"}},\"title\":{\"x\":0.05},\"xaxis\":{\"automargin\":true,\"gridcolor\":\"white\",\"linecolor\":\"white\",\"ticks\":\"\",\"title\":{\"standoff\":15},\"zerolinecolor\":\"white\",\"zerolinewidth\":2},\"yaxis\":{\"automargin\":true,\"gridcolor\":\"white\",\"linecolor\":\"white\",\"ticks\":\"\",\"title\":{\"standoff\":15},\"zerolinecolor\":\"white\",\"zerolinewidth\":2}}},\"legend\":{\"tracegroupgap\":0},\"title\":{\"text\":\"Mostly watched on Netflix\"},\"height\":500,\"width\":600},                        {\"responsive\": true}                    ).then(function(){\n",
              "                            \n",
              "var gd = document.getElementById('aac6a718-057b-47f0-ad03-99142f58689e');\n",
              "var x = new MutationObserver(function (mutations, observer) {{\n",
              "        var display = window.getComputedStyle(gd).display;\n",
              "        if (!display || display === 'none') {{\n",
              "            console.log([gd, 'removed!']);\n",
              "            Plotly.purge(gd);\n",
              "            observer.disconnect();\n",
              "        }}\n",
              "}});\n",
              "\n",
              "// Listen for the removal of the full notebook cells\n",
              "var notebookContainer = gd.closest('#notebook-container');\n",
              "if (notebookContainer) {{\n",
              "    x.observe(notebookContainer, {childList: true});\n",
              "}}\n",
              "\n",
              "// Listen for the clearing of the current output cell\n",
              "var outputEl = gd.closest('.output');\n",
              "if (outputEl) {{\n",
              "    x.observe(outputEl, {childList: true});\n",
              "}}\n",
              "\n",
              "                        })                };                            </script>        </div>\n",
              "</body>\n",
              "</html>"
            ]
          },
          "metadata": {}
        }
      ]
    },
    {
      "cell_type": "markdown",
      "source": [
        "##### 1. Why did you pick the specific chart?"
      ],
      "metadata": {
        "id": "K5QZ13OEpz2H"
      }
    },
    {
      "cell_type": "markdown",
      "source": [
        "**I have used two plot:**\n",
        "\n",
        "**1)Countplot- Show the counts of observations in each categorical bin using bars.**\n",
        "\n",
        "**2)Donut Chart-A donut chart is almost identical to a pie chart, but the center is cut out (hence the name ‘donut’). Donut charts are also used to show proportions of categories that make up the whole, but the center can also be used to display data.**"
      ],
      "metadata": {
        "id": "XESiWehPqBRc"
      }
    },
    {
      "cell_type": "markdown",
      "source": [
        "##### 2. What is/are the insight(s) found from the chart?"
      ],
      "metadata": {
        "id": "lQ7QKXXCp7Bj"
      }
    },
    {
      "cell_type": "markdown",
      "source": [
        "**Movies are getting watched mostly than TV shows.**"
      ],
      "metadata": {
        "id": "C_j1G7yiqdRP"
      }
    },
    {
      "cell_type": "markdown",
      "source": [
        "##### 3. Will the gained insights help creating a positive business impact? \n",
        "Are there any insights that lead to negative growth? Justify with specific reason."
      ],
      "metadata": {
        "id": "448CDAPjqfQr"
      }
    },
    {
      "cell_type": "markdown",
      "source": [
        "**We can see that TV shows are less than movies so Netflix should release more contents of tv shows also to retain its viewer.**"
      ],
      "metadata": {
        "id": "3cspy4FjqxJW"
      }
    },
    {
      "cell_type": "markdown",
      "source": [
        "#### Chart - 2 **Visualisation of Top 10 Directors**"
      ],
      "metadata": {
        "id": "KSlN3yHqYklG"
      }
    },
    {
      "cell_type": "code",
      "source": [
        "# Chart - 2 visualization code\n",
        "#using countplot function for the visualization\n",
        "create_countplot(data=df,x='director',title='Top 10 Directors Of Netflix',xlabel='Director',ylabel='COUNT',figsize=(8, 6),order=df.director.value_counts().head(10).index)"
      ],
      "metadata": {
        "colab": {
          "base_uri": "https://localhost:8080/",
          "height": 441
        },
        "id": "3EmC8fCQ1443",
        "outputId": "848382ed-5466-4776-e13f-c448bf938125"
      },
      "execution_count": 38,
      "outputs": [
        {
          "output_type": "display_data",
          "data": {
            "text/plain": [
              "<Figure size 576x432 with 1 Axes>"
            ],
            "image/png": "[encoded data removed]"
          },
          "metadata": {
            "needs_background": "light"
          }
        }
      ]
    },
    {
      "cell_type": "markdown",
      "source": [
        "##### 1. Why did you pick the specific chart?"
      ],
      "metadata": {
        "id": "t6dVpIINYklI"
      }
    },
    {
      "cell_type": "markdown",
      "source": [
        "Answer Here."
      ],
      "metadata": {
        "id": "5aaW0BYyYklI"
      }
    },
    {
      "cell_type": "markdown",
      "source": [
        "##### 2. What is/are the insight(s) found from the chart?"
      ],
      "metadata": {
        "id": "ijmpgYnKYklI"
      }
    },
    {
      "cell_type": "markdown",
      "source": [
        "Answer Here"
      ],
      "metadata": {
        "id": "PSx9atu2YklI"
      }
    },
    {
      "cell_type": "markdown",
      "source": [
        "##### 3. Will the gained insights help creating a positive business impact? \n",
        "Are there any insights that lead to negative growth? Justify with specific reason."
      ],
      "metadata": {
        "id": "-JiQyfWJYklI"
      }
    },
    {
      "cell_type": "markdown",
      "source": [
        "Answer Here"
      ],
      "metadata": {
        "id": "BcBbebzrYklV"
      }
    },
    {
      "cell_type": "markdown",
      "source": [
        "#### Chart - 3"
      ],
      "metadata": {
        "id": "EM7whBJCYoAo"
      }
    },
    {
      "cell_type": "code",
      "source": [
        "# Chart - 3 visualization code\n",
        "#Year wise analysis\n",
        "plt.figure(figsize=(14,10))\n",
        "ax = sns.countplot(y=\"release_year\", data=df_movies, palette=\"Set1\", order=df_movies['release_year'].value_counts().index[0:15])\n",
        "plt.title('ANALYSIS ON RELEASE YEAR OF MOVIES', fontsize=15, fontweight='bold')\n",
        "plt.show()\n",
        "     \n",
        "\n"
      ],
      "metadata": {
        "id": "t6GMdE67YoAp",
        "colab": {
          "base_uri": "https://localhost:8080/",
          "height": 623
        },
        "outputId": "7ad6ae29-071f-492d-eefc-fe0ba987b516"
      },
      "execution_count": 23,
      "outputs": [
        {
          "output_type": "display_data",
          "data": {
            "text/plain": [
              "<Figure size 1008x720 with 1 Axes>"
            ],
            "image/png": "[encoded data removed]"
          },
          "metadata": {
            "needs_background": "light"
          }
        }
      ]
    },
    {
      "cell_type": "markdown",
      "source": [
        "##### 1. Why did you pick the specific chart?"
      ],
      "metadata": {
        "id": "fge-S5ZAYoAp"
      }
    },
    {
      "cell_type": "markdown",
      "source": [
        "Answer Here."
      ],
      "metadata": {
        "id": "5dBItgRVYoAp"
      }
    },
    {
      "cell_type": "markdown",
      "source": [
        "##### 2. What is/are the insight(s) found from the chart?"
      ],
      "metadata": {
        "id": "85gYPyotYoAp"
      }
    },
    {
      "cell_type": "markdown",
      "source": [
        "Answer Here"
      ],
      "metadata": {
        "id": "4jstXR6OYoAp"
      }
    },
    {
      "cell_type": "markdown",
      "source": [
        "##### 3. Will the gained insights help creating a positive business impact? \n",
        "Are there any insights that lead to negative growth? Justify with specific reason."
      ],
      "metadata": {
        "id": "RoGjAbkUYoAp"
      }
    },
    {
      "cell_type": "markdown",
      "source": [
        "Answer Here"
      ],
      "metadata": {
        "id": "zfJ8IqMcYoAp"
      }
    },
    {
      "cell_type": "markdown",
      "source": [
        "#### Chart - 4"
      ],
      "metadata": {
        "id": "4Of9eVA-YrdM"
      }
    },
    {
      "cell_type": "code",
      "source": [
        "# Chart - 4 visualization code\n",
        "#Year wise analysis\n",
        "plt.figure(figsize=(14,10))\n",
        "ax = sns.countplot(y=\"release_year\", data=df_shows, palette=\"Set1\", order=df_shows['release_year'].value_counts().index[0:15])\n",
        "plt.title('ANALYSIS ON RELEASE YEAR OF TV SHOWS', fontsize=15, fontweight='bold')\n",
        "plt.show()\n",
        "     \n",
        "\n"
      ],
      "metadata": {
        "id": "irlUoxc8YrdO",
        "colab": {
          "base_uri": "https://localhost:8080/",
          "height": 0
        },
        "outputId": "2f5d147d-61e7-4356-dfb6-520963f1f157"
      },
      "execution_count": 24,
      "outputs": [
        {
          "output_type": "display_data",
          "data": {
            "text/plain": [
              "<Figure size 1008x720 with 1 Axes>"
            ],
            "image/png": "[encoded data removed]"
          },
          "metadata": {
            "needs_background": "light"
          }
        }
      ]
    },
    {
      "cell_type": "markdown",
      "source": [
        "##### 1. Why did you pick the specific chart?"
      ],
      "metadata": {
        "id": "iky9q4vBYrdO"
      }
    },
    {
      "cell_type": "markdown",
      "source": [
        "Answer Here."
      ],
      "metadata": {
        "id": "aJRCwT6DYrdO"
      }
    },
    {
      "cell_type": "markdown",
      "source": [
        "##### 2. What is/are the insight(s) found from the chart?"
      ],
      "metadata": {
        "id": "F6T5p64dYrdO"
      }
    },
    {
      "cell_type": "markdown",
      "source": [
        "Answer Here"
      ],
      "metadata": {
        "id": "Xx8WAJvtYrdO"
      }
    },
    {
      "cell_type": "markdown",
      "source": [
        "##### 3. Will the gained insights help creating a positive business impact? \n",
        "Are there any insights that lead to negative growth? Justify with specific reason."
      ],
      "metadata": {
        "id": "y-Ehk30pYrdP"
      }
    },
    {
      "cell_type": "markdown",
      "source": [
        "Answer Here"
      ],
      "metadata": {
        "id": "jLNxxz7MYrdP"
      }
    },
    {
      "cell_type": "markdown",
      "source": [
        "#### Chart - 5"
      ],
      "metadata": {
        "id": "bamQiAODYuh1"
      }
    },
    {
      "cell_type": "code",
      "source": [
        "# Chart - 5 visualization code\n",
        "# Release of movies month-wise\n",
        "sns.color_palette(\"cubehelix\", as_cmap=True)\n",
        "sns.set(rc={'figure.figsize':(14,10)})\n",
        "sns.countplot(x='month_added',data=netflix_dataset,palette=\"Set1\")\n",
        "\n",
        "\n",
        "plt.title(' Releases of Movies month-wise',fontsize = 20,fontweight=\"bold\")  \n",
        "plt.xlabel('Month Added', fontsize = 15) \n",
        "plt.ylabel('Count', fontsize = 15)    \n",
        "plt.show()\n",
        "     "
      ],
      "metadata": {
        "id": "TIJwrbroYuh3",
        "colab": {
          "base_uri": "https://localhost:8080/",
          "height": 0
        },
        "outputId": "f3ebb9a2-920a-42ee-9375-95053f0d59a1"
      },
      "execution_count": 25,
      "outputs": [
        {
          "output_type": "display_data",
          "data": {
            "text/plain": [
              "<Figure size 1008x720 with 1 Axes>"
            ],
            "image/png": "[encoded data removed]"
          },
          "metadata": {}
        }
      ]
    },
    {
      "cell_type": "markdown",
      "source": [
        "##### 1. Why did you pick the specific chart?"
      ],
      "metadata": {
        "id": "QHF8YVU7Yuh3"
      }
    },
    {
      "cell_type": "markdown",
      "source": [
        "Answer Here."
      ],
      "metadata": {
        "id": "dcxuIMRPYuh3"
      }
    },
    {
      "cell_type": "markdown",
      "source": [
        "##### 2. What is/are the insight(s) found from the chart?"
      ],
      "metadata": {
        "id": "GwzvFGzlYuh3"
      }
    },
    {
      "cell_type": "markdown",
      "source": [
        "Answer Here"
      ],
      "metadata": {
        "id": "uyqkiB8YYuh3"
      }
    },
    {
      "cell_type": "markdown",
      "source": [
        "##### 3. Will the gained insights help creating a positive business impact? \n",
        "Are there any insights that lead to negative growth? Justify with specific reason."
      ],
      "metadata": {
        "id": "qYpmQ266Yuh3"
      }
    },
    {
      "cell_type": "markdown",
      "source": [
        "Answer Here"
      ],
      "metadata": {
        "id": "_WtzZ_hCYuh4"
      }
    },
    {
      "cell_type": "markdown",
      "source": [
        "#### Chart - 6"
      ],
      "metadata": {
        "id": "OH-pJp9IphqM"
      }
    },
    {
      "cell_type": "code",
      "source": [
        "# Chart - 6 visualization code\n",
        "#Rating\n",
        "plt.figure(figsize=(20,12))\n",
        "sns.countplot(x='rating',hue='type',data=netflix_dataset,palette=\"CMRmap\", order=netflix_dataset['rating'].value_counts().index[0:15])\n",
        "plt.title(' Type and rating',size='16',fontweight=\"bold\")\n",
        "plt.show()\n",
        "     \n"
      ],
      "metadata": {
        "id": "kuRf4wtuphqN",
        "colab": {
          "base_uri": "https://localhost:8080/",
          "height": 0
        },
        "outputId": "9ec21628-a94c-44c2-a805-917b79b613af"
      },
      "execution_count": 26,
      "outputs": [
        {
          "output_type": "display_data",
          "data": {
            "text/plain": [
              "<Figure size 1440x864 with 1 Axes>"
            ],
            "image/png": "[encoded data removed]"
          },
          "metadata": {}
        }
      ]
    },
    {
      "cell_type": "markdown",
      "source": [
        "##### 1. Why did you pick the specific chart?"
      ],
      "metadata": {
        "id": "bbFf2-_FphqN"
      }
    },
    {
      "cell_type": "markdown",
      "source": [
        "Answer Here."
      ],
      "metadata": {
        "id": "loh7H2nzphqN"
      }
    },
    {
      "cell_type": "markdown",
      "source": [
        "##### 2. What is/are the insight(s) found from the chart?"
      ],
      "metadata": {
        "id": "_ouA3fa0phqN"
      }
    },
    {
      "cell_type": "markdown",
      "source": [
        "Answer Here"
      ],
      "metadata": {
        "id": "VECbqPI7phqN"
      }
    },
    {
      "cell_type": "markdown",
      "source": [
        "##### 3. Will the gained insights help creating a positive business impact? \n",
        "Are there any insights that lead to negative growth? Justify with specific reason."
      ],
      "metadata": {
        "id": "Seke61FWphqN"
      }
    },
    {
      "cell_type": "markdown",
      "source": [
        "Answer Here"
      ],
      "metadata": {
        "id": "DW4_bGpfphqN"
      }
    },
    {
      "cell_type": "markdown",
      "source": [
        "#### Chart - 7"
      ],
      "metadata": {
        "id": "PIIx-8_IphqN"
      }
    },
    {
      "cell_type": "code",
      "source": [
        "# Chart - 7 visualization code\n",
        "plt.figure(figsize=(20,12))\n",
        "sns.countplot(x='country',hue='type',data=netflix_dataset,palette=\"CMRmap\", order=netflix_dataset['country'].value_counts().index[0:15])\n",
        "plt.title('Content Produced country-wise',size='16',fontweight=\"bold\")\n",
        "plt.show()\n",
        "     \n"
      ],
      "metadata": {
        "id": "lqAIGUfyphqO",
        "colab": {
          "base_uri": "https://localhost:8080/",
          "height": 0
        },
        "outputId": "198e3a8d-9dd2-4b3d-e78a-2e20b2f77d9a"
      },
      "execution_count": 27,
      "outputs": [
        {
          "output_type": "display_data",
          "data": {
            "text/plain": [
              "<Figure size 1440x864 with 1 Axes>"
            ],
            "image/png": "[encoded data removed]"
          },
          "metadata": {}
        }
      ]
    },
    {
      "cell_type": "markdown",
      "source": [
        "##### 1. Why did you pick the specific chart?"
      ],
      "metadata": {
        "id": "t27r6nlMphqO"
      }
    },
    {
      "cell_type": "markdown",
      "source": [
        "Answer Here."
      ],
      "metadata": {
        "id": "iv6ro40sphqO"
      }
    },
    {
      "cell_type": "markdown",
      "source": [
        "##### 2. What is/are the insight(s) found from the chart?"
      ],
      "metadata": {
        "id": "r2jJGEOYphqO"
      }
    },
    {
      "cell_type": "markdown",
      "source": [
        "Answer Here"
      ],
      "metadata": {
        "id": "Po6ZPi4hphqO"
      }
    },
    {
      "cell_type": "markdown",
      "source": [
        "##### 3. Will the gained insights help creating a positive business impact? \n",
        "Are there any insights that lead to negative growth? Justify with specific reason."
      ],
      "metadata": {
        "id": "b0JNsNcRphqO"
      }
    },
    {
      "cell_type": "markdown",
      "source": [
        "Answer Here"
      ],
      "metadata": {
        "id": "xvSq8iUTphqO"
      }
    },
    {
      "cell_type": "markdown",
      "source": [
        "#### Chart - 8"
      ],
      "metadata": {
        "id": "BZR9WyysphqO"
      }
    },
    {
      "cell_type": "code",
      "source": [
        "# Chart - 8 visualization co\n",
        "netflix_dataset['cast']=netflix_dataset['cast'].apply(lambda x: x.strip(','))\n",
        "netflix_dataset['cast']"
      ],
      "metadata": {
        "id": "TdPTWpAVphqO",
        "colab": {
          "base_uri": "https://localhost:8080/"
        },
        "outputId": "dc17d51c-f559-40b2-a50b-398059e8442e"
      },
      "execution_count": 28,
      "outputs": [
        {
          "output_type": "execute_result",
          "data": {
            "text/plain": [
              "0       João Miguel, Bianca Comparato, Michel Gomes, R...\n",
              "1       Demián Bichir, Héctor Bonilla, Oscar Serrano, ...\n",
              "2       Tedd Chan, Stella Chung, Henley Hii, Lawrence ...\n",
              "3       Elijah Wood, John C. Reilly, Jennifer Connelly...\n",
              "4       Jim Sturgess, Kevin Spacey, Kate Bosworth, Aar...\n",
              "                              ...                        \n",
              "7782    Imad Creidi, Antoinette Turk, Elias Gergi, Car...\n",
              "7783    Vicky Kaushal, Sarah-Jane Dias, Raaghav Chanan...\n",
              "7784                                              Nasty C\n",
              "7785                           Adriano Zumbo, Rachel Khoo\n",
              "7786                                              unknown\n",
              "Name: cast, Length: 7777, dtype: object"
            ]
          },
          "metadata": {},
          "execution_count": 28
        }
      ]
    },
    {
      "cell_type": "markdown",
      "source": [
        "##### 1. Why did you pick the specific chart?"
      ],
      "metadata": {
        "id": "jj7wYXLtphqO"
      }
    },
    {
      "cell_type": "markdown",
      "source": [
        "Answer Here."
      ],
      "metadata": {
        "id": "Ob8u6rCTphqO"
      }
    },
    {
      "cell_type": "code",
      "source": [
        "netflix_cast=[]\n",
        "for i in netflix_dataset['cast']:\n",
        "  netflix_cast.append(i)\n",
        "\n",
        "netflix_cast\n"
      ],
      "metadata": {
        "colab": {
          "base_uri": "https://localhost:8080/"
        },
        "id": "HeP3PZkO-SdJ",
        "outputId": "f7f95b67-8a57-4368-f699-96d9a566c8bf"
      },
      "execution_count": 29,
      "outputs": [
        {
          "output_type": "execute_result",
          "data": {
            "text/plain": [
              "['João Miguel, Bianca Comparato, Michel Gomes, Rodolfo Valente, Vaneza Oliveira, Rafael Lozano, Viviane Porto, Mel Fronckowiak, Sergio Mamberti, Zezé Motta, Celso Frateschi',\n",
              " 'Demián Bichir, Héctor Bonilla, Oscar Serrano, Azalia Ortiz, Octavio Michel, Carmen Beato',\n",
              " 'Tedd Chan, Stella Chung, Henley Hii, Lawrence Koh, Tommy Kuan, Josh Lai, Mark Lee, Susan Leong, Benjamin Lim',\n",
              " 'Elijah Wood, John C. Reilly, Jennifer Connelly, Christopher Plummer, Crispin Glover, Martin Landau, Fred Tatasciore, Alan Oppenheimer, Tom Kane',\n",
              " 'Jim Sturgess, Kevin Spacey, Kate Bosworth, Aaron Yoo, Liza Lapira, Jacob Pitts, Laurence Fishburne, Jack McGee, Josh Gad, Sam Golzari, Helen Carey, Jack Gilpin',\n",
              " 'Erdal Beşikçioğlu, Yasemin Allen, Melis Birkan, Saygın Soysal, Berkan Şal, Metin Belgin, Ayça Eren, Selin Uludoğan, Özay Fecht, Suna Yıldızoğlu',\n",
              " 'Amina Khalil, Ahmed Dawood, Tarek Lotfy, Ahmed El Fishawy, Mahmoud Hijazi, Jihane Khalil, Asmaa Galal, Tara Emad',\n",
              " 'Samuel L. Jackson, John Heard, Kelly Rowan, Clifton Collins Jr., Tony Plana',\n",
              " 'Divya Dutta, Atul Kulkarni, Mohan Agashe, Anupam Shyam, Raayo S. Bakhirta, Yashvit Sancheti, Greeva Kansara, Archan Trivedi, Rajiv Pathak',\n",
              " 'Rajneesh Duggal, Adah Sharma, Indraneil Sengupta, Anjori Alagh, Rajendranath Zutshi, Vipin Sharma, Amin Hajee, Shri Vallabh Vyas',\n",
              " \"Thomas Jane, Molly Parker, Dylan Schmid, Kaitlyn Bernard, Bob Frazer, Brian d'Arcy James, Neal McDonough\",\n",
              " 'Robert Więckiewicz, Maciej Musiał, Michalina Olszańska, Andrzej Chyra, Clive Russell, Zofia Wichłacz, Edyta Olszówka, Mateusz Kościukiewicz, Ewa Błaszczyk, Vu Le Hong, Tomasz Włosok, Krzysztof Wach',\n",
              " 'unknown',\n",
              " 'Artiwara Kongmalai',\n",
              " 'Omar Epps, Kate Walsh, Miranda Cosgrove, Angus Macfadyen, Jorja Fox, Enver Gjokaj, Haaz Sleiman',\n",
              " 'Sadiq Daba, David Bailie, Kayode Olaiya, Kehinde Bankole, Fabian Adeoye Lojede, Nick Rhys, Kunle Afolayan, Colin David Reese, Ibrahim Shatta, Femi Adebayo, Kanayo O. Kanayo, Lawrence Stubbings, Ademola Adedoyin',\n",
              " 'Shahd El Yaseen, Shaila Sabt, Hala, Hanadi Al-Kandari, Salma Salem, Ibrahim Al-Harbi, Mahmoud Boushahri, Yousef Al Balushi, Ghorour, Abdullah Al-bloshi',\n",
              " 'Anders Danielsen Lie, Jon Øigarden, Jonas Strand Gravli, Ola G. Furuseth, Maria Bock, Thorbjørn Harr, Jaden Smith',\n",
              " 'Rahul Pethe, Mrunmayee Deshpande, Adinath Kothare, Vaibhav Mangale, Jaywant Wadkar, Satish Pulekar, Naina Apte, Uday Tikekar',\n",
              " 'Lee Dixon, Ian Wright, Paul Merson',\n",
              " 'Geetanjali Thapa, Zain Khan Durrani, Shray Rai Tiwari, Mona Ambegaonkar, Chandreyee Ghosh, Barun Chanda, Saheb Bhattacharjee, Shefali Chauhan',\n",
              " 'Samuthirakani, Bharath Seeni, Vinoth, Esakki Barath, Chemban Vinod Jose, Gautham Menon, Krisha Kurup, Subiksha',\n",
              " 'Adil Hussain, Shakil Imtiaz, Mahendra Rabha, Sulakshana Baruah, Rahul Gautam Sarma, Kulada Bhattacharjya, Indu Mohan Das, Moumita Talukdar',\n",
              " 'Soumitra Chatterjee, Prasenjit Chatterjee, Indrani Haldar, Sudipta Chakraborty, Suman Banerjee, Gargi Roychowdhury',\n",
              " 'Bryson Baugus, Emily Neves, Blake Shepard, Patrick Poole, Luci Christian, Adam Gibbs, Masakazu Morita, Fumiko Orikasa, Takahiro Sakurai, Hiroaki Miura, Satomi Sato, Katsuyuki Konishi',\n",
              " 'unknown',\n",
              " 'unknown',\n",
              " 'Yoo Ah-in, Park Shin-hye',\n",
              " 'Helen Mirren, Gengher Gatti',\n",
              " 'Kenya Barris, Rashida Jones, Iman Benson, Genneya Walton, Scarlet Spencer, Justin Claiborne, Ravi Cabot-Conyers',\n",
              " 'unknown',\n",
              " 'Adipati Dolken, Vanesha Prescilla, Rendi Jhon, Beby Tsabina, Denira Wiraguna, Refal Hady, Diandra Agatha, Sari Nila',\n",
              " 'Adipati Dolken, Mawar de Jongh, Sari Nila, Vonny Cornellya, Clay Gribble, Ivan Leonardy, Sarah Sechan, Jourdy Pranata',\n",
              " 'Nesta Cooper, Kate Walsh, John Michael Higgins, Keith Powers, Alicia Sanz, Jake Borelli, Kid Ink, Yousef Erakat, Rebekah Graf, Anne Winters, Peter Gilroy, Patrick Davis',\n",
              " 'Jake Short, Sarah Fisher, Booboo Stewart, Danny Trejo, Pippa Mackie, Jake Smith, Patricia Zentilli, Carter Thicke',\n",
              " 'unknown',\n",
              " 'Flavia Hojda, Crina Semciuc, Olimpia Melinte, Levent Sali, Vlad Logigan, Alex Calin, Alina Chivulescu, Razvan Vasilescu',\n",
              " 'Maia Morgenstern, Olimpia Melinte, Crina Semciuc, Flavia Hojda, Maria Dinulescu, Alex Calin, Vlad Logigan, Levent Sali, Silvia Busuioc, Mihaela Mihut',\n",
              " 'Chutavuth Pattarakampol, Sheranut Yusananda, Nichaphat Chatchaipholrat, Thassapak Hsu',\n",
              " 'Estefanía de los Santos, Secun de la Rosa, Terele Pávez, María Alfonsa Rosso, Mariola Fuentes, Alfonso Sánchez, Paz Vega, Marta Torné, Concha Galán',\n",
              " 'Erdem Yener, Ayhan Taş, Emin Olcay, Muharrem Gülmez, Elif Nur Kerkük, Tarık Papuççuoğlu, Suzan Aksoy, Doğa Konakoğlu, Esin Eden, Deniz Özerman',\n",
              " 'Jóhannes Haukur Jóhannesson, Ágústa Eva Erlendsdóttir, Elma Stefania Agustsdottir, Thor Kristjansson, Anna Gunndís Guðmundsdóttir, Sara Dögg Ásgeirsdóttir, Þröstur Leó Gunnarsson, Jóhann Sigurðarson, Sveinn Geirsson, Arnar Páll Harðarson',\n",
              " 'Ayça Erturan, Aydan Taş, Ayşegül Akdemir, Burcu Gönder, Bülent Emrah Parlak, Büşra Pekin, Emre Canpolat, Ersin Korkut, Eser Yenenler, Gizem Tuğral, Gülhan Tekin, Gülsüm Alkan, Hamdi Kahraman, İbrahim Büyükak, Metin Keçeci',\n",
              " 'Beverly Osu, Sharon Ooja, Omowunmi Dada, Pearl Okorie, Wofai Samuel, Ikechukwu Onunaku, Kemi Lala Akindoju, Blossom Chukwujekwu, Adebukola Oladipupo, Omoni Oboli, Segun Arinze, Ada Ameh, Sambasa Nzeribe, Patrick Doyle, Gregory Ojefua',\n",
              " 'Charlize Theron, Marton Csokas, Jonny Lee Miller, Sophie Okonedo, Frances McDormand, Pete Postlethwaite, Amelia Warner, Caroline Chikezie, Nikolai Kinski, Paterson Joseph, Yangzom Brauen',\n",
              " 'Alican Yücesoy, Melisa Sözen, Musa Uzunlar, Serkan Ercan, Özkan Uğur, Ülkü Duru, Tansu Biçer, Nadir Sarıbacak, Sermet Yeşil, Ayhan Kavas',\n",
              " 'Lexi Giovagnoli, Justin Ray, Rae Latt, Poonam Basu, Teresa Biter, Kalilah Harris, Alexia Dox, Adam Powell, Sean McBride',\n",
              " 'Billy Crudup, Graham Rogers, Liana Liberato, Stefanie Scott, Tim Roth, Melanie Lynskey, Thomas Cocquerel, Peter Coyote',\n",
              " 'Ayo Makun, Adesua Etomi, Richard Mofe-Damijo, Mercy Johnson, Falz, Tuface Idibia, Thenjiwe Moseley, Motlatsi Mafatshe, Celeste Ntuli, Miguel A. Núñez Jr.',\n",
              " 'Franck Dubosc, Claude Rich, Marie Kremer, Mathis Touré, Rufus, Olivier Claverie',\n",
              " 'Steven Strait, Camilla Belle, Cliff Curtis, Joel Virgel, Affif Ben Badra, Mo Zinal, Nathanael Baring, Mona Hammond, Omar Sharif',\n",
              " 'Doh Kyung-soo, Nam Ji-hyun, Cho Seong-ha, Cho Han-cheul, Kim Seon-ho, Han So-hee',\n",
              " 'unknown',\n",
              " 'Zainab Johnson, Sammy Obeid, Alie Ward',\n",
              " 'Dani Rovira, Karra Elejalde, Alexandra Jiménez, David Verdaguer, Clara Segura, Alba Ribas, Bruno Bergonzini, Ricardo Pereira, Manuela Couto, Marc Balaguer',\n",
              " 'Isabela Moner, Jaheem Toombs, Owen Joyner, Jack De Sena, Brady Reiter, Lisa Arch, Stephanie Escajeda',\n",
              " 'unknown',\n",
              " 'Anisa Rahma, Ariyo Wahab, Anandito Dwis, Fitria Rasyidi, Arafah Rianti, Kinaryosih',\n",
              " 'Daniel Palmer, Melissa Sophia, Karen Williams, Grace Woodward',\n",
              " 'Usha Naik, Sandeep Pathak, Shrikant Yadav, Ganesh Yadav, Pooja Nayak, Devendra Gaikwad',\n",
              " 'Sam Upton, Jared Abrahamson, Mark Boone Junior, Laila Ali, Kate Vernon, Cassi Thomson, Colby French, Miguel Perez, Jay Acovone',\n",
              " 'So-yeon Lee, Namkoong Min, Tae-im Lee, So-hui Yoon, Won-keun Lee, Hyo-young Ryu',\n",
              " 'PJ McCabe, Brianne Moncrief, Sarah Baldwin, Jim Cummings, Heidi Niedermeyer, Neville Archambault',\n",
              " \"Dylan Minnette, Katherine Langford, Kate Walsh, Derek Luke, Brian d'Arcy James, Alisha Boe, Christian Navarro, Miles Heizer, Ross Butler, Devin Druid, Michele Selene Ang, Steven Silver, Amy Hargreaves\",\n",
              " 'Dylan Minnette, Katherine Langford, Kate Walsh, Derek Luke, Alisha Boe, Justin Prentice, Brandon Flynn, Miles Heizer, Christian Navarro, Brian Yorkey, Tom McCarthy, Selena Gomez, Mandy Teefey, Jay Asher, Dr. Rona Hu, Dr. Helen Hsu, Dr. Rebecca Hedrick, Alexis Jones, Elaine Welteroth, Julia Bicknell, Dr. Christine Moutier, Nic Sheff, Carrie Goldberg, Anne Winters, Joy Gorman, Brandon Butler, Marissa Jo Cerar, Susanne Timms',\n",
              " 'Mark Webber, Rutina Wesley, Devon Graye, Tom Bower, Ron Perlman, Pruitt Taylor Vince',\n",
              " 'unknown',\n",
              " 'Oprah Winfrey, Ava DuVernay',\n",
              " 'Donnie Yen, Zhao Wei, Wu Chun, Law Kar-Ying, Kate Tsui, Yuwu Qi, Wu Ma, Chen Kuan Tai, Sammo Kam-Bo Hung, Chen Zhi Hui, Damian Lau, Xiang Dong Xu',\n",
              " 'Neville Archambault, Amber Midthunder, Brytnee Ratledge, Hank Rogerson, Chelsea Edmundson, John-Paul Howard, Lora Martinez-Cunningham, Brianne Moncrief',\n",
              " 'unknown',\n",
              " 'Bruce Willis, Mos Def, David Morse, Jenna Stern, Cylk Cozart, Casey Sander, David Zayas, Robert Racki, Patrick Garrow, Sasha Roiz',\n",
              " 'Zac Efron, Leslie Mann, Matthew Perry, Thomas Lennon, Michelle Trachtenberg, Melora Hardin, Sterling Knight, Hunter Parrish, Nicole Sullivan, Allison Miller',\n",
              " 'Vittoria Puccini, Benedetta Porcaroli, Edoardo Leo, Sara Lazzaro, Marco Messeri, Betty Pedrazzi, Alessandro Giallocosta, Filippo Gili, Giacomo Rosselli',\n",
              " 'Luis Tosar, Javier Gutiérrez, Álvaro Cervantes, Karra Elejalde, Carlos Hipólito, Ricardo Gómez, Patrick Criado, Eduard Fernández, Miguel Herrán, Emilio Palacios',\n",
              " 'Nicole Brydon Bloom, Giles Matthey, Taylor Nichols, Alan Blumenfeld, Celeste Sully, Susan Davis, Clayton Hoff, Earnestine Phillips',\n",
              " 'Hayley Lovitt, Teddy Cole, Brook Todd, Ace Harney, Jason Macdonald',\n",
              " 'Ramzy Bedia, Éric Judor, Benoît Magimel, Kristin Scott Thomas, Élodie Bouchez, Édouard Baer, Fred Testot, Omar Sy',\n",
              " 'Alia Bhatt, Arjun Kapoor, Ronit Roy, Amrita Singh, Revathy, Aru Krishansh Verma',\n",
              " 'Darlene Love, Merry Clayton, Lisa Fischer, Táta Vega, Claudia Lennear, Judith Hill, Bruce Springsteen, Mick Jagger, Stevie Wonder, Sting, Bette Midler, Cissy Houston, Sheryl Crow, Tata Vega',\n",
              " 'Tuba Büyüküstün, Ilker Aksum, Bülent Emin Yarar, İpek Bilgin, Müjde Uzman, Firat Çelik, Ayten Uncuoglu, Cihat Tamer',\n",
              " '4Minute, B1A4, BtoB, ELSIE, EXID, EXO, Got7, INFINITE, KARA, Shinee, Sistar, VIXX, Nine Muses, BTS, Secret, Topp Dogg',\n",
              " 'Katee Sackhoff, Ray Fearon, Julie Cox, Steven Cree, David Tse, Joe David Walters',\n",
              " 'Annette Bening, Elle Fanning, Greta Gerwig, Lucas Jade Zumann, Billy Crudup',\n",
              " 'Miles Teller, Skylar Astin, Justin Chon, Sarah Wright, Jonathan Keltz, François Chau, Russell Hodgkinson, Daniel Booko, Russell Mercado, Josie Loren, Dustin Ybarra',\n",
              " 'Laura Morgan',\n",
              " 'Luke Kenny, Mohit Raina, Mukul Dev',\n",
              " 'Stephanie Bennett, Emmanuel Kabongo, RJ Fetherstonhaugh, Andres Joseph, Kevin Claydon, Conrad Pla, Clark Backo, Ryan Pierce, Eileen Li, Susan Bain, Cristina Rosato, Jonathan Kim, Colm Feore',\n",
              " 'Paul Sidhu, Arielle Holmes, Branden Coles, Kelcey Watson, Anne-Solenne Hatte, Brad Potts, Timothy Lee DePriest, Fernando Argosino, Duchess Dukes, Harwood Gordon, Stormi Henley',\n",
              " 'Ethan Hawke, Xu Qing, Paul Anderson, Rutger Hauer, Tyrone Keogh, Nathalie Boltt, Liam Cunningham',\n",
              " 'Guggu Gill, Yograj Singh, Sonia Mann, Jimmy Sharma, Sapna Bassi, Lakha Lakhwinder Singh, Sandeep Kaur Sandy, Sardar Sohi',\n",
              " 'Goo Jin, Hye-jin Han, Soo-bin Bae, Seul-ong Im, Kyeong-yeong Lee, Gwang Jang, Deok-jae Jo, Eui-sung Kim, Seok-Hwan An, Bok-gi Min',\n",
              " 'Diego Capusotto, Sofía Gala, Daniel Aráoz, Willy Toledo, El Polaco, Paula Manzone, Yayo Guridi, Guillermo Toledo',\n",
              " 'Janis Joplin, Jimi Hendrix, Amy Winehouse, Jim Morrison, Kurt Cobain',\n",
              " \"Sandra Bullock, Viggo Mortensen, Dominic West, Diane Ladd, Elizabeth Perkins, Steve Buscemi, Alan Tudyk, Mike O'Malley, Azura Skye, Reni Santoni, Marianne Jean-Baptiste\",\n",
              " 'Jin-sung Yang, Kyu-jong Kim, Tae-hwan Kang, Geummi',\n",
              " 'Kevin Costner, Amber Heard, Hailee Steinfeld, Connie Nielsen, Tómas Lemarquis, Richard Sammel, Marc Andréoni, Bruno Ricci, Jonas Bloquet, Eriq Ebouaney',\n",
              " 'Naseeruddin Shah, Jackie Shroff, Juhi Chawla, Nagesh Kukunoor, Gulshan Grover, Aditya Lakhia, Shri Vallabh Vyas',\n",
              " 'Elle Fanning, Naomi Watts, Susan Sarandon, Tate Donovan, Linda Emond, Jordan Carlos, Sam Trammell, Maria Dizzia, Tessa Albertson',\n",
              " 'Reza Rahadian, Bunga Citra Lestari, Tara Basro, Chelsea Islan',\n",
              " 'Aamir Khan, Kareena Kapoor, Madhavan, Sharman Joshi, Omi Vaidya, Boman Irani, Mona Singh, Javed Jaffrey',\n",
              " 'unknown',\n",
              " 'Kostja Ullmann, Eko Fresh, Kida Khodr Ramadan, Sabrina Klüber, Sami Nasser, Kayla Rybicka, Jytte-Merle Böhrnsen, Emrah Erdogru, Tim Grothe, Hülya Duyar',\n",
              " 'Taher Farouz, Sad Al-Saghir, Ahmad Faloks, Soleiman Eid, Mahmood El-Laithi, Hesham Ismail, Shaima Saif, Nermin Maher, Sofinar',\n",
              " 'Jesse Eisenberg, Danny McBride, Aziz Ansari, Nick Swardson, Dilshad Vadsaria, Michael Peña, Bianca Kajlich, Fred Ward',\n",
              " 'Krzysztof Stroiński, Andrzej Mellin, Adrianna Biedrzyńska, Adrianna Biedrzyńska, Rafał Zimowski, Kama Kowalewska, Wiesław Komasa, Aleksander Bednarz, Jadwiga Jankowska-Cieslak, Wojciech Klata',\n",
              " 'Anna-Maria Sieklucka, Michele Morrone, Bronisław Wrocławski, Otar Saralidze, Magdalena Lamparska, Natasza Urbańska, Grażyna Szapołowska, Tomasz Stockinger, Gianni Parisi, Mateusz Łasowski',\n",
              " 'Mei Kayama, Misuzu Kanno, Shunsuke Daitoh, Makiko Watanabe, Yoshihiko Kumashino, Minori Hagiwara, Shohei Uno, Yuka Itaya, Kiyohiko Shibukawa, Eita Okuno, Haruka Imou, Toshinori Omi',\n",
              " 'Tatiana Maslany, Diego Luna, Nick Offerman, Nick Frost, Glenn Close, Alon Aboutboul, Hayley Atwell, Darin De Paul, Andy Garcia, Cheryl Hines, Tom Kenny, Chris Obi, Cole Sand, Frank Welker, Steven Yeun',\n",
              " 'Robert Agengo, Mwaura Bilal, Andreo Kamau, Cajetan Boy, Arabron Nyyeneque, Shiviske Shivisi, Xavier Ywaya',\n",
              " 'Jake Bickelhaupt',\n",
              " 'Sarah Natochenny, Suzy Myers, Simona Berman, Erica Schroeder, Marca Leigh, Scottie Ray, Henry F. Benjamin',\n",
              " 'Carlos Cuevas, Guiomar Puerta, Iván Marcos, Israel Elejalde, Eudald Font, Luis Larrodera, Carmen Gutiérrez, Diana Gómez, Vito Sanz, Marina San José, Pere Ponce, Joan Pera',\n",
              " 'Khiyla Aynne, Noah Dyer, Maya Franzoi, Clara Kushnir, Madeline Leon, Liam MacDonald, Matt Schichter, Ethan Yang, Adam Crew',\n",
              " 'Jean Reno, Hovik Keuchkerian, Susana Abaitua, Juan Dos Santos, Arturo Valls, Enrique San Francisco, Francesc Garrido, Eric Nguyen',\n",
              " 'Evan Todd, Parker Young, Chord Overstreet, Jon Gabrus, Kate Flannery, Brooke Dillman, Jennifer Damiano, Jordan Lane Price, Alex Rennie, Jake Epstein',\n",
              " 'Kate Henshaw-Nuttal, Enyinna Nwigwe, Linda Ejiofor, Yakubu Mohammed, Bimbo Manuel, Sani Mu’azu, Emil Hirai-Garuba, Rekiya Ibrahim Atta',\n",
              " 'Ario Bayu, Arifin Putra, Dwi Sasono, Muhadkly Acho, Cornelio Sunny, Tika Bravani, Nirina Zubir, Ganindra Bimo, Verdi Solaiman',\n",
              " 'Josh Pais, Claire van der Boom, Morgan Freeman, Diane Keaton, Carrie Preston, Cynthia Nixon, Korey Jackson, Diane Ciesla, Michael Cristofer',\n",
              " 'Massimo Ghini, Ricky Memphis, Martina Stella, Ralph Palka, Biagio Izzo, Riccardo Rossi, Paola Minaccioni',\n",
              " 'Anton Yelchin, Bérénice Marlohe, Olivia Thirlby, Lambert Wilson, Frank Langella, Glenn Close',\n",
              " 'Adam Sandler, Drew Barrymore, Rob Schneider, Sean Astin, Lusia Strus, Dan Aykroyd, Amy Hill, Allen Covert, Blake Clark, Maya Rudolph',\n",
              " 'Joseph Gordon-Levitt, Seth Rogen, Anna Kendrick, Bryce Dallas Howard, Anjelica Huston, Serge Houde, Andrew Airlie, Matt Frewer, Philip Baker Hall, Marie Avgeropoulos, Jessica Parker Kennedy',\n",
              " 'Herjunot Ali, Raline Shah, Fedi Nuril, Pevita Pearce, Saykoji, Denny Sumargo, Didi Petet, Firrina Sinatrya',\n",
              " 'Andrei Selaru, Dorian Popa, Julia Marcan, Ana Radu, Cosmin Nedelcu, Diana Condurache, Andrei Gavril, Luca Bogdan',\n",
              " 'Abbi Jacobson, Dave Franco, Jane Kaczmarek, Tim Matheson, Charlotte Carel, Madeline Carel, Maya Erskine, Dawan Owens, Jen Tullock',\n",
              " 'Jamie Bell, Abbie Cornish, Mark Strong, Martin Shaw, Ben Turner, Aymen Hamdouchi, Tim Pigott-Smith, Robert Portal, Colin Garlick, Andrew Grainger, Martin Hancock, Emun Elliott',\n",
              " 'Ryan Reynolds, Mélanie Laurent, Corey Hawkins, Dave Franco, Adria Arjona, Manuel Garcia-Rulfo, Ben Hardy, Lior Raz, Payman Maadi, Yuri Kolokolnikov, Kim Kold',\n",
              " 'Taissa Farmiga, Ben Rosenfield, Lindsay Burdge, Joshua Leonard, Jennifer Lafleur, Peter Vack, Dana Wheeler-Nicholson, Jason Newman, Molly McMichael',\n",
              " 'Prashantt Guptha, Gaurav Paswala, Gaurav Kothari, Disha Kapoor, Niharica Raizada, Ashrut Jain, Darshan Machamada',\n",
              " 'unknown',\n",
              " 'Matthew Gray Gubler, AnnaLynne McCord, Alisha Boe, Sheila Vand, Sam Eidson, James Moses Black, Ajay Mehta, Michael Beasley, David Maldonado, Hallie Grace Bradley, Peter Jaymes Jr., Eric Podnar, Lucy Faust',\n",
              " 'Rahman, Havish, Regina Cassandra, Nandita Swetha, Anisha Ambrose, Tridha Choudhury, Pujitha Ponnada, Aditi Arya',\n",
              " 'Paco León, Juana Acosta, Juan Pablo Raba, Alex Brendemühl, Manuel Morón',\n",
              " 'unknown',\n",
              " 'Mahira Khan, Sheheryar Munawar, Javed Sheikh, Hina Dilpazeer, Amna Ilyas, Mira Sethi, Rimal Ali, Salahuddin Tunio, Aamir Qureshi, Adnan Shah',\n",
              " 'Priyanka Chopra, Neil Nitin Mukesh, John Abraham, Irrfan Khan, Aleksandr Dyachenko, Annu Kapoor, Naseeruddin Shah, Vivaan Shah, Usha Uthup, Konkona Sen Sharma',\n",
              " 'unknown',\n",
              " 'Bob Brisbane',\n",
              " 'Bob Brisbane',\n",
              " 'Mitch Ryan',\n",
              " 'Nao Toyama, Jun Fukuyama, Katsuyuki Konishi, Yoko Soumi, Kana Asumi, Akira Ishida, Aoi Yuki, Kazuhiko Inoue, Yoko Hikasa, Hirofumi Nojima, Ryotaro Okiayu, Eri Kitamura, Mamiko Noto, Ryo Hirohashi, Shizuka Ito, Hisao Egawa, Mayumi Asano, Kenta Miyake, Ai Kakuma, Kaito Ishikawa, Mikako Komatsu, Daisuke Sakaguchi, Takanori Hoshino, Kenjiro Tsuda, Nozomu Sasaki, Kenji Nojima, Houko Kuwashima, Kensho Ono, Takahiro Sakurai, Haruka Chisuga, Yu Shimamura, Takuma Terashima, Takuya Sato, Junko Minagawa, Masashi Sugawara, Sho Hayami, Kazuyuki Okitsu, Minako Kotobuki',\n",
              " 'Demetri Goritsas',\n",
              " 'Oviya, Masoom Shankar, Bommu Lakshmi, Monisha Ram, Tej Raj, Shree Gopika, Anson Paul, Devadarshini Chetan',\n",
              " 'Bimbo Akintola, Somkele Iyamah, Danny Glover, Gideon Okeke, Seun Kentebe, Keppy Ekpenyong, Zara Udofia Ejoh, Bimbo Manuel, Patrick Diabuah, Tina Mba, Alastair Mackenzie, Tim Reid',\n",
              " 'Nina Pearce, Adam Tuominen, Emily Morris, Amy Handley, Carmel Johnson, Alanah Gilbert, Hapi Murphy, Lilly Blacker, Julie Kay Lumasag, Elysia Markou',\n",
              " 'unknown',\n",
              " 'Tamara Smart, Oona Laurence, Tom Felton, Troy Leigh-Anne Johnson, Lynn Masako Cheng, Ty Consiglio, Ian Ho, Indya Moore, Alessio Scalzotto, Tamsen McDonough',\n",
              " 'Mila Kunis, Kristen Bell, Kathryn Hahn, Susan Sarandon, Christine Baranski, Jay Hernandez, Cheryl Hines, Peter Gallagher, Justin Hartley',\n",
              " 'Qi Shu, Liu Ye, Anthony Wong Chau-Sang, Liang Tian, Danying Feng, Rina Sa, Zhang Songwen, Tian Gao, Andrew Lin',\n",
              " 'Dhruva Padmakumar, Gaurav Sharma, Vasuki',\n",
              " 'Christopher Gorham, Julian Feder, Kaitlin Doubleday, Andrew Bowen, Caitlin Carmichael, Sean Gunn, Bryan Batt, Fay Masterson, Brian George',\n",
              " 'Crowd Lu, Tsai Chen-nan, Lotus Wang, Fan Chu-Mei, Hsieh Ying-shiuan, Vera Yen, Cammy Chiang',\n",
              " \"Dirk Bogarde, James Caan, Michael Caine, Sean Connery, Edward Fox, Elliott Gould, Gene Hackman, Anthony Hopkins, Hardy Krüger, Laurence Olivier, Ryan O'Neal, Robert Redford, Maximilian Schell, Liv Ullmann\",\n",
              " 'Lauren Swickard, Josh Swickard, Ali Afshar, David Del Rio, Natalia Mann, Katelyn Epperly, Gunnar Anderson, Julie Lancaster, Amanda Detmer',\n",
              " 'Mandy Grace, David de Vos, Donna Rusch, Devan Key, Isabella Mancuso, Ariana Guido',\n",
              " 'Emre Karayel, Ceren Moray, Begüm Kütük, Ececan Gümeci, Ümit Erdim, Cem Kiliç, Haldun Boysan, Ferdi Akarnur, Mine Teber, Güneş Hayat',\n",
              " 'Kai Ko, Ariel Lin, Darren Wang, Zhang Xiaolong, Louis Koo, Vanness Wu, Kate Tsui',\n",
              " 'Emily Alatalo, Lauren Holly, Yanic Truesdale, Franco Lo Presti, Andrew Bushell, Genelle Williams, Kyana Teresa, Eric Hicks',\n",
              " 'Rose McIver, Ben Lamb, Alice Krige, Honor Kneafsey',\n",
              " 'Rose McIver, Ben Lamb, Alice Krige, Honor Kneafsey, Sarah Douglas, Andy Lucas, Raj Bajaj, Richard Ashton, Tahirah Sharif, Joel McVeagh, Theo Devaney, Kevin Shen, Momo Yeung, Crystal Yu, Billy Angel',\n",
              " 'Rose McIver, Ben Lamb, Alice Krige, Simon Dutton, Honor Kneafsey, Sarah Douglas, Theo Devaney, John Guerrasio, Andy Lucas, Raj Bajaj, Richard Ashton, Billy Angel, Tahirah Sharif, Joel McVeagh',\n",
              " 'Cristina Vee, Bryce Papenbrook, Keith Silverstein, Mela Lee, Max Mittelman, Carrie Keranen, Stephanie Sheh, Selah Victor, Ben Diskin, Erin Fitzgerald, Grant George',\n",
              " 'Hilary Duff, Chad Michael Murray, Jennifer Coolidge, Dan Byrd, Regina King, Julie Gonzalo, Lin Shaye, Madeline Zima, Andrea Avery, Mary Pat Gleason, Paul Rodriguez, Whip Hubley, Kevin Kilner, Erica Hubbard, Simon Helberg',\n",
              " 'Laura Marano, Gregg Sulkin, Isabella Gomez, Johannah Newmarch, Lillian Doucet-Roche, Chanelle Peloso, Barclay Hope, Garfield Wilson',\n",
              " 'Malcolm McDowell, Patrick Magee, Michael Bates, Warren Clarke, Adrienne Corri, Paul Farrell, Miriam Karlin, James Marcus',\n",
              " 'Debra Winger, Barbara Hershey, Gabriel Byrne, Laurie Metcalf, John Terry, Maggie Gyllenhaal, Jake Gyllenhaal, Chloe Webb, David Strathairn',\n",
              " 'Drake Bell, Daniella Monet, David Lewis, Susanne Blakeslee, Daran Norris, Scott Baio, Devon Weigel, Ella Anderson, Carter Hastings',\n",
              " 'Crystal Fox, Phylicia Rashad, Cicely Tyson, Bresha Webb, Mehcad Brooks, Adrian Pasdar, Tyler Perry',\n",
              " 'Tom Fassaert',\n",
              " 'Gerard Butler, Gretchen Mol, Alison Brie, Willem Dafoe, Alfred Molina, Maxwell Jenkins, Anupam Kher, Dustin Milligan',\n",
              " 'Loretta Devine, Tia Mowry-Hardrict, Anthony Alabi, Talia Jackson, Isaiah Russell-Bailey, Cameron J. Wright, Jordyn Raya James, Jackée Harry, Richard Roundtree',\n",
              " 'Tiger Shroff, Jacqueline Fernandez, Nathan Jones, Kay Kay Menon, Amrita Singh, Gaurav Pandey, Shraddha Kapoor, Amrita Puri',\n",
              " 'Esben Smed, Katrine Rosenthal, Benjamin Kitter, Julie Christiansen, Tommy Kenter, Tammi Øst, Rasmus Bjerg, Ole Lemmeke, Sarah Viktoria Bjerregaard, Anders Hove, Jens Albinus',\n",
              " 'Will Forte, Domhnall Gleeson, Martin Mull, Joel McHale, Matt Lucas, Thomas Lennon, Seth Green, Jackie Tohn, Natasha Lyonne, Emmy Rossum, Elvy Yost, Matt Walsh, John Gemberling, Rick Glassman, Camille Guaty',\n",
              " 'Casey Affleck, Rooney Mara, Liz Franke, Rob Zabrecky, Will Oldham, Sonia Acevedo',\n",
              " 'Charlie Sheen, Jason Schwartzman, Bill Murray, Katheryn Winnick, Patricia Arquette, Aubrey Plaza, Mary Elizabeth Winstead, Dermot Mulroney',\n",
              " 'Alan C. Lim, Taron C. Hensley, Maisie Benson, Kerry Gudjohnsen, Paul Killam, Smith Foreman, Ann Kendrick, Ella Joy Ballesteros, Neena-Sinaii Simpo, Eli Morse',\n",
              " 'Alan C. Lim, Smith Foreman, Maisie Benson, Ann Kendrick, Kerry Gudjohnsen, Paul Killam, Stanley Moore, Tyler Hendrix, Ella Joy Ballesteros, Jimmy Olea',\n",
              " 'Alan C. Lim, Smith Foreman, Abigail Vibat, Pfifer Chastain, Jim Capobianco, Neena-Sinaii Simpo, Eli Morse, Adelaide Hirasaki, Paul Killam, Kerry Gudjohnsen, Maisie Benson',\n",
              " 'Tien Hsin, Christopher Lee, Darren Chiu, Shara Lin, Blaire Chang, Xi Man-Ning, Chu De-Kang',\n",
              " 'Julie Walters',\n",
              " 'unknown',\n",
              " 'Marlon Wayans, Essence Atkins, Cedric the Entertainer, Nick Swardson, David Koechner, Dave Sheridan, Affion Crockett, J.B. Smoove, Andrew Daly, Alanna Ubach',\n",
              " 'Laura Flannery, James Cavlo, Harry Hains, Clemmie Dugdale, Dendrie Taylor, Bryan Chesters, Jennifer Dorogi, Adam Lazarre-White, Nikita Ramsey',\n",
              " 'Peter Kurth, Lena Lauzemis, Lina Wendel, Edin Hasanovic, Marko Dyrlich, Peter Schneider, Reiner Schöne, Udo Kroschwald',\n",
              " 'Bonnie Somerville, Shelley Long, Jordan Bridges, Sam McMurray, Haylie Duff, Sam Horrigan, Carrie Wiita, Chris McKenna, Edi Patterson, Jennifer Elise Cox',\n",
              " 'Francis Chun-Yu Ng, Louis Koo, Anita Yuen, Tat-Ming Cheung, Jocelyn Choi, Ng Siu-hin, Lam Suet, Anthony Wong Chau-Sang, Lo Hoi-pang',\n",
              " 'Eli Shi, Phoebe Lin, Chen Wan-ting, Fan Chen-fei, Lu Hsueh-feng, Figaro Tseng, Winnie Chang, Elten Ting',\n",
              " 'Stephon Marbury',\n",
              " 'Patrick Wilson, Jessica Biel, Vincent Kartheiser, Haley Bennett, Eddie Marsan, Jon Osbeck, Radek Lord, Christine Dye',\n",
              " 'Lee Seung-gi, Cha Seung-won, Oh Yeon-seo, Lee Hong-gi, Jang Gwang, Lee Se-young',\n",
              " 'Peter Yu, Liu Xiaoyi, Guo Yue, Ishtiaque Zico, Jack Tan',\n",
              " 'unknown',\n",
              " 'unknown',\n",
              " 'unknown',\n",
              " 'Kate Winslet, Matthias Schoenaerts, Alan Rickman, Stanley Tucci, Helen McCrory, Steven Waddington, Jennifer Ehle, Rupert Penry-Jones, Paula Paul, Danny Webb, Phyllida Law',\n",
              " 'Carol Burnett, Russell Peters, Mark Cuban, Taraji P. Henson, Brittany Snow, Wanda Sykes, Derek Hough, Billy Eichner, Lisa Kudrow, Candace Cameron Bure, DJ Khaled, Tony Hale, Julie Bowen',\n",
              " 'Lai Kuan-lin, Zhao Jinmai, Wang Runze, Chai Wei, Wang Bowen',\n",
              " 'Kim Yo-han, So Joo-yeon, Yeo Hoi-hyun, Jeong Jin-hwan, Jo Hye-joo, Yun Seo-hyun, Cho Ryun, Kim Sung-gon, Seong Hye-min, Park Ji-won',\n",
              " 'unknown',\n",
              " 'Maricel Soriano, Aga Muhlach, Angelica Panganiban, Dante Rivero, Chin Chin Gutierrez, Bobby Andrews, TJ Trinidad, Baron Geisler, John Arcilla, Gerald Madrid',\n",
              " 'Song Il-gook, Han Chae-young, Kim Min-jong, Go Eun Han, Jung Hoon Lee, Nam Da-Reum, Yoo In-young',\n",
              " 'Gérard Depardieu, Chantal Lauby, Medi Sadoun, Ilian Bergala, Blanche Gardin, Patrick Timsit, Barbara Cabrita, Jean Dell, Thomas Vandenberghe, Théo Fernandez, Léa Lopez',\n",
              " 'Edward, Fifi Abdo, Lotfy Labib, Madeleine Matar, Nahla Zaki, Ahmed Fathy, Said Tarabeek, Badriya Tolba, Eman El-Sayed',\n",
              " 'Lewis MacDougall, Sigourney Weaver, Felicity Jones, Liam Neeson, Toby Kebbell, Ben Moor, James Melville, Oliver Steer, Dominic Boyle, Geraldine Chaplin, Jennifer Lim',\n",
              " 'Oscar Isaac, Jessica Chastain, David Oyelowo, Albert Brooks, Elyes Gabel, Catalina Sandino Moreno, Christopher Abbott, Peter Gerety, Alessandro Nivola',\n",
              " 'unknown',\n",
              " 'unknown',\n",
              " 'Nia Fairweather, Chris Noth, Cooper Koch, Tyra Ferrell, Denny Dillon, Adriana DeMeo, Otoja Abit, David Anzuelo, Camilla Harden, Natasha Goodman, Avery Whitted, Tony D. Head, Joe Perrino',\n",
              " 'Will Ferrell, Chris Kattan, Dan Hedaya, Molly Shannon, Richard Grieco, Loni Anderson, Elisa Donovan, Gigi Rice, Lochlyn Munro, Dwayne Hickman',\n",
              " 'Gijs Scholten van Aschat, Jacob Derwig, Rifka Lodeizen, Juda Goslinga, Zeb Troostwijk, Elisabeth Hesemans, Joosje Duk',\n",
              " 'Stephen Graham, Conleth Hill, Lara Pulver, Arsher Ali, Stuart Graham, Ian McElhinney',\n",
              " 'unknown',\n",
              " 'Barbara Niven, Jessica Clark, John Heard, Morgan Fairchild, Kerry Knuppe, Imelda Corcoran, Mary Jane Wells, Rebecca Staab, Michael Adam Hamilton, Bryan Jackson, Bryan Mordechai Jackson',\n",
              " 'Liev Schreiber, Jeanne Tripplehorn, Joelle Carter, Louise Fletcher, Katie Carr, Renée Soutendijk, Huub Stapel, Michael Pas',\n",
              " 'Tanya Streeter',\n",
              " 'Katie McGrath, Sir Roger Moore, Sam Heughan, Travis Turner, Leilah de Meza, Miles Richardson, Charlotte Salt',\n",
              " 'Gloria Groove, Alexia Twister',\n",
              " 'Carmen Machi, Pepón Nieto, Kiti Mánver, Jon Kortajarena, Jimmy Castro, Ricardo Nkosi, Montse Pla, Malcolm Treviño-Sitté, Pepa Charro, Esperanza Elipe, Mariana Cordero, Txema Blasco',\n",
              " 'Russell Peters, Pamela Anderson, Michael Bublé, Jon Lovitz, Scott Thompson, Faizon Love, Goapele, Ted Lange',\n",
              " 'Johnny Baweja, Reeth Mazumder, Manav Kaul, Tanvi Vyas, Puru Chibber, Vasundhara Kaul, Aayam Mehta, Niraj Sah',\n",
              " 'John Lloyd Cruz, Bea Alonzo, Dimples Romana, Janus del Prado, James Blanco, Ahron Villena, Beatriz Saw, Shamaine Centenera, Khalil Ramos, Billy Crawford, Al Tantay, Arci Muñoz',\n",
              " 'unknown',\n",
              " \"Leila Hatami, Peyman Moaadi, Shahab Hosseini, Sareh Bayat, Sarina Farhadi, Babak Karimi, Ali-Asghar Shahbazi, Shirin Yazdanbakhsh, Kimia Hosseini, Merila Zare'i, Sahabanu Zolghadr\",\n",
              " 'Neil Patrick Harris, Patrick Warburton, Malina Weissman, Louis Hynes, K. Todd Freeman, Joan Cusack, Aasif Mandvi',\n",
              " 'Michael Stuhlbarg, Richard Kind, Fred Melamed, Sari Lennick, Adam Arkin, Amy Landecker, Alan Mandell, Fyvush Finkel, Peter Breitmayer, Aaron Wolff, Jessica McManus, Brent Braunschweig',\n",
              " 'Justin Fletcher, John Sparkes, Amalia Vitale, Kate Harbour, David Holt',\n",
              " 'Miyu Irino, Saori Hayami, Aoi Yuki, Kensho Ono, Yuki Kaneko, Yui Ishikawa, Megumi Han, Toshiyuki Toyonaga, Mayu Matsuoka',\n",
              " 'Colin Firth, Julianne Moore, Nicholas Hoult, Ginnifer Goodwin, Matthew Goode, Paul Butler, Ryan Simpkins, Teddy Sears, Paulette Lamori, Jon Kortajarena',\n",
              " 'Bárbara Lennie, Daniel Aráoz, Claudio Tolcachir, Paula Cohen, Yanina Ávila',\n",
              " 'Laura Marano, Parker Mack, Katherine McNamara, Marcus Lyle Brown, Shayne Topp, Michelle Clunie, Kathleen Wilhoite',\n",
              " 'Ken Olin, Jill Eikenberry, Maureen Mueller, Gregg Henry, Nicholas Pryor, Noble Willingham, Peter Michael Goetz, Ron Perlman, Theodore Bikel, Olivia Burnette, Bill Allen, Brad Pitt',\n",
              " 'Edward Asner, Judy Greer, Erin Fitzgerald, Fred Tatasciore, Jeff Gill, Gregg Spiridellis, Evan Spiridellis, Jim Meskimen, Nate Theis',\n",
              " 'Wu Chien-ho, Chen Yi-wen, Samantha Ko, Liu Kuan-ting, Greg Hsu, Wu Tai-ling, Wen Chen-ling, Yin Shin',\n",
              " 'Tammy Chen, James Wen, Peggy Tseng, Denny Huang',\n",
              " 'Natalie Portman, Gilad Kahana, Amir Tessler, Moni Moshonov, Ohad Knoller, Makram Khoury, Neta Riskin, Alexander Peleg, Rotem Keinan, Tomer Kapon',\n",
              " 'unknown',\n",
              " 'Martin Lawrence, Lynn Whitfield, Regina King, Bobby Brown, Della Reese, Daryl Mitchell, Roger Mosley, Malinda Williams, Roger E. Mosley, Simbi Khali, Tangie Ambrose, Wendy Raquel Robinson, Stacii Jae Johnson, Faizon Love, Miguel A. Núñez Jr., Tracy Morgan',\n",
              " 'Cindy Lien, Nicholas Teo, Yao Ai-ning, Li Chung-lin, Chen Bor-jeng, Miao Ke-li',\n",
              " 'Eddie Murphy, Kerry Washington, Cliff Curtis, Clark Duke, Allison Janney, Ruby Dee, John Witherspoon, Jack McBrayer',\n",
              " 'Weber Yang, Cheryl Yang, Tien Hsin, Gabriel Lan, Wu Kang-jen, Cindy Lien, Wen Chen-ling, Hans Chung',\n",
              " 'Henry Keane, Glen Keane, Lucas Neff, Brian Baumgartner, Jackie Loeb, John DiMaggio',\n",
              " 'Ayo Makun, Funke Akindele, Nse Ikpe-Etim, Dan Davies, Paul Campbell, Chris Attoh, Rebecca Silvera, Eric Roberts, Joe Diaz, Alex Moore',\n",
              " 'Revathi, Roger Narayanan, Sneha Ravishankar, Vidya Shankar, SR Leela',\n",
              " 'Antonio de la Torre, Chino Darín, Alfonso Tort, Soledad Villamil, César Troncoso, Silvia Pérez Cruz, César Bordón, Mirella Pascual, Nidia Telles, Eduardo Recabarren',\n",
              " 'Bea Santos, Greyston Holt, Greg Vaughan, Deana Carter, Allison Hossack',\n",
              " 'Bill Murray, Miley Cyrus, George Clooney, Chris Rock, Amy Poehler, Michael Cera, Maya Rudolph, Rashida Jones, Jason Schwartzman, Paul Shaffer, Jenny Lewis, Phoenix',\n",
              " 'Hugo Becker, Wilfred Benaïche, Christophe Kourotchkine, Karim Barras, Bruno Paviot, Jean-Édouard Bodziak, Mathilde Warnier, Joséphine de La Baume, Marie-Julie Baup, Antoine Gouy, Julie Farenc',\n",
              " 'John Lloyd Cruz, Sarah Geronimo, Dante Rivero, Rowell Santiago, Johnny Revilla, Bing Pimental, Daphne Oseña-Paez, Al Tantay, Irma Adlawan, Arno Morales, Miles Ocampo',\n",
              " 'Mandy Moore, Shane West, Peter Coyote, Daryl Hannah, Lauren German, Clayne Crawford, Al Thompson',\n",
              " 'Anupam Kher, Naseeruddin Shah, Jimmy Shergill, Deepal Shaw, Aamir Bashir, Kali Prasad Mukherjee, Vijay Bhatia, Chetan Pandit',\n",
              " 'unknown',\n",
              " 'Mirai Shida, Natsuki Hanae, Hiroaki Ogi, Koichi Yamadera, Minako Kotobuki, Susumu Chiba, Ayako Kawasumi, Sayaka Ohara, Daisuke Namikawa',\n",
              " 'Morgan Neundorf, Karen Slater, Loukia Ioannou, Will Ennis, Renee Stein, Keith Cooper, Paul Mason, Lisa Scenna, Ashley Rogan',\n",
              " 'Storm Reid, Oprah Winfrey, Reese Witherspoon, Mindy Kaling, Deric McCabe, Levi Miller, Chris Pine, Gugu Mbatha-Raw, Zach Galifianakis, Michael Peña, Bellamy Young, André Holland, Will McCormack, Rowan Blanchard, Daniel MacPherson',\n",
              " 'Scott Kelly',\n",
              " 'Sivakumar Palakrishnan, Huang Lu, Seema Biswas, Udaya Soundari, Nithiyia Rao, Indra Chandran',\n",
              " 'Juan Pablo Di Pace, Adam Levy, Chipo Chung, Babou Ceesay, Emmett Scanlan, Will Thorp, Richard Coyle, Vincent Regan, Greta Scacchi, James Callis, Joanne Whalley, Jodhi May, Chris Brazier, Fraser Ayres, Jóhannes Haukur Jóhannesson, Ken Bones, Kenneth Collard',\n",
              " 'Haruka Shiraishi, Yusuke Kobayashi, Makoto Furukawa, Taishi Murata, Kaori Nazuka, M・A・O, Ryota Takeuchi, Ai Kayano, Toru Okawa, Takehito Koyasu, Atsuko Tanaka',\n",
              " 'Debs Howard, Philip Granger, Sam Robert Muik, Havana Guppy, Bonnie Hay, Veronica Hampson, Lori Triolo, Andrew Coghlan, Laura Mitchell, Elinet Louicius',\n",
              " 'Alex Neustaedter, Becky G., Alex MacNicoll, Dominic Rains, Thomas Jane, Lou Taylor Pucci, Patricia De Leon, Niko Guardado, Ted McGinley, Marie-Françoise Theodore, Eric Etebari, Dorian Kingi',\n",
              " 'Mehmet Günsür, Belçim Bilgin, Ayda Aksel, Altan Erkekli, Sebnem Sönmez, Hüseyin Avni Danyal, Berna Konur, Ümit Bülent Dinçer',\n",
              " 'Jayasurya, Vinayakan, Sunny Wayne, Vijay Babu, Saiju Kurup, Vineeth Mohan, Unni Rajan P. Dev, Dharmajan Bolgatty, Indrans',\n",
              " 'Shreyas Talpade, Kay Kay Menon, Shiv Pandit, Sanjay Sharma, Shenaz Treasury, Mahie Gill',\n",
              " 'Sachin Khedekar, Ashwini Bhave, Mahesh Manjrekar, Hrishikesh Joshi, Satish Alekar, Sunil Tawde, Pushkar Shrotri, Anand Ingle',\n",
              " 'Vinod Khanna, Dimple Kapadia, Jackie Shroff, Sonam, Vinod Mehra, Shafi Inamdar, Gulshan Grover, Roopesh Kumar',\n",
              " 'Indrans, Sreekanth Menon, Vishnu Agasthya, Aliyar, Seethabaala, Shaji John, Sajith Nampiyar, Benny Vadakkan',\n",
              " 'Rajeev Khandelwal, Gajraj Rao, Shashanka Ghosh, Jhilmil Hazrika, Gazala Amin, Allauddin Khan',\n",
              " 'Nana Patekar, Sumeet Raghvan, Iravati Harshe, Aashish Kulkarni, Savita Malpekar',\n",
              " 'Amitabh Bachchan, Saif Ali Khan, Manoj Bajpayee, Deepika Padukone, Prateik, Tanvi Azmi, Saurabh Shukla, Darshan Jariwala, Yashpal Sharma, Mukesh Tiwari',\n",
              " 'John Abraham, Sonal Sehgal, Prateeksha Lonkar, Girish Karnad, Farida Jalal, Ashwin Chitale, Anaitha Nair, Vikram Inamdar, Vipin Bhali, Poonam Chitale, Nagesh Kukunoor',\n",
              " 'Saif Ali Khan, Mamta Kulkarni, Mohnish Bahl, Sharmila Tagore, Saeed Jaffrey, Kader Khan',\n",
              " 'Sanjay Narvekar, Bharat Jadhav, Satish Phulekar, Ashwini Apte',\n",
              " 'Ravi Babu, Neha Chauhan, Sri Muktha, Bharani Shankar, Mukhtar Khan, Priya',\n",
              " 'Macy Drouin, Wyatt White, Paul Sun-Hyung Lee, Michela Luci, Christian Dal Dosso, Laaibah Alvi, Leo Orgil',\n",
              " 'Abir Chatterjee, Raima Sen, Arunima Ghosh, Priyanka Sarkar, Sujan Mukherjee, Kanchan Mullick, Biswanath Basu, Bhaswar Chatterjee, Swagata Basu, Tuhin Mitra, Paran Banerjee, Kharaj Mukherjee, Chiranjit',\n",
              " 'Prabhu Deva, Varun Dhawan, Shraddha Kapoor, Lauren Gottlieb, Sushant Pujari, Punit Pathak, Dharmesh Yelande, Raghav Juyal',\n",
              " 'Prabhu Deva, Kay Kay Menon, Ganesh Acharya, Dharmesh Yelande, Salman, Lauren Gottlieb, Noorin Sha, Punit Pathak',\n",
              " 'Mohamed Ramadan',\n",
              " 'unknown',\n",
              " 'Sajid Hasan, Hameed Sheikh, Habibullah Panezai, Imraan Abbas, Sadia, Imran Tareen, Asal Deen, Yameen Shah',\n",
              " 'Tamannaah Bhatia, Prabhu Deva, Sonu Sood, Sapthagiri, Murli Sharma, R.V. Udhaykumar, Joy Mathew, Hema',\n",
              " 'Hyun-moo Jun, Si-kyung Sung, Se-yoon Yoo',\n",
              " 'Isabella Acres, Drake Bell, Emilio Estevez, Nolan Gould, Matthew Lillard, Ray Liotta, Jane Lynch, Ariel Winter',\n",
              " 'Nicholas Hoult, Toni Collette, Victoria Smurfit, Sharon Small, Natalia Tena, Isabel Brook, Hugh Grant, Rachel Weisz, Nicholas Hutchison',\n",
              " 'Domhnall Gleeson, Rachel McAdams, Bill Nighy, Lydia Wilson, Lindsay Duncan, Richard Cordery, Tom Hollander, Margot Robbie, Joshua McGuire, Vanessa Kirby',\n",
              " 'Christoph Niemann, Tinker Hatfield, Es Devlin, Bjarke Ingels, Paula Scher, Platon, Ilse Crawford, Ralph Gilles',\n",
              " 'Afi Ekulona',\n",
              " 'Park Bo-young, Ahn Hyo-seop, Lee Sung-jae, Lee Si-eon, Han So-hee, Kwon Soo-hyun, Kim Sa-rang, Ahn Se-ha, Yun Yoo-sun',\n",
              " 'Eugenia Suárez, Esteban Lamothe, Gloria Carrá, Rafael Spregelburd, Tomás Ottaviano, Julieta Gullo, Zoe Hochbaum, Lucia Carolina Pecrul',\n",
              " 'Patricio Castillo, Sergio Bustamante, Alejandro Suárez, Luz María Jerez, Bob Isaacs, Tere Monroy',\n",
              " 'Louis Koo, Richie Ren, Stanley Fung Sui-Fan, Michelle Ye, Lam Suet, Alexander Chan, Monica Mok',\n",
              " 'Junchen Guo, Yi Ning Sun, Yi Qin Zhao, Mu Xuan Cheng, Li Ma, Mo Zhou',\n",
              " 'Ben Hyland, Marsha Mason, Karina Smirnoff, Colin Branca, Ralph Macchio, Tricia Paoluccio',\n",
              " 'Sarah Jeffery, Simon Paul Mutuyimana, Denis Theriault, Jeremiah Sparks, Steven Love, Cara Ricketts, Jim Codrington, Shamier Anderson, Stephan James, Lanette Ware, Hugh Thompson',\n",
              " 'Evan Rachel Wood, Jim Sturgess, Joe Anderson, Dana Fuchs, Martin Luther, James Urbaniak, T.V. Carpio, Spencer Liff',\n",
              " 'Keo Woolford, Drea Castro, Emilio Rivera, Rorke Denver, Jason Cottle, Ailsa Marshall, Alex Veadov, Dave, Roselyn Sanchez, Thomas Rosales Jr., Nestor Serrano, Gonzalo Menendez',\n",
              " 'Haluk Bilginer, Mahsun Kırmızıgül, Mustafa Sandal, Gina Gershon, Robert Patrick, Danny Glover, Engin Altan Düzyatan, Scott William Winters, Sharrieff Pugh',\n",
              " 'Akshay Kumar, Aishwarya Rai Bachchan, Om Puri, Kiron Kher, Neha Dhupia, Rannvijay Singh, Aditya Roy Kapur, Sudeepa Singh, Randhir Kapoor, Rajpal Yadav',\n",
              " 'Antonio Banderas, Karl Urban, Paz Vega, Robert Forster, Clint Dyer, Cristina Serafini, Lillian Blankenship, Atanas Srebrev, Mark Rhino Smith',\n",
              " 'Cole Hauser, Bruce Willis, Shawn Ashmore, Ashton Holmes, Melissa Bolona, Patrick St. Esprit, Sophia Bush, Mike Epps',\n",
              " 'Yvan Attal, Garance Marillier, Niels Schneider, Victor Assié, Rod Paradot, Anne Azoulay, Adel Bencherif',\n",
              " 'Luis Tosar, Anna Castillo, Álvaro Cervantes, Miquel Fernández, Jesús Carroza, Moustapha Oumarou, Adam Nourou, Zayidiyya Dissou, Ana Wagener, Nora Navas',\n",
              " 'Adam Devine',\n",
              " 'Adam Conover, Adam Lustick, Emily Axford',\n",
              " 'Adam Sandler',\n",
              " 'Daniel J. Travanti, JoBeth Williams, Richard Masur, Martha Scott, Paul Regina',\n",
              " 'Antoine Bizet, Jesse Richman, Karsten Gefle, Wille Lindberg, Matahi Drollet, Mathias Wyss, Matt Annetts',\n",
              " 'Adel Karam',\n",
              " 'unknown',\n",
              " 'Aditi Mittal',\n",
              " 'Naomi Watts, Robin Wright, Xavier Samuel, James Frecheville, Ben Mendelsohn, Jessica Tovey, Sophie Lowe, Gary Sweet, Alyson Standen, Skye Sutherland, Sarah Henderson',\n",
              " 'Shailene Woodley, Sam Claflin, Jeffrey Thomas, Elizabeth Hawthorne',\n",
              " 'Ravi Kumar, Ayesha Singh, Nishat Mallick, Archana Kotwal, Rakesh Chaturvedi Om, Nidhi Mahavan, Abhijit Sinha, Abdur Rehman',\n",
              " 'Jacqueline Kim, James Urbaniak, Freya Adams, Ken Jeong, Jennifer Ehle, Samantha Kim, Troi Zee, Olivia Horton, Jennifer Ikeda, Mercedes Griffeth',\n",
              " 'Daniel Doheny, Judy Greer, Siobhan Williams, Russell Peters, Grace Park, Andrew McNee, Alex Barima, Andrew Herr, Eva Day, Josh Epstein',\n",
              " 'Saga Alyasery, Ana Druzhynina, Mansour Al Felei, Mohammad Abu Diak, Pascale Matar, Luke Coutts, Abeer Mohammed',\n",
              " 'unknown',\n",
              " 'Afonso Padilha',\n",
              " 'David Attenborough',\n",
              " 'Loo Nascimento, Ingrid Silva, Rincon Sapiência, Batekoo, Gabriel Martins, Benjamin Abras, Daniele DaMata, Tasha & Tracie Okereke, Mariana de Matos, André Novais, Mahal Pita, Grace Passô, Thamyra Thâmara, Xenia França, Criola, Dani Ornellas, Anelis Assumpção, Magá Moura, Tássia Reis, Liniker, Yasmin Thayná, Raquel Virgínia, Juliana Luna, Erica Malunguinho, Diane Lima, Karol Conká',\n",
              " 'Josephine Langford, Hero Fiennes Tiffin, Selma Blair, Inanna Sarkis, Shane Paul McGhie, Pia Mia, Khadijha Red Thunder, Dylan Arnold, Samuel Larsen, Jennifer Beals, Peter Gallagher',\n",
              " 'Ricky Gervais, Tom Basden, Tony Way, Diane Morgan, Mandeep Dhillon, David Bradley, Ashley Jensen, Kerry Godliman',\n",
              " 'unknown',\n",
              " 'unknown',\n",
              " 'unknown',\n",
              " 'unknown',\n",
              " 'Josephine Langford, Hero Fiennes Tiffin, Dylan Sprouse, Selma Blair, Louise Lombard, Shane Paul McGhie, Candice King, Charlie Weber, Khadijha Red Thunder, Inanna Sarkis, Pia Mia, Samuel Larsen, Dylan Arnold, Karimah Westbrook, Rob Estes',\n",
              " 'Arnold Schwarzenegger, Scoot McNairy, Maggie Grace, Judah Nelson, Glenn Morshower, Hannah Ware, Mo McRae, Martin Donovan, Larry Sullivan, Mariana Klaveno, Kevin Zegers, Lewis Pullman',\n",
              " 'Ezra Miller, Addison Timlin, Jeremy Allen White, Michael Stuhlbarg, Emory Cohen, David Costabile, Rosemarie DeWitt, Dariusz M. Uczkowski, Gary Wilmes, Paul Sparks, Alexandra Neil, Lee Wilkof',\n",
              " 'Eli Roth, Andrea Osvárt, Ariel Levy, Natasha Yarovenko, Nicolás Martínez, Lorenza Izzo, Marcial Tagle, Ramón Llao, Ignacia Allamand, Paz Bascuñán',\n",
              " 'Christopher Lee, Rui En, Desmond Tan, Zheng Geping, Zhang Zhenhuan, Paige Chua, Xu Bin, Carrie Wong',\n",
              " 'Ruth Bradley, Pippa Haywood, Dean Andrews, Bebe Cave, Blake Harrison, Tim McInnerny, Ralph Ineson, Michael McElhatton',\n",
              " 'Fay Ripley',\n",
              " 'Debbie Goh, Aenie Wong, Frederick Lee, Leslie Chai',\n",
              " 'Peter Ho, Jeanine Yang, Tammy Chen, Jason Tsou, Chang Ting-hu, Nana Lee, Nien Hsuan Wu',\n",
              " 'unknown',\n",
              " 'Khumbulani Kay Sibiya, Sisanda Henna, Tarynn Wyngaard, Anthony Oseyemi, Virgile Bramly, Manie Malone, Yannick Konnan, Vinaya Sungkur, Michaella Russell, Thabo Malema',\n",
              " 'Sharad Kelkar, Aahana Kumra, Mahesh Manjrekar, Deepali Pansare, Danish Pandor, Jason Tham, Reena Aggarwal, Swati Rajput',\n",
              " 'Kaolip, Komegumi Koiwasaki, Maki Tsuruta, Sohta Arai, Rina Inoue, Shingo Kato, Yuki Takahashi',\n",
              " 'Kaolip, Shingo Kato, Komegumi Koiwasaki, Maki Tsuruta, Sohta Arai, Rina Inoue, Yuki Takahashi, Rarecho',\n",
              " 'Amitabh Bachchan, Mithun Chakraborty, Danny Denzongpa, Madhavi, Neelam, Alok Nath, Rohini Hattangadi, Tinnu Anand, Vikram Gokhale, Archana Puran Singh',\n",
              " 'Agustín Aristarán',\n",
              " 'Adesh Bhardwaj, Rasika Dugal, Joy Fernandes, Ravi Kale, Ishtiyak Khan, Priyanka Kothari, Kali Prasad Mukherjee, Nitin Reddy, Gautam Rode, Howard Rosemeyer',\n",
              " 'Abhay Deol, Soha Ali Khan, Shayan Munshi, Kamini Khanna, Sohrab Ardeshir, Murad Ali, Shakeel Khan, Natasha Sinha, Brijendra Kala',\n",
              " 'Ai Weiwei, Lao Ai',\n",
              " 'Becky, Ryo Kato, Karina Maruyama, Kohei Takeda',\n",
              " 'Becky, Audrey, Mayuko Kawakita, Shimon Okura',\n",
              " 'Ainsley Harriott',\n",
              " 'Kanto Shimokura, Debo Akibe, Emi Shimokura, Toko Miura, Lily Franky',\n",
              " 'Larissa Manoela, André Luiz Frambach, Erasmo Carlos, Mariana Amâncio, Amanda Orestes, Eike Duarte, Nayobe Nzainab, Katiuscia Canoro, Phellyx Moura, Dani Ornellas, Michel Bercovitch, Sílvia Lourenço',\n",
              " 'Palash Sen, Ira Dubey, Yashpal Sharma, Tinnu Anand, Prisha Dabbas, Kymsleen Kholie, Satish Sharma',\n",
              " 'Akshay Kumar, Kareena Kapoor, Priyanka Chopra, Amrish Puri, Paresh Rawal, Annu Kapoor',\n",
              " 'Sidharth Malhotra, Manoj Bajpayee, Rakul Preet Singh, Pooja Chopra, Adil Hussain, Kumud Mishra, Naseeruddin Shah, Anupam Kher, Vikram Gokhale, Juhi Babbar',\n",
              " 'Rani Mukerji, Prithviraj Sukumaran, Nirmiti Sawant, Subodh Bhave, Jyoti Subhash, Satish Alekar, Anita Date, Amey Wagh, Kishori Balal, Pakoda Pandi',\n",
              " 'RuPaul Charles, Izzy G., Michael-Leon Wooley, Josh Segarra, Katerina Tannenbaum, Tia Carrere',\n",
              " 'Ranbir Kapoor, Katrina Kaif, Govind Namdeo, Darshan Jariwala, Zakir Hussain, Smita Jaykar, Navneet Nishan, Dolly Bindra, Upen Patel',\n",
              " 'unknown',\n",
              " 'Mamoru Miyano, Yoshimasa Hosoya, Jun Fukuyama, Hochu Otsuka, Daisuke Hirakawa, Takahiro Sakurai, Mikako Komatsu, Hiroyuki Kinoshita, Aya Suzaki',\n",
              " 'Sushama Deshpande, Abhishek Banerjee, Smita Tambe, Sharvani Suryavanshi, Vikas Kumar, Sadiya Siddiqui, Sudhir Pandey, Manuj Sharma',\n",
              " 'Anil Kapoor, Anurag Kashyap',\n",
              " 'Sora Amamiya, Soma Saito, Yukari Tamura, Yuu Asakawa, Mamiko Noto, Yoshitsugu Matsuoka, Katsuyuki Konishi, Risa Mizuno, Satomi Akesaka',\n",
              " 'Kiku Sharda, Vishal Kotian, Delnaaz Irani',\n",
              " 'Puteri Balqis, Aeril Zafrel, Nabila Huda, Nazim Othman, Nadia Brian, Bella Dally',\n",
              " 'Rodrigo de la Serna, Belen Blanco, Walter Jakob, Facundo Aquinos, Patricia Calisaya',\n",
              " 'Taim Hasan, Nadine Nassib Njeim, Abdo Chahine, Oweiss Mkhallalati, Mona Wassef',\n",
              " 'Allu Arjun, Pooja Hegde, Tabu, Sushanth, Nivetha Pethuraj, Jayaram, Murli Sharma',\n",
              " 'Kehinde Bankole, Lilian Esoro, Bolaji Amusan, Toyin Abraham, Gabriel Afolayan, Bidemi Kosoko, Wumi Toriola, Tayo Amokade, Helen Paul, Liz DaSilva',\n",
              " 'Alan Saldaña',\n",
              " 'unknown',\n",
              " \"Martin L. Washington Jr., Maya Washington, Matt Dallas, Christopher O'Shea, Jason Scott Lee, Margaret Cho, Kevin Daniels, John Fleck, Nia Peeples, Adam Tomei\",\n",
              " 'Nandita Das, Manav Kaul, Saurabh Shukla, Kishore Kadam, Omkar Das Manikpuri, Amarjeet Amle, Yusuf Hussain, Sushma Bakshi',\n",
              " 'Daniel Sharman, Jennifer Morrison, Debra Messing, Stephen Dorff, John Cleese, Liam McIntyre, Richard Kind, Avery Arendes, Castille Landon',\n",
              " 'Alejandro Riaño',\n",
              " 'Alejandro Sanz',\n",
              " 'Néstor Guzzini, Mirella Pascual, Cristina Morán, Romina Peluffo, Laila Reyes Silberberg, Pablo Tate, Gerónimo Pizzanelli, Georgina Yankelevich, Julio Icasuriaga, Carla Moscatelli',\n",
              " 'Alex Fernández',\n",
              " 'Daniel Doheny, Madeline Weinstein, Antonio Marziale, Daniel Zolghadri, Annie Q., Nik Dodani, Fred Hechinger, Kathryn Erbe, Isabella Amara, Sophie Faulkenberry',\n",
              " 'Paris Berelc, Isabel May, Tiffani Thiessen, Emery Kelly, Jolie Jenkins, Kerri Medders, Finn Carr, Eddie Shin',\n",
              " 'Naglaa Fathi, Farid Shawqy, Mohsen Mohiedine, Ezzat El Alaili, Abdalla Mahmoud, Youssef Wahby, Yehia Chahine, Laila Fawzy, Mahmoud El Meleigy, Ahmed Zaki, Gerry Sundquist',\n",
              " 'Youssef Chahine, Yousra, Hussein Fahmy, Amr Abdel-Geleel, Taheya Cariocca, Hesham Selim, Huda Sultan, Ragaa Hussein',\n",
              " 'Alexis Viera',\n",
              " 'Khalifa Albhri, Neven Madi, Talal Mahmood, Sawsan Saad, Fatma Hassan',\n",
              " 'Cem Yılmaz, Irina Ivkina, Çetin Altay, Zafer Algöz, Can Yılmaz, Bahtiyar Engin, Fevzi Gökçe, Yosi Mizrahi',\n",
              " 'Ali Wong',\n",
              " 'Ali Wong',\n",
              " 'Osamah Sami, Don Hany, Helana Sawires, Frances Duca, Majid Shokor, Rodney Afif, Ghazi Alkinani, Ryan Corr',\n",
              " 'Sarah Gadon, Edward Holcroft, Paul Gross, Anna Paquin, Rebecca Liddiard, Zachary Levi, Kerr Logan, David Cronenberg',\n",
              " 'unknown',\n",
              " 'Dharmendra, Hema Malini, Zeenat Aman, Rolan Bykov, Prem Chopra, Yakub Akhmedov, Madan Puri, Sofiko Chiaureli',\n",
              " 'Ellen Burstyn, Kris Kristofferson, Billy Green Bush, Diane Ladd, Harvey Keitel, Lelia Goldoni, Lane Bradbury, Vic Tayback, Jodie Foster, Alfred Lutter',\n",
              " 'Kento Yamazaki, Tao Tsuchiya, Nijiro Murakami, Yuki Morinaga, Keita Machida, Ayaka Miyoshi, Dori Sakurada, Aya Asahina, Shuntaro Yanagi, Yutaro Watanabe, Ayame Misaki, Mizuki Yoshida, Tsuyoshi Abe, Nobuaki Kaneko, Sho Aoyagi, Riisa Naka',\n",
              " 'Anne Celestino Mota, Emmanuel Rosset, Matheus Moura, Surya Amitrano, Thaís Schier, Cida Rolim, Katia Horn, Igor Augustho, Marcel Szymanski',\n",
              " 'J. Michael Long',\n",
              " 'Rob Tinkler, Julie Lemieux, John Cleland, Kyle Dooley, Rupert Degas',\n",
              " 'Clayton Snyder, David Meadows, Daniel Washington, Scott C. Roe, Larissa Andrade, Sal Rendino, Jose Guns Alves, Scott King',\n",
              " 'unknown',\n",
              " 'Keythe Farley, Dee Bradley Baker, Kaliayh Rhambo, Michelle Deco, Barbara Goodson',\n",
              " 'William Shatner, Dan Payne, Kirsten Robek, Ty Consiglio, Sean McNamara, Christian Convery, Jayden Greig, Lauren McNamara, Alex Zahara, Sandy Robson',\n",
              " 'unknown',\n",
              " 'Chris Attoh, Katlego Danke, Enyinna Nwigwe, Nomzamo Mbatha, Richard Lukunku, Zenande Mfenyane, Leroy Gopal, Angela Sithole',\n",
              " 'Mary Elizabeth Winstead, Common, Kate del Castillo, Chace Crawford, Jay Mohr, Beau Bridges, Clea DuVall, Melonie Diaz, Camryn Manheim, Mindy Sterling, Angelique Cabral, Nicole Byer, Todd Louiso, Elizabeth Masucci, Sonoya Mizuno, Charlotte Newhouse, Victor Rasuk, Andree Vermeulen',\n",
              " 'Joseph Simmons, Justine Simmons, Kiana Ledé, Nathan Anderson, Leah Rose Randall, Maceo Smedley, Quincy Fouse, DJ Ruckus, Adain Bradley, Tim Meadows, Daymond John, Erick Chavarria, Christopher Clarke, Aubrey Cleland, Arsenio Hall, Stephen Schneider, Max Goudsmit, Noah Gerry, Jamie VanDyke, Ashleigh Hairston',\n",
              " 'Daniel Ezra, Taye Diggs, Samantha Logan, Bre-Z, Greta Onieogou, Monet Mazur, Michael Evans Behling, Cody Christian, Karimah Westbrook, Jalyn Hall, Jordan Belfi, Briana Lane',\n",
              " 'Hairul Azreen, Janna Nick, Amerul Affendi, Henley Hii, Nam Ron, Theebaan Govindasamy, Taufiq Hanafi, Hafizul Kamal, Josiah Hogan, Sophia Albarakbah, Sugeeta Chandran, Anna Jobling',\n",
              " 'Jeffrey Wright, Ashton Sanders, Regina Taylor, Yahya Abdul-Mateen II, Isaiah John, Kelly Jenrette, Shakira Ja-nai Paye',\n",
              " 'Dom DeLuise, Burt Reynolds, Daryl Gilley, Candy Devine, Charles Nelson Reilly, Vic Tayback, Melba Moore, Judith Barsi, Rob Fuller, Earleen Carey, Anna Manahan, Nigel Pegram, Loni Anderson, Ken Page, Godfrey Quigley',\n",
              " 'Ana María Estupiñán, Carlos Torres, Yuri Vargas, Jim Muñoz, Julio Sánchez Cóccaro, Alina Lozano, Valeria Gálviz, Juan Millán, Juan del Río, Mario Duarte',\n",
              " 'Claire Forlani, Jake Abel, Titus Welliver, Melina Matthews',\n",
              " 'Danny Jacobs, Andy Richter, Henry Winkler, Kevin Michael Richardson, India de Beaufort, Jeff Bennett, David Krumholtz, Diedrich Bader, Debra Wilson, Sarah Thyre, Betsy Sodaro',\n",
              " 'Danny Jacobs, Andy Richter, Kevin Michael Richardson, India de Beaufort, Jeff Bennett, Maurice LaMarche',\n",
              " 'Lexi Giovagnoli, Ashley Argota, John DeLuca, Diane Salinger, Martin Klebba, Tracey Gold, Dee Wallace, Pilot Paisley-Rose, Daniel Cooksley, Vincent Giovagnoli, Dillon Cavitt',\n",
              " 'unknown',\n",
              " 'Ashley Pereira, Alexandra Harris, Ted Welch, Sam Jones III, Sarah Butler, Andy Buckley, Graham Outerbridge, Michael James Thomas, John Schuck, Aaron Munoz',\n",
              " 'Jennylyn Mercado, Derek Ramsay, Yayo Aguila, Kean Cipriano, Nico Antonio, Enzo Marcos, Via Antonio, Hannah Ladesma',\n",
              " 'Anson Mount, Edwin Hodge, Michael Welch, Brooke Bloom, Amber Heard, Aaron Himelstein, Whitney Able, Luke Grimes, Melissa Price',\n",
              " \"Elle Fanning, Justice Smith, Luke Wilson, Keegan-Michael Key, Alexandra Shipp, Lamar Johnson, Virginia Gardner, Kelli O'Hara, Felix Mallard, Sofia Hasmik\",\n",
              " 'Milo Gibson, Sylvia Hoeks, Gbenga Akinnagbe, William Fichtner, Joseph Millson, Elliot Cowan, Perry Fitzpatrick, Warren Rusher',\n",
              " 'Hánssel Casillas, Loreto Peralta, Andrea Sutton, Luis De La Rosa, Alejandro Flores, Anajosé Aldrete, Daniel Haddad, Montserrat Marañón, Juan Carlos Viana Prieto, Hernán Del Riego',\n",
              " 'Johnny Massaro, Bianca Comparato, Regina Braga, Maria Laura Nogueira, Victor Mendes, Thiago Amaral, Rafael Primot, Eduardo Mossri, Rita Batata, Larissa Ferrara',\n",
              " \"Auli'i Cravalho, Justina Machado, Rhenzy Feliz, Fred Armisen, Carol Burnett, Judy Reyes, Taylor Richardson, C.S. Lee, Anthony Jacques\",\n",
              " 'Louis Koo, Sandra Ng Kwan Yue, Raymond Wong, Ronald Cheng, Yao Chen, Guo Tao, Heung Kam Lee, Chun Chau Ha, Miki Shum',\n",
              " 'Aenne Schwarz, Andreas Döhler, Hans Löw, Tilo Nest, Lina Wendel, Lisa Hagmeister',\n",
              " 'Sharon Stone, Tony Goldwyn, Liza Lapira, Ellen Burstyn, Jason Gibson, Famke Janssen, Caitlin Fitzgerald, Gilles Marini, Erica Ash, Tom Paolino',\n",
              " 'Sebastián Wainraich, Natalie Pérez, Santiago Korovsky',\n",
              " 'Scott Evans, Augustus Prew, Kate Walsh, Michelle Buteau, Zoë Chao, Patricia Clarkson, Colin Donnell, Christopher Gray',\n",
              " 'unknown',\n",
              " 'Emma Thompson, Brendan Gleeson, Daniel Brühl, Monique Chaumette, Joachim Bissmeier, Katrin Pollitt, Lars Rudolph, Uwe Preuss, Daniel Sträßer, Rainer Reiners, Mikael Persbrandt',\n",
              " 'Liza Soberano, Enrique Gil, Adrian Alandy, Jasmine Curtis-Smith, Sylvia Sanchez, Nonie Buencamino, Xia Vigor, Richard Manabat',\n",
              " 'Morgan Freeman, Monica Potter, Michael Wincott, Dylan Baker, Mika Boorem, Anton Yelchin, Kim Hawthorne, Jay O. Sanders, Billy Burke, Michael Moriarty, Penelope Ann Miller',\n",
              " 'Ben Diskin, Kate Higgins, Blackie Rose, Lindsay Torrance, Liza West, Tracy Pfau, Bill Lader, Meryl Leigh, Shaun Gerardo',\n",
              " 'Debi Derryberry, Ben Diskin, Kate Higgins, Lindsay Torrance, Larry Thomas, Bill Lader, Cindy Robinson',\n",
              " 'Teresa Gallagher, David Holt, Lizzie Waterworth',\n",
              " 'unknown',\n",
              " 'Daryle Lamont Jenkins, Richard Spencer',\n",
              " 'Joel Kinnaman, James Purefoy, Martha Higareda, Renée Elise Goldsberry, Dichen Lachman, Will Yun Lee, Kristin Lehman, Chris Conner, Ato Essandoh, Tamara Taylor, Byron Mann',\n",
              " 'Tatsuhisa Suzuki, Rina Satou, Ayaka Asai, Jouji Nakata, Kenji Yamauchi, Kanehira Yamamoto, Koji Ishii',\n",
              " 'Javicia Leslie, Jordan Calloway, Richard Lawson, Yvette Nicole Brown, Michelle Mitchenor, Amber Chardae Robinson, Jasmin Brown',\n",
              " 'Angely Gaviria, Sebastián Eslava, Luis Fernando Hoyos, Verónica Orozco, Lenard Vanderaa, Sofía Araujo, Dylan Fuentes, Valeria Emiliani, Dubán Prado, Carlos Quintero',\n",
              " 'Gerald Anderson, Arci Muñoz, Cacai Bautista, Ricci Chan, Tirso Cruz III, Carlo Aquino, Matt Evans, Ahron Villena, Victor Silayan, TJ Trinidad',\n",
              " 'unknown',\n",
              " 'Miriam Makeba, Hugh Masekela, Abdullah Ibrahim, Duma Ka Ndlovu, Sibongile Khumalo, Vusi Mahlasela, Thandi Modise, Sifiso Ntuli, Sibusiso Nxumalo, Dolly Rathebe, Lindiwe Zulu',\n",
              " 'María Pedraza, Pol Monen, Natalia Tena, Nacho Fresneda, Greta Fernández, Gustavo Salmerón, Celso Bugallo, Sonia Almarcha, Marta Belenguer',\n",
              " 'Rez Kempton, Sam Vincenti, Martin Delaney, Karen David, Laura Aikman, Goldy Notay, Meera Syal, Nina Wadia, Tanveer Ghani, Amrita Acharia',\n",
              " 'Vinod Khanna, Rishi Kapoor, Amitabh Bachchan, Neetu Singh, Parveen Babi, Shabana Azmi, Nirupa Roy, Pran',\n",
              " 'Ghadah Abdulrazeq, Wafaa Amer, Hassan El Raddad, Houria Farghally, Sabry Fawwaz',\n",
              " 'Michael Rainey Jr., Josh Charles, Brian White, Sharon Leal, Ashlee Brian, Corey Parker Robinson',\n",
              " 'unknown',\n",
              " 'Rachael Stirling',\n",
              " 'Jonathan Adams',\n",
              " 'Tyra Banks',\n",
              " 'William Powell',\n",
              " \"Dylan O'Brien, Michael Keaton, Sanaa Lathan, Shiva Negar, Taylor Kitsch, Trevor White, Navid Negahban, Scott Adkins, David Suchet, Sydney Rae White\",\n",
              " 'Kevin Spacey, Annette Bening, Thora Birch, Wes Bentley, Mena Suvari, Chris Cooper, Peter Gallagher, Allison Janney, Scott Bakula, Sam Robards',\n",
              " 'unknown',\n",
              " 'Felicity Huffman, Timothy Hutton, Elvis Nolasco, Regina King, Lili Taylor, Richard Cabral, Brent Anderson, Benito Martinez, Shane Jacobsen, W. Earl Brown, Caitlin Gerard, Penelope Ann Miller, Johnny Ortiz',\n",
              " 'Cuba Gooding Jr., Sarah Paulson, John Travolta, Courtney B. Vance, Sterling K. Brown, Kenneth Choi, Christian Clemenson, Bruce Greenwood, Nathan Lane, David Schwimmer, Chris Bauer, Jordana Brewster, Selma Blair, Connie Britton',\n",
              " 'Dave Hunt, Bo Gritz, Sara Weaver',\n",
              " 'unknown',\n",
              " 'Blair Brown',\n",
              " 'unknown',\n",
              " 'President Barack Obama, Michelle Obama, Julia Reichert, Steven Bognar',\n",
              " 'Donald Sutherland, Vincent Kartheiser, Oliver Dennis, Paul Braunstein, Paul Amato, Matt Baram, Dan Beirne, Joanne Boland, Jamie Jacqueline Burns, Alexander Crowther',\n",
              " 'Hayden Christensen, Adrien Brody, Jordana Brewster, Tory Kittles, Akon, Luis Da Silva Jr., Lance E. Nichols, Joe Chrest',\n",
              " \"Edward Norton, Edward Furlong, Beverly D'Angelo, Jennifer Lien, Ethan Suplee, Fairuza Balk, Avery Brooks, Elliott Gould, Stacy Keach, William Russ, Guy Torry\",\n",
              " 'Sasha Lane, Shia LaBeouf, Riley Keough, McCaul Lombardi, Arielle Holmes',\n",
              " \"Evan Peters, Sarah Paulson, Jessica Lange, Denis O'Hare, Kathy Bates, Angela Bassett, Lily Rabe, Frances Conroy, Cheyenne Jackson, Emma Roberts, Taissa Farmiga, Wes Bentley, Finn Wittrock, Chloë Sevigny, Zachary Quinto, Jamie Brewer, Naomi Grossman, Dylan McDermott, Gabourey Sidibe, Lady Gaga, Mare Winningham, Joseph Fiennes, Michael Chiklis, Matt Bomer, Lizzie Brocheré, Erika Ervin, Mat Fraser, Rose Siggins, Connie Britton, James Cromwell, Adina Porter, Jyoti Amge, Billie Lourde, Alison Pill, Billy Eichner, Leslie Grossman, Colton Haynes, Cuba Gooding Jr., André Holland, Danny Huston\",\n",
              " 'Ted Williams',\n",
              " 'unknown',\n",
              " 'Anna Friel, Peter Facinelli, Jake Robinson, Jim True-Frost, Treat Williams, Sadie Sink, Omar Ghazaoui, Nate Mooney, Elena Kampouris, Daniella Pineda, Adewale Akinnuoye-Agbaje',\n",
              " 'Madison Pettis, Lizze Broadway, Piper Curda, Natasha Behnam, Darren Barnet, Sara Rue, Zachary Gordon, Camaron Engels, Christian Valderrama, Zayne Emory',\n",
              " 'Christian Bale, Willem Dafoe, Jared Leto, Reese Witherspoon, Samantha Mathis, Chloë Sevigny, Justin Theroux, Josh Lucas, Matt Ross, Bill Sage, Cara Seymour, Guinevere Turner',\n",
              " 'Kerry Washington, Steven Pasquale, Jeremy Jordan, Eugene Lee',\n",
              " 'Tyler Alvarez, Griffin Gluck, Jimmy Tatro, Camille Hyde, Lou Wilson, Eduardo Franco, Jessica Juarez, Camille Ramsey, Calum Worthy, G. Hannelius, Karly Rothenberg',\n",
              " 'Jerry G. Angelo, Paul Logan, Joshua Santana, Carolina Castro, David Robbins, Michael King, Tom Crisp, Jennifer Marshall, Victoria Clare, Ryan Baumann, Isaac C. Singleton Jr., Said Faraj',\n",
              " 'Amit Tandon',\n",
              " 'Derek Ramsay, Vince Rillon, Allen Dizon, Felix Roco, Ruby Ruiz',\n",
              " 'Engin Günaydın, Demet Evgar, Erdal Özyagcilar, Su Kutlu, Devrim Yakut, Fatih Artman, Gülse Birsel, Sevket Çoruh, Derya Karadas, Devin Özgür Cinar',\n",
              " 'Vyjayantimala, Sunil Dutt, Prem Nath, Bipin Gupta, Gajanan Jagirdar, Zul Vellani, K.N. Singh, Randhir',\n",
              " 'Amy Winehouse, Lauren Gilbert',\n",
              " 'Amy Schumer',\n",
              " 'Amy Schumer',\n",
              " 'unknown',\n",
              " 'Erica Yohn, Nehemiah Persoff, Amy Green, Phillip Glasser, Christopher Plummer, John Finnegan, Will Ryan, Hal Smith, Dom DeLuise, Madeline Kahn',\n",
              " 'Philip Glasser, James Stewart, Erica Yohn, Cathy Cavadini, Nehemiah Persoff, Dom DeLuise, Amy Irving, John Cleese, Jon Lovitz',\n",
              " 'Thomas Dekker, Lacey Chabert, Jane Singer, Nehemiah Persoff, Susan Boyd, Robert Hays, Pat Musick, Dom DeLuise, Candi Milo, Jeff Bennett',\n",
              " 'Thomas Dekker, Dom DeLuise, Pat Musick, Nehemiah Persoff, Erica Yohn, Lacey Chabert, Elaine Bilstad, Rene Auberjonois, David Carradine, Sherman Howard, Tony Jay, Richard Karron, John Kassir, Ron Perlman',\n",
              " 'Mina Farid, Zahia Dehar, Benoît Magimel, Nuno Lopes, Clotilde Courau, Loubna Abidar, \"Riley\" Lakdhar Dridi, Henri-Noël Tabary',\n",
              " 'Nour El-Sherif, Magda El-Khatib, Yousra, Mohsen Mohiedine, Oussama Nadir, Layla Hamadah, Mohamed Mounir, Ragaa Hussein',\n",
              " 'Aubrey Plaza, Emile Hirsch, Jemaine Clement, Craig Robinson, Matt Berry, Zach Cherry, Maria Bamford, Michael D. Cohen, Sky Elobar, Jacob Wysocki, John Kerry, Bettina Devin, Gil Gex',\n",
              " 'Eyad Nassar, Ahmed Bedir, Fathy Abdel Wahab, Sawsan Badr, Maged El Kedwany, Tarek Abdel Aziz, Karima Mokhtar, Yousra El Lozy, Somaya El Khashab, Mohamed Emam',\n",
              " 'Sienna Miller, Alec Baldwin, Charles Grodin, Colleen Camp, John Buffalo Mailer, Nick Mathews, Steven Prescod, Oliver \"Power\" Grant, James Toback',\n",
              " 'Jason Wang, Mathilde Lin, Mo Tzu Yi, Xi Man-Ning, Lin Mei-hsiu, Kelly Huang, Joy Pan',\n",
              " 'Brenton Thwaites, David Strathairn, Hill Harper, Charlbi Dean, Yael Grobglas',\n",
              " 'Ben Kingsley, Hera Hilmar, Peter Serafinowicz',\n",
              " 'Antonio Sanint, Luis Eduardo Arango, María Cecilia Sánchez, Mariana Gómez, Julián Cerati, Aura Cristina Geithener, Biassini Segura, Lina Tejeiro, Julio César Herrera, Christian Villamil',\n",
              " 'Mohamed Ramadan, Randa El Behery, Nermin Maher, Inas El Naggar, Mayar El Gheity, Hassan Abdulfattah, Sabri Abdulmonem, Alaa Zenhom, Abdalah Mishrif, Mohamed Soliman',\n",
              " 'Ana Caetano, Vitória Falcão, Clarissa Müller, Bruce Gomlevsky, Thati Lopes, Caique Nogueira, Érika Mader, Victor Lamoglia, Gabriela Nunes, Bryan Ruffo, Hamilton Dias',\n",
              " 'Nayantara, Vaibhav Reddy, Pasupathy, Harshvardhan Rane, Thagubothu Ramesh, Vinay Varma, Dheer Charan Srivastav, D. Narsingh Rao',\n",
              " 'Swara Bhaskar, Sanjay Mishra, Vijay Kumar, Pankaj Tripathi, Mayur More, Ishtiyak Khan',\n",
              " 'Oona Chaplin, Natalia Tena, David Verdaguer, Geraldine Chaplin',\n",
              " 'Omoni Oboli, Sam Sarpong, Terri Oliver, Colin Paradine, Mark Cassius',\n",
              " 'Robert Clotworthy',\n",
              " 'Kristín Thóra Haraldsdóttir, Babetida Sadjo, Patrik Nökkvi Pétursson',\n",
              " 'Mohamed Henedi, Heba Nour, Dawood Hussain, Amr Abdel-Geleel, Mohammed El Sadaany, Mohamed Sherif Hassan',\n",
              " 'Aamir Khan, Salman Khan, Raveena Tandon, Karisma Kapoor, Paresh Rawal, Mehmood, Deven Verma, Jagdeep, Shakti Kapoor',\n",
              " 'Tabu, Ayushmann Khurrana, Radhika Apte, Anil Dhawan, Manav Vij, Zakir Hussain, Ashwini Kalsekar, Chhaya Kadam, Pawan Singh, Kabir Sajid',\n",
              " 'Vinoth Kishan, Arjun Das, Pooja Ramachandran, Kumar Natarajan, Misha Ghoshal, Arul Vincent, Chenthu Mohan, Pradeep Kalipurayath',\n",
              " 'Vinoth Kishan, Arjun Das, Pooja Ramachandran, Kumar Natarajan, Misha Ghoshal, Arul Vincent, Chenthu Mohan, Pradeep Kalipurayath',\n",
              " 'André Chiang',\n",
              " 'Nicolas Anelka',\n",
              " 'Sam Waterston, Tim Blake Nelson, Jessica Hecht, Kristen Stewart, Corey Stoll, K. Todd Freeman, Glenn Close, Gretchen Mol, Michael Kenneth Williams, Gloria Reuben, Mickey Sumner, Yul Vazquez, Hannah Marks, Ben Konigsberg',\n",
              " 'Antony Varghese, Sarath Kumar, Tito Wilson, Reshma Rajan, Vineeth Vishwam, Kichu Tellus, Bitto Davis, Ullas Jose Chemban, Merin Jose Pottackal, Binny Rinky Benjamin, Amrutha Anna Reji',\n",
              " 'Simon Lian, Teddy Chen, Sylvia Wang, Cosmos Lin, Ting Liu, Lucia Chen, Allie Ji, Sunnee Yang, Na Wei-hsun',\n",
              " 'Hiroshi Kamiya, Harumi Sakurai, Kana Hanazawa, Eri Kitamura, Ryohei Kimura, Takahiro Mizushima, Shun Takagi, Fuko Saito, Yui Makino, Hiro Masuda, Michael Rivas, Eiichiro Tokumoto, Yumiko Kobayashi, Hiroki Touchi, Miyuki Sawashiro, Chie Matsuura, Kana Asumi, Emiri Kato',\n",
              " 'Jennifer Lopez, Jim Caviezel, Sonia Braga, Terrence Howard, Jeremy Sisto, Monet Mazur, Victor Argo, Shirley Knight',\n",
              " 'Gerard Butler, Morgan Freeman, Nick Nolte, Danny Huston, Jada Pinkett Smith, Lance Reddick, Tim Blake Nelson, Piper Perabo',\n",
              " \"Lucy O'Connell, Ruth Negga, Brendan Mullins, Malachy McCourt, Vivian Drew, Anya O'Connor, Janet Moran, Brian Gleeson, Pat Kinevane\",\n",
              " \"Lucy O'Connell, Brendan Mullins, Ruth Negga, Lola Metcalfe, Jared Harris, Moe Dunford, Oscar Butler, Shona Hamill, Pat Kinevane, Janet Moran, Anya O'Connor\",\n",
              " 'Tom Hanks, Ewan McGregor, Ayelet Zurer, Stellan Skarsgård, Pierfrancesco Favino, Nikolaj Lie Kaas, Armin Mueller-Stahl, Thure Lindhardt, David Pasquesi, Cosimo Fusco',\n",
              " 'Adam Sandler, Jack Nicholson, Marisa Tomei, Luis Guzmán, Allen Covert, Lynne Thigpen, Kurt Fuller, Jonathan Loughran, Krista Allen, January Jones, Woody Harrelson, John Turturro, Kevin Nealon',\n",
              " 'Antti Pääkkönen, Heljä Heikkinen, Lynne Guaglione, Pasi Ruohonen, Rauno Ahonen',\n",
              " 'Amrit Maghera, Rajshri Deshpande, Pavleen Gujral, Anushka Manchanda, Sandhya Mridul, Sarah-Jane Dias, Tannishtha Chatterjee, Adil Hussain, Arjun Mathur, Anuj Choudhry',\n",
              " 'Allu Arjun, Pooja Hegde, Tabu, Sushanth, Nivetha Pethuraj, Jayaram, Murli Sharma',\n",
              " 'Subodh Bhave, Vaidehi Parshurami, Nandita Patkar, Sonali Kulkarni, Sumeet Raghvan, Prasad Oak, Anand Ingale, Suhas Palshikar',\n",
              " 'Thom Yorke',\n",
              " 'Emily Blunt, John Krasinski, Ian McKellen, Danny DeVito, Raven-Symoné, Patrick Warburton, Wallace Shawn, Gilbert Gottfried, Tara Strong, Harvey Fierstein, James Arnold Taylor, Kevin Grevioux, Sylvester Stallone, Lydia Rose Taylor',\n",
              " 'Li Yi Feng, Zhou Dongyu, Michael Douglas, Bingkun Cao, Ge Wang, Keanu Chi, Zhang Jungyi, Yijuan Li, Su Ke',\n",
              " 'Clare Durant, Iván Pellicer, Luis Bermejo, Liz Lobato, Chacha Huang, Ángela Molina',\n",
              " 'Anitta',\n",
              " 'Suriya, Samantha Ruth Prabhu, Vidyut Jammwal, Manoj Bajpayee, Soori',\n",
              " 'unknown',\n",
              " 'Gashmeer Mahajani, Heena Parmar',\n",
              " 'Anjelah Johnson-Reyes',\n",
              " 'Sanjay Mishra, Seema Pahwa, Rajat Kapoor, Taranjit Kaur, Maya Sarao, Chandrachoor Rai, Namit Das, Brijendra Kala, Alka Chawla, Manu Rishi Chadha',\n",
              " 'Kay Kay Menon, Tisca Chopra, Arjun Mathur, Paoli Dam, Vishakha Singh, Manish Chaudhary, Vishesh Tiwari, Harsh Chhaya',\n",
              " 'Bailee Madison, Robert Capron, Rachel Resheff, Mavrick Moreno, Whitney Goin, Gary Weeks, Juliana Harkavy, Kevin B. McGlynn, Jamison Stern, Mia Matthews, Bianca Matthews',\n",
              " 'Amybeth McNulty, Geraldine James, R.H. Thomson, Corrine Koslo, Dalila Bela, Lucas Jade Zumann, Aymeric Jett Montaz',\n",
              " 'Miyu Irino, Ai Kayano, Haruka Tomatsu, Takahiro Sakurai, Saori Hayami, Takayuki Kondo, Mitsuru Ogata, Mutsumi Tamura, Asami Seto, Aki Toyosaki, Kaoru Mizuhara, Yui Makino',\n",
              " \"Clive Owen, Amanda Seyfried, Colm Feore, Sonya Walger, Mark O'Brien, Joe Pingue, Iddo Goldberg, Sebastian Pigott, Rachel Roberts, Ethan Tavares\",\n",
              " 'Daniela Escobar, Marlon Moreno, Peter Ketnath, Barbara Scolaro',\n",
              " 'Katee Sackhoff, Justin Chatwin, Samuel Anderson, Blu Hunt, AJ Rivera, Jake Abel, Alex Ozerov, Alexander Eling, Lina Renna, Selma Blair',\n",
              " 'Seo Hyun-jin, Eric Moon, Jeon Hye-bin, Ye Ji-won, Kim Ji-seok, Lee Jae-yoon, Lee Han-wi, Kim Mee-kyeong, Oh Man-seok, Lee Pil-mo',\n",
              " 'Sunny Suwanmethanont, Kan Kantathavorn, Pattarasaya Kreuasuwansri, Chayanan Manomaisantiphap, Suwaphat Techaviriyawong, Prachakorn Piyasakulkaew, Nattarika Thampridanant, Michael Shaowanasai, Pattanachai Adirek',\n",
              " 'Paul Rudd, Evangeline Lilly, Michael Douglas, Michael Peña, Hannah John-Kamen, Laurence Fishburne, Michelle Pfeiffer, Walton Goggins, T.I., Judy Greer, Bobby Cannavale, David Dastmalchian, Abby Ryder Fortson, Randall Park',\n",
              " 'Mohamed Henedi, Bassem Samra, Dorra Zarrouk, Lotfy Labib',\n",
              " 'Sonal Kaushal, Rupa Bhimani, Julie Tejwani, Sabina Malik, Jigna Bharadhwaj, Rajesh Kawa',\n",
              " 'Anthony Jeselnik',\n",
              " 'Anthony Jeselnik',\n",
              " 'Sanjay Dutt, Arshad Warsi, Minissha Lamba, Raghuvir Yadav, Anusha Dhandekar, Gulshan Grover, Ravi Baswani',\n",
              " 'Randy Couture, Chuck Zito, Wil Traval, Celeste Thornton, Rafael De La Fuente, Alyona Chekhova, Natali Yura, Thom Rivera',\n",
              " 'unknown',\n",
              " 'Siddharth Koirala, Nauheed Cyrusi, Manisha Koirala, Rajpal Yadav, Yashpal Sharma, Vijay Raaz, Hiten Tejwani, Sudhir Pandey, Sanjay Mishra, Lalit Tiwari',\n",
              " 'unknown',\n",
              " 'unknown',\n",
              " 'Balthazar Murillo, Vanesa González, Alberto Ajaka, Sofía Gala Castiglione, Patricio Contreras, Matías Recalt, Osqui Guzmán, Roberto Vallejos, Diego Gallardo',\n",
              " 'Alberto Ammann, Eloy Azorín, Verónica Echegui, Lucía Jiménez, Claudia Traisac',\n",
              " 'Ajay Devgn, Nana Patekar, Bipasha Basu, Ayub Khan, Mohan Agashe, Mukesh Tiwari, Yashpal Sharma, Anoop Soni, Chetan Pandit',\n",
              " 'Zachary Levi',\n",
              " 'Warren Christie, Lloyd Owen, Ryan Robbins, Michael Kopsa, Andrew Airlie',\n",
              " \"Dan Stevens, Lucy Boynton, Michael Sheen, Mark Lewis Jones, Bill Milner, Kristine Froseth, Paul Higgins, Richard Elfyn, Elen Rhys, Ross O'Hennessy\",\n",
              " 'Angela Galuppo, Paul Giamatti, Susan Sarandon, Tony Hale, J.K. Simmons, Tony Robinow, Mark Camacho, Tod Fennell, Carlos Alazraqui, Kari Wahlgren',\n",
              " \"David Duchovny, Gethin Anthony, Grey Damon, Emma Dumont, Claire Holt, Michaela McManus, Brían F. O'Byrne, David Meunier, Ambyr Childers, Tara Lynne Barr, Whitney Rose Pynn, Jason Ralph\",\n",
              " 'Ola Rapace, Micha Lescot, Thierry Hancisse, Hélène Fillières, Ruth Vega Fernandez, Louis-Do de Lencquesaing, Eva Lallier, Emilie Gavois-Kahn',\n",
              " 'John Roohinian, Levon Sharafyan, Sevak Hakoyan, David Villada, Mike Ghader, Razmik Mansuryan, Lorita Meg, Amy Sanders, Alla Tumanian',\n",
              " 'Julián Arango, Antonio Sanint',\n",
              " 'Arashi',\n",
              " 'Tony Hale, Rosamund Pike, Jordan Fisher, Chelsea Kane, Adam Pally, Kari Wahlgren',\n",
              " 'Jeremy Renner, Heidi Klum, James Franco, John Cleese, Omar Sy, Michael Madsen, Laurie Holden, Anjelica Huston, Alec Baldwin, Donny Falsetti',\n",
              " \"Charlotte Le Bon, Guillaume Canet, Anne Le Ny, Patrick d'Assumçao, Damien Chapelle, Xavier Beauvois, Vincent Launay-Franceschini\",\n",
              " 'Ahmed Eid, Ayten Amer, Ahmed Fouad Selim, Mohsen Mansour',\n",
              " 'Ryan Devlin',\n",
              " 'Jade Olieberg, Tobias Kersloot, Lisa Smit, Frieda Barnhard, Hans Kesting, Rifka Lodeizen, Robin Boissevain, Jennifer Welts, Steef de Bot, Jip van den Dool, Janni Goslinga, Dennis Rudge, Ian Bok, Roos Dickmann, Minne Koole, Alexander Brouwer',\n",
              " 'Woo-hee Chun, Joo-hyuk Kim, Won-sang Park',\n",
              " 'Ari Eldjárn',\n",
              " 'Ari Shaffir',\n",
              " 'Ariana Grande',\n",
              " 'Surya Saputra, Cut Mini Theo, Tora Sudiro',\n",
              " 'Yudhveer Bakoliya, Ashok Banthia, Ravi Khanwilkar, Vijay Kashyap, Ila Arun, Sachin Khedekar, Rajeshwari Sachdev, Hemanth Mahaur',\n",
              " 'Robbie Amell, Rachael Taylor, Shaun Benson, Gray Powell, Jacob Neayem, Adam Butcher, Tantoo Cardinal',\n",
              " 'Jason Bateman, Portia de Rossi, Will Arnett, Michael Cera, Alia Shawkat, Tony Hale, David Cross, Jeffrey Tambor, Jessica Walter, Ron Howard',\n",
              " 'Stephen Amell, Katie Cassidy, David Ramsey, Willa Holland, Paul Blackthorne, Emily Bett Rickards, John Barrowman, Colton Haynes, Susanna Thompson, Anna Hopkins, Juliana Harkavy, Adrian Holmes, Kathleen Gati, Echo Kellum, Rick Gonzalez, Dominic Bogart, Manu Bennett',\n",
              " 'Arsenio Hall',\n",
              " 'Song Joong-ki, Jang Dong-gun, Kim Ji-won, Kim Ok-vin, Kim Eui-sung, Cho Seong-ha, Lee Do-gyeong, Park Hae-joon, Park Byung-eun',\n",
              " 'Russell Brand, Helen Mirren, Greta Gerwig, Jennifer Garner, Geraldine James, Luis Guzmán, Nick Nolte, Christina Jacquelyn Calph, Murphy Guyer, José Ramón Rosario',\n",
              " 'James McAvoy, Hugh Laurie, Bill Nighy, Jim Broadbent, Imelda Staunton, Ashley Jensen, Ramona Marquez, Marc Wootton, Laura Linney, Eva Longoria, Michael Palin, Joan Cusack, Deborah Findlay, Rich Fulcher, Sarah Smith, Clint Dyer, Kerry Shale, Stewart Lee, Bronagh Gallagher, Kevin Cecil, Alistair McGowan, David Menkin, Kris Pearn, Ian Ashpitel, Rich Hall, Seeta Indrani, Jane Horrocks, Peter Baynham, Emma Kennedy, Dominic West, Jerry Lambert, Julia Davis, Robbie Coltrane, Iain McKee, Sanjeev Bhaskar, Andy Serkis, Tamsin Greig, Rhys Darby, Seamus Malone, Cody Cameron, David Schneider, Kevin Eldon, Danny John-Jules, Brian Cummings',\n",
              " 'Ayushmann Khurrana, Nassar, Manoj Pahwa, Kumud Mishra, Isha Talwar, Sayani Gupta, Mohammed Zeeshan Ayyub, Subhrajyoti Barat, Sushil Pandey, Aakash Dabhade',\n",
              " 'Dian Sastrowardoyo, Oka Antara, Hannah Al Rashid, Nicholas Saputra, Deddy Mahendra Desta, Ayu Azhari',\n",
              " 'Perdita Weeks, Ben Feldman, Edwin Hodge, François Civil, Marion Lambert, Ali Marhyar, Cosme Castro, Hamid Djavadan, Théo Cholbi, Emy Lévy',\n",
              " 'Jack Nicholson, Helen Hunt, Greg Kinnear, Cuba Gooding Jr., Skeet Ulrich, Shirley Knight, Yeardley Smith, Lupe Ontiveros',\n",
              " 'Priyanka Bose, Vaibhav Raj Gupta, Santosh Juvekar, Anangsha Biswas, Ankit Raaj, Kashmira Irani, Kailash Waghmare, Vipin Sharma',\n",
              " 'Rana Ranbir, Neha Pawar, Kuljinder Sidhu, Rupinder Roopi, Sardar Sohi, Pardeep Sran, Seema Kaushal, Rajvir Boparai',\n",
              " 'Bruce Campbell, Lucy Lawless, Ray Santiago, Dana DeLorenzo, Jill Marie Jones',\n",
              " 'Yang Zi, Deng Lun, Luo Yunxi',\n",
              " 'Shalin Naik, Renee Lim, Sandro Demaio',\n",
              " 'Judy Greer, Erin Fitzgerald, Fred Tatasciore, Jeff Gill, Gregg Spiridellis, Evan Spiridellis',\n",
              " 'Shah Rukh Khan, Kareena Kapoor, Danny Denzongpa, Rahul Dev, Hrishitaa Bhatt, Gerson Da Cunha, Subhashini Ali, Umesh Mehra, Sooraj Balaji',\n",
              " 'Noah Britton, Ethan Finlan, Jack Hanke, New Michael Ingemi',\n",
              " 'Anders Baasmo, Kathrine Thorborg Johansen, Ida Husøy, Otto Jespersen, Sven Nordin, Trond Halbo, Alexandra Maria Lara, Wenche Myhre, Kostja Ullmann, Björn Kjellman',\n",
              " 'Joel Courtney, Calum Worthy, Andi Matichak, Katherine McNamara, Cam Gigandet, Mason McNulty, Terry Dale Parks, Vito Viscuso, Jennifer Pierce Mathus, Kevin Remington',\n",
              " 'Shawtane Bowen, Jonathan Braylock, Ray Cordova, Caroline Martin, Jerah Milligan, Monique Moses, Keisha Zollar, James III',\n",
              " 'Carlos Alcántara, Emilia Drago, Christian Meier, Andrés Salas, Anahí de Cárdenas, Rodrigo Sánchez Patiño, Denisse Dibós, Javier Delgiudice, Ana Cecilia Natteri',\n",
              " 'Vikram Prabhu, Subbaraju, Mahima Nambiar, Yogi Babu, Jagan',\n",
              " 'Jung-min Hwang, Do-won Kwak, Man-sik Jung, Woo-sung Jung',\n",
              " 'Parker Jackson Cartwright, Gabe York',\n",
              " 'Stefanie Scott, Theodore Pellerin, Percy Hynes White, Kate Burton, Saïd Taghmaoui, Kristin Booth, James Wotherspoon',\n",
              " 'Angela Chang, Ambrose Hui, Wallace Huo, Jill Hsu, Lin Wei Jun, Josie Leung, Mountain Kao, Liang Hsiu-shen',\n",
              " 'Mirei Kiritani, Mao Daichi, Wakana Sakai, Masako Chiba, Maiko, Ken Kaito, Dori Sakurada, Nicole Ishida, Mayuko Kawakita',\n",
              " 'unknown',\n",
              " 'Mama Sane, Amadou Mbow, Ibrahima Traore, Nicole Sougou, Amina Kane, Mariama Gassama, Coumba Dieng, Ibrahima Mbaye, Diankou Sembene',\n",
              " 'Samantha Mathis, Jason Beghe, Esai Morales, Patrick Fabian, Kim Rhodes, Richard T. Jones, D.B. Sweeney, Paul McCrane, John Rubinstein, Robert Picardo',\n",
              " 'Chantavit Dhanasevi, Preechaya Pongthananikorn, Chaleumpol Tikumpornteerawong, Thawat Pornrattanaprasert, Sananthachat Thanapatpisal, Pongkool Suebsung, Puttachat Pongsuchat, Gornpop Janjaroen, Yanee Tramoth, Pongsatorn Jongwilak',\n",
              " 'Eric Bauza, Lisa Norton, Carlos Díaz, Peter Oldring, Heather Bambrick, Rick Miller, Rob Tinkler, Kristina Nicoll',\n",
              " 'Yuki Kaji, Yui Ishikawa, Marina Inoue, Kisho Taniyama, Yu Shimamura, Yu Kobayashi, Shiori Mikami, Hiro Shimono, Ryota Osaka, Yoshimasa Hosoya, Tomohisa Hashizume, Saki Fujita, Hiroshi Kamiya, Daisuke Ono, Romi Park, Keiji Fujiwara, Kazuhiro Yamaji, Yusaku Yara',\n",
              " 'Harold Evans',\n",
              " 'Belén Soto, Denise Rosenthal, Constanza Piccoli, Fabiola Alarcón, Lucas Balmaceda, Agustín Silva, Camilo Carmona, Ingrid Cruz, Elvis Fuentes, Samuel Landea',\n",
              " 'Jennifer Jason Leigh, Keir Gilchrist, Michael Rapaport, Brigette Lundy-Paine, Amy Okuda, Jenna Boyd, Graham Rogers, Nik Dodani',\n",
              " 'unknown',\n",
              " 'Mark Samual Bonanno, Broden Kelly, Zachary Ruane, Ed Helms, Kristen Schaal, Weird Al Yankovic, Kia Stevens, Paul F. Tompkins, Tawny Newsome',\n",
              " 'Cristi Puiu, Clara Voda, Catrinel Dumitrescu, Luminita Gheorghiu, Valentin Popescu, Gheorghe Ifrim, Ileana Puiu, Valeria Seciu, Gelu Colceag',\n",
              " 'Roy Marsden',\n",
              " 'unknown',\n",
              " 'Mike Myers, Beyoncé Knowles-Carter, Seth Green, Michael York, Robert Wagner, Mindy Sterling, Verne Troyer, Michael Caine, Fred Savage',\n",
              " 'Mike Myers, Elizabeth Hurley, Michael York, Mimi Rogers, Robert Wagner, Seth Green, Fabiana Udenio, Mindy Sterling, Paul Dillon, Charles Napier, Will Ferrell',\n",
              " 'Mike Myers, Heather Graham, Michael York, Robert Wagner, Rob Lowe, Seth Green, Mindy Sterling, Verne Troyer, Elizabeth Hurley, Will Ferrell',\n",
              " 'Deepak Sampat, Ronjini Chakroborty, Vikrant Singh, Jhanvi Dwivedi, Ajay Mishra, Rohit Mittal, Sunny Banerjee, Ravidev Singh',\n",
              " 'Antonio Banderas, Dylan McDermott, Melanie Griffith, Birgitte Hjort Sørensen, Robert Forster, Christa Campbell, Tim McInnerny, Andy Nyman, David Ryall',\n",
              " 'Ady An, Vanness Wu, Ann Hsu, Chris Wu, Xiao Xiao Bin',\n",
              " 'Jessica Chastain, Colin Farrell, John Malkovich, Common, Geena Davis, Jess Weixler, Diana Silvers, Joan Chen, Ioan Gruffudd',\n",
              " 'Zach Tyler, Mae Whitman, Jack De Sena, Dee Bradley Baker, Dante Basco, Jessie Flower, Mako Iwamatsu',\n",
              " 'Maudy Koesnaedi, Chicco Jerikho, Tutie Kirana, Olga Lydia, Joko Anwar, Nathania Angela Widjaja, Sendy Febrina, Suhartini, Atie Krisnawati, Ratnawati Sutandar, Ninik Winarni Utomo',\n",
              " 'Scott Adkins, Craig Fairbrass, Thomas Turgoose, Nick Moran, Kierston Wareing, Mark Strange, Leo Gregory, Luke LaFontaine, Beau Fowler, Dan Styles',\n",
              " 'Robert Downey Jr., Josh Brolin, Mark Ruffalo, Tom Hiddleston, Chris Evans, Chris Hemsworth, Jeremy Renner, Chris Pratt, Elizabeth Olsen, Sebastian Stan, Benedict Cumberbatch, Paul Bettany, Cobie Smulders, Benedict Wong, Zoe Saldana, Karen Gillan, Vin Diesel, Dave Bautista, Bradley Cooper, Pom Klementieff, Scarlett Johansson, Benicio Del Toro, Anthony Mackie, Chadwick Boseman, Danai Gurira, Paul Rudd, Don Cheadle, Tom Holland',\n",
              " 'Avicii',\n",
              " 'Sam Gittins, Grant Masters, Neerja Naik, Abigail Cruttenden, Kris Saddler, Holly Weston, David Bradley',\n",
              " 'Jonathan Rhys Meyers, Francesca Eastwood, Malik Yoba, William Forsythe, James Austin Kerr, Jeremy Parr',\n",
              " 'James Davis',\n",
              " 'Hilary Swank, Josh Charles, Vivian Wu, Mark Ivanir, Ato Essandoh, Ray Panthaki, Talitha Eliana Bateman',\n",
              " 'Li Yongzhen, Zhuang Kebi, Zhang Shunyuan, Wang Wei, Wen Shaoping, Liu Shumin, Lu Huiting, Ye Chengcheng, Chen Yuqi',\n",
              " 'Kajal Aggarwal, Nithya Menon, Regina Cassandra, Eesha Rebba, Murli Sharma, Srinivas Avasarala, Priyadarshi Pullikonda',\n",
              " 'Sayani Gupta, Lin Laishram, Tenzing Dalha, Dolly Ahluwalia, Vinay Pathak, Lanuakam Ao, Rohan Joshi, Adil Hussain, Asenla Jamir',\n",
              " 'Deepak Subramanya, Apoorva Soma, Ramesh Bhat, Harsha H S, Karthik A, Goutham Shashidhar, Nagshree Karkone, Moksha Kushal, Vedashree Rao',\n",
              " 'unknown',\n",
              " 'Ama K. Abebrese, Asana Alhassan, Adjetey Anang, Akofa Edjeani Asiedu, Emmanuel Nii Adom Quaye, Peter Ritchie',\n",
              " 'Emraan Hashmi, Prachi Desai, Nargis Fakhri, Lara Dutta, Kunaal Roy Kapur, Gautam Gulati, Anikie Maguire, Kulbhushan Kharbanda, Rajesh Sharma, Shernaz Patel, Veerendra Saxena',\n",
              " 'Aziz Ansari',\n",
              " 'Aziz Ansari',\n",
              " 'Aziz Ansari',\n",
              " 'Hiroaki Hirata, Yuki Kaji, Asami Seto, Hiroki Touchi, Minoru Inaba, Ami Koshimizu, Toshiyuki Toyonaga, Shintaro Tanaka, Atsushi Goto, Toshiyuki Morikawa, Kaito Ishikawa, Satomi Sato, Yu Kitada, Mitsuki Saiga, Kazuya Nakai, Nozomi Kameda, Makoto Awane',\n",
              " 'Shadab Kamal, Shilpa Shukla, Rajesh Sharma, Dibyendu Bhattacharya, Vijay Kaushik, Anula Navlekar, Happy Ranjit, Raveena Singh, Padam Mishra',\n",
              " 'Kritika Sachdeva, Sasho, Sanghmitra Hitaishi, Indraneil Sengupta, Saurabh Dubey, Shubhangi Latkar, Sukhbir Kaur Lamba, Arav Chowdharry',\n",
              " \"Ajay Devgn, Emraan Hashmi, Vidyut Jamwal, Ileana D'Cruz, Esha Gupta, Sanjay Mishra, Sunny Leone, Sharad Kelkar, Priyanshu Chatterjee, Denzil Smith\",\n",
              " 'Tiger Shroff, Shraddha Kapoor, Sudheer Babu, Paras Arora, Sunil Grover, Sourav Chakraborty, Shaurya Bhardawaj',\n",
              " 'Prabhas, Rana Daggubati, Anushka Shetty, Tamannaah Bhatia, Sathyaraj, Ramya Krishnan, Nassar, Subbaraju',\n",
              " 'Prabhas, Rana Daggubati, Anushka Shetty, Tamannaah Bhatia, Sathyaraj, Ramya Krishnan, Nassar, Subbaraju',\n",
              " 'Prabhas, Rana Daggubati, Anushka Shetty, Tamannaah Bhatia, Sathyaraj, Ramya Krishnan, Nassar, Subbaraju',\n",
              " 'Prabhas, Rana Daggubati, Anushka Shetty, Tamannaah Bhatia, Sathyaraj, Nassar, Ramya Krishnan, Sudeep',\n",
              " 'Prabhas, Rana Daggubati, Anushka Shetty, Tamannaah Bhatia, Sathyaraj, Nassar, Ramya Krishnan, Sudeep',\n",
              " 'Prabhas, Rana Daggubati, Anushka Shetty, Tamannaah Bhatia, Sathyaraj, Nassar, Ramya Krishnan, Sudeep',\n",
              " 'Prabhas, Rana Daggubati, Anushka Shetty, Tamannaah Bhatia, Sathyaraj, Nassar, Ramya Krishnan, Sudeep',\n",
              " 'Saif Ali Khan, Chitrangada Singh, Radhika Apte, Rohan Vinod Mehra, Manish Chaudhary, Denzil Smith, Pawan Chopra, Deepak Gheewala, Utkarsh Mazumdar, Danish Hussain',\n",
              " 'Çetin Tekindor, Fikret Kuşkan, Hümeyra, Ege Tanman, Şerif Sezer, Yetkin Dikinciler, Binnur Kaya, Mahmut Gökgöz, Nergis Çorakçi, Bilge Sen',\n",
              " 'Müfit Can Saçıntı, Mert Turak, Ünal Yeter, Elif Nur Kerkük, Uğur Demirpehlivan, Ayşen Gruda, Erkan Can, Banu Manioğlu',\n",
              " 'Brad Pitt, Cate Blanchett, Gael García Bernal, Koji Yakusho, Adriana Barraza, Rinko Kikuchi, Said Tarchani, Boubker Ait El Caid, Elle Fanning, Nathan Gamble, Mohamed Akhzam',\n",
              " 'unknown',\n",
              " 'Benedetta Porcaroli, Alice Pagani, Riccardo Mandolini, Chabeli Sastre Gonzalez, Brando Pacitto, Lorenzo Zurzolo, Claudia Pandolfi, Galatea Ranzi',\n",
              " 'Warren Bullock, Jane Bullock',\n",
              " 'Nirmal Rishi, Sonam Bajwa, Sukhwinder Chahal, Tania, Gurnam Bhullar',\n",
              " 'Salamina Mosese, Kay Smith, Thembisa Mdoda, Dineo Ranaka, Sthembiso Khoza, Khaya Mthembu, Jonathan Boynton-Lee, Nicholas Nkuna, Donovan Pietersen, Pamela Nomvete',\n",
              " 'Volker Bruch, Liv Lisa Fries, Peter Kurth, Leonie Benesch, Matthias Brandt, Severija Janusauskaite, Fritzi Haberlandt, Ivan Shvedoff, Lars Eidinger, Anton von Lucke, Misel Maticevic',\n",
              " 'unknown',\n",
              " 'Ingrid Guimarães, Fábio Assunção, Alice Braga, Rosanne Mulholland, Caroline Abras, João Assunção',\n",
              " 'Sofia Wylie, Tiarnie Coupland, Trae Robin, Gemma Chua-Tran, Ashleigh Ross, Yasmin Honeychurch, Raj Labade, Christopher Kirby, Melissa Bonne, Kate Box',\n",
              " 'Daisuke Ono, Satoshi Hino, Kazuyuki Okitsu, Yuka Nukui, Kaori Maeda, Hikaru Akao, Junichi Suwabe, Keiji Fujiwara',\n",
              " 'Marcus Chang, Ivy Shao, Mini Tsai, Yorke Sun, Ray Yang, Chang Chieh',\n",
              " 'Ludovik, Jérôme Niel, Nicolas Berno, Johann Dionnet, Caroline Anglade, Joséphine Draï, Pauline Deshons, Marc Riso, Romain Lancry, Nicolas Lumbreras, Claire Tran, Pitcho Womba Konga',\n",
              " 'Dan Aaron Ramnarong, Pimchanok Leuwisetpaiboon, Chanintorn Jitpreeda, Chonlakarn Puangnoy, Achita Pramoj Na Ayudhya, Vichuda Pindum, Kriengsak Hrientong, Likit Sittiphun',\n",
              " 'unknown',\n",
              " 'Missy Peregrym, Jeff Roop, Eric Balfour, Nicholas Campbell',\n",
              " 'Joe Anderson, William Baldwin, Donald Sutherland, Alisha Bailey, Alastair Mackenzie, Dominic Mafham, Jessamine-Bliss Bell, Martin Hutson, Aaron McCusker, Cyril Nri',\n",
              " 'Black Deniro, Byron \"Squally\" Vinson, Dominic Costa, Nick Ferraro, Peter Ferriero, Jowharah Jones',\n",
              " 'Adrien Brody, Sam Neill, Robin McLeavy, Bruce Spence, Jenni Baird, Chloe Bayliss, Anna Lise Phillips, George Shevtsov',\n",
              " 'Anthony LaPaglia, Kim Coates, Enrico Colantoni, Paul Sorvino, Maxim Roy, Brett Donahue, Michelle Mylett, Claudia Ferri, Tony Nappo',\n",
              " 'unknown',\n",
              " 'Will Smith, Martin Lawrence, Téa Leoni, Tchéky Karyo, Theresa Randle, Joe Pantoliano, Emmanuel Xuereb, Michael Imperioli, Nestor Serrano, Julio Oscar Mechoso',\n",
              " 'Will Smith, Martin Lawrence, Jordi Mollà, Gabrielle Union, Peter Stormare, Theresa Randle, Joe Pantoliano, Michael Shannon, Jon Seda, Yul Vazquez',\n",
              " \"Nigel O'Neill, Susan Lynch, Józef Pawlowski, Stuart Graham, David Pearse, Brian Milligan, Anna Prochniak, Stella McCusker, Ian McElhinney, Lalor Roddy\",\n",
              " 'Jack Whitehall, Mathew Horne, Sarah Solemani, Michelle Gomez, Nikki Runeckles, Kae Alexander, Layton Williams, Ethan Lawrence, Charlie Wernham, Jack Binstead, Jack Bence, Harry Enfield',\n",
              " 'Chutimon Chuengcharoensukying, Chanon Santinatornkul, Teeradon Supapunpinyo, Eisaya Hosuwan, Thaneth Warakulnukroh, Sarinrat Thomas, Ego Mikitas, Pasin Kuansataporn, Sahajak Boonthanakit, Kanjana Vinaipanid',\n",
              " 'Johnny Knoxville, Jackson Nicoll, Greg Harris, Georgina Cates, Kamber Hejlik, Jill Killington, Madison Davis, George Faughnan, Spike Jonze, Catherine Keener',\n",
              " 'Kim Sang-jung, Ma Dong-seok, Park Hae-Jin, Cho Dong-hyuk, Kang Ye-won, Kang Shin-il, Ji-a Min, Hwang Seung-eon',\n",
              " 'Joong-hoon Park, Jin-mo Joo, Yang Ik-june, Moo-Yul Kim, Ji Soo, Young-chang Song, Hong-Fa Kim, Tae-ho Ryu, Yu-seok Kim, Soo-young Park, Yoon-hee Lee',\n",
              " 'Jack Cutmore-Scott, Lili Simmons, Brandon Scott, Chase Williamson, Noureen DeWulf, Seth Morris, Christine Donlon, Trent Haaga, Kahyun Kim, Cynthia Rose Hall, Zedrick Restauro, Eric Podnar',\n",
              " 'Jonathan Park, Awkwafina, David Lee, Richard Lee',\n",
              " 'Kheiron, Catherine Deneuve, André Dussollier, Louison Blivet, Adil Dehbi, Hakou Benosmane, Youssouff Wague, Mahia Zrouki, Joseph Jovanovic',\n",
              " 'Additi Gupta, Sanjeeda Sheikh, Kiran Karmarkar, Abhinav Shukla, Tanushree Kaushal, Mona Ambegaonkar',\n",
              " 'Amruta Subhash, Rajesh More, Devika Daftardar, Renuka Daftardar, Uttara Baokar, Jyoti Subhash, Milind Shinde, Sachin Mondkar',\n",
              " 'Amitabh Bachchan, Taapsee Pannu, Amrita Singh, Tony Luke, Manav Kaul',\n",
              " 'Kevin Makely, Bruce Dern, Mira Sorvino, Trace Adkins, Wes Studi, Tony Todd, Jeff Fahey, James Russo, Amanda Wyss',\n",
              " 'unknown',\n",
              " 'Nobunaga Shimazaki, Takayuki Sugo, Bin Shimada, Rikiya Koyama, Takuya Eguchi, Banjo Ginga, Takehito Koyasu, Kenjiro Tsuda, Chafurin, Issei Futamata, Mugihito, Yoshihisa Kawahara, Sora Amamiya, Toru Furuya',\n",
              " 'unknown',\n",
              " 'Jonah Wineberg, Deven Christian Mack, Margarita Valderrama, Ticoon Kim, Jason Deline, Will Bowes',\n",
              " 'Meghna Erande Joshi, Parminder Ghumman',\n",
              " 'Alejandro Goic, Trinidad González, Ingrid Isensee, Mario Horton, Manuela Oyarzún, Fernanda Urrejola, Catalina Saavedra, Pablo Schwarz, Aline Küppenheim, Marcial Tagle, Víctor Quezada, Alfredo Castro, Roberto Farías, Hugo Medina, Daniel Candia, María Paz Grandjean, Alejandro Sieveking, Nicolás Durán, Sergio Hernández, Willy Semler, Erto Pantoja',\n",
              " 'Kevin Bacon, Bob Hoskins, Bridget Fonda, Jim Cummings, Phil Collins, Jack Angel, Danny Mann, Robbie Rist',\n",
              " 'Maurice LaMarche, Jodi Benson, Lacey Chabert, David Carradine, Mark Hamill, Charles Fleischer, Peter MacNicol, Rob Paulsen, Nicolette Little, Melanie Stone',\n",
              " 'Maurice LaMarche, Sean Astin, Keith Carradine, Charles Fleischer, Jodi Benson, Bill Fagerbakke, Charity James, Kathy Najimy, David Paymer, Jean Smart',\n",
              " 'Osman Khalid Butt, Ainy Jaffri, Sadaf Kanwal, Khurram Patras, Ali Sheikh, Zeeshan Ali, Durdana Butt, Shafqat Cheema, Adeel Hashmi, Javed Sheikh',\n",
              " 'Hande Doğandemir, Fatih Artman, Devrim Yakut, Cengiz Bozkurt, Erdal Tosun, Berat Yenilmez, Ercan Yazgan, Sadi Celil Cengiz, Cihan Ercan, Burcu Biricik, Tarık Ünlüoğlu, Gürkan Uygun, Gökçe Bahadır',\n",
              " 'Chigul, Patrick Diabuah, Adetomiwa Edun, Uche Jumbo, Saidi Balogun, Ali Nuhu, Bimbo Manuel, Akah Nnani, Damilola Adegbite, Dorcas Shola Fapson',\n",
              " 'Hannah Marks, Liana Liberato, Dylan Sprouse, Luke Spencer Roberts, Jessica Hecht, Addison Riecke, Meagan Kimberly Smith, Haley Ramm',\n",
              " 'Zoe Lister-Jones, Adam Pally, Fred Armisen, Susie Essman, Retta, Hannah Simone, Brooklyn Decker, Angelique Cabral, Colin Hanks, Ravi V. Patel, Jamie Chung, Erinn Hayes, Gillian Zinser, Jesse Williams',\n",
              " 'Kyle Gallner, Adam Nee, Matthew Gray Gubler, Melissa Benoist, Hannibal Buress, Eric Christian Olsen, Stephen Lang, Daniel Edward Mora, Johnny Pemberton, Cooper Huckabee, Lee Garlington, Beth Grant, Creed Bratton',\n",
              " 'Uttam Kumar, Sulakshana Pandit, Utpal Dutt, Bindu, Amjad Khan, Helen, Indrani Mukherjee, Padma Khanna, Iftekhar',\n",
              " 'Puri Hiranyapluek, Paradorn Srichaphan, Chatchai Plengpanich',\n",
              " 'Riteish Deshmukh, Pulkit Samrat, Kumud Mishra, Chandan Roy Sanyal, Arya Babbar, Shivkumar Subramaniam, Tom Alter, Jacqueline Fernandez',\n",
              " 'Sean Jindachot, Nutt Devahastin Na Ayudhya, Patharamanop Isariy, Manatsanun Phanlerdwongsakul, Anchasa Mongkhonsama, Keerati Mahapreukpong',\n",
              " 'Vayu Kessuvit, Ekapol Deebunmee, Nuttapong Boonyuen, Thanadol Auepongs, Martin Sidel, Nichaphat Chatchaipholrat, Narupornkamol Chaisang, Jidapa Siribunchawan, Hortnarong Teng, Everest Moe, Le Trung Hieu',\n",
              " \"Chalad Na Songkhla, Sahatchai 'Stop' Chumrum, Pornchai Hongrattanaporn, Kongsak Kaenmeepol, Samart Saengsa-Ngiam, Suthpong Kanithanon\",\n",
              " 'Wanida Termthanaporn, Isariya Patharamanop, Nontanun Anchuleepradit, Chonnikan Netjui, Attharut Krongrasri, Sumet Ong-Art, Penpak Sirikul, Suppakorn Chaiyo, Thawat Pornrattanaprasert, M.L. Kwantip Devakula, Yingsak Chonglertjetsadawong, Apichet Atirattana, Rika Ishige',\n",
              " 'Nida Patcharaveerapong, Nicole Theriault, Nattapol Diloknawarit, Tosatid Darnkhuntod, Narupornkamol Chaisang, Pavadee Komchokpaisan, Kawin Manonukul, Ponlawit Ketprapakorn, Rudklao Amratisha, Paramej Noiam, Tachakorn Boonlupyanun, Teera Pratumtree, Nawarat Techarathanaprasert, Naphon Phromsuwan',\n",
              " 'Apinya Sakuljaroensuk, Kanokchat Munyadon, Gyeon Seo, Nalin Hohler, Thongpoom Siripipat, Chinawut Indracusin, Preeyada Sitthachai, Akarin Akaranitimaytharatt, Adul Charoenrasameekiat, Kanlaya Lertkasemsup',\n",
              " 'Chanon Santinatornkul, Sutatta Udomsilp, Morakot Liu, Varot Makaduangkeo, Sutthatip Wutichaipradit, Cholsawas Tiewwanichkul, Surapol Poonpiriya, Hattaya Wongkrachang',\n",
              " 'Theeradej Wongpuapan, Sirin Horwang, Ungsumalynn Sirapatsakmetha, Panissara Phimpru, Taksaorn Paksukcharern, Charlie Trairat, Kazuki Yano',\n",
              " 'Johan Cruyff, Andrés Iniesta, Gary Lineker, Xavi Hernández, Lionel Messi, Pau Gasol',\n",
              " 'Naseeruddin Shah, Arjun Mathur, Vijay Raaz, Tannishtha Chatterjee, Violante Placido, Benjamin Gilani',\n",
              " 'Hisham Fageeh, Fatima Al-Banawi, Sami Hifny, Khairia Nazmi, Abdulmajeed Al-Ruhaidi',\n",
              " 'Laurence Rupp, Jeanne Goursaud, David Schütter, Ronald Zehrfeld, Nicki von Tempelhoff, Bernhard Schütz, Eva Verena Müller, Sophie Rois, Gaetano Aronica, Nikolai Kinski, Jeremy Miliker',\n",
              " 'unknown',\n",
              " 'Kelly Sheridan, Kazumi Evans, Claire Corlett, Ashlyn Drummond, Alex Kelly, Tabitha St. Germain, Shannon Chan-Kent',\n",
              " 'Erica Lindbeck, Shannon Chan-Kent, Kazumi Evans, Claire Corlett, Ciana Swales, Adrian Petriw, Maryke Hendrikse, Paul Dobson, Garry Chalk',\n",
              " 'America Young, Kirsten Day, Cassandra Morris, Cassidy Naber, Ritesh Rajan',\n",
              " 'America Young, Kirsten Day, Cassandra Morris, Cassidy Naber, Emma Galvin, Stephanie Sheh, Desirae Whitfield, Cristina Milizia, Lisa Fuson, Greg Chun, Ritesh Rajan, Eamon Brennan',\n",
              " 'Kelly Sheridan, Kathleen Barr, Tabitha St. Germain, Peter Mel, Nakia Burrise, Maryke Hendrikse, Emma Pierson, Ciara Janson, Garry Chalk, Nicole Oliver',\n",
              " 'Kelly Sheridan, Britt Irvin, Michael Kopsa, Rebecca Husain, Kira Tozer',\n",
              " 'Kelly Sheridan, Chiara Zanni, Bethany Brown, Devyn Dalton, Michael Dobson, Brynna Drummond, Rachel Harrison, Alessandro Juliani, Peter Kelamis, Omari Newton, Ingrid Nilson, Nicole Oliver, Shaun Smyth, Kira Tozer',\n",
              " 'Kate Higgins, Sean Hankinson, Haviland Stillwell, Paula Rhodes, Charlie Bodin, Laura Gerow, Katie Crown, Nakia Burrise, Tara Sands, Ashlyn Selich',\n",
              " 'America Young, Erica Lindbeck, Ritesh Rajan, Dave Fennoy, Stephanie Sheh, Cristina Milizia, Desirae Whitfield, Emma Galvin, Angelo Restaino, Eamon Brennan, Ogie Banks',\n",
              " 'Erica Lindbeck, Robbie Daymond, Kimberly Woods, Sarah Anne Williams, Michael Chandler, Dwight Schultz, Ben Bledsoe, Jonathan Lipow, Lucien Dodge, Laura Post',\n",
              " 'Diana Kaarina, Adrian Petriw, Britt Irvin, Cassandra Morris, Kate Higgins, Silvio Pollio, Brittney Wilson, Alexandra Carter, Nicole Oliver, Barbara Tyson',\n",
              " 'Diana Kaarina, Morwenna Banks, Nicole Oliver, Brittney Wilson, Ali Liebert, Shannon Chan-Kent, Madeleine Peters, Cathy Weseluck, Ellen Kennedy, Vincent Tong, Derek Waters, Brian Drummond, Tabitha St. Germain, Bethany Brown, Miranda Nolte, Kelly Metzger, Kazumi Evans, Anna Cummer',\n",
              " 'Erica Lindbeck, Stephanie Sheh, Jenny Pellicer, Alyssya Swales, Elizabeth Irving, Brian Dobson, Rebecca Husain, Cathy Weseluck',\n",
              " 'Kelly Sheridan, Jennifer Waris, Ashleigh Ball, Tiffany Kathryn, Ellie King, Peter Kelamis, Jonathan Holmes, Allison Warnyca, Christopher Gaze, Lauren Lavoie',\n",
              " 'Erica Lindbeck, Sienna Bohn, Shannon Chan-Kent, Michael Dobson, Alyssya Swales, Rebekah Asselstine, Brad Swaile, Sam Vincent, Ingrid Nilson, Nesta Cooper',\n",
              " 'Barbra Streisand',\n",
              " 'Kathryn Bernardo, Daniel Padilla, Joshua Garcia, Aiko Melendez, Joey Marquez, Ricky Davao, Maria Isabel Lopez, Ana Capri, Cris Villanueva',\n",
              " 'Emraan Hashmi, Viineet Kumar, Sobhita Dhulipala, Jaideep Ahlawat, Kirti Kulhari, Sohum Shah, Rajit Kapoor, Danish Hussain',\n",
              " 'Ayushmann Khurrana, Kriti Sanon, Rajkummar Rao, Pankaj Tripathi, Seema Pahwa, Rohit Chaudhury, Swati Semwal',\n",
              " 'Hailee Steinfeld, Jessica Alba, Samuel L. Jackson, Sophie Turner, Dove Cameron, Toby Sebastian, Gabriel Basso, Thomas Mann, Rachael Harris, Dan Fogler, Steve-O, Rob Huebel, Finesse Mitchell, Jaime King',\n",
              " \"Ranbir Kapoor, Priyanka Chopra, Ileana D'Cruz, Saurabh Shukla, Ashish Vidyarthi, Rupa Ganguly, Bholaraj Sapkota, Jishu Sengupta, Haradhan Bannerjee\",\n",
              " 'Fabrizio Copano, Rodrigo Salinas, Pedro Ruminot, Sergio Freire, Juanita Ringeling, Alessandra Denegri, Luis Dubó, Felipe Avello',\n",
              " 'Devon Terrell, Anya Taylor-Joy, Jason Mitchell, Ashley Judd, Jenna Elfman, Ellar Coltrane, Avi Nash, Linus Roache, John Benjamin Hickey',\n",
              " 'Twinkle Khanna, Bobby Deol, Danny Denzongpa, Raj Babbar, Ashwin Kaushal, Mukesh Khanna, Harish Patel',\n",
              " 'Trey Parker, Matt Stone, Dian Bachar, Yasmine Bleeth, Jenny McCarthy, Ernest Borgnine, Robert Vaughn, Trevor Einhorn',\n",
              " 'Michael Douglas, Sharon Stone, George Dzundza, Jeanne Tripplehorn, Denis Arndt, Leilani Sarelle, Bruce A. Young, Chelcie Ross, Dorothy Malone, Wayne Knight, Daniel von Bargen, Stephen Tobolowsky',\n",
              " 'unknown',\n",
              " 'Rosa Romay, Alberto Escobal, Jaime de Diego, Josu Cubero',\n",
              " 'Vera Farmiga, Freddie Highmore, Max Thieriot, Olivia Cooke, Nicola Peltz, Nestor Carbonell, Mike Vogel, Keegan Connor Tracy',\n",
              " 'Deep Joshi, Jasmine Kaur, Mohit Bhaskar, Vijay S. Kumar, Prince Kanwaljit Singh, Tarlochan Singh, Harsh Sethi',\n",
              " 'Steve Young',\n",
              " 'Kevin Conroy, Mark Hamill, Tara Strong, Ray Wise, John DiMaggio, Robin Atkin Downes, Brian George, JP Karliak, Andrew Kishino, Nolan North',\n",
              " 'Lisa Teige, Fabian Svegaard Tapia, Vebjørn Enger, Charlott Madeleine Utzig, Stig R. Amdam, Karen-Lise Mynster',\n",
              " 'Josh Duhamel, Dean Winters, Aubrey Dollar, Edward Fordham Jr., Kal Penn, Janet McTeer, Liza Lapira, Damon Herriman, Meredith Eaton',\n",
              " 'Louis Mandylor, Daniel Southworth, Richard Alan Reid, Oleg Taktarov, Natassia Malthe, Jason Earles, Dominique Swain, Michael Paré',\n",
              " 'unknown',\n",
              " 'unknown',\n",
              " 'Rajesh Khanna, A.K. Hangal, Durga Khote, Jaya Bhaduri, Kali Bannerjee, Usha Kiran, Asrani, Paintal',\n",
              " 'Camilla Jo-Ann Daries, Wafeeq Narimab, Anna Louw, Steven Afrikaner, Ashwyn Mberi, Robert Hara Gaeb',\n",
              " 'Luis Gerardo Méndez, Brontis Jodorowsky, Joonas Saartamo, Laura Birn, Ilkka Koivula, Ville Virtanen, Raúl Villegas, Miriam Balderas, Ximena Guzmán',\n",
              " 'Farooq Shaikh, Smita Patil, Naseeruddin Shah, Bharat Kapoor, Supriya Pathak, Rita Rani Kaul, Malika',\n",
              " 'Amitabh Bachchan, Hema Malini, Raveena Tandon, Sonu Sood, Sonal Chauhan, Charmy Kaur, Prakash Raj, Makrand Deshpande, Subbaraju, Shawar Ali, Rajeev Verma',\n",
              " 'Andy Whitfield',\n",
              " 'Matthew Espinosa, Sarah Jeffery, Allison Paige, Tava Smiley, Caitlin Keats, LaMonica Garrett, Mahaley Patel, Mason McCulley, Liana Ramirez',\n",
              " 'Jason Tsou, Queen Wei, River Huang, Fabien Yang, Tang Chen-Kang, Figaro Tseng',\n",
              " 'Bobby Dou, Peijia Huang, Nylon Chen, Vivi Lee, Edison Wang, Serena Fang',\n",
              " 'Nataliya Medvedeva, Polina Kutepova',\n",
              " 'unknown',\n",
              " 'Rowan Atkinson, Peter MacNicol, John Mills, Pamela Reed, Harris Yulin, Burt Reynolds, Larry Drake, Danny Goldring, Johnny Galecki, Chris Ellis, Andrew Lawrence, Peter Egan, Peter Capaldi, June Brown, Peter James, Sandra Oh',\n",
              " 'unknown',\n",
              " 'Steve Leonard, Francis Manapul, Kathryn Denning, Scott Edwards, Mike Paixao',\n",
              " 'Chikahiro Kobayashi, Sayaka Senbongi, Yuki Ono, Atsumi Tanezaki, Junya Enoki, Yuma Uchida, Takeo Otsuka, Naoto Kobayashi, Yoshiyuki Shimozuma, Nobuhiko Okamoto, Fukushi Ochiai, Takaaki Torashima, Sayumi Watabe, Genki Muro, Yuichi Iguchi, Yuko Hara, Ikuto Kanemasa, Ouchi Akane, Hibiku Yamamura, Sakura Ando, Akio Otsuka, Mitsuaki Hoshino, Kenyu Horiuchi',\n",
              " 'Idris Elba, Abraham Attah, Kurt Egyiawan, Jude Akuwudike, Emmanuel \"King Kong\" Nii Adom Quaye, Ama K. Abebrese, Kobina Amissah Sam, Francis Weddey, Richard Pepple',\n",
              " 'Ashleigh Ball, Lili Beaudoin, Charles Demers, Rebecca Husain, Erin Mathews',\n",
              " 'Ashleigh Ball, Lili Beaudoin, Charles Demers, Rebecca Husain, Erin Mathews',\n",
              " 'Kyung-ho Jung, So-yeon Kim, Hyun-min Yoon, Goo Jin, Hyun-joo Gong, Si-eon Lee, Yeong-gyu Park, Seok-Hwan An, Myung-Ryul Nam, Eun-ji Jo',\n",
              " 'Khalil Everage, Anthony Anderson, Uzo Aduba, Emayatzy Corinealdi, Paul Walter Hauser, Dave East, Seandrea Sledge, Ashley Jackson, Megan Sousa',\n",
              " 'Olga Breeskin, Lyn May, Rossy Mendoza, Wanda Seux, Princesa Yamal',\n",
              " 'Kristin Kreuk, Jay Ryan, Max Brown, Austin Basis, Nina Lisandrello, Brian White, Sendhil Ramamurthy',\n",
              " 'Vice Ganda, Coco Martin, James Reid, Nadine Lustre, Karla Estrada, Ryan Bang, Badjie Mortiz, Alonzo Muhlach, Marco Masa, Lassy Marquez, MC Calaquian',\n",
              " 'Methinee Kingpayome, Son Songpaisarn, Yingying Sarucha, Pim Pimjira Jaroenlak, Jespipat Tilapornputt, Groupz Chutharut Anusin, Aon Korakot Tunkaew, Raviyanun Takerd, Nat Thephussadin Na Ayutthaya, Bam Pakakanya Charoenyos, Eye Warapairin Laphatsanitirot, Pemy Peramin Thabkaew, Darin Hansen, Hongyok Pornphan Rerkatakarn, Rattanapond Klinkulabhiran, Oliver Pupart, Organ Wacharapolmek, Patiparn Pataweekarn, Yuthana Puengklarng, Ak Akarat, Point Cholawit Meetongcom, Copter Phumin, Koii Korakod, Mila Thanapa, Mild Anis Suwit',\n",
              " 'Mike Judge, Bruce Willis, Demi Moore, Cloris Leachman, Robert Stack, Jacqueline Barba, Pamela Blair, Eric Bogosian, Kristofor Brown, Tony Darling, David Letterman',\n",
              " 'Faizon Love, Vanessa Bell Calloway, Wayne Collins, Jonell Green, Marques Houston, Tone-Loc, Myra J., Nell Carter',\n",
              " 'Herjunot Ali, Winky Wiryawan, Erly Ashy, Laura Basuki, Tarzan, Aida Nurmala, Otto Djauhari, Indra Herlambang',\n",
              " 'Lee Min-ki, Jung So-min, Esom, Kim Ga-eun, Park Byung-eun, Kim Min-seok, Moon Hee-kyung, Kim Byung-ok, Kim Sun-young',\n",
              " 'Hassan El Raddad, Emy Samir Ghanim, Bayyumi Fuad, Taher Abu Lela, Nesreen Ameen, Mourad Makram, Diaa El-Merghani, Juditta Salem-Wolff',\n",
              " 'Michelle Obama',\n",
              " 'unknown',\n",
              " 'Anne Hathaway, James McAvoy, Julie Walters, James Cromwell, Maggie Smith, Laurence Fox, Ian Richardson',\n",
              " 'Adam Sandler, Keri Russell, Guy Pearce, Russell Brand, Richard Griffiths, Jonathan Pryce, Courteney Cox, Lucy Lawless, Teresa Palmer, Aisha Tyler, Laura Ann Kesling, Jackie Sandler, Lorna Scott, Dana Min Goodman, Andrew Collins, Jonathan Loughran, Jonathan Morgan Heit, Nick Swardson, Tim Herlihy, Billy Tyler, Johntae Lipscomb, Mikey Post, Sebastian Saraceno, Bill Romanowski, Sadie Sandler, Carmen Electra, Allen Covert, Kathryn Joosten, Annalise Basso, Blake Clark, Julia Lea Wolov, Sarah G. Buxton',\n",
              " 'Jerry Seinfeld, Renée Zellweger, Matthew Broderick, Patrick Warburton, John Goodman, Chris Rock, Kathy Bates, Barry Levinson, Larry King, Ray Liotta',\n",
              " 'Michaela Coel, Arinzé Kene, George MacKay, Ashley Thomas, Joe Dempsie, Ronke Adekoluejo, Luke Norris, Mya Lewis',\n",
              " 'Damilola Adegbite, O.C. Ukeje, Beverly Naya, Meg Otanwa, Anee Icha, Patrick Diabuah, Tunbosun Aiyedehin, Patrick Doyle',\n",
              " 'Zoey Deutch, Halston Sage, Erica Tremblay, Logan Miller, Cynthy Wu, Kian Lawley, Jennifer Beals, Medalion Rahimi, Diego Boneta, Elena Kampouris, Liv Hewson, G. Hannelius, Nicholas Lea, Claire Margaret Corlett, Roan Curtis',\n",
              " 'Kate Bosworth, Thomas Jane, Jacob Tremblay, Annabeth Gish, Dash Mihok, Jay Karnes, Lance E. Nichols',\n",
              " 'Leonardo DiCaprio',\n",
              " 'Maged El Kedwany, Hana Shiha, Ahmed Dawood, Lana Mushtak, Hany El Metennawy',\n",
              " 'unknown',\n",
              " 'unknown',\n",
              " 'Todrick Hall',\n",
              " 'unknown',\n",
              " 'Pok Piyatida Woramusik, Willie Ruengrit McIntosh, Charebelle Lanlalin, Tono Pakin Kumwilaisuk, Point Cholawit Meetongcom, Cee Hathaiphat, Pitta Na Pattalung, Ae Sasikarn Aphichartworasilp, Louis Pongphan Petchbuntoon, Sawitree Samipak',\n",
              " 'Erdal Beşikçioğlu, Fatih Artman, İnanç Konukçu, Seda Bakan, Berkan Şal, Ayça Eren, Berke Üzrek, Canan Ergüder, Ege Aydan, Eray Eserol, Hakan Hatipoğlu',\n",
              " 'Sunny Leone, Rajneesh Duggal, Rajeev Verma, Daniel Weber, Yuvraj Siddharth Singh, Ziesha Nancy',\n",
              " 'Tony McCoy',\n",
              " 'Kevin Clash, Whoopi Goldberg',\n",
              " 'Gabrielle Union, Lisa Vidal, Margaret Avery, Omari Hardwick, Latarsha Rose, Aaron D. Spears, B.J. Britt, Raven Goodwin, Richard Roundtree',\n",
              " 'Omoni Oboli, Majid Michel, Ayo Makun, Uru Eke, Ime Bishop Umoh, Lepacious Bose, Seun Akindele, Sylvia Oluchy, Chika Chukwu',\n",
              " 'Mark Schneider, Frank Samson',\n",
              " 'Ezzat El Alaily, Mireille Maalouf, Joseph Bou Nassar, Elie Adabachi, Philippe Akiki, Ahmed Al Zein',\n",
              " 'Stef Aerts, Tom Vermeir, Charlotte Vandermeersch, Hélène Devos, Boris Van Severen, Sara De Bosschere, Dominique Van Malder, Sam Louwyck, Stefaan De Winter, Silvanus Saow',\n",
              " 'Kura Forrester, William Davis, Tina Cook, Hariata Moriarty',\n",
              " 'Brec Bassinger, Coy Stewart, Jackie Radinsky, Buddy Handleson, Lilimar, Haley Tju, Dorien Wilson, Rio Mangini, Annie Tedesco',\n",
              " 'Gonzalo Delgado, Olivia Molinaro Eijo, Jeannette Sauksteliskis, Tomás Wahrmann, María Noel Gutiérrez, Marcelo Fernández Borsari, Alejandro Castiglioni, Cecilia Caballero Jeske, Martín Reyes, Carolina Penadés',\n",
              " 'Erika Linder, Natalie Krill, Sebastian Pigott, Mayko Nguyen, Tommie-Amber Pirie, Melanie Leishman, Andrea Stefancikova, Daniela Barbosa',\n",
              " 'Preston Nyman, Sian Taylor, Ian Puleston-Davies, Sara Crowe, Sarah Ann Kennedy, Judy Flynn, John Sparkes, David Graham',\n",
              " 'Tara Strong, Montse Hernandez, David Kaye, Roger Craig Smith, Todd Haberkorn, Dwight Schultz, Daryl Sabara',\n",
              " 'Ben Platt',\n",
              " 'Chris Klein, Jon Lovitz, Chelsey Reist, Lochlyn Munro, Liam Hughes, Jill Morrison, Zak Santiago, Garfield Wilson, Jonathan Silverman',\n",
              " 'unknown',\n",
              " \"Mira Sorvino, Kristoffer Polaha, Doug Jones, Paul Sorvino, Aaron Farb, Ser'Darius Blain, Christopher Backus, Christopher Masterson, Tommy Kijas, Kee Seymore, Marla Adams\",\n",
              " 'Gabriel Bateman, Darby Camp, Kiele Sanchez, Jerod Haynes, Gralen Bryant Banks, Angus Sampson, Will Rothhaar, Jim Gleason, Brady Permenter',\n",
              " 'Nick Whitaker, Chris Kendrick, Randall Newsome, Duane Stephens, Lincoln Hoppe, Christy Summerhays, Scott Wilkinson',\n",
              " 'Ron Moody, Patsy Garrett, Cynthia Smith',\n",
              " 'Michael Roark, Trace Adkins, Ali Afshar, Allison Paige, Tony Panterra, Brando Eaton, Hunter Clowdus, Michael King',\n",
              " 'Paul Kalkbrenner, Rita Lengyel, Corinna Harfouch, Araba Walton, Peter Schneider, Rolf Peter Kahl, Henriette Müller, Udo Kroschwald, Megan Gay, Max Mauff',\n",
              " 'Ata Demirer, Necati Bilgiç, Tarık Ünlüoğlu, Özlem Türkad, Nihal Yalçın, Cemil Özbayer, Cengiz Bozkurt, Orhan Güner, Mert Aran',\n",
              " 'Matthias Habich, Max Riemelt, Teresa Palmer, Lucie Aron, Emma Bading',\n",
              " 'Felicitas Woll, Janina Uhse, Jan Sosniok, Matthias Klimsa, Sandra Borgmann, Kai Lentrodt, Armin Rohde, Gitta Schweighöfer, Kailas Mahadevan',\n",
              " 'unknown',\n",
              " 'Hiroaki Iwanaga, Takahiro Sakurai, Toa Yukinari, Yuki Kaji, Minako Kotobuki, Takahiro Fujiwara, Yoshiro Matsumoto, Kazuki Yao, Aki Toyosaki, Rikiya Koyama, Kenta Miyake',\n",
              " 'Hiroaki Iwanaga, Takahiro Sakurai, Toa Yukinari, Yuki Kaji, Minako Kotobuki, Takahiro Fujiwara, Yoshiro Matsumoto, Kazuki Yao, Aki Toyosaki, Rikiya Koyama, Kenta Miyake, Nobuyuki Katsube, Houchu Ohtsuka, Takayuki Sugo',\n",
              " 'Hiroaki Iwanaga, Takahiro Sakurai, Toa Yukinari, Yuki Kaji, Yoshiro Matsumoto, Minako Kotobuki, Takahiro Fujiwara, Kazuki Yao, Yuichi Nakamura, Aki Toyosaki, Akio Otsuka',\n",
              " 'Bert Kreischer',\n",
              " 'Bert Kreischer',\n",
              " 'Bert Kreischer',\n",
              " 'Jackie Tohn, David So, Rosemary Shrager',\n",
              " 'Da-hae Lee, Zhou Mi, Wang Qiuzi, Kwang-hyun Park, Jia Zhengyu, Jeong-hak Park',\n",
              " 'Sameh Hussain, Menna Arafa, Merna al-Mohandes',\n",
              " 'Jerry Seinfeld, Leslie Jones, Taylor Tomlinson, Tom Segura, Jack Whitehall, Michelle Buteau, Bert Kreischer, Jo Koy, Donnell Rawlings, Jim Jefferies, Nikki Glaser, George Lopez, Sam Jay, Marc Maron, Kevin Hart, Michael McIntyre, Fortune Feimster, Eric André, Jim Norton, Felipe Esparza, Hannah Gadsby, Patton Oswalt, Vir Das, Robert Kelly, Urzila Carlson, Tom Papa, Kanan Gill, Ms. Pat, Rob Schneider, Adrienne Iapalucci, Kenny Sebastian, Thomas Middleditch, Ben Schwartz',\n",
              " \"Daniel Levy, Eugene Levy, Catherine O'Hara, Annie Murphy, Chris Elliott, Emily Hampshire, Sarah Levy, Jennifer Robertson, Noah Reid, Dustin Milligan, Karen Robinson, Rizwan Manji\",\n",
              " 'Stephen Sondheim, Harold Prince, Jason Alexander, Mandy Patinkin, Lonny Price',\n",
              " 'Sam Ashe Arnold, Cole Sand, Brianna Reed, Brittany Garms, Alison Becker, Larry Bates, Tiffany Espensen, Rachel Gage, Matt Battaglia, Affion Crockett',\n",
              " 'Viineet Kumar, Aahana Kumra, Suchitra Pillai, Jatin Goswami, Siddharth Menon, Manjiri Pupala, Yashwant Wasnik, Savita Bajaj, Jitendra Joshi, Syna Anand',\n",
              " 'Bethany Hamilton',\n",
              " 'Bob Odenkirk, Jonathan Banks, Michael McKean, Rhea Seehorn, Patrick Fabian, Michael Mando, Giancarlo Esposito',\n",
              " 'Paulina Andreeva, Kirill Käro, Aleksandr Ustyugov, Olga Lomonosova, Eldar Kalimulin, Vitaliya Kornienko, Vera Panfilova, Aleksandr Kuznetsov, Fyodor Lavrov, Sergey Sosnovskiy, Kirill Polukhin, Pavel Vorontsov',\n",
              " 'William Ackman',\n",
              " 'Betty White, Valerie Bertinelli, Georgia Engel, Tina Fey, Valerie Harper, Jennifer Love Hewitt, Carl Reiner, Ryan Reynolds, Alex Trebek',\n",
              " 'Jennette McCurdy, Jesse Carere, Ryan Allen, Justin Kelly, Kyle Mac, Jack Murray, Brooke Palsson, Jim Watson, Wesley Morgan, Krystal Hope Nausbaum, Shailene Garnett, Canute Gomes, Sarah Podemski, Shailyn Pierre-Dixon, Jesse Bostick, Steven Grayhm, Percy Hynes White, Mercedes Morris, Samantha Munro',\n",
              " 'Gerald Anderson, Julia Barretto, Yayo Aguila, Christian Vazquez',\n",
              " 'Zach Galifianakis, Lauren Lapkus, Ryan Gaul, Jiavani Linayao, Will Ferrell',\n",
              " 'Nicolas Cage, Franka Potente, Penelope Mitchell, Garrett Clayton, Lydia Hearst, Hopper Penn',\n",
              " 'Anil Kapoor, Akshay Kumar, Kareena Kapoor, Sushmita Sen, Shamita Shetty, Manoj Bajpayee, Kabir Bedi, Nafisa Ali, Supriya Pathak, Raj Premi, Supriya Karnik',\n",
              " 'Ahmed Helmy, Zeina, Shery Adel, Emy Samir Ghanim, Yousef Fawzy, Yasser El Tobgy, Wael Sami, Maryam Saleh',\n",
              " 'Marina Inoue, Junya Enoki, Fumihiro Okabayashi, Tsubasa Yonaga, Ayahi Takagaki, Yu Kobayashi',\n",
              " 'Marina Inoue, Ryoko Shiraishi, Takuma Terashima, Junko Takeuchi, Fumihiro Okabayashi, Yu Kobayashi, Ayahi Takagaki',\n",
              " 'Erika Harlacher, Griffin Puatu, Kimlinh Tran, Taylor Henry, Janice Roman Roku, Brian Anderson',\n",
              " 'Laura Stahl, Billy Kametz, Derek Stephen Prince, Kyle McCarley, Brandon Winckler, Kimlinh Tran',\n",
              " 'Aki Kanada, Satoshi Hino, Emiri Kato, Kei Shindo, Robert Tinkler, Peter Cugno, Lisette St. Louis, Barbara Mamabolo',\n",
              " 'Cezmi Baskın, Özgü Namal, Umut Kurt, Nazmi Kırık, Bahri Beyat, Meral Okay, Dilber Ay, Şahin Irmak, Oktay Kaynarca, Burak Tamdoğan',\n",
              " 'Kunal Nayyar',\n",
              " 'Frank Grillo, Bojana Novakovic, Jonny Weston, Callan Mulvey, Antonio Fargas, Yayan Ruhian, Pamelyn Chee, Jacob Vargas, Iko Uwais',\n",
              " 'Jim Rash, Matt Duffer, Ross Duffer, Shawn Levy, David Harbour, Finn Wolfhard, Millie Bobby Brown, Gaten Matarazzo, Caleb McLaughlin, Natalia Dyer, Charlie Heaton, Noah Schnapp, Joe Keery, Dacre Montgomery, Sadie Sink, Paul Reiser, Sean Astin, Randy Havens, Brett Gelman, Linnea Berthelsen',\n",
              " 'unknown',\n",
              " 'Ishaan Khattar, Malavika Mohanan, Goutam Ghose, Sharada, Tannishtha Chatterjee, Shashank Shende, Hema Singh, Akash Gopal',\n",
              " 'Deven Bhojani, Suchita Trivedi, Sarita Joshi, Varun Khandelwal, Bhavna Khatri, Dushyant Wagh, Gulfam Khan, Atul Parchure',\n",
              " 'Swara Bhasker, Dolly Singh, Ravi Patel, Varun Thakur, Mona Ambegaonkar, Girish Kulkarni',\n",
              " 'Karuna Pandey, Chandan Anand, Kanika Shivpuri, Ved Thappar, Nupur Alankar, Tarun Mehta, Priya Marathe, Vasundhara Kaul, Ankit Narang, Arshima Thapar',\n",
              " 'Akshay Kumar, Govinda, Lara Dutta, Paresh Rawal, Rajpal Yadav, Jackie Shroff, Arbaaz Khan, Tanushree Dutta, Asrani, Shakti Kapoor',\n",
              " 'Sagar Deshmukh, Vijay Kenkre, Iravati Harshe, Shubhangi Damle, Sachin Khedekar, Sunil Barve, Ashwini Giri, Rajan Bhise',\n",
              " 'Sagar Deshmukh, Iravati Harshe, Vijay Kenkre, Shubhangi Damle, Ashwini Giri, Nina Kulkarni, Dalip Tahil, Girish Kulkarni',\n",
              " 'Gippy Grewal, Gurpreet Guggi, Ragini Khanna, Om Puri, B.N. Sharma, Avtar Gill, Karamjit Anmol, Rana Jung Bahadur',\n",
              " 'Sunny Kaushal, Rukshar Dhillon, Shriya Pilgaonkar, Parmeet Sethi, Samir Soni, Chaitanya Sharma, Sheeba Chaddha, Akarsh Khurana',\n",
              " 'Imran Rasheed, Mittal Chouhan, Trimala Adhikari, Bhushan Vikas, Ravi Goswami, Raghav Dutt, Kumkum Chouhan, Rohan Mobarsa',\n",
              " 'Harshvardhan Kapoor, Priyanshu Painyuli, Ashish Verma, Shreiya Sabharwal, Pratap Phad, Chinmayee Mandlekar, Nishikant Kamat, Hrishikesh Joshi',\n",
              " 'unknown',\n",
              " 'Nitin Reddy, Rashmika Mandanna, Sampath Raj, Jishu Sengupta, Anant Nag',\n",
              " 'Akshay Kumar, Vidya Balan, Ameesha Patel, Shiney Ahuja, Paresh Rawal, Rajpal Yadav, Manoj Joshi, Asrani, Vikram Gokhale, Rasika Joshi',\n",
              " 'Ajay Devgn, Urmila Matondkar, Nana Patekar, Rekha, Fardeen Khan, Victor Banerjee, Tanuja, Seema Biswas',\n",
              " 'Raghuvir Yadav, Masha Paur, Mohan Joshi, Manoj Joshi, Mukesh Tiwari, Shakti Kapoor, Sitaram Panchal, Kunika Lall',\n",
              " 'Lina Larissa Strahl, Lisa-Marie Koroll, Louis Held, Ruby O. Fee, Charly Hübner, Michael Maertens, Winnie Böwe, Fabian Buch, Max von der Groeben, Martin Seifert',\n",
              " 'Lina Larissa Strahl, Lisa-Marie Koroll, Louis Held, Emilio Moutaoukkil, Michael Maertens, Martin Seifert, Winnie Böwe, Fabian Buch, Mavie Hörbiger, Olli Schulz, Charly Hübner, Milan Peschel',\n",
              " 'Lina Larissa Strahl, Lisa-Marie Koroll, Tilman Pörzgen, Philipp Laude, Charly Hübner, Louis Held, Benjamin Lutzke, Max von der Groeben, Kostja Ullmann, Michael Maertens, Fabian Buch, Winnie Böwe',\n",
              " 'Lina Larissa Strahl, Lisa-Marie Koroll, Louis Held, Lea van Acken, Emilio Sakraya, Michael Maertens, Martin Seifert',\n",
              " 'Ungku Ismail, Fasha Sandha, Bell Ngasri, Wan Sharmila',\n",
              " \"Wesley Barker, Herbie Baez, Elisabeth Lund, Shannon Chandler, Billy Forester, Frank Addela, Kyle Jordan, Dave 'Foots' Footman, Derek Stephen Prince, Vivian Smallwood\",\n",
              " \"Joey Kern, Adam Brody, Zachary Knighton, Tyler Labine, Pablo Schreiber, Toby Huss, Heidi Heaslet, Ahna O'Reilly\",\n",
              " 'Adam Sandler, Joey Lauren Adams, Jon Stewart, Cole Sprouse, Dylan Sprouse, Josh Mostel, Leslie Mann, Allen Covert, Rob Schneider, Kristy Swanson',\n",
              " 'Monty Don',\n",
              " 'Frankie Muniz, Paul Giamatti, Amanda Bynes, Amanda Detmer, Donald Faison, Sandra Oh, Russell Hornsby, Michael Bryan French, Christine Tucci, Lee Majors, John Cho',\n",
              " 'Christoph Sanders, Jason Patric, Clint Glenn Hummel, Lou Diamond Phillips, Danny Trejo, Scott Martin, Elizabeth McLaughlin, Stephanie Beran, K.C. Clyde, Michael Paré',\n",
              " 'Drew Barrymore, John Krasinski, Kristen Bell, Dermot Mulroney, Tim Blake Nelson, Vinessa Shaw, Ted Danson, Stephen Root, Rob Riggle, Michael Gaston',\n",
              " 'Nick Kroll, John Mulaney, Jessi Klein, Jason Mantzoukas, Jenny Slate, Fred Armisen, Maya Rudolph, Jordan Peele',\n",
              " 'Ashley Judd, Patrick Wilson, Whoopi Goldberg, John Benjamin Hickey, Jane Krakowski, Judith Ivey, Jasmine Guy, Chris Sarandon, Anthony LaPaglia, Jenna Elfman, Angelina Fiordellisi, Mary Testa, Dagmara Dominczyk, Mary Pat Gleason, Joe Inscoe, James Hampton, Paul Wilson',\n",
              " 'Bjarke Ingels',\n",
              " 'Kendall Schmidt, James Maslow, Carlos PenaVega, Logan Henderson, Ciara Bravo, Challen Cates, Tanya Chisholm, Stephen Kramer Glickman, Trevor Devall, Christopher Shyer',\n",
              " 'Bigflo & Oli',\n",
              " \"Ricky Garcia, Jodelle Ferland, Barry Bostwick, Fiona Vroom, Kevin O'Grady, Karen Holness\",\n",
              " 'Nick Broomfield',\n",
              " 'Bikram Choudhury',\n",
              " 'Bill Burr',\n",
              " 'Bill Burr',\n",
              " 'Bill Burr',\n",
              " 'Bill Burr',\n",
              " 'Bill Burr',\n",
              " 'Bill Hicks',\n",
              " 'Bill Hicks, Steve Hicks',\n",
              " 'Bill Hicks',\n",
              " 'Bill Hicks',\n",
              " 'Bill Hicks',\n",
              " 'Bill Nye, Karlie Kloss, Derek Muller, Emily Calandrelli, Nazeem Hussain, Joanna Hausmann',\n",
              " 'Bill Nye, Neil deGrasse Tyson, Eugenie Scott, Francis Collins, Ann Druyan',\n",
              " 'Irrfan Khan, Shah Rukh Khan, Lara Dutta, Rajpal Yadav, Om Puri, Asrani, Manoj Joshi',\n",
              " 'Jamie Bell, Gary Lewis, Stuart Wells, Billy Fane, Colin MacLachlan, Nicola Blackwell, Carol McGuigan, Joe Renton, Janine Birkett, Charlie Hardwick, Mike Elliot, Jean Heywood, Jamie Draven, Julie Walters, Trevor Fox, Adam Cooper',\n",
              " 'Billy Graham, Jeff Hoyt, Tom Brokaw, Greta Van Susteren, Diane Sawyer, Larry King, George Bush Sr., George W. Bush, Bill Clinton, Franklin Graham',\n",
              " 'Billy Eichner',\n",
              " 'Joy Sengupta, Koneenica Banerjee, Kanchana Moitra, Pradip Mukherjee',\n",
              " 'Luna Wedler, Jessica Schwarz, Adrian Julius Tillmann, Thomas Prenn, Jing Xiang, Caro Cult, Sebastian Jakob Doppelbauer',\n",
              " 'Nina Kulkarni, Suhas Palshikar, Kushal Badrike, Spruha Joshi, Mangesh Desai, Smita Tambe, Veena Jamkar, Sandeep Khare',\n",
              " 'Sermiyan Midyat, Şafak Sezer, Nicole Faria, Burak Satıbol',\n",
              " 'Sandra Bullock, Trevante Rhodes, John Malkovich, Sarah Paulson, BD Wong, Jacki Weaver, Rosa Salazar, Danielle Macdonald, Lil Rel Howery, Tom Hollander',\n",
              " 'unknown',\n",
              " 'Mary Joy Apostol, Arnold Reyes, Ku Aquino, John Arcilla, Dido Dela Paz, Elora Espano, Ronnie Quizon, Rolando T. Inocencio, Suzette Ranillo, Angelica C. Ferro',\n",
              " \"Toni Collette, Matthew Goode, Andreas Apergis, Michael Smiley, Fionnula Flanagan, Suzanne Clément, Jordan Poole, Megan O'Kelly, Anton Gillis-Adelman, Tyrone Benskin, Vincent Hoss-Desmarais\",\n",
              " 'Jason Ritter, Jaime King, Marianna Palka, Brighton Sharbino, Rio Mangini, Jason Maybaum, Kingston Foster, Arielle Kebbel, Martin Starr, Roger Guenveur Smith, Caroline Aaron, Bill Smitrovich',\n",
              " 'Kate Nhung, Thanh Pham, Petey Majik Nguyen, Suboi, Jayvee Mai The Hiep, Lam Thanh My',\n",
              " 'Laura Vandervoort, Greyston Holt, Greg Bryk, Steve Lund, Paul Greene, Michael Xavier, Genelle Williams',\n",
              " 'María Mera, Toni Salgado, Miquel Insua, Denis Gómez, Lucía Álvarez, Sara Sanz, Jimmy Núñez, Paloma Saavedra, Manuel Cortés, Yelena Molina, Ricardo de Barreiro, Nerea Barros, Santiago Cuquejo, Martina Stetson, Carlos Villarino',\n",
              " 'Ahmed Helmy, Lotfy Labib, Edward, Enaam Salousa',\n",
              " 'Pulkit Samrat, Ashok Pathak, Tanvir Singh, Amita Pathak, Sunil Shetty, Rajendra Sethi, Mohan Kapoor',\n",
              " 'Soham Chakraborty, Bidya Sinha Mim, Ashish Vidyarthi, Rajatabha Dutta, Rudranil Ghosh, Kharaj Mukherjee',\n",
              " 'Hugo Weaving, James Frecheville, Stephen Rea, Freddie Fox, Barry Keoghan, Moe Dunford, Sarah Greene, Jim Broadbent',\n",
              " 'Dawnisha Halfkenny, Simeon Henderson, Corey Hendrix, Malcom Banks, Nadia Simms, Brian White, Brely Evans, Cynda Williams, Carl Anthony Payne II',\n",
              " 'Daisuke Ono, Maaya Sakamoto, Hiroki Touchi, Yuki Kaji, Emiri Kato, Koji Yusa, Shunji Fujimura, Yukari Tamura, Romi Park, Jun Fukuyama',\n",
              " 'Rashed Al Shamrani, Sayed Rajab, Dina Talaat, Mohamad Al Ahmad, Maram Al Bloushi, Mahmoud Bu Shehri, Aseel Omran, Mona Shaddad, Azeez Khayoun, Ayman Mabrouk, Eisa Diab, Dima Al Jundi',\n",
              " 'Michaela Coel, John Goodman, Abena Ayivor, Noma Dumezweni, Ronald Guttman, Danny Sapani, Harriet Walter, Tyrone Huggins, Emmanuel Imani, Lucian Msamati, Tamara Tunie',\n",
              " 'Pavan Malhotra, Kay Kay Menon, Aditya Srivastava, Dibyendu Bhattacharya, Kishore Kadam, Gajraj Rao, Zakir Hussain, Imtiaz Ali, Pratima Kazmi, Raj Arjun',\n",
              " 'Josh Hartnett, Ewan McGregor, Tom Sizemore, Eric Bana, William Fichtner, Ewen Bremner, Sam Shepard, Gabriel Casseus, Kim Coates, Hugh Dancy, Ron Eldard, Ioan Gruffudd, Tom Guiry, Charlie Hofheimer, Danny Hoch, Jason Isaacs, Zeljko Ivanek, Glenn Morshower, Jeremy Piven, Brendan Sexton III',\n",
              " 'Barış Kılıç, Tuvana Türkay, Serhat Tutumluer, Gülçin Santırcıoğlu, Kenan Bal',\n",
              " 'Ceaser Emanuel, Dutchess Lattimore, Puma Robinson, Alex Estevez, Sassy Bermudez',\n",
              " \"Cress Williams, James Remar, Marvin 'Krondon' Jones III, Jill Scott, China Anne McClain, Damon Gupton, Nafessa Williams, Christine Adams\",\n",
              " 'unknown',\n",
              " 'Jesse Plemons, Cristin Milioti, Jimmi Simpson, Rosemarie DeWitt, Douglas Hodge, Andrea Riseborough, Brenna Harding, Owen Teague, Andrew Gower, Kiran Sonia Sawar, Georgina Campbell, Joe Cole, Maxine Peake, Jake Davies, Clint Dyer, Letitia Wright, Babs Olusanmokun, Bryce Dallas Howard, Alice Eve, Michael Kelly, Cherry Jones, Gugu Mbatha-Raw, Mackenzie Davis, Wyatt Russell, Benedict Wong, Kelly Macdonald, Faye Marsay, Madeline Brewer, Hannah John-Kamen, Malachi Kirby, Alex Lawther, Jerome Flynn, James Norton, Rory Kinnear, Lindsay Duncan, Daniel Kaluuya, Jessica Brown Findlay, Rupert Everett, Toby Kebbell, Jodie Whittaker, Hayley Atwell, Domhnall Gleeson, Lenora Crichlow, Michael Smiley, Daniel Rigby, Chloe Pirrie, Jason Flemyng, Jon Hamm, Oona Chaplin, Rafe Spall',\n",
              " 'Fionn Whitehead, Will Poulter, Craig Parkinson, Alice Lowe, Asim Chaudhry',\n",
              " 'Güler Ökten, Hazal Türesan, İlkin Tüfekçi, Bedia Ener, Erkan Can, Öykü Karayel, Emre Kızılırmak, Bestemsu Özdemir, Engin Akyürek, Burak Tamdoğan, Saygın Soysal, Tuba Büyüküstün, Ali Yörenç, Ahmet Tansu Taşanlar, Elif İnci',\n",
              " \"Chadwick Boseman, Michael B. Jordan, Lupita Nyong'o, Danai Gurira, Martin Freeman, Daniel Kaluuya, Letitia Wright, Winston Duke, Sterling K. Brown, Angela Bassett, Forest Whitaker, Andy Serkis, Florence Kasumba, John Kani, David S. Lee, Stan Lee\",\n",
              " 'Alexander Nevsky, Kristanna Loken, Adrian Paul, Robert Davi, Robert Madrid, Matthias Hues, Oksana Sidorenko, Emmanuil Vitorgan, Olga Rodionova, Polina Butorina',\n",
              " 'Jude Law, Scoot McNairy, Ben Mendelsohn, Bobby Schofield, Tobias Menzies, Michael Smiley, Grigoriy Dobrygin, David Threlfall, Jodie Whittaker, Karl Davies',\n",
              " 'Cam Gigandet, Teri Reeves, Michael Dale, Dion Mucciacito, Casey Hendershot, Benjamin Charles Watson, John Brodsky, Arash Mokhtar',\n",
              " 'Samuel L. Jackson, Christina Ricci, Justin Timberlake, S. Epatha Merkerson, John Cothran, David Banner, Michael Raymond-James, Adriane Lenox, Kim Richards, Neimus K. Williams',\n",
              " 'Ricardo Darín, Leonardo Sbaraglia, Laia Costa, Federico Luppi, Dolores Fonzi, Andrés Herrera',\n",
              " 'Suliane Brahim, Hubert Delattre, Laurent Capelluto, Samuel Jouy, Renaud Rutten, Camille Aguilar, Tiphaine Daviot, Naidra Ayadi, Brigitte Sy, Anne Suarez, Dan Herzberg, Olivier Bonjour, Thomas Doret',\n",
              " 'Jaime King, Justin Chu Cary, Christine Lee, Sal Velez Jr., Kelsey Flower, Erika Hau, Edsson Morales, Gwynyth Walsh, Stafford Perry, Mustafa Alabssi',\n",
              " 'unknown',\n",
              " 'Blackpink',\n",
              " 'Anthony Hopkins, Julia Stiles, Alexander Ludwig, Ray Liotta, Hal Holbrook, Lochlyn Munro, Steve Bacic, Aaron Pearl, Aleks Paunovic',\n",
              " 'Takahiro Sakurai, Kana Hanazawa, Sora Amamiya, Kazuhiro Yamaji, Mamoru Miyano, Aya Suzaki, Nobunaga Shimazaki, Yuki Kaji, Aki Toyosaki, Saori Hayami',\n",
              " 'Benjamin Dickey, Alia Shawkat, Josh Hamilton, Charlie Sexton, Sam Rockwell, Wyatt Russell, Steve Zahn, Kris Kristofferson, Richard Linklater, David Kallaway, Ritchie Montgomery',\n",
              " 'Daiki Shigeoka, Akito Kiriyama, Junta Nakama, Tomohiro Kamiyama, Ryusei Fujii, Takahiro Hamada, Nozomu Kotaki, Umika Kawashima, Takeshi Kaga, Norio Wakamoto',\n",
              " 'Masakazu Morita, Fumiko Orikasa, Yuki Matsuoka, Noriaki Sugiyama, Hiroki Yasumoto, Kentaro Ito, Ryotaro Okiayu',\n",
              " 'Masakazu Morita, Fumiko Orikasa, Aya Hirano, Hiroshi Kamiya, Mitsuaki Madono, Ryotaro Okiayu, Kentaro Ito, Shinichiro Miki, Satsuki Yukino, Masaaki Tsukada',\n",
              " 'Masakazu Morita, Fumiko Orikasa, Kazuya Nakai, Noriaki Sugiyama, Kentarô Itô, Yuki Matsuoka, Ryotaro Okiayu, Romi Park',\n",
              " 'Miles Teller, Aaron Eckhart, Katey Sagal, Ciarán Hinds, Ted Levine, Jordan Gelber, Amanda Clayton, Daniel Sauli, Christine Evangelista, Tina Casciani',\n",
              " 'Ahmad Thaher, Maher Khammash, Odai Hijazi, Nadeem Rimawi, Mahmoud al Massad, Nadim Mushahwar',\n",
              " 'Mélanie Bernier, Clovis Cornillac, Lilou Fogli, Philippe Duquesne, Grégoire Oestermann, Oscar Copp, Boris Terral, Manu Payet',\n",
              " 'Andy Lau, Sammi Cheng, Gao Yuanyuan, Guo Tao, Philip Keung, Lam Suet, Lo Hoi-pang, Tai-Lo Ma, Man-Wai Wong, Ying-Ying Yiu, Yi Zi',\n",
              " 'unknown',\n",
              " 'Ryan Kwanten, Rufus Sewell, Toni Collette, Robin McLeavy, David Wenham, Barry Humphries, Richard Roxburgh, Deborah Mailman, Barry Otto',\n",
              " 'Joey Rasdien, David Kau, David Kibuuka, Chris Forrest, Santhiran Moonsamy, Quentin Krog, Kaseran Pillay, Mabutho Sithole, Mel Miller, Kagiso Lediga, Craig Urbani',\n",
              " 'Syrus Shahidi, Lionel Abelanski, Charlotte Gabris, Tom Hygreck, Sylvain Quimene, Laura Boujenah, Foed Amara',\n",
              " 'Nawat Kulrattanarak, Woranuch Wongsawan, Jespipat Tilapornputt, Paramej Noiam, Phutharit Prombandal',\n",
              " 'Ama Qamata, Khosi Ngema, Gail Mabalane, Thabang Molaba, Dillon Windvogel, Natasha Thahane, Arno Greeff, Xolile Tshabalala, Getmore Sithole, Cindy Mahlangu, Ryle De Morny, Greteli Fincham, Sello Maake Ka-Ncube, Odwa Gwanya, Mekaila Mathys, Sandi Schultz, Duane Williams, Shamilla Miller, Patrick Mofokeng',\n",
              " 'Mel Gibson, Erin Moriarty, Diego Luna, Michael Parks, William H. Macy, Miguel Sandoval, Dale Dickey, Richard Cabral, Daniel Moncada, Ryan Dorsey',\n",
              " 'Manish Chaudhary, Kunal Kemmu, Amrita Puri, Shekar Shukla, Teeshay, Mia Evonne Uyeda',\n",
              " \"Derek Phillips, Jason O'Mara, Claudia Christian, Mamie Gummer, Jessica Henwick, Elias Toufexis, Chris Diamantopoulos, Adetokumboh M'Cormack, Matthew Mercer, Melina Kanakaredes, Danny Jacobs, Matt Lowe, Adam Croasdell, Jennifer Hale, David Shaughnessy, Fred Tatasciore, Vanessa Marshall\",\n",
              " 'Guilherme Fontes, Ravel Cabral, Jonathan Haagensen, André Ramiro, Adriano Garib, Mel Lisboa, Cristina Lago',\n",
              " 'Oscar Martínez, Dolores Fonzi, Diego Velázquez, Paulina Garcia, Luis Gnecco, Malena Sánchez, Emilio Vodanovich, Norman Briski',\n",
              " 'Kyle Chandler, Ben Mendelsohn, Sissy Spacek, Linda Cardellini, Norbert Leo Butz, Jacinda Barrett, Jamie McShane, John Leguizamo, Enrique Murciano, Sam Shepard, Chloë Sevigny, Andrea Riseborough, Beau Bridges, Taylor Rouviere, Owen Teague, Brandon Larracuente',\n",
              " 'Ine Marie Wilmann, Bjørnar Teigen, Emma Spetalen Magnusson, Erlend Rødal Vikhagen, Benjamin Helstad, Harald Rosenstrøm, Dagny Backer Johnsen, Stig Amdam, Numa Edema Norderhaug, Ellen Bendu, Torfinn Nag',\n",
              " 'Johnny Depp, Penélope Cruz, Franka Potente, Rachel Griffiths, Paul Reubens, Jordi Mollà, Cliff Curtis, Miguel Sandoval, Ethan Suplee, Ray Liotta',\n",
              " 'unknown',\n",
              " 'Nobuhiko Okamoto, Jun Fukuyama, Kana Hanazawa, Kazuya Nakai, Koji Yusa, Yuki Kaji, Eri Kitamura, Ayahi Takagaki, Rina Satou, Daisuke Ono, Ryotaro Okiayu, Tetsuya Kakihara, Hiroshi Kamiya, Keiji Fujiwara, Hiroaki Hirata, Jin Urayama, Katsuyuki Konishi, Kisho Taniyama, M・A・O, Kazuhiro Yamaji, Hideyuki Tanaka, Masaki Terasoma, Naomi Shindo',\n",
              " 'Léa Seydoux, Adèle Exarchopoulos, Salim Kechiouche, Aurélien Recoing, Catherine Salée, Benjamin Siksou, Mona Walravens, Alma Jodorowsky, Jérémie Laheurte, Anne Loiret, Benoît Pilot, Sandor Funtek, Fanny Maurin',\n",
              " 'Cate Blanchett, Sally Hawkins, Alec Baldwin, Louis C.K., Bobby Cannavale, Andrew Dice Clay, Peter Sarsgaard, Michael Stuhlbarg, Tammy Blanchard, Max Casella, Alden Ehrenreich',\n",
              " 'Sarah Paulson, Mark Duplass, Clu Gulager',\n",
              " 'Alan Ritchson, Darin Brooks, James Cade, Rob Ramsay, Chris Romano, Frankie Shaw, Omari Newton, Ed Marinaro, Dhani Jones, Ed Amatrudo, Jimmy Tatro',\n",
              " 'David Attenborough',\n",
              " 'Macon Blair, Devin Ratray, Amy Hargreaves, Kevin Kolack, Eve Plumb, David W. Thompson, Brent Werzner, Stacy Rock, Sidné Anderson, Sandy Barnett, Bonnie Johnson',\n",
              " ...]"
            ]
          },
          "metadata": {},
          "execution_count": 29
        }
      ]
    },
    {
      "cell_type": "code",
      "source": [
        "\n",
        "netflix_cast_dict={}\n",
        "for actor in netflix_cast:                                                   \n",
        "  if actor in netflix_cast_dict:\n",
        "    netflix_cast_dict[actor] +=1\n",
        "  else:\n",
        "    netflix_cast_dict[actor] = 1\n",
        "\n",
        "netflix_cast_dict = dict(sorted(netflix_cast_dict.items(), key=lambda item: item[1],reverse=True))          \n",
        "     "
      ],
      "metadata": {
        "id": "qmxjXLK2_PD9"
      },
      "execution_count": 30,
      "outputs": []
    },
    {
      "cell_type": "code",
      "source": [
        "netflix_cast_dict"
      ],
      "metadata": {
        "colab": {
          "base_uri": "https://localhost:8080/"
        },
        "id": "I-kuVW_WxBzM",
        "outputId": "d83eb615-0675-40e3-caf5-bbc7f20a434b"
      },
      "execution_count": 31,
      "outputs": [
        {
          "output_type": "execute_result",
          "data": {
            "text/plain": [
              "{'unknown': 718,\n",
              " 'David Attenborough': 18,\n",
              " 'Samuel West': 10,\n",
              " 'Jeff Dunham': 7,\n",
              " 'Kevin Hart': 6,\n",
              " 'Craig Sechler': 6,\n",
              " 'Michela Luci, Jamie Watson, Eric Peterson, Anna Claire Bartlam, Nicolas Aqui, Cory Doran, Julie Lemieux, Derek McGrath': 6,\n",
              " 'Bill Burr': 5,\n",
              " 'Iliza Shlesinger': 5,\n",
              " 'Jim Gaffigan': 5,\n",
              " 'Sonal Kaushal, Rupa Bhimani, Julie Tejwani, Sabina Malik, Jigna Bharadhwaj, Rajesh Kawa': 4,\n",
              " 'Prabhas, Rana Daggubati, Anushka Shetty, Tamannaah Bhatia, Sathyaraj, Nassar, Ramya Krishnan, Sudeep': 4,\n",
              " 'Bill Hicks': 4,\n",
              " 'Jerry Seinfeld': 4,\n",
              " 'Michela Luci, Jamie Watson, Anna Claire Bartlam, Dante Zee, Eric Peterson': 4,\n",
              " 'Jim Jefferies': 4,\n",
              " 'Damandeep Singh Baggan, Smita Malhotra, Baba Sehgal': 4,\n",
              " 'Mike Birbiglia': 4,\n",
              " 'Jay O. Sanders': 4,\n",
              " 'Sam Kinison': 4,\n",
              " 'Tom Segura': 4,\n",
              " 'Vir Das': 4,\n",
              " 'Rachael Stirling': 3,\n",
              " 'Aziz Ansari': 3,\n",
              " 'Prabhas, Rana Daggubati, Anushka Shetty, Tamannaah Bhatia, Sathyaraj, Ramya Krishnan, Nassar, Subbaraju': 3,\n",
              " 'Bert Kreischer': 3,\n",
              " 'Chelsea Handler': 3,\n",
              " 'Julie Tejwani, SABINA MALIK, Jigna Bharadhwaj, Rupa Bhimani, Lalit Agarwal, Rajesh Shukla, Disha, Rajesh Kawa, Raju': 3,\n",
              " \"Chris D'Elia\": 3,\n",
              " 'Colin Quinn': 3,\n",
              " 'Dave Chappelle': 3,\n",
              " 'Derren Brown': 3,\n",
              " 'Paco Ignacio Taibo II': 3,\n",
              " 'Taapsee Pannu, Vinodhini, Parvathi T, Ramya Subramanian, Sanchana Natarajan, Anish Kuruvilla, David Solomon Raja': 3,\n",
              " 'John Mulaney': 3,\n",
              " 'Katt Williams': 3,\n",
              " 'Peter Coyote': 3,\n",
              " 'Louis C.K.': 3,\n",
              " 'Marc Maron': 3,\n",
              " 'Eric Meyers': 3,\n",
              " 'Nadia Ramlee, Chio Su-Ping, Jeremy Linn, Marlon Dance-Hooi': 3,\n",
              " 'Samantha Ruth Prabhu, Lakshmi, Rajendraprasad, Naga Shourya, Rao Ramesh, Teja Sajja, Pragathi, Jagapathi Babu, Aishwarya, Urvashi': 3,\n",
              " 'Stephen Fry, Alex Marty': 3,\n",
              " 'Russell Peters': 3,\n",
              " 'Sebastian Maniscalco': 3,\n",
              " 'R. Kelly': 3,\n",
              " 'Morgan Freeman': 3,\n",
              " 'Oprah Winfrey, Ava DuVernay': 2,\n",
              " 'Bob Brisbane': 2,\n",
              " 'Demetri Goritsas': 2,\n",
              " 'Allu Arjun, Pooja Hegde, Tabu, Sushanth, Nivetha Pethuraj, Jayaram, Murli Sharma': 2,\n",
              " 'Alex Fernández': 2,\n",
              " 'Ali Wong': 2,\n",
              " 'Amy Schumer': 2,\n",
              " 'Nayantara, Vaibhav Reddy, Pasupathy, Harshvardhan Rane, Thagubothu Ramesh, Vinay Varma, Dheer Charan Srivastav, D. Narsingh Rao': 2,\n",
              " 'Robert Clotworthy': 2,\n",
              " 'Vinoth Kishan, Arjun Das, Pooja Ramachandran, Kumar Natarajan, Misha Ghoshal, Arul Vincent, Chenthu Mohan, Pradeep Kalipurayath': 2,\n",
              " 'Anitta': 2,\n",
              " 'Anthony Jeselnik': 2,\n",
              " 'Ashleigh Ball, Lili Beaudoin, Charles Demers, Rebecca Husain, Erin Mathews': 2,\n",
              " 'Monty Don': 2,\n",
              " 'Bjarke Ingels': 2,\n",
              " 'Bo Burnham': 2,\n",
              " 'Bob Ross': 2,\n",
              " 'Brian Regan': 2,\n",
              " 'Carlos Ballarta': 2,\n",
              " 'Chris Rock': 2,\n",
              " 'Nehir Erdoğan, Tardu Flordun, İlker Kaleli, Serkan Keskin, Esra Bezen Bilgin, Aytaç Uşun, Cem Özeren, Caner Arçkan': 2,\n",
              " 'D.L. Hughley': 2,\n",
              " 'Jane Turner, Gina Riley, Glenn Robbins, Peter Rowsthorn, Magda Szubanski': 2,\n",
              " 'Daniel Sosa': 2,\n",
              " 'Demetri Martin': 2,\n",
              " 'Eddie Murphy': 2,\n",
              " 'Hunter March': 2,\n",
              " 'Fary': 2,\n",
              " 'Felipe Esparza': 2,\n",
              " 'Franco Escamilla': 2,\n",
              " 'Gabriel Iglesias': 2,\n",
              " 'Gad Elmaleh': 2,\n",
              " 'Bettany Hughes': 2,\n",
              " 'Gina Yashere': 2,\n",
              " 'Mamoru Miyano, Takahiro Sakurai, Kana Hanazawa, Tomokazu Sugita, Yuki Kaji, Junichi Suwabe, Reina Ueda, Ari Ozawa, Daisuke Ono, Kenta Miyake, Kenyu Horiuchi, Kazuya Nakai, Kazuhiro Yamaji': 2,\n",
              " 'Hannah Gadsby': 2,\n",
              " 'Hasan Minhaj': 2,\n",
              " 'Robert Reich': 2,\n",
              " 'Werner Herzog': 2,\n",
              " 'Jack Whitehall': 2,\n",
              " 'Jen Kirkman': 2,\n",
              " 'Hugh Bonneville': 2,\n",
              " 'Jimmy Carr': 2,\n",
              " 'Jo Koy': 2,\n",
              " 'Joe Rogan': 2,\n",
              " 'Katherine Ryan': 2,\n",
              " 'Kevin James': 2,\n",
              " 'Piers Morgan': 2,\n",
              " 'Jeannie Elias, Kat Feller, Sandy Fox, Cindy Robinson, Richard Rosenblatt': 2,\n",
              " 'Chloe Marsden, Aaron Marsden, María Esnoz': 2,\n",
              " \"Flynn Curry, Olivia Deeble, Madison Lu, Oisín O'Leary, Faith Seci, Joshua Sitch, Heidi Arena, Wayne Hope\": 2,\n",
              " 'Steven Rinella': 2,\n",
              " 'Michelle Buteau': 2,\n",
              " 'Mike Epps': 2,\n",
              " 'Taylor Swift': 2,\n",
              " 'Graham Chapman, Eric Idle, Terry Jones, Michael Palin, Terry Gilliam, John Cleese': 2,\n",
              " 'Nicholas Day': 2,\n",
              " 'Nicole Byer, Jacques Torres': 2,\n",
              " 'Natalia Valdebenito': 2,\n",
              " 'Chris Packham': 2,\n",
              " 'Samira Wiley': 2,\n",
              " 'Mattea Conforti, Kobi Frumer': 2,\n",
              " 'Erin Mathews, Sam Vincent, Andrea Libman, Ashleigh Ball, Ian James Corlett, Brian Drummond, Lee Tockar, Matt Hill': 2,\n",
              " 'Patton Oswalt': 2,\n",
              " 'Rajnikanth, Vijay Sethupathi, M. Sasikumar, Nawazuddin Siddiqui, Trisha Krishnan, Simran': 2,\n",
              " 'Stephen Fry, Montana Smedley': 2,\n",
              " 'Brennan Mejia, Camille Hyde, Yoshi Sudarso, Michael Taber, James Davies, Claire Blackwelder': 2,\n",
              " 'Andrew M. Gray, Ciara Hanna, John Mark Loudermilk, Christina Masterson, Azim Rizk, Shailesh Prajapati, Ian Harcourt': 2,\n",
              " 'Gavin Lewis, Theodore Barnes, Shelby Simmons, Cynthia Kaye McWilliams': 2,\n",
              " 'Ralphie May': 2,\n",
              " 'Ricardo Quevedo': 2,\n",
              " 'Will Yun Lee, Jermaine Love, Rory Markham, Bertrand-Xavier Corbi, Katie Keene, Fernando Chien, Gina DeCesare, Michael Blalock, Chris Mulkey, Stephen Lang': 2,\n",
              " 'G.V. Prakash Kumar, Nedumudi Venu, Aparna Balamurali, Divyadarshini, Vineeth, Kumaravel, Ravi Prakash, Sumesh': 2,\n",
              " 'Shawn Mendes': 2,\n",
              " 'Sofía Niño de Rivera': 2,\n",
              " 'Alden Ehrenreich, Woody Harrelson, Emilia Clarke, Donald Glover, Joonas Suotamo, Thandie Newton, Phoebe Waller-Bridge, Paul Bettany': 2,\n",
              " 'Sommore': 2,\n",
              " 'Elyse Maloway, Vincent Tong, Erin Matthews, Andrea Libman, Alessandro Juliani, Nicole Anthony, Ian James Corlett, Britt McKillip, Kathleen Barr, Diana Kaarina': 2,\n",
              " 'You, Reina Triendl, Yoshimi Tokui, Azusa Babazono, Ryota Yamasato, Shono Hayama': 2,\n",
              " 'Nawazuddin Siddiqui, Amrita Rao, Rajeev Panday, Sanjay Narvekar, Rajesh Khera, Prakash Belawadi, Avantika Akerkar': 2,\n",
              " 'Kippei Shiina, Shinnosuke Mitsushima, Kyooko Hinami, Eri Kamataki, Young Dais, Natsuki Kawamura, Yuzuka Nakaya, Dai Hasegawa, Chiho Fujii, Sei Matobu, Denden': 2,\n",
              " 'David Spade, London Hughes, Fortune Feimster': 2,\n",
              " 'Erik Thompson': 2,\n",
              " 'Tiffany Haddish': 2,\n",
              " 'Tig Notaro': 2,\n",
              " 'Tim Allen': 2,\n",
              " 'Todd Glass': 2,\n",
              " 'Tom Papa': 2,\n",
              " 'Trevor Noah': 2,\n",
              " 'Michela Luci, Jamie Watson, Eric Peterson, Anna Claire Bartlam, Nicolas Aqui, Cory Doran, Julie Lemieux': 2,\n",
              " 'Phil Vischer, Mike Nawrocki, Rob Paulsen, Tress MacNeille': 2,\n",
              " 'Whitney Cummings': 2,\n",
              " 'Eileen Stevens, Alyson Leigh Rosenfeld, Sarah Natochenny, H.D. Quinn': 2,\n",
              " 'João Miguel, Bianca Comparato, Michel Gomes, Rodolfo Valente, Vaneza Oliveira, Rafael Lozano, Viviane Porto, Mel Fronckowiak, Sergio Mamberti, Zezé Motta, Celso Frateschi': 1,\n",
              " 'Demián Bichir, Héctor Bonilla, Oscar Serrano, Azalia Ortiz, Octavio Michel, Carmen Beato': 1,\n",
              " 'Tedd Chan, Stella Chung, Henley Hii, Lawrence Koh, Tommy Kuan, Josh Lai, Mark Lee, Susan Leong, Benjamin Lim': 1,\n",
              " 'Elijah Wood, John C. Reilly, Jennifer Connelly, Christopher Plummer, Crispin Glover, Martin Landau, Fred Tatasciore, Alan Oppenheimer, Tom Kane': 1,\n",
              " 'Jim Sturgess, Kevin Spacey, Kate Bosworth, Aaron Yoo, Liza Lapira, Jacob Pitts, Laurence Fishburne, Jack McGee, Josh Gad, Sam Golzari, Helen Carey, Jack Gilpin': 1,\n",
              " 'Erdal Beşikçioğlu, Yasemin Allen, Melis Birkan, Saygın Soysal, Berkan Şal, Metin Belgin, Ayça Eren, Selin Uludoğan, Özay Fecht, Suna Yıldızoğlu': 1,\n",
              " 'Amina Khalil, Ahmed Dawood, Tarek Lotfy, Ahmed El Fishawy, Mahmoud Hijazi, Jihane Khalil, Asmaa Galal, Tara Emad': 1,\n",
              " 'Samuel L. Jackson, John Heard, Kelly Rowan, Clifton Collins Jr., Tony Plana': 1,\n",
              " 'Divya Dutta, Atul Kulkarni, Mohan Agashe, Anupam Shyam, Raayo S. Bakhirta, Yashvit Sancheti, Greeva Kansara, Archan Trivedi, Rajiv Pathak': 1,\n",
              " 'Rajneesh Duggal, Adah Sharma, Indraneil Sengupta, Anjori Alagh, Rajendranath Zutshi, Vipin Sharma, Amin Hajee, Shri Vallabh Vyas': 1,\n",
              " \"Thomas Jane, Molly Parker, Dylan Schmid, Kaitlyn Bernard, Bob Frazer, Brian d'Arcy James, Neal McDonough\": 1,\n",
              " 'Robert Więckiewicz, Maciej Musiał, Michalina Olszańska, Andrzej Chyra, Clive Russell, Zofia Wichłacz, Edyta Olszówka, Mateusz Kościukiewicz, Ewa Błaszczyk, Vu Le Hong, Tomasz Włosok, Krzysztof Wach': 1,\n",
              " 'Artiwara Kongmalai': 1,\n",
              " 'Omar Epps, Kate Walsh, Miranda Cosgrove, Angus Macfadyen, Jorja Fox, Enver Gjokaj, Haaz Sleiman': 1,\n",
              " 'Sadiq Daba, David Bailie, Kayode Olaiya, Kehinde Bankole, Fabian Adeoye Lojede, Nick Rhys, Kunle Afolayan, Colin David Reese, Ibrahim Shatta, Femi Adebayo, Kanayo O. Kanayo, Lawrence Stubbings, Ademola Adedoyin': 1,\n",
              " 'Shahd El Yaseen, Shaila Sabt, Hala, Hanadi Al-Kandari, Salma Salem, Ibrahim Al-Harbi, Mahmoud Boushahri, Yousef Al Balushi, Ghorour, Abdullah Al-bloshi': 1,\n",
              " 'Anders Danielsen Lie, Jon Øigarden, Jonas Strand Gravli, Ola G. Furuseth, Maria Bock, Thorbjørn Harr, Jaden Smith': 1,\n",
              " 'Rahul Pethe, Mrunmayee Deshpande, Adinath Kothare, Vaibhav Mangale, Jaywant Wadkar, Satish Pulekar, Naina Apte, Uday Tikekar': 1,\n",
              " 'Lee Dixon, Ian Wright, Paul Merson': 1,\n",
              " 'Geetanjali Thapa, Zain Khan Durrani, Shray Rai Tiwari, Mona Ambegaonkar, Chandreyee Ghosh, Barun Chanda, Saheb Bhattacharjee, Shefali Chauhan': 1,\n",
              " 'Samuthirakani, Bharath Seeni, Vinoth, Esakki Barath, Chemban Vinod Jose, Gautham Menon, Krisha Kurup, Subiksha': 1,\n",
              " 'Adil Hussain, Shakil Imtiaz, Mahendra Rabha, Sulakshana Baruah, Rahul Gautam Sarma, Kulada Bhattacharjya, Indu Mohan Das, Moumita Talukdar': 1,\n",
              " 'Soumitra Chatterjee, Prasenjit Chatterjee, Indrani Haldar, Sudipta Chakraborty, Suman Banerjee, Gargi Roychowdhury': 1,\n",
              " 'Bryson Baugus, Emily Neves, Blake Shepard, Patrick Poole, Luci Christian, Adam Gibbs, Masakazu Morita, Fumiko Orikasa, Takahiro Sakurai, Hiroaki Miura, Satomi Sato, Katsuyuki Konishi': 1,\n",
              " 'Yoo Ah-in, Park Shin-hye': 1,\n",
              " 'Helen Mirren, Gengher Gatti': 1,\n",
              " 'Kenya Barris, Rashida Jones, Iman Benson, Genneya Walton, Scarlet Spencer, Justin Claiborne, Ravi Cabot-Conyers': 1,\n",
              " 'Adipati Dolken, Vanesha Prescilla, Rendi Jhon, Beby Tsabina, Denira Wiraguna, Refal Hady, Diandra Agatha, Sari Nila': 1,\n",
              " 'Adipati Dolken, Mawar de Jongh, Sari Nila, Vonny Cornellya, Clay Gribble, Ivan Leonardy, Sarah Sechan, Jourdy Pranata': 1,\n",
              " 'Nesta Cooper, Kate Walsh, John Michael Higgins, Keith Powers, Alicia Sanz, Jake Borelli, Kid Ink, Yousef Erakat, Rebekah Graf, Anne Winters, Peter Gilroy, Patrick Davis': 1,\n",
              " 'Jake Short, Sarah Fisher, Booboo Stewart, Danny Trejo, Pippa Mackie, Jake Smith, Patricia Zentilli, Carter Thicke': 1,\n",
              " 'Flavia Hojda, Crina Semciuc, Olimpia Melinte, Levent Sali, Vlad Logigan, Alex Calin, Alina Chivulescu, Razvan Vasilescu': 1,\n",
              " 'Maia Morgenstern, Olimpia Melinte, Crina Semciuc, Flavia Hojda, Maria Dinulescu, Alex Calin, Vlad Logigan, Levent Sali, Silvia Busuioc, Mihaela Mihut': 1,\n",
              " 'Chutavuth Pattarakampol, Sheranut Yusananda, Nichaphat Chatchaipholrat, Thassapak Hsu': 1,\n",
              " 'Estefanía de los Santos, Secun de la Rosa, Terele Pávez, María Alfonsa Rosso, Mariola Fuentes, Alfonso Sánchez, Paz Vega, Marta Torné, Concha Galán': 1,\n",
              " 'Erdem Yener, Ayhan Taş, Emin Olcay, Muharrem Gülmez, Elif Nur Kerkük, Tarık Papuççuoğlu, Suzan Aksoy, Doğa Konakoğlu, Esin Eden, Deniz Özerman': 1,\n",
              " 'Jóhannes Haukur Jóhannesson, Ágústa Eva Erlendsdóttir, Elma Stefania Agustsdottir, Thor Kristjansson, Anna Gunndís Guðmundsdóttir, Sara Dögg Ásgeirsdóttir, Þröstur Leó Gunnarsson, Jóhann Sigurðarson, Sveinn Geirsson, Arnar Páll Harðarson': 1,\n",
              " 'Ayça Erturan, Aydan Taş, Ayşegül Akdemir, Burcu Gönder, Bülent Emrah Parlak, Büşra Pekin, Emre Canpolat, Ersin Korkut, Eser Yenenler, Gizem Tuğral, Gülhan Tekin, Gülsüm Alkan, Hamdi Kahraman, İbrahim Büyükak, Metin Keçeci': 1,\n",
              " 'Beverly Osu, Sharon Ooja, Omowunmi Dada, Pearl Okorie, Wofai Samuel, Ikechukwu Onunaku, Kemi Lala Akindoju, Blossom Chukwujekwu, Adebukola Oladipupo, Omoni Oboli, Segun Arinze, Ada Ameh, Sambasa Nzeribe, Patrick Doyle, Gregory Ojefua': 1,\n",
              " 'Charlize Theron, Marton Csokas, Jonny Lee Miller, Sophie Okonedo, Frances McDormand, Pete Postlethwaite, Amelia Warner, Caroline Chikezie, Nikolai Kinski, Paterson Joseph, Yangzom Brauen': 1,\n",
              " 'Alican Yücesoy, Melisa Sözen, Musa Uzunlar, Serkan Ercan, Özkan Uğur, Ülkü Duru, Tansu Biçer, Nadir Sarıbacak, Sermet Yeşil, Ayhan Kavas': 1,\n",
              " 'Lexi Giovagnoli, Justin Ray, Rae Latt, Poonam Basu, Teresa Biter, Kalilah Harris, Alexia Dox, Adam Powell, Sean McBride': 1,\n",
              " 'Billy Crudup, Graham Rogers, Liana Liberato, Stefanie Scott, Tim Roth, Melanie Lynskey, Thomas Cocquerel, Peter Coyote': 1,\n",
              " 'Ayo Makun, Adesua Etomi, Richard Mofe-Damijo, Mercy Johnson, Falz, Tuface Idibia, Thenjiwe Moseley, Motlatsi Mafatshe, Celeste Ntuli, Miguel A. Núñez Jr.': 1,\n",
              " 'Franck Dubosc, Claude Rich, Marie Kremer, Mathis Touré, Rufus, Olivier Claverie': 1,\n",
              " 'Steven Strait, Camilla Belle, Cliff Curtis, Joel Virgel, Affif Ben Badra, Mo Zinal, Nathanael Baring, Mona Hammond, Omar Sharif': 1,\n",
              " 'Doh Kyung-soo, Nam Ji-hyun, Cho Seong-ha, Cho Han-cheul, Kim Seon-ho, Han So-hee': 1,\n",
              " 'Zainab Johnson, Sammy Obeid, Alie Ward': 1,\n",
              " 'Dani Rovira, Karra Elejalde, Alexandra Jiménez, David Verdaguer, Clara Segura, Alba Ribas, Bruno Bergonzini, Ricardo Pereira, Manuela Couto, Marc Balaguer': 1,\n",
              " 'Isabela Moner, Jaheem Toombs, Owen Joyner, Jack De Sena, Brady Reiter, Lisa Arch, Stephanie Escajeda': 1,\n",
              " 'Anisa Rahma, Ariyo Wahab, Anandito Dwis, Fitria Rasyidi, Arafah Rianti, Kinaryosih': 1,\n",
              " 'Daniel Palmer, Melissa Sophia, Karen Williams, Grace Woodward': 1,\n",
              " 'Usha Naik, Sandeep Pathak, Shrikant Yadav, Ganesh Yadav, Pooja Nayak, Devendra Gaikwad': 1,\n",
              " 'Sam Upton, Jared Abrahamson, Mark Boone Junior, Laila Ali, Kate Vernon, Cassi Thomson, Colby French, Miguel Perez, Jay Acovone': 1,\n",
              " 'So-yeon Lee, Namkoong Min, Tae-im Lee, So-hui Yoon, Won-keun Lee, Hyo-young Ryu': 1,\n",
              " 'PJ McCabe, Brianne Moncrief, Sarah Baldwin, Jim Cummings, Heidi Niedermeyer, Neville Archambault': 1,\n",
              " \"Dylan Minnette, Katherine Langford, Kate Walsh, Derek Luke, Brian d'Arcy James, Alisha Boe, Christian Navarro, Miles Heizer, Ross Butler, Devin Druid, Michele Selene Ang, Steven Silver, Amy Hargreaves\": 1,\n",
              " 'Dylan Minnette, Katherine Langford, Kate Walsh, Derek Luke, Alisha Boe, Justin Prentice, Brandon Flynn, Miles Heizer, Christian Navarro, Brian Yorkey, Tom McCarthy, Selena Gomez, Mandy Teefey, Jay Asher, Dr. Rona Hu, Dr. Helen Hsu, Dr. Rebecca Hedrick, Alexis Jones, Elaine Welteroth, Julia Bicknell, Dr. Christine Moutier, Nic Sheff, Carrie Goldberg, Anne Winters, Joy Gorman, Brandon Butler, Marissa Jo Cerar, Susanne Timms': 1,\n",
              " 'Mark Webber, Rutina Wesley, Devon Graye, Tom Bower, Ron Perlman, Pruitt Taylor Vince': 1,\n",
              " 'Donnie Yen, Zhao Wei, Wu Chun, Law Kar-Ying, Kate Tsui, Yuwu Qi, Wu Ma, Chen Kuan Tai, Sammo Kam-Bo Hung, Chen Zhi Hui, Damian Lau, Xiang Dong Xu': 1,\n",
              " 'Neville Archambault, Amber Midthunder, Brytnee Ratledge, Hank Rogerson, Chelsea Edmundson, John-Paul Howard, Lora Martinez-Cunningham, Brianne Moncrief': 1,\n",
              " 'Bruce Willis, Mos Def, David Morse, Jenna Stern, Cylk Cozart, Casey Sander, David Zayas, Robert Racki, Patrick Garrow, Sasha Roiz': 1,\n",
              " 'Zac Efron, Leslie Mann, Matthew Perry, Thomas Lennon, Michelle Trachtenberg, Melora Hardin, Sterling Knight, Hunter Parrish, Nicole Sullivan, Allison Miller': 1,\n",
              " 'Vittoria Puccini, Benedetta Porcaroli, Edoardo Leo, Sara Lazzaro, Marco Messeri, Betty Pedrazzi, Alessandro Giallocosta, Filippo Gili, Giacomo Rosselli': 1,\n",
              " 'Luis Tosar, Javier Gutiérrez, Álvaro Cervantes, Karra Elejalde, Carlos Hipólito, Ricardo Gómez, Patrick Criado, Eduard Fernández, Miguel Herrán, Emilio Palacios': 1,\n",
              " 'Nicole Brydon Bloom, Giles Matthey, Taylor Nichols, Alan Blumenfeld, Celeste Sully, Susan Davis, Clayton Hoff, Earnestine Phillips': 1,\n",
              " 'Hayley Lovitt, Teddy Cole, Brook Todd, Ace Harney, Jason Macdonald': 1,\n",
              " 'Ramzy Bedia, Éric Judor, Benoît Magimel, Kristin Scott Thomas, Élodie Bouchez, Édouard Baer, Fred Testot, Omar Sy': 1,\n",
              " 'Alia Bhatt, Arjun Kapoor, Ronit Roy, Amrita Singh, Revathy, Aru Krishansh Verma': 1,\n",
              " 'Darlene Love, Merry Clayton, Lisa Fischer, Táta Vega, Claudia Lennear, Judith Hill, Bruce Springsteen, Mick Jagger, Stevie Wonder, Sting, Bette Midler, Cissy Houston, Sheryl Crow, Tata Vega': 1,\n",
              " 'Tuba Büyüküstün, Ilker Aksum, Bülent Emin Yarar, İpek Bilgin, Müjde Uzman, Firat Çelik, Ayten Uncuoglu, Cihat Tamer': 1,\n",
              " '4Minute, B1A4, BtoB, ELSIE, EXID, EXO, Got7, INFINITE, KARA, Shinee, Sistar, VIXX, Nine Muses, BTS, Secret, Topp Dogg': 1,\n",
              " 'Katee Sackhoff, Ray Fearon, Julie Cox, Steven Cree, David Tse, Joe David Walters': 1,\n",
              " 'Annette Bening, Elle Fanning, Greta Gerwig, Lucas Jade Zumann, Billy Crudup': 1,\n",
              " 'Miles Teller, Skylar Astin, Justin Chon, Sarah Wright, Jonathan Keltz, François Chau, Russell Hodgkinson, Daniel Booko, Russell Mercado, Josie Loren, Dustin Ybarra': 1,\n",
              " 'Laura Morgan': 1,\n",
              " 'Luke Kenny, Mohit Raina, Mukul Dev': 1,\n",
              " 'Stephanie Bennett, Emmanuel Kabongo, RJ Fetherstonhaugh, Andres Joseph, Kevin Claydon, Conrad Pla, Clark Backo, Ryan Pierce, Eileen Li, Susan Bain, Cristina Rosato, Jonathan Kim, Colm Feore': 1,\n",
              " 'Paul Sidhu, Arielle Holmes, Branden Coles, Kelcey Watson, Anne-Solenne Hatte, Brad Potts, Timothy Lee DePriest, Fernando Argosino, Duchess Dukes, Harwood Gordon, Stormi Henley': 1,\n",
              " 'Ethan Hawke, Xu Qing, Paul Anderson, Rutger Hauer, Tyrone Keogh, Nathalie Boltt, Liam Cunningham': 1,\n",
              " 'Guggu Gill, Yograj Singh, Sonia Mann, Jimmy Sharma, Sapna Bassi, Lakha Lakhwinder Singh, Sandeep Kaur Sandy, Sardar Sohi': 1,\n",
              " 'Goo Jin, Hye-jin Han, Soo-bin Bae, Seul-ong Im, Kyeong-yeong Lee, Gwang Jang, Deok-jae Jo, Eui-sung Kim, Seok-Hwan An, Bok-gi Min': 1,\n",
              " 'Diego Capusotto, Sofía Gala, Daniel Aráoz, Willy Toledo, El Polaco, Paula Manzone, Yayo Guridi, Guillermo Toledo': 1,\n",
              " 'Janis Joplin, Jimi Hendrix, Amy Winehouse, Jim Morrison, Kurt Cobain': 1,\n",
              " \"Sandra Bullock, Viggo Mortensen, Dominic West, Diane Ladd, Elizabeth Perkins, Steve Buscemi, Alan Tudyk, Mike O'Malley, Azura Skye, Reni Santoni, Marianne Jean-Baptiste\": 1,\n",
              " 'Jin-sung Yang, Kyu-jong Kim, Tae-hwan Kang, Geummi': 1,\n",
              " 'Kevin Costner, Amber Heard, Hailee Steinfeld, Connie Nielsen, Tómas Lemarquis, Richard Sammel, Marc Andréoni, Bruno Ricci, Jonas Bloquet, Eriq Ebouaney': 1,\n",
              " 'Naseeruddin Shah, Jackie Shroff, Juhi Chawla, Nagesh Kukunoor, Gulshan Grover, Aditya Lakhia, Shri Vallabh Vyas': 1,\n",
              " 'Elle Fanning, Naomi Watts, Susan Sarandon, Tate Donovan, Linda Emond, Jordan Carlos, Sam Trammell, Maria Dizzia, Tessa Albertson': 1,\n",
              " 'Reza Rahadian, Bunga Citra Lestari, Tara Basro, Chelsea Islan': 1,\n",
              " 'Aamir Khan, Kareena Kapoor, Madhavan, Sharman Joshi, Omi Vaidya, Boman Irani, Mona Singh, Javed Jaffrey': 1,\n",
              " 'Kostja Ullmann, Eko Fresh, Kida Khodr Ramadan, Sabrina Klüber, Sami Nasser, Kayla Rybicka, Jytte-Merle Böhrnsen, Emrah Erdogru, Tim Grothe, Hülya Duyar': 1,\n",
              " 'Taher Farouz, Sad Al-Saghir, Ahmad Faloks, Soleiman Eid, Mahmood El-Laithi, Hesham Ismail, Shaima Saif, Nermin Maher, Sofinar': 1,\n",
              " 'Jesse Eisenberg, Danny McBride, Aziz Ansari, Nick Swardson, Dilshad Vadsaria, Michael Peña, Bianca Kajlich, Fred Ward': 1,\n",
              " 'Krzysztof Stroiński, Andrzej Mellin, Adrianna Biedrzyńska, Adrianna Biedrzyńska, Rafał Zimowski, Kama Kowalewska, Wiesław Komasa, Aleksander Bednarz, Jadwiga Jankowska-Cieslak, Wojciech Klata': 1,\n",
              " 'Anna-Maria Sieklucka, Michele Morrone, Bronisław Wrocławski, Otar Saralidze, Magdalena Lamparska, Natasza Urbańska, Grażyna Szapołowska, Tomasz Stockinger, Gianni Parisi, Mateusz Łasowski': 1,\n",
              " 'Mei Kayama, Misuzu Kanno, Shunsuke Daitoh, Makiko Watanabe, Yoshihiko Kumashino, Minori Hagiwara, Shohei Uno, Yuka Itaya, Kiyohiko Shibukawa, Eita Okuno, Haruka Imou, Toshinori Omi': 1,\n",
              " 'Tatiana Maslany, Diego Luna, Nick Offerman, Nick Frost, Glenn Close, Alon Aboutboul, Hayley Atwell, Darin De Paul, Andy Garcia, Cheryl Hines, Tom Kenny, Chris Obi, Cole Sand, Frank Welker, Steven Yeun': 1,\n",
              " 'Robert Agengo, Mwaura Bilal, Andreo Kamau, Cajetan Boy, Arabron Nyyeneque, Shiviske Shivisi, Xavier Ywaya': 1,\n",
              " 'Jake Bickelhaupt': 1,\n",
              " 'Sarah Natochenny, Suzy Myers, Simona Berman, Erica Schroeder, Marca Leigh, Scottie Ray, Henry F. Benjamin': 1,\n",
              " 'Carlos Cuevas, Guiomar Puerta, Iván Marcos, Israel Elejalde, Eudald Font, Luis Larrodera, Carmen Gutiérrez, Diana Gómez, Vito Sanz, Marina San José, Pere Ponce, Joan Pera': 1,\n",
              " 'Khiyla Aynne, Noah Dyer, Maya Franzoi, Clara Kushnir, Madeline Leon, Liam MacDonald, Matt Schichter, Ethan Yang, Adam Crew': 1,\n",
              " 'Jean Reno, Hovik Keuchkerian, Susana Abaitua, Juan Dos Santos, Arturo Valls, Enrique San Francisco, Francesc Garrido, Eric Nguyen': 1,\n",
              " 'Evan Todd, Parker Young, Chord Overstreet, Jon Gabrus, Kate Flannery, Brooke Dillman, Jennifer Damiano, Jordan Lane Price, Alex Rennie, Jake Epstein': 1,\n",
              " 'Kate Henshaw-Nuttal, Enyinna Nwigwe, Linda Ejiofor, Yakubu Mohammed, Bimbo Manuel, Sani Mu’azu, Emil Hirai-Garuba, Rekiya Ibrahim Atta': 1,\n",
              " 'Ario Bayu, Arifin Putra, Dwi Sasono, Muhadkly Acho, Cornelio Sunny, Tika Bravani, Nirina Zubir, Ganindra Bimo, Verdi Solaiman': 1,\n",
              " 'Josh Pais, Claire van der Boom, Morgan Freeman, Diane Keaton, Carrie Preston, Cynthia Nixon, Korey Jackson, Diane Ciesla, Michael Cristofer': 1,\n",
              " 'Massimo Ghini, Ricky Memphis, Martina Stella, Ralph Palka, Biagio Izzo, Riccardo Rossi, Paola Minaccioni': 1,\n",
              " 'Anton Yelchin, Bérénice Marlohe, Olivia Thirlby, Lambert Wilson, Frank Langella, Glenn Close': 1,\n",
              " 'Adam Sandler, Drew Barrymore, Rob Schneider, Sean Astin, Lusia Strus, Dan Aykroyd, Amy Hill, Allen Covert, Blake Clark, Maya Rudolph': 1,\n",
              " 'Joseph Gordon-Levitt, Seth Rogen, Anna Kendrick, Bryce Dallas Howard, Anjelica Huston, Serge Houde, Andrew Airlie, Matt Frewer, Philip Baker Hall, Marie Avgeropoulos, Jessica Parker Kennedy': 1,\n",
              " 'Herjunot Ali, Raline Shah, Fedi Nuril, Pevita Pearce, Saykoji, Denny Sumargo, Didi Petet, Firrina Sinatrya': 1,\n",
              " 'Andrei Selaru, Dorian Popa, Julia Marcan, Ana Radu, Cosmin Nedelcu, Diana Condurache, Andrei Gavril, Luca Bogdan': 1,\n",
              " 'Abbi Jacobson, Dave Franco, Jane Kaczmarek, Tim Matheson, Charlotte Carel, Madeline Carel, Maya Erskine, Dawan Owens, Jen Tullock': 1,\n",
              " 'Jamie Bell, Abbie Cornish, Mark Strong, Martin Shaw, Ben Turner, Aymen Hamdouchi, Tim Pigott-Smith, Robert Portal, Colin Garlick, Andrew Grainger, Martin Hancock, Emun Elliott': 1,\n",
              " 'Ryan Reynolds, Mélanie Laurent, Corey Hawkins, Dave Franco, Adria Arjona, Manuel Garcia-Rulfo, Ben Hardy, Lior Raz, Payman Maadi, Yuri Kolokolnikov, Kim Kold': 1,\n",
              " 'Taissa Farmiga, Ben Rosenfield, Lindsay Burdge, Joshua Leonard, Jennifer Lafleur, Peter Vack, Dana Wheeler-Nicholson, Jason Newman, Molly McMichael': 1,\n",
              " 'Prashantt Guptha, Gaurav Paswala, Gaurav Kothari, Disha Kapoor, Niharica Raizada, Ashrut Jain, Darshan Machamada': 1,\n",
              " 'Matthew Gray Gubler, AnnaLynne McCord, Alisha Boe, Sheila Vand, Sam Eidson, James Moses Black, Ajay Mehta, Michael Beasley, David Maldonado, Hallie Grace Bradley, Peter Jaymes Jr., Eric Podnar, Lucy Faust': 1,\n",
              " 'Rahman, Havish, Regina Cassandra, Nandita Swetha, Anisha Ambrose, Tridha Choudhury, Pujitha Ponnada, Aditi Arya': 1,\n",
              " 'Paco León, Juana Acosta, Juan Pablo Raba, Alex Brendemühl, Manuel Morón': 1,\n",
              " 'Mahira Khan, Sheheryar Munawar, Javed Sheikh, Hina Dilpazeer, Amna Ilyas, Mira Sethi, Rimal Ali, Salahuddin Tunio, Aamir Qureshi, Adnan Shah': 1,\n",
              " 'Priyanka Chopra, Neil Nitin Mukesh, John Abraham, Irrfan Khan, Aleksandr Dyachenko, Annu Kapoor, Naseeruddin Shah, Vivaan Shah, Usha Uthup, Konkona Sen Sharma': 1,\n",
              " 'Mitch Ryan': 1,\n",
              " 'Nao Toyama, Jun Fukuyama, Katsuyuki Konishi, Yoko Soumi, Kana Asumi, Akira Ishida, Aoi Yuki, Kazuhiko Inoue, Yoko Hikasa, Hirofumi Nojima, Ryotaro Okiayu, Eri Kitamura, Mamiko Noto, Ryo Hirohashi, Shizuka Ito, Hisao Egawa, Mayumi Asano, Kenta Miyake, Ai Kakuma, Kaito Ishikawa, Mikako Komatsu, Daisuke Sakaguchi, Takanori Hoshino, Kenjiro Tsuda, Nozomu Sasaki, Kenji Nojima, Houko Kuwashima, Kensho Ono, Takahiro Sakurai, Haruka Chisuga, Yu Shimamura, Takuma Terashima, Takuya Sato, Junko Minagawa, Masashi Sugawara, Sho Hayami, Kazuyuki Okitsu, Minako Kotobuki': 1,\n",
              " 'Oviya, Masoom Shankar, Bommu Lakshmi, Monisha Ram, Tej Raj, Shree Gopika, Anson Paul, Devadarshini Chetan': 1,\n",
              " 'Bimbo Akintola, Somkele Iyamah, Danny Glover, Gideon Okeke, Seun Kentebe, Keppy Ekpenyong, Zara Udofia Ejoh, Bimbo Manuel, Patrick Diabuah, Tina Mba, Alastair Mackenzie, Tim Reid': 1,\n",
              " 'Nina Pearce, Adam Tuominen, Emily Morris, Amy Handley, Carmel Johnson, Alanah Gilbert, Hapi Murphy, Lilly Blacker, Julie Kay Lumasag, Elysia Markou': 1,\n",
              " 'Tamara Smart, Oona Laurence, Tom Felton, Troy Leigh-Anne Johnson, Lynn Masako Cheng, Ty Consiglio, Ian Ho, Indya Moore, Alessio Scalzotto, Tamsen McDonough': 1,\n",
              " 'Mila Kunis, Kristen Bell, Kathryn Hahn, Susan Sarandon, Christine Baranski, Jay Hernandez, Cheryl Hines, Peter Gallagher, Justin Hartley': 1,\n",
              " 'Qi Shu, Liu Ye, Anthony Wong Chau-Sang, Liang Tian, Danying Feng, Rina Sa, Zhang Songwen, Tian Gao, Andrew Lin': 1,\n",
              " 'Dhruva Padmakumar, Gaurav Sharma, Vasuki': 1,\n",
              " 'Christopher Gorham, Julian Feder, Kaitlin Doubleday, Andrew Bowen, Caitlin Carmichael, Sean Gunn, Bryan Batt, Fay Masterson, Brian George': 1,\n",
              " 'Crowd Lu, Tsai Chen-nan, Lotus Wang, Fan Chu-Mei, Hsieh Ying-shiuan, Vera Yen, Cammy Chiang': 1,\n",
              " \"Dirk Bogarde, James Caan, Michael Caine, Sean Connery, Edward Fox, Elliott Gould, Gene Hackman, Anthony Hopkins, Hardy Krüger, Laurence Olivier, Ryan O'Neal, Robert Redford, Maximilian Schell, Liv Ullmann\": 1,\n",
              " 'Lauren Swickard, Josh Swickard, Ali Afshar, David Del Rio, Natalia Mann, Katelyn Epperly, Gunnar Anderson, Julie Lancaster, Amanda Detmer': 1,\n",
              " 'Mandy Grace, David de Vos, Donna Rusch, Devan Key, Isabella Mancuso, Ariana Guido': 1,\n",
              " 'Emre Karayel, Ceren Moray, Begüm Kütük, Ececan Gümeci, Ümit Erdim, Cem Kiliç, Haldun Boysan, Ferdi Akarnur, Mine Teber, Güneş Hayat': 1,\n",
              " 'Kai Ko, Ariel Lin, Darren Wang, Zhang Xiaolong, Louis Koo, Vanness Wu, Kate Tsui': 1,\n",
              " 'Emily Alatalo, Lauren Holly, Yanic Truesdale, Franco Lo Presti, Andrew Bushell, Genelle Williams, Kyana Teresa, Eric Hicks': 1,\n",
              " 'Rose McIver, Ben Lamb, Alice Krige, Honor Kneafsey': 1,\n",
              " 'Rose McIver, Ben Lamb, Alice Krige, Honor Kneafsey, Sarah Douglas, Andy Lucas, Raj Bajaj, Richard Ashton, Tahirah Sharif, Joel McVeagh, Theo Devaney, Kevin Shen, Momo Yeung, Crystal Yu, Billy Angel': 1,\n",
              " 'Rose McIver, Ben Lamb, Alice Krige, Simon Dutton, Honor Kneafsey, Sarah Douglas, Theo Devaney, John Guerrasio, Andy Lucas, Raj Bajaj, Richard Ashton, Billy Angel, Tahirah Sharif, Joel McVeagh': 1,\n",
              " 'Cristina Vee, Bryce Papenbrook, Keith Silverstein, Mela Lee, Max Mittelman, Carrie Keranen, Stephanie Sheh, Selah Victor, Ben Diskin, Erin Fitzgerald, Grant George': 1,\n",
              " 'Hilary Duff, Chad Michael Murray, Jennifer Coolidge, Dan Byrd, Regina King, Julie Gonzalo, Lin Shaye, Madeline Zima, Andrea Avery, Mary Pat Gleason, Paul Rodriguez, Whip Hubley, Kevin Kilner, Erica Hubbard, Simon Helberg': 1,\n",
              " 'Laura Marano, Gregg Sulkin, Isabella Gomez, Johannah Newmarch, Lillian Doucet-Roche, Chanelle Peloso, Barclay Hope, Garfield Wilson': 1,\n",
              " 'Malcolm McDowell, Patrick Magee, Michael Bates, Warren Clarke, Adrienne Corri, Paul Farrell, Miriam Karlin, James Marcus': 1,\n",
              " 'Debra Winger, Barbara Hershey, Gabriel Byrne, Laurie Metcalf, John Terry, Maggie Gyllenhaal, Jake Gyllenhaal, Chloe Webb, David Strathairn': 1,\n",
              " 'Drake Bell, Daniella Monet, David Lewis, Susanne Blakeslee, Daran Norris, Scott Baio, Devon Weigel, Ella Anderson, Carter Hastings': 1,\n",
              " 'Crystal Fox, Phylicia Rashad, Cicely Tyson, Bresha Webb, Mehcad Brooks, Adrian Pasdar, Tyler Perry': 1,\n",
              " 'Tom Fassaert': 1,\n",
              " 'Gerard Butler, Gretchen Mol, Alison Brie, Willem Dafoe, Alfred Molina, Maxwell Jenkins, Anupam Kher, Dustin Milligan': 1,\n",
              " 'Loretta Devine, Tia Mowry-Hardrict, Anthony Alabi, Talia Jackson, Isaiah Russell-Bailey, Cameron J. Wright, Jordyn Raya James, Jackée Harry, Richard Roundtree': 1,\n",
              " 'Tiger Shroff, Jacqueline Fernandez, Nathan Jones, Kay Kay Menon, Amrita Singh, Gaurav Pandey, Shraddha Kapoor, Amrita Puri': 1,\n",
              " 'Esben Smed, Katrine Rosenthal, Benjamin Kitter, Julie Christiansen, Tommy Kenter, Tammi Øst, Rasmus Bjerg, Ole Lemmeke, Sarah Viktoria Bjerregaard, Anders Hove, Jens Albinus': 1,\n",
              " 'Will Forte, Domhnall Gleeson, Martin Mull, Joel McHale, Matt Lucas, Thomas Lennon, Seth Green, Jackie Tohn, Natasha Lyonne, Emmy Rossum, Elvy Yost, Matt Walsh, John Gemberling, Rick Glassman, Camille Guaty': 1,\n",
              " 'Casey Affleck, Rooney Mara, Liz Franke, Rob Zabrecky, Will Oldham, Sonia Acevedo': 1,\n",
              " 'Charlie Sheen, Jason Schwartzman, Bill Murray, Katheryn Winnick, Patricia Arquette, Aubrey Plaza, Mary Elizabeth Winstead, Dermot Mulroney': 1,\n",
              " 'Alan C. Lim, Taron C. Hensley, Maisie Benson, Kerry Gudjohnsen, Paul Killam, Smith Foreman, Ann Kendrick, Ella Joy Ballesteros, Neena-Sinaii Simpo, Eli Morse': 1,\n",
              " 'Alan C. Lim, Smith Foreman, Maisie Benson, Ann Kendrick, Kerry Gudjohnsen, Paul Killam, Stanley Moore, Tyler Hendrix, Ella Joy Ballesteros, Jimmy Olea': 1,\n",
              " 'Alan C. Lim, Smith Foreman, Abigail Vibat, Pfifer Chastain, Jim Capobianco, Neena-Sinaii Simpo, Eli Morse, Adelaide Hirasaki, Paul Killam, Kerry Gudjohnsen, Maisie Benson': 1,\n",
              " 'Tien Hsin, Christopher Lee, Darren Chiu, Shara Lin, Blaire Chang, Xi Man-Ning, Chu De-Kang': 1,\n",
              " 'Julie Walters': 1,\n",
              " 'Marlon Wayans, Essence Atkins, Cedric the Entertainer, Nick Swardson, David Koechner, Dave Sheridan, Affion Crockett, J.B. Smoove, Andrew Daly, Alanna Ubach': 1,\n",
              " 'Laura Flannery, James Cavlo, Harry Hains, Clemmie Dugdale, Dendrie Taylor, Bryan Chesters, Jennifer Dorogi, Adam Lazarre-White, Nikita Ramsey': 1,\n",
              " 'Peter Kurth, Lena Lauzemis, Lina Wendel, Edin Hasanovic, Marko Dyrlich, Peter Schneider, Reiner Schöne, Udo Kroschwald': 1,\n",
              " 'Bonnie Somerville, Shelley Long, Jordan Bridges, Sam McMurray, Haylie Duff, Sam Horrigan, Carrie Wiita, Chris McKenna, Edi Patterson, Jennifer Elise Cox': 1,\n",
              " 'Francis Chun-Yu Ng, Louis Koo, Anita Yuen, Tat-Ming Cheung, Jocelyn Choi, Ng Siu-hin, Lam Suet, Anthony Wong Chau-Sang, Lo Hoi-pang': 1,\n",
              " 'Eli Shi, Phoebe Lin, Chen Wan-ting, Fan Chen-fei, Lu Hsueh-feng, Figaro Tseng, Winnie Chang, Elten Ting': 1,\n",
              " 'Stephon Marbury': 1,\n",
              " 'Patrick Wilson, Jessica Biel, Vincent Kartheiser, Haley Bennett, Eddie Marsan, Jon Osbeck, Radek Lord, Christine Dye': 1,\n",
              " 'Lee Seung-gi, Cha Seung-won, Oh Yeon-seo, Lee Hong-gi, Jang Gwang, Lee Se-young': 1,\n",
              " 'Peter Yu, Liu Xiaoyi, Guo Yue, Ishtiaque Zico, Jack Tan': 1,\n",
              " 'Kate Winslet, Matthias Schoenaerts, Alan Rickman, Stanley Tucci, Helen McCrory, Steven Waddington, Jennifer Ehle, Rupert Penry-Jones, Paula Paul, Danny Webb, Phyllida Law': 1,\n",
              " 'Carol Burnett, Russell Peters, Mark Cuban, Taraji P. Henson, Brittany Snow, Wanda Sykes, Derek Hough, Billy Eichner, Lisa Kudrow, Candace Cameron Bure, DJ Khaled, Tony Hale, Julie Bowen': 1,\n",
              " 'Lai Kuan-lin, Zhao Jinmai, Wang Runze, Chai Wei, Wang Bowen': 1,\n",
              " 'Kim Yo-han, So Joo-yeon, Yeo Hoi-hyun, Jeong Jin-hwan, Jo Hye-joo, Yun Seo-hyun, Cho Ryun, Kim Sung-gon, Seong Hye-min, Park Ji-won': 1,\n",
              " 'Maricel Soriano, Aga Muhlach, Angelica Panganiban, Dante Rivero, Chin Chin Gutierrez, Bobby Andrews, TJ Trinidad, Baron Geisler, John Arcilla, Gerald Madrid': 1,\n",
              " 'Song Il-gook, Han Chae-young, Kim Min-jong, Go Eun Han, Jung Hoon Lee, Nam Da-Reum, Yoo In-young': 1,\n",
              " 'Gérard Depardieu, Chantal Lauby, Medi Sadoun, Ilian Bergala, Blanche Gardin, Patrick Timsit, Barbara Cabrita, Jean Dell, Thomas Vandenberghe, Théo Fernandez, Léa Lopez': 1,\n",
              " 'Edward, Fifi Abdo, Lotfy Labib, Madeleine Matar, Nahla Zaki, Ahmed Fathy, Said Tarabeek, Badriya Tolba, Eman El-Sayed': 1,\n",
              " 'Lewis MacDougall, Sigourney Weaver, Felicity Jones, Liam Neeson, Toby Kebbell, Ben Moor, James Melville, Oliver Steer, Dominic Boyle, Geraldine Chaplin, Jennifer Lim': 1,\n",
              " 'Oscar Isaac, Jessica Chastain, David Oyelowo, Albert Brooks, Elyes Gabel, Catalina Sandino Moreno, Christopher Abbott, Peter Gerety, Alessandro Nivola': 1,\n",
              " 'Nia Fairweather, Chris Noth, Cooper Koch, Tyra Ferrell, Denny Dillon, Adriana DeMeo, Otoja Abit, David Anzuelo, Camilla Harden, Natasha Goodman, Avery Whitted, Tony D. Head, Joe Perrino': 1,\n",
              " 'Will Ferrell, Chris Kattan, Dan Hedaya, Molly Shannon, Richard Grieco, Loni Anderson, Elisa Donovan, Gigi Rice, Lochlyn Munro, Dwayne Hickman': 1,\n",
              " 'Gijs Scholten van Aschat, Jacob Derwig, Rifka Lodeizen, Juda Goslinga, Zeb Troostwijk, Elisabeth Hesemans, Joosje Duk': 1,\n",
              " 'Stephen Graham, Conleth Hill, Lara Pulver, Arsher Ali, Stuart Graham, Ian McElhinney': 1,\n",
              " 'Barbara Niven, Jessica Clark, John Heard, Morgan Fairchild, Kerry Knuppe, Imelda Corcoran, Mary Jane Wells, Rebecca Staab, Michael Adam Hamilton, Bryan Jackson, Bryan Mordechai Jackson': 1,\n",
              " 'Liev Schreiber, Jeanne Tripplehorn, Joelle Carter, Louise Fletcher, Katie Carr, Renée Soutendijk, Huub Stapel, Michael Pas': 1,\n",
              " 'Tanya Streeter': 1,\n",
              " 'Katie McGrath, Sir Roger Moore, Sam Heughan, Travis Turner, Leilah de Meza, Miles Richardson, Charlotte Salt': 1,\n",
              " 'Gloria Groove, Alexia Twister': 1,\n",
              " 'Carmen Machi, Pepón Nieto, Kiti Mánver, Jon Kortajarena, Jimmy Castro, Ricardo Nkosi, Montse Pla, Malcolm Treviño-Sitté, Pepa Charro, Esperanza Elipe, Mariana Cordero, Txema Blasco': 1,\n",
              " 'Russell Peters, Pamela Anderson, Michael Bublé, Jon Lovitz, Scott Thompson, Faizon Love, Goapele, Ted Lange': 1,\n",
              " 'Johnny Baweja, Reeth Mazumder, Manav Kaul, Tanvi Vyas, Puru Chibber, Vasundhara Kaul, Aayam Mehta, Niraj Sah': 1,\n",
              " 'John Lloyd Cruz, Bea Alonzo, Dimples Romana, Janus del Prado, James Blanco, Ahron Villena, Beatriz Saw, Shamaine Centenera, Khalil Ramos, Billy Crawford, Al Tantay, Arci Muñoz': 1,\n",
              " \"Leila Hatami, Peyman Moaadi, Shahab Hosseini, Sareh Bayat, Sarina Farhadi, Babak Karimi, Ali-Asghar Shahbazi, Shirin Yazdanbakhsh, Kimia Hosseini, Merila Zare'i, Sahabanu Zolghadr\": 1,\n",
              " 'Neil Patrick Harris, Patrick Warburton, Malina Weissman, Louis Hynes, K. Todd Freeman, Joan Cusack, Aasif Mandvi': 1,\n",
              " 'Michael Stuhlbarg, Richard Kind, Fred Melamed, Sari Lennick, Adam Arkin, Amy Landecker, Alan Mandell, Fyvush Finkel, Peter Breitmayer, Aaron Wolff, Jessica McManus, Brent Braunschweig': 1,\n",
              " 'Justin Fletcher, John Sparkes, Amalia Vitale, Kate Harbour, David Holt': 1,\n",
              " 'Miyu Irino, Saori Hayami, Aoi Yuki, Kensho Ono, Yuki Kaneko, Yui Ishikawa, Megumi Han, Toshiyuki Toyonaga, Mayu Matsuoka': 1,\n",
              " 'Colin Firth, Julianne Moore, Nicholas Hoult, Ginnifer Goodwin, Matthew Goode, Paul Butler, Ryan Simpkins, Teddy Sears, Paulette Lamori, Jon Kortajarena': 1,\n",
              " 'Bárbara Lennie, Daniel Aráoz, Claudio Tolcachir, Paula Cohen, Yanina Ávila': 1,\n",
              " 'Laura Marano, Parker Mack, Katherine McNamara, Marcus Lyle Brown, Shayne Topp, Michelle Clunie, Kathleen Wilhoite': 1,\n",
              " 'Ken Olin, Jill Eikenberry, Maureen Mueller, Gregg Henry, Nicholas Pryor, Noble Willingham, Peter Michael Goetz, Ron Perlman, Theodore Bikel, Olivia Burnette, Bill Allen, Brad Pitt': 1,\n",
              " 'Edward Asner, Judy Greer, Erin Fitzgerald, Fred Tatasciore, Jeff Gill, Gregg Spiridellis, Evan Spiridellis, Jim Meskimen, Nate Theis': 1,\n",
              " 'Wu Chien-ho, Chen Yi-wen, Samantha Ko, Liu Kuan-ting, Greg Hsu, Wu Tai-ling, Wen Chen-ling, Yin Shin': 1,\n",
              " 'Tammy Chen, James Wen, Peggy Tseng, Denny Huang': 1,\n",
              " 'Natalie Portman, Gilad Kahana, Amir Tessler, Moni Moshonov, Ohad Knoller, Makram Khoury, Neta Riskin, Alexander Peleg, Rotem Keinan, Tomer Kapon': 1,\n",
              " 'Martin Lawrence, Lynn Whitfield, Regina King, Bobby Brown, Della Reese, Daryl Mitchell, Roger Mosley, Malinda Williams, Roger E. Mosley, Simbi Khali, Tangie Ambrose, Wendy Raquel Robinson, Stacii Jae Johnson, Faizon Love, Miguel A. Núñez Jr., Tracy Morgan': 1,\n",
              " 'Cindy Lien, Nicholas Teo, Yao Ai-ning, Li Chung-lin, Chen Bor-jeng, Miao Ke-li': 1,\n",
              " 'Eddie Murphy, Kerry Washington, Cliff Curtis, Clark Duke, Allison Janney, Ruby Dee, John Witherspoon, Jack McBrayer': 1,\n",
              " 'Weber Yang, Cheryl Yang, Tien Hsin, Gabriel Lan, Wu Kang-jen, Cindy Lien, Wen Chen-ling, Hans Chung': 1,\n",
              " 'Henry Keane, Glen Keane, Lucas Neff, Brian Baumgartner, Jackie Loeb, John DiMaggio': 1,\n",
              " 'Ayo Makun, Funke Akindele, Nse Ikpe-Etim, Dan Davies, Paul Campbell, Chris Attoh, Rebecca Silvera, Eric Roberts, Joe Diaz, Alex Moore': 1,\n",
              " 'Revathi, Roger Narayanan, Sneha Ravishankar, Vidya Shankar, SR Leela': 1,\n",
              " 'Antonio de la Torre, Chino Darín, Alfonso Tort, Soledad Villamil, César Troncoso, Silvia Pérez Cruz, César Bordón, Mirella Pascual, Nidia Telles, Eduardo Recabarren': 1,\n",
              " 'Bea Santos, Greyston Holt, Greg Vaughan, Deana Carter, Allison Hossack': 1,\n",
              " 'Bill Murray, Miley Cyrus, George Clooney, Chris Rock, Amy Poehler, Michael Cera, Maya Rudolph, Rashida Jones, Jason Schwartzman, Paul Shaffer, Jenny Lewis, Phoenix': 1,\n",
              " 'Hugo Becker, Wilfred Benaïche, Christophe Kourotchkine, Karim Barras, Bruno Paviot, Jean-Édouard Bodziak, Mathilde Warnier, Joséphine de La Baume, Marie-Julie Baup, Antoine Gouy, Julie Farenc': 1,\n",
              " 'John Lloyd Cruz, Sarah Geronimo, Dante Rivero, Rowell Santiago, Johnny Revilla, Bing Pimental, Daphne Oseña-Paez, Al Tantay, Irma Adlawan, Arno Morales, Miles Ocampo': 1,\n",
              " 'Mandy Moore, Shane West, Peter Coyote, Daryl Hannah, Lauren German, Clayne Crawford, Al Thompson': 1,\n",
              " 'Anupam Kher, Naseeruddin Shah, Jimmy Shergill, Deepal Shaw, Aamir Bashir, Kali Prasad Mukherjee, Vijay Bhatia, Chetan Pandit': 1,\n",
              " 'Mirai Shida, Natsuki Hanae, Hiroaki Ogi, Koichi Yamadera, Minako Kotobuki, Susumu Chiba, Ayako Kawasumi, Sayaka Ohara, Daisuke Namikawa': 1,\n",
              " 'Morgan Neundorf, Karen Slater, Loukia Ioannou, Will Ennis, Renee Stein, Keith Cooper, Paul Mason, Lisa Scenna, Ashley Rogan': 1,\n",
              " 'Storm Reid, Oprah Winfrey, Reese Witherspoon, Mindy Kaling, Deric McCabe, Levi Miller, Chris Pine, Gugu Mbatha-Raw, Zach Galifianakis, Michael Peña, Bellamy Young, André Holland, Will McCormack, Rowan Blanchard, Daniel MacPherson': 1,\n",
              " 'Scott Kelly': 1,\n",
              " 'Sivakumar Palakrishnan, Huang Lu, Seema Biswas, Udaya Soundari, Nithiyia Rao, Indra Chandran': 1,\n",
              " 'Juan Pablo Di Pace, Adam Levy, Chipo Chung, Babou Ceesay, Emmett Scanlan, Will Thorp, Richard Coyle, Vincent Regan, Greta Scacchi, James Callis, Joanne Whalley, Jodhi May, Chris Brazier, Fraser Ayres, Jóhannes Haukur Jóhannesson, Ken Bones, Kenneth Collard': 1,\n",
              " 'Haruka Shiraishi, Yusuke Kobayashi, Makoto Furukawa, Taishi Murata, Kaori Nazuka, M・A・O, Ryota Takeuchi, Ai Kayano, Toru Okawa, Takehito Koyasu, Atsuko Tanaka': 1,\n",
              " 'Debs Howard, Philip Granger, Sam Robert Muik, Havana Guppy, Bonnie Hay, Veronica Hampson, Lori Triolo, Andrew Coghlan, Laura Mitchell, Elinet Louicius': 1,\n",
              " 'Alex Neustaedter, Becky G., Alex MacNicoll, Dominic Rains, Thomas Jane, Lou Taylor Pucci, Patricia De Leon, Niko Guardado, Ted McGinley, Marie-Françoise Theodore, Eric Etebari, Dorian Kingi': 1,\n",
              " 'Mehmet Günsür, Belçim Bilgin, Ayda Aksel, Altan Erkekli, Sebnem Sönmez, Hüseyin Avni Danyal, Berna Konur, Ümit Bülent Dinçer': 1,\n",
              " 'Jayasurya, Vinayakan, Sunny Wayne, Vijay Babu, Saiju Kurup, Vineeth Mohan, Unni Rajan P. Dev, Dharmajan Bolgatty, Indrans': 1,\n",
              " 'Shreyas Talpade, Kay Kay Menon, Shiv Pandit, Sanjay Sharma, Shenaz Treasury, Mahie Gill': 1,\n",
              " 'Sachin Khedekar, Ashwini Bhave, Mahesh Manjrekar, Hrishikesh Joshi, Satish Alekar, Sunil Tawde, Pushkar Shrotri, Anand Ingle': 1,\n",
              " 'Vinod Khanna, Dimple Kapadia, Jackie Shroff, Sonam, Vinod Mehra, Shafi Inamdar, Gulshan Grover, Roopesh Kumar': 1,\n",
              " 'Indrans, Sreekanth Menon, Vishnu Agasthya, Aliyar, Seethabaala, Shaji John, Sajith Nampiyar, Benny Vadakkan': 1,\n",
              " 'Rajeev Khandelwal, Gajraj Rao, Shashanka Ghosh, Jhilmil Hazrika, Gazala Amin, Allauddin Khan': 1,\n",
              " 'Nana Patekar, Sumeet Raghvan, Iravati Harshe, Aashish Kulkarni, Savita Malpekar': 1,\n",
              " 'Amitabh Bachchan, Saif Ali Khan, Manoj Bajpayee, Deepika Padukone, Prateik, Tanvi Azmi, Saurabh Shukla, Darshan Jariwala, Yashpal Sharma, Mukesh Tiwari': 1,\n",
              " 'John Abraham, Sonal Sehgal, Prateeksha Lonkar, Girish Karnad, Farida Jalal, Ashwin Chitale, Anaitha Nair, Vikram Inamdar, Vipin Bhali, Poonam Chitale, Nagesh Kukunoor': 1,\n",
              " 'Saif Ali Khan, Mamta Kulkarni, Mohnish Bahl, Sharmila Tagore, Saeed Jaffrey, Kader Khan': 1,\n",
              " 'Sanjay Narvekar, Bharat Jadhav, Satish Phulekar, Ashwini Apte': 1,\n",
              " 'Ravi Babu, Neha Chauhan, Sri Muktha, Bharani Shankar, Mukhtar Khan, Priya': 1,\n",
              " 'Macy Drouin, Wyatt White, Paul Sun-Hyung Lee, Michela Luci, Christian Dal Dosso, Laaibah Alvi, Leo Orgil': 1,\n",
              " 'Abir Chatterjee, Raima Sen, Arunima Ghosh, Priyanka Sarkar, Sujan Mukherjee, Kanchan Mullick, Biswanath Basu, Bhaswar Chatterjee, Swagata Basu, Tuhin Mitra, Paran Banerjee, Kharaj Mukherjee, Chiranjit': 1,\n",
              " 'Prabhu Deva, Varun Dhawan, Shraddha Kapoor, Lauren Gottlieb, Sushant Pujari, Punit Pathak, Dharmesh Yelande, Raghav Juyal': 1,\n",
              " 'Prabhu Deva, Kay Kay Menon, Ganesh Acharya, Dharmesh Yelande, Salman, Lauren Gottlieb, Noorin Sha, Punit Pathak': 1,\n",
              " 'Mohamed Ramadan': 1,\n",
              " 'Sajid Hasan, Hameed Sheikh, Habibullah Panezai, Imraan Abbas, Sadia, Imran Tareen, Asal Deen, Yameen Shah': 1,\n",
              " 'Tamannaah Bhatia, Prabhu Deva, Sonu Sood, Sapthagiri, Murli Sharma, R.V. Udhaykumar, Joy Mathew, Hema': 1,\n",
              " 'Hyun-moo Jun, Si-kyung Sung, Se-yoon Yoo': 1,\n",
              " 'Isabella Acres, Drake Bell, Emilio Estevez, Nolan Gould, Matthew Lillard, Ray Liotta, Jane Lynch, Ariel Winter': 1,\n",
              " 'Nicholas Hoult, Toni Collette, Victoria Smurfit, Sharon Small, Natalia Tena, Isabel Brook, Hugh Grant, Rachel Weisz, Nicholas Hutchison': 1,\n",
              " 'Domhnall Gleeson, Rachel McAdams, Bill Nighy, Lydia Wilson, Lindsay Duncan, Richard Cordery, Tom Hollander, Margot Robbie, Joshua McGuire, Vanessa Kirby': 1,\n",
              " 'Christoph Niemann, Tinker Hatfield, Es Devlin, Bjarke Ingels, Paula Scher, Platon, Ilse Crawford, Ralph Gilles': 1,\n",
              " 'Afi Ekulona': 1,\n",
              " 'Park Bo-young, Ahn Hyo-seop, Lee Sung-jae, Lee Si-eon, Han So-hee, Kwon Soo-hyun, Kim Sa-rang, Ahn Se-ha, Yun Yoo-sun': 1,\n",
              " 'Eugenia Suárez, Esteban Lamothe, Gloria Carrá, Rafael Spregelburd, Tomás Ottaviano, Julieta Gullo, Zoe Hochbaum, Lucia Carolina Pecrul': 1,\n",
              " 'Patricio Castillo, Sergio Bustamante, Alejandro Suárez, Luz María Jerez, Bob Isaacs, Tere Monroy': 1,\n",
              " 'Louis Koo, Richie Ren, Stanley Fung Sui-Fan, Michelle Ye, Lam Suet, Alexander Chan, Monica Mok': 1,\n",
              " 'Junchen Guo, Yi Ning Sun, Yi Qin Zhao, Mu Xuan Cheng, Li Ma, Mo Zhou': 1,\n",
              " 'Ben Hyland, Marsha Mason, Karina Smirnoff, Colin Branca, Ralph Macchio, Tricia Paoluccio': 1,\n",
              " 'Sarah Jeffery, Simon Paul Mutuyimana, Denis Theriault, Jeremiah Sparks, Steven Love, Cara Ricketts, Jim Codrington, Shamier Anderson, Stephan James, Lanette Ware, Hugh Thompson': 1,\n",
              " 'Evan Rachel Wood, Jim Sturgess, Joe Anderson, Dana Fuchs, Martin Luther, James Urbaniak, T.V. Carpio, Spencer Liff': 1,\n",
              " 'Keo Woolford, Drea Castro, Emilio Rivera, Rorke Denver, Jason Cottle, Ailsa Marshall, Alex Veadov, Dave, Roselyn Sanchez, Thomas Rosales Jr., Nestor Serrano, Gonzalo Menendez': 1,\n",
              " 'Haluk Bilginer, Mahsun Kırmızıgül, Mustafa Sandal, Gina Gershon, Robert Patrick, Danny Glover, Engin Altan Düzyatan, Scott William Winters, Sharrieff Pugh': 1,\n",
              " 'Akshay Kumar, Aishwarya Rai Bachchan, Om Puri, Kiron Kher, Neha Dhupia, Rannvijay Singh, Aditya Roy Kapur, Sudeepa Singh, Randhir Kapoor, Rajpal Yadav': 1,\n",
              " 'Antonio Banderas, Karl Urban, Paz Vega, Robert Forster, Clint Dyer, Cristina Serafini, Lillian Blankenship, Atanas Srebrev, Mark Rhino Smith': 1,\n",
              " 'Cole Hauser, Bruce Willis, Shawn Ashmore, Ashton Holmes, Melissa Bolona, Patrick St. Esprit, Sophia Bush, Mike Epps': 1,\n",
              " 'Yvan Attal, Garance Marillier, Niels Schneider, Victor Assié, Rod Paradot, Anne Azoulay, Adel Bencherif': 1,\n",
              " 'Luis Tosar, Anna Castillo, Álvaro Cervantes, Miquel Fernández, Jesús Carroza, Moustapha Oumarou, Adam Nourou, Zayidiyya Dissou, Ana Wagener, Nora Navas': 1,\n",
              " 'Adam Devine': 1,\n",
              " 'Adam Conover, Adam Lustick, Emily Axford': 1,\n",
              " 'Adam Sandler': 1,\n",
              " 'Daniel J. Travanti, JoBeth Williams, Richard Masur, Martha Scott, Paul Regina': 1,\n",
              " 'Antoine Bizet, Jesse Richman, Karsten Gefle, Wille Lindberg, Matahi Drollet, Mathias Wyss, Matt Annetts': 1,\n",
              " 'Adel Karam': 1,\n",
              " 'Aditi Mittal': 1,\n",
              " 'Naomi Watts, Robin Wright, Xavier Samuel, James Frecheville, Ben Mendelsohn, Jessica Tovey, Sophie Lowe, Gary Sweet, Alyson Standen, Skye Sutherland, Sarah Henderson': 1,\n",
              " 'Shailene Woodley, Sam Claflin, Jeffrey Thomas, Elizabeth Hawthorne': 1,\n",
              " 'Ravi Kumar, Ayesha Singh, Nishat Mallick, Archana Kotwal, Rakesh Chaturvedi Om, Nidhi Mahavan, Abhijit Sinha, Abdur Rehman': 1,\n",
              " 'Jacqueline Kim, James Urbaniak, Freya Adams, Ken Jeong, Jennifer Ehle, Samantha Kim, Troi Zee, Olivia Horton, Jennifer Ikeda, Mercedes Griffeth': 1,\n",
              " 'Daniel Doheny, Judy Greer, Siobhan Williams, Russell Peters, Grace Park, Andrew McNee, Alex Barima, Andrew Herr, Eva Day, Josh Epstein': 1,\n",
              " 'Saga Alyasery, Ana Druzhynina, Mansour Al Felei, Mohammad Abu Diak, Pascale Matar, Luke Coutts, Abeer Mohammed': 1,\n",
              " 'Afonso Padilha': 1,\n",
              " 'Loo Nascimento, Ingrid Silva, Rincon Sapiência, Batekoo, Gabriel Martins, Benjamin Abras, Daniele DaMata, Tasha & Tracie Okereke, Mariana de Matos, André Novais, Mahal Pita, Grace Passô, Thamyra Thâmara, Xenia França, Criola, Dani Ornellas, Anelis Assumpção, Magá Moura, Tássia Reis, Liniker, Yasmin Thayná, Raquel Virgínia, Juliana Luna, Erica Malunguinho, Diane Lima, Karol Conká': 1,\n",
              " 'Josephine Langford, Hero Fiennes Tiffin, Selma Blair, Inanna Sarkis, Shane Paul McGhie, Pia Mia, Khadijha Red Thunder, Dylan Arnold, Samuel Larsen, Jennifer Beals, Peter Gallagher': 1,\n",
              " 'Ricky Gervais, Tom Basden, Tony Way, Diane Morgan, Mandeep Dhillon, David Bradley, Ashley Jensen, Kerry Godliman': 1,\n",
              " 'Josephine Langford, Hero Fiennes Tiffin, Dylan Sprouse, Selma Blair, Louise Lombard, Shane Paul McGhie, Candice King, Charlie Weber, Khadijha Red Thunder, Inanna Sarkis, Pia Mia, Samuel Larsen, Dylan Arnold, Karimah Westbrook, Rob Estes': 1,\n",
              " 'Arnold Schwarzenegger, Scoot McNairy, Maggie Grace, Judah Nelson, Glenn Morshower, Hannah Ware, Mo McRae, Martin Donovan, Larry Sullivan, Mariana Klaveno, Kevin Zegers, Lewis Pullman': 1,\n",
              " 'Ezra Miller, Addison Timlin, Jeremy Allen White, Michael Stuhlbarg, Emory Cohen, David Costabile, Rosemarie DeWitt, Dariusz M. Uczkowski, Gary Wilmes, Paul Sparks, Alexandra Neil, Lee Wilkof': 1,\n",
              " 'Eli Roth, Andrea Osvárt, Ariel Levy, Natasha Yarovenko, Nicolás Martínez, Lorenza Izzo, Marcial Tagle, Ramón Llao, Ignacia Allamand, Paz Bascuñán': 1,\n",
              " 'Christopher Lee, Rui En, Desmond Tan, Zheng Geping, Zhang Zhenhuan, Paige Chua, Xu Bin, Carrie Wong': 1,\n",
              " 'Ruth Bradley, Pippa Haywood, Dean Andrews, Bebe Cave, Blake Harrison, Tim McInnerny, Ralph Ineson, Michael McElhatton': 1,\n",
              " 'Fay Ripley': 1,\n",
              " 'Debbie Goh, Aenie Wong, Frederick Lee, Leslie Chai': 1,\n",
              " 'Peter Ho, Jeanine Yang, Tammy Chen, Jason Tsou, Chang Ting-hu, Nana Lee, Nien Hsuan Wu': 1,\n",
              " 'Khumbulani Kay Sibiya, Sisanda Henna, Tarynn Wyngaard, Anthony Oseyemi, Virgile Bramly, Manie Malone, Yannick Konnan, Vinaya Sungkur, Michaella Russell, Thabo Malema': 1,\n",
              " 'Sharad Kelkar, Aahana Kumra, Mahesh Manjrekar, Deepali Pansare, Danish Pandor, Jason Tham, Reena Aggarwal, Swati Rajput': 1,\n",
              " 'Kaolip, Komegumi Koiwasaki, Maki Tsuruta, Sohta Arai, Rina Inoue, Shingo Kato, Yuki Takahashi': 1,\n",
              " 'Kaolip, Shingo Kato, Komegumi Koiwasaki, Maki Tsuruta, Sohta Arai, Rina Inoue, Yuki Takahashi, Rarecho': 1,\n",
              " 'Amitabh Bachchan, Mithun Chakraborty, Danny Denzongpa, Madhavi, Neelam, Alok Nath, Rohini Hattangadi, Tinnu Anand, Vikram Gokhale, Archana Puran Singh': 1,\n",
              " 'Agustín Aristarán': 1,\n",
              " 'Adesh Bhardwaj, Rasika Dugal, Joy Fernandes, Ravi Kale, Ishtiyak Khan, Priyanka Kothari, Kali Prasad Mukherjee, Nitin Reddy, Gautam Rode, Howard Rosemeyer': 1,\n",
              " 'Abhay Deol, Soha Ali Khan, Shayan Munshi, Kamini Khanna, Sohrab Ardeshir, Murad Ali, Shakeel Khan, Natasha Sinha, Brijendra Kala': 1,\n",
              " 'Ai Weiwei, Lao Ai': 1,\n",
              " 'Becky, Ryo Kato, Karina Maruyama, Kohei Takeda': 1,\n",
              " 'Becky, Audrey, Mayuko Kawakita, Shimon Okura': 1,\n",
              " 'Ainsley Harriott': 1,\n",
              " 'Kanto Shimokura, Debo Akibe, Emi Shimokura, Toko Miura, Lily Franky': 1,\n",
              " 'Larissa Manoela, André Luiz Frambach, Erasmo Carlos, Mariana Amâncio, Amanda Orestes, Eike Duarte, Nayobe Nzainab, Katiuscia Canoro, Phellyx Moura, Dani Ornellas, Michel Bercovitch, Sílvia Lourenço': 1,\n",
              " 'Palash Sen, Ira Dubey, Yashpal Sharma, Tinnu Anand, Prisha Dabbas, Kymsleen Kholie, Satish Sharma': 1,\n",
              " 'Akshay Kumar, Kareena Kapoor, Priyanka Chopra, Amrish Puri, Paresh Rawal, Annu Kapoor': 1,\n",
              " 'Sidharth Malhotra, Manoj Bajpayee, Rakul Preet Singh, Pooja Chopra, Adil Hussain, Kumud Mishra, Naseeruddin Shah, Anupam Kher, Vikram Gokhale, Juhi Babbar': 1,\n",
              " 'Rani Mukerji, Prithviraj Sukumaran, Nirmiti Sawant, Subodh Bhave, Jyoti Subhash, Satish Alekar, Anita Date, Amey Wagh, Kishori Balal, Pakoda Pandi': 1,\n",
              " 'RuPaul Charles, Izzy G., Michael-Leon Wooley, Josh Segarra, Katerina Tannenbaum, Tia Carrere': 1,\n",
              " 'Ranbir Kapoor, Katrina Kaif, Govind Namdeo, Darshan Jariwala, Zakir Hussain, Smita Jaykar, Navneet Nishan, Dolly Bindra, Upen Patel': 1,\n",
              " 'Mamoru Miyano, Yoshimasa Hosoya, Jun Fukuyama, Hochu Otsuka, Daisuke Hirakawa, Takahiro Sakurai, Mikako Komatsu, Hiroyuki Kinoshita, Aya Suzaki': 1,\n",
              " 'Sushama Deshpande, Abhishek Banerjee, Smita Tambe, Sharvani Suryavanshi, Vikas Kumar, Sadiya Siddiqui, Sudhir Pandey, Manuj Sharma': 1,\n",
              " 'Anil Kapoor, Anurag Kashyap': 1,\n",
              " 'Sora Amamiya, Soma Saito, Yukari Tamura, Yuu Asakawa, Mamiko Noto, Yoshitsugu Matsuoka, Katsuyuki Konishi, Risa Mizuno, Satomi Akesaka': 1,\n",
              " 'Kiku Sharda, Vishal Kotian, Delnaaz Irani': 1,\n",
              " 'Puteri Balqis, Aeril Zafrel, Nabila Huda, Nazim Othman, Nadia Brian, Bella Dally': 1,\n",
              " 'Rodrigo de la Serna, Belen Blanco, Walter Jakob, Facundo Aquinos, Patricia Calisaya': 1,\n",
              " 'Taim Hasan, Nadine Nassib Njeim, Abdo Chahine, Oweiss Mkhallalati, Mona Wassef': 1,\n",
              " 'Kehinde Bankole, Lilian Esoro, Bolaji Amusan, Toyin Abraham, Gabriel Afolayan, Bidemi Kosoko, Wumi Toriola, Tayo Amokade, Helen Paul, Liz DaSilva': 1,\n",
              " 'Alan Saldaña': 1,\n",
              " \"Martin L. Washington Jr., Maya Washington, Matt Dallas, Christopher O'Shea, Jason Scott Lee, Margaret Cho, Kevin Daniels, John Fleck, Nia Peeples, Adam Tomei\": 1,\n",
              " 'Nandita Das, Manav Kaul, Saurabh Shukla, Kishore Kadam, Omkar Das Manikpuri, Amarjeet Amle, Yusuf Hussain, Sushma Bakshi': 1,\n",
              " 'Daniel Sharman, Jennifer Morrison, Debra Messing, Stephen Dorff, John Cleese, Liam McIntyre, Richard Kind, Avery Arendes, Castille Landon': 1,\n",
              " 'Alejandro Riaño': 1,\n",
              " 'Alejandro Sanz': 1,\n",
              " 'Néstor Guzzini, Mirella Pascual, Cristina Morán, Romina Peluffo, Laila Reyes Silberberg, Pablo Tate, Gerónimo Pizzanelli, Georgina Yankelevich, Julio Icasuriaga, Carla Moscatelli': 1,\n",
              " 'Daniel Doheny, Madeline Weinstein, Antonio Marziale, Daniel Zolghadri, Annie Q., Nik Dodani, Fred Hechinger, Kathryn Erbe, Isabella Amara, Sophie Faulkenberry': 1,\n",
              " 'Paris Berelc, Isabel May, Tiffani Thiessen, Emery Kelly, Jolie Jenkins, Kerri Medders, Finn Carr, Eddie Shin': 1,\n",
              " 'Naglaa Fathi, Farid Shawqy, Mohsen Mohiedine, Ezzat El Alaili, Abdalla Mahmoud, Youssef Wahby, Yehia Chahine, Laila Fawzy, Mahmoud El Meleigy, Ahmed Zaki, Gerry Sundquist': 1,\n",
              " 'Youssef Chahine, Yousra, Hussein Fahmy, Amr Abdel-Geleel, Taheya Cariocca, Hesham Selim, Huda Sultan, Ragaa Hussein': 1,\n",
              " 'Alexis Viera': 1,\n",
              " 'Khalifa Albhri, Neven Madi, Talal Mahmood, Sawsan Saad, Fatma Hassan': 1,\n",
              " 'Cem Yılmaz, Irina Ivkina, Çetin Altay, Zafer Algöz, Can Yılmaz, Bahtiyar Engin, Fevzi Gökçe, Yosi Mizrahi': 1,\n",
              " 'Osamah Sami, Don Hany, Helana Sawires, Frances Duca, Majid Shokor, Rodney Afif, Ghazi Alkinani, Ryan Corr': 1,\n",
              " 'Sarah Gadon, Edward Holcroft, Paul Gross, Anna Paquin, Rebecca Liddiard, Zachary Levi, Kerr Logan, David Cronenberg': 1,\n",
              " 'Dharmendra, Hema Malini, Zeenat Aman, Rolan Bykov, Prem Chopra, Yakub Akhmedov, Madan Puri, Sofiko Chiaureli': 1,\n",
              " 'Ellen Burstyn, Kris Kristofferson, Billy Green Bush, Diane Ladd, Harvey Keitel, Lelia Goldoni, Lane Bradbury, Vic Tayback, Jodie Foster, Alfred Lutter': 1,\n",
              " 'Kento Yamazaki, Tao Tsuchiya, Nijiro Murakami, Yuki Morinaga, Keita Machida, Ayaka Miyoshi, Dori Sakurada, Aya Asahina, Shuntaro Yanagi, Yutaro Watanabe, Ayame Misaki, Mizuki Yoshida, Tsuyoshi Abe, Nobuaki Kaneko, Sho Aoyagi, Riisa Naka': 1,\n",
              " 'Anne Celestino Mota, Emmanuel Rosset, Matheus Moura, Surya Amitrano, Thaís Schier, Cida Rolim, Katia Horn, Igor Augustho, Marcel Szymanski': 1,\n",
              " 'J. Michael Long': 1,\n",
              " 'Rob Tinkler, Julie Lemieux, John Cleland, Kyle Dooley, Rupert Degas': 1,\n",
              " 'Clayton Snyder, David Meadows, Daniel Washington, Scott C. Roe, Larissa Andrade, Sal Rendino, Jose Guns Alves, Scott King': 1,\n",
              " 'Keythe Farley, Dee Bradley Baker, Kaliayh Rhambo, Michelle Deco, Barbara Goodson': 1,\n",
              " 'William Shatner, Dan Payne, Kirsten Robek, Ty Consiglio, Sean McNamara, Christian Convery, Jayden Greig, Lauren McNamara, Alex Zahara, Sandy Robson': 1,\n",
              " 'Chris Attoh, Katlego Danke, Enyinna Nwigwe, Nomzamo Mbatha, Richard Lukunku, Zenande Mfenyane, Leroy Gopal, Angela Sithole': 1,\n",
              " 'Mary Elizabeth Winstead, Common, Kate del Castillo, Chace Crawford, Jay Mohr, Beau Bridges, Clea DuVall, Melonie Diaz, Camryn Manheim, Mindy Sterling, Angelique Cabral, Nicole Byer, Todd Louiso, Elizabeth Masucci, Sonoya Mizuno, Charlotte Newhouse, Victor Rasuk, Andree Vermeulen': 1,\n",
              " 'Joseph Simmons, Justine Simmons, Kiana Ledé, Nathan Anderson, Leah Rose Randall, Maceo Smedley, Quincy Fouse, DJ Ruckus, Adain Bradley, Tim Meadows, Daymond John, Erick Chavarria, Christopher Clarke, Aubrey Cleland, Arsenio Hall, Stephen Schneider, Max Goudsmit, Noah Gerry, Jamie VanDyke, Ashleigh Hairston': 1,\n",
              " 'Daniel Ezra, Taye Diggs, Samantha Logan, Bre-Z, Greta Onieogou, Monet Mazur, Michael Evans Behling, Cody Christian, Karimah Westbrook, Jalyn Hall, Jordan Belfi, Briana Lane': 1,\n",
              " 'Hairul Azreen, Janna Nick, Amerul Affendi, Henley Hii, Nam Ron, Theebaan Govindasamy, Taufiq Hanafi, Hafizul Kamal, Josiah Hogan, Sophia Albarakbah, Sugeeta Chandran, Anna Jobling': 1,\n",
              " 'Jeffrey Wright, Ashton Sanders, Regina Taylor, Yahya Abdul-Mateen II, Isaiah John, Kelly Jenrette, Shakira Ja-nai Paye': 1,\n",
              " 'Dom DeLuise, Burt Reynolds, Daryl Gilley, Candy Devine, Charles Nelson Reilly, Vic Tayback, Melba Moore, Judith Barsi, Rob Fuller, Earleen Carey, Anna Manahan, Nigel Pegram, Loni Anderson, Ken Page, Godfrey Quigley': 1,\n",
              " 'Ana María Estupiñán, Carlos Torres, Yuri Vargas, Jim Muñoz, Julio Sánchez Cóccaro, Alina Lozano, Valeria Gálviz, Juan Millán, Juan del Río, Mario Duarte': 1,\n",
              " 'Claire Forlani, Jake Abel, Titus Welliver, Melina Matthews': 1,\n",
              " 'Danny Jacobs, Andy Richter, Henry Winkler, Kevin Michael Richardson, India de Beaufort, Jeff Bennett, David Krumholtz, Diedrich Bader, Debra Wilson, Sarah Thyre, Betsy Sodaro': 1,\n",
              " 'Danny Jacobs, Andy Richter, Kevin Michael Richardson, India de Beaufort, Jeff Bennett, Maurice LaMarche': 1,\n",
              " 'Lexi Giovagnoli, Ashley Argota, John DeLuca, Diane Salinger, Martin Klebba, Tracey Gold, Dee Wallace, Pilot Paisley-Rose, Daniel Cooksley, Vincent Giovagnoli, Dillon Cavitt': 1,\n",
              " 'Ashley Pereira, Alexandra Harris, Ted Welch, Sam Jones III, Sarah Butler, Andy Buckley, Graham Outerbridge, Michael James Thomas, John Schuck, Aaron Munoz': 1,\n",
              " 'Jennylyn Mercado, Derek Ramsay, Yayo Aguila, Kean Cipriano, Nico Antonio, Enzo Marcos, Via Antonio, Hannah Ladesma': 1,\n",
              " 'Anson Mount, Edwin Hodge, Michael Welch, Brooke Bloom, Amber Heard, Aaron Himelstein, Whitney Able, Luke Grimes, Melissa Price': 1,\n",
              " \"Elle Fanning, Justice Smith, Luke Wilson, Keegan-Michael Key, Alexandra Shipp, Lamar Johnson, Virginia Gardner, Kelli O'Hara, Felix Mallard, Sofia Hasmik\": 1,\n",
              " 'Milo Gibson, Sylvia Hoeks, Gbenga Akinnagbe, William Fichtner, Joseph Millson, Elliot Cowan, Perry Fitzpatrick, Warren Rusher': 1,\n",
              " 'Hánssel Casillas, Loreto Peralta, Andrea Sutton, Luis De La Rosa, Alejandro Flores, Anajosé Aldrete, Daniel Haddad, Montserrat Marañón, Juan Carlos Viana Prieto, Hernán Del Riego': 1,\n",
              " 'Johnny Massaro, Bianca Comparato, Regina Braga, Maria Laura Nogueira, Victor Mendes, Thiago Amaral, Rafael Primot, Eduardo Mossri, Rita Batata, Larissa Ferrara': 1,\n",
              " \"Auli'i Cravalho, Justina Machado, Rhenzy Feliz, Fred Armisen, Carol Burnett, Judy Reyes, Taylor Richardson, C.S. Lee, Anthony Jacques\": 1,\n",
              " 'Louis Koo, Sandra Ng Kwan Yue, Raymond Wong, Ronald Cheng, Yao Chen, Guo Tao, Heung Kam Lee, Chun Chau Ha, Miki Shum': 1,\n",
              " 'Aenne Schwarz, Andreas Döhler, Hans Löw, Tilo Nest, Lina Wendel, Lisa Hagmeister': 1,\n",
              " 'Sharon Stone, Tony Goldwyn, Liza Lapira, Ellen Burstyn, Jason Gibson, Famke Janssen, Caitlin Fitzgerald, Gilles Marini, Erica Ash, Tom Paolino': 1,\n",
              " 'Sebastián Wainraich, Natalie Pérez, Santiago Korovsky': 1,\n",
              " 'Scott Evans, Augustus Prew, Kate Walsh, Michelle Buteau, Zoë Chao, Patricia Clarkson, Colin Donnell, Christopher Gray': 1,\n",
              " 'Emma Thompson, Brendan Gleeson, Daniel Brühl, Monique Chaumette, Joachim Bissmeier, Katrin Pollitt, Lars Rudolph, Uwe Preuss, Daniel Sträßer, Rainer Reiners, Mikael Persbrandt': 1,\n",
              " 'Liza Soberano, Enrique Gil, Adrian Alandy, Jasmine Curtis-Smith, Sylvia Sanchez, Nonie Buencamino, Xia Vigor, Richard Manabat': 1,\n",
              " 'Morgan Freeman, Monica Potter, Michael Wincott, Dylan Baker, Mika Boorem, Anton Yelchin, Kim Hawthorne, Jay O. Sanders, Billy Burke, Michael Moriarty, Penelope Ann Miller': 1,\n",
              " 'Ben Diskin, Kate Higgins, Blackie Rose, Lindsay Torrance, Liza West, Tracy Pfau, Bill Lader, Meryl Leigh, Shaun Gerardo': 1,\n",
              " 'Debi Derryberry, Ben Diskin, Kate Higgins, Lindsay Torrance, Larry Thomas, Bill Lader, Cindy Robinson': 1,\n",
              " 'Teresa Gallagher, David Holt, Lizzie Waterworth': 1,\n",
              " 'Daryle Lamont Jenkins, Richard Spencer': 1,\n",
              " 'Joel Kinnaman, James Purefoy, Martha Higareda, Renée Elise Goldsberry, Dichen Lachman, Will Yun Lee, Kristin Lehman, Chris Conner, Ato Essandoh, Tamara Taylor, Byron Mann': 1,\n",
              " 'Tatsuhisa Suzuki, Rina Satou, Ayaka Asai, Jouji Nakata, Kenji Yamauchi, Kanehira Yamamoto, Koji Ishii': 1,\n",
              " 'Javicia Leslie, Jordan Calloway, Richard Lawson, Yvette Nicole Brown, Michelle Mitchenor, Amber Chardae Robinson, Jasmin Brown': 1,\n",
              " 'Angely Gaviria, Sebastián Eslava, Luis Fernando Hoyos, Verónica Orozco, Lenard Vanderaa, Sofía Araujo, Dylan Fuentes, Valeria Emiliani, Dubán Prado, Carlos Quintero': 1,\n",
              " 'Gerald Anderson, Arci Muñoz, Cacai Bautista, Ricci Chan, Tirso Cruz III, Carlo Aquino, Matt Evans, Ahron Villena, Victor Silayan, TJ Trinidad': 1,\n",
              " 'Miriam Makeba, Hugh Masekela, Abdullah Ibrahim, Duma Ka Ndlovu, Sibongile Khumalo, Vusi Mahlasela, Thandi Modise, Sifiso Ntuli, Sibusiso Nxumalo, Dolly Rathebe, Lindiwe Zulu': 1,\n",
              " 'María Pedraza, Pol Monen, Natalia Tena, Nacho Fresneda, Greta Fernández, Gustavo Salmerón, Celso Bugallo, Sonia Almarcha, Marta Belenguer': 1,\n",
              " 'Rez Kempton, Sam Vincenti, Martin Delaney, Karen David, Laura Aikman, Goldy Notay, Meera Syal, Nina Wadia, Tanveer Ghani, Amrita Acharia': 1,\n",
              " 'Vinod Khanna, Rishi Kapoor, Amitabh Bachchan, Neetu Singh, Parveen Babi, Shabana Azmi, Nirupa Roy, Pran': 1,\n",
              " 'Ghadah Abdulrazeq, Wafaa Amer, Hassan El Raddad, Houria Farghally, Sabry Fawwaz': 1,\n",
              " 'Michael Rainey Jr., Josh Charles, Brian White, Sharon Leal, Ashlee Brian, Corey Parker Robinson': 1,\n",
              " 'Jonathan Adams': 1,\n",
              " 'Tyra Banks': 1,\n",
              " 'William Powell': 1,\n",
              " \"Dylan O'Brien, Michael Keaton, Sanaa Lathan, Shiva Negar, Taylor Kitsch, Trevor White, Navid Negahban, Scott Adkins, David Suchet, Sydney Rae White\": 1,\n",
              " 'Kevin Spacey, Annette Bening, Thora Birch, Wes Bentley, Mena Suvari, Chris Cooper, Peter Gallagher, Allison Janney, Scott Bakula, Sam Robards': 1,\n",
              " 'Felicity Huffman, Timothy Hutton, Elvis Nolasco, Regina King, Lili Taylor, Richard Cabral, Brent Anderson, Benito Martinez, Shane Jacobsen, W. Earl Brown, Caitlin Gerard, Penelope Ann Miller, Johnny Ortiz': 1,\n",
              " 'Cuba Gooding Jr., Sarah Paulson, John Travolta, Courtney B. Vance, Sterling K. Brown, Kenneth Choi, Christian Clemenson, Bruce Greenwood, Nathan Lane, David Schwimmer, Chris Bauer, Jordana Brewster, Selma Blair, Connie Britton': 1,\n",
              " 'Dave Hunt, Bo Gritz, Sara Weaver': 1,\n",
              " 'Blair Brown': 1,\n",
              " 'President Barack Obama, Michelle Obama, Julia Reichert, Steven Bognar': 1,\n",
              " 'Donald Sutherland, Vincent Kartheiser, Oliver Dennis, Paul Braunstein, Paul Amato, Matt Baram, Dan Beirne, Joanne Boland, Jamie Jacqueline Burns, Alexander Crowther': 1,\n",
              " 'Hayden Christensen, Adrien Brody, Jordana Brewster, Tory Kittles, Akon, Luis Da Silva Jr., Lance E. Nichols, Joe Chrest': 1,\n",
              " \"Edward Norton, Edward Furlong, Beverly D'Angelo, Jennifer Lien, Ethan Suplee, Fairuza Balk, Avery Brooks, Elliott Gould, Stacy Keach, William Russ, Guy Torry\": 1,\n",
              " 'Sasha Lane, Shia LaBeouf, Riley Keough, McCaul Lombardi, Arielle Holmes': 1,\n",
              " \"Evan Peters, Sarah Paulson, Jessica Lange, Denis O'Hare, Kathy Bates, Angela Bassett, Lily Rabe, Frances Conroy, Cheyenne Jackson, Emma Roberts, Taissa Farmiga, Wes Bentley, Finn Wittrock, Chloë Sevigny, Zachary Quinto, Jamie Brewer, Naomi Grossman, Dylan McDermott, Gabourey Sidibe, Lady Gaga, Mare Winningham, Joseph Fiennes, Michael Chiklis, Matt Bomer, Lizzie Brocheré, Erika Ervin, Mat Fraser, Rose Siggins, Connie Britton, James Cromwell, Adina Porter, Jyoti Amge, Billie Lourde, Alison Pill, Billy Eichner, Leslie Grossman, Colton Haynes, Cuba Gooding Jr., André Holland, Danny Huston\": 1,\n",
              " 'Ted Williams': 1,\n",
              " 'Anna Friel, Peter Facinelli, Jake Robinson, Jim True-Frost, Treat Williams, Sadie Sink, Omar Ghazaoui, Nate Mooney, Elena Kampouris, Daniella Pineda, Adewale Akinnuoye-Agbaje': 1,\n",
              " 'Madison Pettis, Lizze Broadway, Piper Curda, Natasha Behnam, Darren Barnet, Sara Rue, Zachary Gordon, Camaron Engels, Christian Valderrama, Zayne Emory': 1,\n",
              " 'Christian Bale, Willem Dafoe, Jared Leto, Reese Witherspoon, Samantha Mathis, Chloë Sevigny, Justin Theroux, Josh Lucas, Matt Ross, Bill Sage, Cara Seymour, Guinevere Turner': 1,\n",
              " 'Kerry Washington, Steven Pasquale, Jeremy Jordan, Eugene Lee': 1,\n",
              " 'Tyler Alvarez, Griffin Gluck, Jimmy Tatro, Camille Hyde, Lou Wilson, Eduardo Franco, Jessica Juarez, Camille Ramsey, Calum Worthy, G. Hannelius, Karly Rothenberg': 1,\n",
              " 'Jerry G. Angelo, Paul Logan, Joshua Santana, Carolina Castro, David Robbins, Michael King, Tom Crisp, Jennifer Marshall, Victoria Clare, Ryan Baumann, Isaac C. Singleton Jr., Said Faraj': 1,\n",
              " 'Amit Tandon': 1,\n",
              " 'Derek Ramsay, Vince Rillon, Allen Dizon, Felix Roco, Ruby Ruiz': 1,\n",
              " 'Engin Günaydın, Demet Evgar, Erdal Özyagcilar, Su Kutlu, Devrim Yakut, Fatih Artman, Gülse Birsel, Sevket Çoruh, Derya Karadas, Devin Özgür Cinar': 1,\n",
              " 'Vyjayantimala, Sunil Dutt, Prem Nath, Bipin Gupta, Gajanan Jagirdar, Zul Vellani, K.N. Singh, Randhir': 1,\n",
              " 'Amy Winehouse, Lauren Gilbert': 1,\n",
              " 'Erica Yohn, Nehemiah Persoff, Amy Green, Phillip Glasser, Christopher Plummer, John Finnegan, Will Ryan, Hal Smith, Dom DeLuise, Madeline Kahn': 1,\n",
              " 'Philip Glasser, James Stewart, Erica Yohn, Cathy Cavadini, Nehemiah Persoff, Dom DeLuise, Amy Irving, John Cleese, Jon Lovitz': 1,\n",
              " 'Thomas Dekker, Lacey Chabert, Jane Singer, Nehemiah Persoff, Susan Boyd, Robert Hays, Pat Musick, Dom DeLuise, Candi Milo, Jeff Bennett': 1,\n",
              " 'Thomas Dekker, Dom DeLuise, Pat Musick, Nehemiah Persoff, Erica Yohn, Lacey Chabert, Elaine Bilstad, Rene Auberjonois, David Carradine, Sherman Howard, Tony Jay, Richard Karron, John Kassir, Ron Perlman': 1,\n",
              " 'Mina Farid, Zahia Dehar, Benoît Magimel, Nuno Lopes, Clotilde Courau, Loubna Abidar, \"Riley\" Lakdhar Dridi, Henri-Noël Tabary': 1,\n",
              " 'Nour El-Sherif, Magda El-Khatib, Yousra, Mohsen Mohiedine, Oussama Nadir, Layla Hamadah, Mohamed Mounir, Ragaa Hussein': 1,\n",
              " 'Aubrey Plaza, Emile Hirsch, Jemaine Clement, Craig Robinson, Matt Berry, Zach Cherry, Maria Bamford, Michael D. Cohen, Sky Elobar, Jacob Wysocki, John Kerry, Bettina Devin, Gil Gex': 1,\n",
              " 'Eyad Nassar, Ahmed Bedir, Fathy Abdel Wahab, Sawsan Badr, Maged El Kedwany, Tarek Abdel Aziz, Karima Mokhtar, Yousra El Lozy, Somaya El Khashab, Mohamed Emam': 1,\n",
              " 'Sienna Miller, Alec Baldwin, Charles Grodin, Colleen Camp, John Buffalo Mailer, Nick Mathews, Steven Prescod, Oliver \"Power\" Grant, James Toback': 1,\n",
              " 'Jason Wang, Mathilde Lin, Mo Tzu Yi, Xi Man-Ning, Lin Mei-hsiu, Kelly Huang, Joy Pan': 1,\n",
              " 'Brenton Thwaites, David Strathairn, Hill Harper, Charlbi Dean, Yael Grobglas': 1,\n",
              " 'Ben Kingsley, Hera Hilmar, Peter Serafinowicz': 1,\n",
              " 'Antonio Sanint, Luis Eduardo Arango, María Cecilia Sánchez, Mariana Gómez, Julián Cerati, Aura Cristina Geithener, Biassini Segura, Lina Tejeiro, Julio César Herrera, Christian Villamil': 1,\n",
              " 'Mohamed Ramadan, Randa El Behery, Nermin Maher, Inas El Naggar, Mayar El Gheity, Hassan Abdulfattah, Sabri Abdulmonem, Alaa Zenhom, Abdalah Mishrif, Mohamed Soliman': 1,\n",
              " 'Ana Caetano, Vitória Falcão, Clarissa Müller, Bruce Gomlevsky, Thati Lopes, Caique Nogueira, Érika Mader, Victor Lamoglia, Gabriela Nunes, Bryan Ruffo, Hamilton Dias': 1,\n",
              " 'Swara Bhaskar, Sanjay Mishra, Vijay Kumar, Pankaj Tripathi, Mayur More, Ishtiyak Khan': 1,\n",
              " 'Oona Chaplin, Natalia Tena, David Verdaguer, Geraldine Chaplin': 1,\n",
              " 'Omoni Oboli, Sam Sarpong, Terri Oliver, Colin Paradine, Mark Cassius': 1,\n",
              " 'Kristín Thóra Haraldsdóttir, Babetida Sadjo, Patrik Nökkvi Pétursson': 1,\n",
              " 'Mohamed Henedi, Heba Nour, Dawood Hussain, Amr Abdel-Geleel, Mohammed El Sadaany, Mohamed Sherif Hassan': 1,\n",
              " 'Aamir Khan, Salman Khan, Raveena Tandon, Karisma Kapoor, Paresh Rawal, Mehmood, Deven Verma, Jagdeep, Shakti Kapoor': 1,\n",
              " 'Tabu, Ayushmann Khurrana, Radhika Apte, Anil Dhawan, Manav Vij, Zakir Hussain, Ashwini Kalsekar, Chhaya Kadam, Pawan Singh, Kabir Sajid': 1,\n",
              " 'André Chiang': 1,\n",
              " 'Nicolas Anelka': 1,\n",
              " 'Sam Waterston, Tim Blake Nelson, Jessica Hecht, Kristen Stewart, Corey Stoll, K. Todd Freeman, Glenn Close, Gretchen Mol, Michael Kenneth Williams, Gloria Reuben, Mickey Sumner, Yul Vazquez, Hannah Marks, Ben Konigsberg': 1,\n",
              " 'Antony Varghese, Sarath Kumar, Tito Wilson, Reshma Rajan, Vineeth Vishwam, Kichu Tellus, Bitto Davis, Ullas Jose Chemban, Merin Jose Pottackal, Binny Rinky Benjamin, Amrutha Anna Reji': 1,\n",
              " 'Simon Lian, Teddy Chen, Sylvia Wang, Cosmos Lin, Ting Liu, Lucia Chen, Allie Ji, Sunnee Yang, Na Wei-hsun': 1,\n",
              " 'Hiroshi Kamiya, Harumi Sakurai, Kana Hanazawa, Eri Kitamura, Ryohei Kimura, Takahiro Mizushima, Shun Takagi, Fuko Saito, Yui Makino, Hiro Masuda, Michael Rivas, Eiichiro Tokumoto, Yumiko Kobayashi, Hiroki Touchi, Miyuki Sawashiro, Chie Matsuura, Kana Asumi, Emiri Kato': 1,\n",
              " 'Jennifer Lopez, Jim Caviezel, Sonia Braga, Terrence Howard, Jeremy Sisto, Monet Mazur, Victor Argo, Shirley Knight': 1,\n",
              " 'Gerard Butler, Morgan Freeman, Nick Nolte, Danny Huston, Jada Pinkett Smith, Lance Reddick, Tim Blake Nelson, Piper Perabo': 1,\n",
              " \"Lucy O'Connell, Ruth Negga, Brendan Mullins, Malachy McCourt, Vivian Drew, Anya O'Connor, Janet Moran, Brian Gleeson, Pat Kinevane\": 1,\n",
              " \"Lucy O'Connell, Brendan Mullins, Ruth Negga, Lola Metcalfe, Jared Harris, Moe Dunford, Oscar Butler, Shona Hamill, Pat Kinevane, Janet Moran, Anya O'Connor\": 1,\n",
              " 'Tom Hanks, Ewan McGregor, Ayelet Zurer, Stellan Skarsgård, Pierfrancesco Favino, Nikolaj Lie Kaas, Armin Mueller-Stahl, Thure Lindhardt, David Pasquesi, Cosimo Fusco': 1,\n",
              " 'Adam Sandler, Jack Nicholson, Marisa Tomei, Luis Guzmán, Allen Covert, Lynne Thigpen, Kurt Fuller, Jonathan Loughran, Krista Allen, January Jones, Woody Harrelson, John Turturro, Kevin Nealon': 1,\n",
              " 'Antti Pääkkönen, Heljä Heikkinen, Lynne Guaglione, Pasi Ruohonen, Rauno Ahonen': 1,\n",
              " 'Amrit Maghera, Rajshri Deshpande, Pavleen Gujral, Anushka Manchanda, Sandhya Mridul, Sarah-Jane Dias, Tannishtha Chatterjee, Adil Hussain, Arjun Mathur, Anuj Choudhry': 1,\n",
              " 'Subodh Bhave, Vaidehi Parshurami, Nandita Patkar, Sonali Kulkarni, Sumeet Raghvan, Prasad Oak, Anand Ingale, Suhas Palshikar': 1,\n",
              " 'Thom Yorke': 1,\n",
              " 'Emily Blunt, John Krasinski, Ian McKellen, Danny DeVito, Raven-Symoné, Patrick Warburton, Wallace Shawn, Gilbert Gottfried, Tara Strong, Harvey Fierstein, James Arnold Taylor, Kevin Grevioux, Sylvester Stallone, Lydia Rose Taylor': 1,\n",
              " 'Li Yi Feng, Zhou Dongyu, Michael Douglas, Bingkun Cao, Ge Wang, Keanu Chi, Zhang Jungyi, Yijuan Li, Su Ke': 1,\n",
              " 'Clare Durant, Iván Pellicer, Luis Bermejo, Liz Lobato, Chacha Huang, Ángela Molina': 1,\n",
              " 'Suriya, Samantha Ruth Prabhu, Vidyut Jammwal, Manoj Bajpayee, Soori': 1,\n",
              " 'Gashmeer Mahajani, Heena Parmar': 1,\n",
              " 'Anjelah Johnson-Reyes': 1,\n",
              " 'Sanjay Mishra, Seema Pahwa, Rajat Kapoor, Taranjit Kaur, Maya Sarao, Chandrachoor Rai, Namit Das, Brijendra Kala, Alka Chawla, Manu Rishi Chadha': 1,\n",
              " 'Kay Kay Menon, Tisca Chopra, Arjun Mathur, Paoli Dam, Vishakha Singh, Manish Chaudhary, Vishesh Tiwari, Harsh Chhaya': 1,\n",
              " 'Bailee Madison, Robert Capron, Rachel Resheff, Mavrick Moreno, Whitney Goin, Gary Weeks, Juliana Harkavy, Kevin B. McGlynn, Jamison Stern, Mia Matthews, Bianca Matthews': 1,\n",
              " 'Amybeth McNulty, Geraldine James, R.H. Thomson, Corrine Koslo, Dalila Bela, Lucas Jade Zumann, Aymeric Jett Montaz': 1,\n",
              " 'Miyu Irino, Ai Kayano, Haruka Tomatsu, Takahiro Sakurai, Saori Hayami, Takayuki Kondo, Mitsuru Ogata, Mutsumi Tamura, Asami Seto, Aki Toyosaki, Kaoru Mizuhara, Yui Makino': 1,\n",
              " \"Clive Owen, Amanda Seyfried, Colm Feore, Sonya Walger, Mark O'Brien, Joe Pingue, Iddo Goldberg, Sebastian Pigott, Rachel Roberts, Ethan Tavares\": 1,\n",
              " 'Daniela Escobar, Marlon Moreno, Peter Ketnath, Barbara Scolaro': 1,\n",
              " 'Katee Sackhoff, Justin Chatwin, Samuel Anderson, Blu Hunt, AJ Rivera, Jake Abel, Alex Ozerov, Alexander Eling, Lina Renna, Selma Blair': 1,\n",
              " 'Seo Hyun-jin, Eric Moon, Jeon Hye-bin, Ye Ji-won, Kim Ji-seok, Lee Jae-yoon, Lee Han-wi, Kim Mee-kyeong, Oh Man-seok, Lee Pil-mo': 1,\n",
              " 'Sunny Suwanmethanont, Kan Kantathavorn, Pattarasaya Kreuasuwansri, Chayanan Manomaisantiphap, Suwaphat Techaviriyawong, Prachakorn Piyasakulkaew, Nattarika Thampridanant, Michael Shaowanasai, Pattanachai Adirek': 1,\n",
              " 'Paul Rudd, Evangeline Lilly, Michael Douglas, Michael Peña, Hannah John-Kamen, Laurence Fishburne, Michelle Pfeiffer, Walton Goggins, T.I., Judy Greer, Bobby Cannavale, David Dastmalchian, Abby Ryder Fortson, Randall Park': 1,\n",
              " 'Mohamed Henedi, Bassem Samra, Dorra Zarrouk, Lotfy Labib': 1,\n",
              " 'Sanjay Dutt, Arshad Warsi, Minissha Lamba, Raghuvir Yadav, Anusha Dhandekar, Gulshan Grover, Ravi Baswani': 1,\n",
              " 'Randy Couture, Chuck Zito, Wil Traval, Celeste Thornton, Rafael De La Fuente, Alyona Chekhova, Natali Yura, Thom Rivera': 1,\n",
              " 'Siddharth Koirala, Nauheed Cyrusi, Manisha Koirala, Rajpal Yadav, Yashpal Sharma, Vijay Raaz, Hiten Tejwani, Sudhir Pandey, Sanjay Mishra, Lalit Tiwari': 1,\n",
              " 'Balthazar Murillo, Vanesa González, Alberto Ajaka, Sofía Gala Castiglione, Patricio Contreras, Matías Recalt, Osqui Guzmán, Roberto Vallejos, Diego Gallardo': 1,\n",
              " 'Alberto Ammann, Eloy Azorín, Verónica Echegui, Lucía Jiménez, Claudia Traisac': 1,\n",
              " 'Ajay Devgn, Nana Patekar, Bipasha Basu, Ayub Khan, Mohan Agashe, Mukesh Tiwari, Yashpal Sharma, Anoop Soni, Chetan Pandit': 1,\n",
              " 'Zachary Levi': 1,\n",
              " 'Warren Christie, Lloyd Owen, Ryan Robbins, Michael Kopsa, Andrew Airlie': 1,\n",
              " \"Dan Stevens, Lucy Boynton, Michael Sheen, Mark Lewis Jones, Bill Milner, Kristine Froseth, Paul Higgins, Richard Elfyn, Elen Rhys, Ross O'Hennessy\": 1,\n",
              " 'Angela Galuppo, Paul Giamatti, Susan Sarandon, Tony Hale, J.K. Simmons, Tony Robinow, Mark Camacho, Tod Fennell, Carlos Alazraqui, Kari Wahlgren': 1,\n",
              " \"David Duchovny, Gethin Anthony, Grey Damon, Emma Dumont, Claire Holt, Michaela McManus, Brían F. O'Byrne, David Meunier, Ambyr Childers, Tara Lynne Barr, Whitney Rose Pynn, Jason Ralph\": 1,\n",
              " 'Ola Rapace, Micha Lescot, Thierry Hancisse, Hélène Fillières, Ruth Vega Fernandez, Louis-Do de Lencquesaing, Eva Lallier, Emilie Gavois-Kahn': 1,\n",
              " 'John Roohinian, Levon Sharafyan, Sevak Hakoyan, David Villada, Mike Ghader, Razmik Mansuryan, Lorita Meg, Amy Sanders, Alla Tumanian': 1,\n",
              " 'Julián Arango, Antonio Sanint': 1,\n",
              " 'Arashi': 1,\n",
              " 'Tony Hale, Rosamund Pike, Jordan Fisher, Chelsea Kane, Adam Pally, Kari Wahlgren': 1,\n",
              " 'Jeremy Renner, Heidi Klum, James Franco, John Cleese, Omar Sy, Michael Madsen, Laurie Holden, Anjelica Huston, Alec Baldwin, Donny Falsetti': 1,\n",
              " \"Charlotte Le Bon, Guillaume Canet, Anne Le Ny, Patrick d'Assumçao, Damien Chapelle, Xavier Beauvois, Vincent Launay-Franceschini\": 1,\n",
              " 'Ahmed Eid, Ayten Amer, Ahmed Fouad Selim, Mohsen Mansour': 1,\n",
              " 'Ryan Devlin': 1,\n",
              " 'Jade Olieberg, Tobias Kersloot, Lisa Smit, Frieda Barnhard, Hans Kesting, Rifka Lodeizen, Robin Boissevain, Jennifer Welts, Steef de Bot, Jip van den Dool, Janni Goslinga, Dennis Rudge, Ian Bok, Roos Dickmann, Minne Koole, Alexander Brouwer': 1,\n",
              " 'Woo-hee Chun, Joo-hyuk Kim, Won-sang Park': 1,\n",
              " 'Ari Eldjárn': 1,\n",
              " 'Ari Shaffir': 1,\n",
              " 'Ariana Grande': 1,\n",
              " 'Surya Saputra, Cut Mini Theo, Tora Sudiro': 1,\n",
              " 'Yudhveer Bakoliya, Ashok Banthia, Ravi Khanwilkar, Vijay Kashyap, Ila Arun, Sachin Khedekar, Rajeshwari Sachdev, Hemanth Mahaur': 1,\n",
              " 'Robbie Amell, Rachael Taylor, Shaun Benson, Gray Powell, Jacob Neayem, Adam Butcher, Tantoo Cardinal': 1,\n",
              " 'Jason Bateman, Portia de Rossi, Will Arnett, Michael Cera, Alia Shawkat, Tony Hale, David Cross, Jeffrey Tambor, Jessica Walter, Ron Howard': 1,\n",
              " 'Stephen Amell, Katie Cassidy, David Ramsey, Willa Holland, Paul Blackthorne, Emily Bett Rickards, John Barrowman, Colton Haynes, Susanna Thompson, Anna Hopkins, Juliana Harkavy, Adrian Holmes, Kathleen Gati, Echo Kellum, Rick Gonzalez, Dominic Bogart, Manu Bennett': 1,\n",
              " 'Arsenio Hall': 1,\n",
              " 'Song Joong-ki, Jang Dong-gun, Kim Ji-won, Kim Ok-vin, Kim Eui-sung, Cho Seong-ha, Lee Do-gyeong, Park Hae-joon, Park Byung-eun': 1,\n",
              " 'Russell Brand, Helen Mirren, Greta Gerwig, Jennifer Garner, Geraldine James, Luis Guzmán, Nick Nolte, Christina Jacquelyn Calph, Murphy Guyer, José Ramón Rosario': 1,\n",
              " 'James McAvoy, Hugh Laurie, Bill Nighy, Jim Broadbent, Imelda Staunton, Ashley Jensen, Ramona Marquez, Marc Wootton, Laura Linney, Eva Longoria, Michael Palin, Joan Cusack, Deborah Findlay, Rich Fulcher, Sarah Smith, Clint Dyer, Kerry Shale, Stewart Lee, Bronagh Gallagher, Kevin Cecil, Alistair McGowan, David Menkin, Kris Pearn, Ian Ashpitel, Rich Hall, Seeta Indrani, Jane Horrocks, Peter Baynham, Emma Kennedy, Dominic West, Jerry Lambert, Julia Davis, Robbie Coltrane, Iain McKee, Sanjeev Bhaskar, Andy Serkis, Tamsin Greig, Rhys Darby, Seamus Malone, Cody Cameron, David Schneider, Kevin Eldon, Danny John-Jules, Brian Cummings': 1,\n",
              " 'Ayushmann Khurrana, Nassar, Manoj Pahwa, Kumud Mishra, Isha Talwar, Sayani Gupta, Mohammed Zeeshan Ayyub, Subhrajyoti Barat, Sushil Pandey, Aakash Dabhade': 1,\n",
              " 'Dian Sastrowardoyo, Oka Antara, Hannah Al Rashid, Nicholas Saputra, Deddy Mahendra Desta, Ayu Azhari': 1,\n",
              " 'Perdita Weeks, Ben Feldman, Edwin Hodge, François Civil, Marion Lambert, Ali Marhyar, Cosme Castro, Hamid Djavadan, Théo Cholbi, Emy Lévy': 1,\n",
              " 'Jack Nicholson, Helen Hunt, Greg Kinnear, Cuba Gooding Jr., Skeet Ulrich, Shirley Knight, Yeardley Smith, Lupe Ontiveros': 1,\n",
              " 'Priyanka Bose, Vaibhav Raj Gupta, Santosh Juvekar, Anangsha Biswas, Ankit Raaj, Kashmira Irani, Kailash Waghmare, Vipin Sharma': 1,\n",
              " 'Rana Ranbir, Neha Pawar, Kuljinder Sidhu, Rupinder Roopi, Sardar Sohi, Pardeep Sran, Seema Kaushal, Rajvir Boparai': 1,\n",
              " 'Bruce Campbell, Lucy Lawless, Ray Santiago, Dana DeLorenzo, Jill Marie Jones': 1,\n",
              " 'Yang Zi, Deng Lun, Luo Yunxi': 1,\n",
              " 'Shalin Naik, Renee Lim, Sandro Demaio': 1,\n",
              " 'Judy Greer, Erin Fitzgerald, Fred Tatasciore, Jeff Gill, Gregg Spiridellis, Evan Spiridellis': 1,\n",
              " 'Shah Rukh Khan, Kareena Kapoor, Danny Denzongpa, Rahul Dev, Hrishitaa Bhatt, Gerson Da Cunha, Subhashini Ali, Umesh Mehra, Sooraj Balaji': 1,\n",
              " 'Noah Britton, Ethan Finlan, Jack Hanke, New Michael Ingemi': 1,\n",
              " 'Anders Baasmo, Kathrine Thorborg Johansen, Ida Husøy, Otto Jespersen, Sven Nordin, Trond Halbo, Alexandra Maria Lara, Wenche Myhre, Kostja Ullmann, Björn Kjellman': 1,\n",
              " 'Joel Courtney, Calum Worthy, Andi Matichak, Katherine McNamara, Cam Gigandet, Mason McNulty, Terry Dale Parks, Vito Viscuso, Jennifer Pierce Mathus, Kevin Remington': 1,\n",
              " 'Shawtane Bowen, Jonathan Braylock, Ray Cordova, Caroline Martin, Jerah Milligan, Monique Moses, Keisha Zollar, James III': 1,\n",
              " 'Carlos Alcántara, Emilia Drago, Christian Meier, Andrés Salas, Anahí de Cárdenas, Rodrigo Sánchez Patiño, Denisse Dibós, Javier Delgiudice, Ana Cecilia Natteri': 1,\n",
              " 'Vikram Prabhu, Subbaraju, Mahima Nambiar, Yogi Babu, Jagan': 1,\n",
              " 'Jung-min Hwang, Do-won Kwak, Man-sik Jung, Woo-sung Jung': 1,\n",
              " 'Parker Jackson Cartwright, Gabe York': 1,\n",
              " 'Stefanie Scott, Theodore Pellerin, Percy Hynes White, Kate Burton, Saïd Taghmaoui, Kristin Booth, James Wotherspoon': 1,\n",
              " 'Angela Chang, Ambrose Hui, Wallace Huo, Jill Hsu, Lin Wei Jun, Josie Leung, Mountain Kao, Liang Hsiu-shen': 1,\n",
              " 'Mirei Kiritani, Mao Daichi, Wakana Sakai, Masako Chiba, Maiko, Ken Kaito, Dori Sakurada, Nicole Ishida, Mayuko Kawakita': 1,\n",
              " 'Mama Sane, Amadou Mbow, Ibrahima Traore, Nicole Sougou, Amina Kane, Mariama Gassama, Coumba Dieng, Ibrahima Mbaye, Diankou Sembene': 1,\n",
              " 'Samantha Mathis, Jason Beghe, Esai Morales, Patrick Fabian, Kim Rhodes, Richard T. Jones, D.B. Sweeney, Paul McCrane, John Rubinstein, Robert Picardo': 1,\n",
              " 'Chantavit Dhanasevi, Preechaya Pongthananikorn, Chaleumpol Tikumpornteerawong, Thawat Pornrattanaprasert, Sananthachat Thanapatpisal, Pongkool Suebsung, Puttachat Pongsuchat, Gornpop Janjaroen, Yanee Tramoth, Pongsatorn Jongwilak': 1,\n",
              " 'Eric Bauza, Lisa Norton, Carlos Díaz, Peter Oldring, Heather Bambrick, Rick Miller, Rob Tinkler, Kristina Nicoll': 1,\n",
              " 'Yuki Kaji, Yui Ishikawa, Marina Inoue, Kisho Taniyama, Yu Shimamura, Yu Kobayashi, Shiori Mikami, Hiro Shimono, Ryota Osaka, Yoshimasa Hosoya, Tomohisa Hashizume, Saki Fujita, Hiroshi Kamiya, Daisuke Ono, Romi Park, Keiji Fujiwara, Kazuhiro Yamaji, Yusaku Yara': 1,\n",
              " 'Harold Evans': 1,\n",
              " 'Belén Soto, Denise Rosenthal, Constanza Piccoli, Fabiola Alarcón, Lucas Balmaceda, Agustín Silva, Camilo Carmona, Ingrid Cruz, Elvis Fuentes, Samuel Landea': 1,\n",
              " 'Jennifer Jason Leigh, Keir Gilchrist, Michael Rapaport, Brigette Lundy-Paine, Amy Okuda, Jenna Boyd, Graham Rogers, Nik Dodani': 1,\n",
              " 'Mark Samual Bonanno, Broden Kelly, Zachary Ruane, Ed Helms, Kristen Schaal, Weird Al Yankovic, Kia Stevens, Paul F. Tompkins, Tawny Newsome': 1,\n",
              " 'Cristi Puiu, Clara Voda, Catrinel Dumitrescu, Luminita Gheorghiu, Valentin Popescu, Gheorghe Ifrim, Ileana Puiu, Valeria Seciu, Gelu Colceag': 1,\n",
              " 'Roy Marsden': 1,\n",
              " 'Mike Myers, Beyoncé Knowles-Carter, Seth Green, Michael York, Robert Wagner, Mindy Sterling, Verne Troyer, Michael Caine, Fred Savage': 1,\n",
              " 'Mike Myers, Elizabeth Hurley, Michael York, Mimi Rogers, Robert Wagner, Seth Green, Fabiana Udenio, Mindy Sterling, Paul Dillon, Charles Napier, Will Ferrell': 1,\n",
              " 'Mike Myers, Heather Graham, Michael York, Robert Wagner, Rob Lowe, Seth Green, Mindy Sterling, Verne Troyer, Elizabeth Hurley, Will Ferrell': 1,\n",
              " 'Deepak Sampat, Ronjini Chakroborty, Vikrant Singh, Jhanvi Dwivedi, Ajay Mishra, Rohit Mittal, Sunny Banerjee, Ravidev Singh': 1,\n",
              " 'Antonio Banderas, Dylan McDermott, Melanie Griffith, Birgitte Hjort Sørensen, Robert Forster, Christa Campbell, Tim McInnerny, Andy Nyman, David Ryall': 1,\n",
              " 'Ady An, Vanness Wu, Ann Hsu, Chris Wu, Xiao Xiao Bin': 1,\n",
              " 'Jessica Chastain, Colin Farrell, John Malkovich, Common, Geena Davis, Jess Weixler, Diana Silvers, Joan Chen, Ioan Gruffudd': 1,\n",
              " 'Zach Tyler, Mae Whitman, Jack De Sena, Dee Bradley Baker, Dante Basco, Jessie Flower, Mako Iwamatsu': 1,\n",
              " 'Maudy Koesnaedi, Chicco Jerikho, Tutie Kirana, Olga Lydia, Joko Anwar, Nathania Angela Widjaja, Sendy Febrina, Suhartini, Atie Krisnawati, Ratnawati Sutandar, Ninik Winarni Utomo': 1,\n",
              " 'Scott Adkins, Craig Fairbrass, Thomas Turgoose, Nick Moran, Kierston Wareing, Mark Strange, Leo Gregory, Luke LaFontaine, Beau Fowler, Dan Styles': 1,\n",
              " 'Robert Downey Jr., Josh Brolin, Mark Ruffalo, Tom Hiddleston, Chris Evans, Chris Hemsworth, Jeremy Renner, Chris Pratt, Elizabeth Olsen, Sebastian Stan, Benedict Cumberbatch, Paul Bettany, Cobie Smulders, Benedict Wong, Zoe Saldana, Karen Gillan, Vin Diesel, Dave Bautista, Bradley Cooper, Pom Klementieff, Scarlett Johansson, Benicio Del Toro, Anthony Mackie, Chadwick Boseman, Danai Gurira, Paul Rudd, Don Cheadle, Tom Holland': 1,\n",
              " 'Avicii': 1,\n",
              " 'Sam Gittins, Grant Masters, Neerja Naik, Abigail Cruttenden, Kris Saddler, Holly Weston, David Bradley': 1,\n",
              " 'Jonathan Rhys Meyers, Francesca Eastwood, Malik Yoba, William Forsythe, James Austin Kerr, Jeremy Parr': 1,\n",
              " 'James Davis': 1,\n",
              " 'Hilary Swank, Josh Charles, Vivian Wu, Mark Ivanir, Ato Essandoh, Ray Panthaki, Talitha Eliana Bateman': 1,\n",
              " 'Li Yongzhen, Zhuang Kebi, Zhang Shunyuan, Wang Wei, Wen Shaoping, Liu Shumin, Lu Huiting, Ye Chengcheng, Chen Yuqi': 1,\n",
              " 'Kajal Aggarwal, Nithya Menon, Regina Cassandra, Eesha Rebba, Murli Sharma, Srinivas Avasarala, Priyadarshi Pullikonda': 1,\n",
              " 'Sayani Gupta, Lin Laishram, Tenzing Dalha, Dolly Ahluwalia, Vinay Pathak, Lanuakam Ao, Rohan Joshi, Adil Hussain, Asenla Jamir': 1,\n",
              " 'Deepak Subramanya, Apoorva Soma, Ramesh Bhat, Harsha H S, Karthik A, Goutham Shashidhar, Nagshree Karkone, Moksha Kushal, Vedashree Rao': 1,\n",
              " 'Ama K. Abebrese, Asana Alhassan, Adjetey Anang, Akofa Edjeani Asiedu, Emmanuel Nii Adom Quaye, Peter Ritchie': 1,\n",
              " 'Emraan Hashmi, Prachi Desai, Nargis Fakhri, Lara Dutta, Kunaal Roy Kapur, Gautam Gulati, Anikie Maguire, Kulbhushan Kharbanda, Rajesh Sharma, Shernaz Patel, Veerendra Saxena': 1,\n",
              " 'Hiroaki Hirata, Yuki Kaji, Asami Seto, Hiroki Touchi, Minoru Inaba, Ami Koshimizu, Toshiyuki Toyonaga, Shintaro Tanaka, Atsushi Goto, Toshiyuki Morikawa, Kaito Ishikawa, Satomi Sato, Yu Kitada, Mitsuki Saiga, Kazuya Nakai, Nozomi Kameda, Makoto Awane': 1,\n",
              " 'Shadab Kamal, Shilpa Shukla, Rajesh Sharma, Dibyendu Bhattacharya, Vijay Kaushik, Anula Navlekar, Happy Ranjit, Raveena Singh, Padam Mishra': 1,\n",
              " 'Kritika Sachdeva, Sasho, Sanghmitra Hitaishi, Indraneil Sengupta, Saurabh Dubey, Shubhangi Latkar, Sukhbir Kaur Lamba, Arav Chowdharry': 1,\n",
              " \"Ajay Devgn, Emraan Hashmi, Vidyut Jamwal, Ileana D'Cruz, Esha Gupta, Sanjay Mishra, Sunny Leone, Sharad Kelkar, Priyanshu Chatterjee, Denzil Smith\": 1,\n",
              " 'Tiger Shroff, Shraddha Kapoor, Sudheer Babu, Paras Arora, Sunil Grover, Sourav Chakraborty, Shaurya Bhardawaj': 1,\n",
              " 'Saif Ali Khan, Chitrangada Singh, Radhika Apte, Rohan Vinod Mehra, Manish Chaudhary, Denzil Smith, Pawan Chopra, Deepak Gheewala, Utkarsh Mazumdar, Danish Hussain': 1,\n",
              " 'Çetin Tekindor, Fikret Kuşkan, Hümeyra, Ege Tanman, Şerif Sezer, Yetkin Dikinciler, Binnur Kaya, Mahmut Gökgöz, Nergis Çorakçi, Bilge Sen': 1,\n",
              " 'Müfit Can Saçıntı, Mert Turak, Ünal Yeter, Elif Nur Kerkük, Uğur Demirpehlivan, Ayşen Gruda, Erkan Can, Banu Manioğlu': 1,\n",
              " 'Brad Pitt, Cate Blanchett, Gael García Bernal, Koji Yakusho, Adriana Barraza, Rinko Kikuchi, Said Tarchani, Boubker Ait El Caid, Elle Fanning, Nathan Gamble, Mohamed Akhzam': 1,\n",
              " 'Benedetta Porcaroli, Alice Pagani, Riccardo Mandolini, Chabeli Sastre Gonzalez, Brando Pacitto, Lorenzo Zurzolo, Claudia Pandolfi, Galatea Ranzi': 1,\n",
              " 'Warren Bullock, Jane Bullock': 1,\n",
              " 'Nirmal Rishi, Sonam Bajwa, Sukhwinder Chahal, Tania, Gurnam Bhullar': 1,\n",
              " 'Salamina Mosese, Kay Smith, Thembisa Mdoda, Dineo Ranaka, Sthembiso Khoza, Khaya Mthembu, Jonathan Boynton-Lee, Nicholas Nkuna, Donovan Pietersen, Pamela Nomvete': 1,\n",
              " 'Volker Bruch, Liv Lisa Fries, Peter Kurth, Leonie Benesch, Matthias Brandt, Severija Janusauskaite, Fritzi Haberlandt, Ivan Shvedoff, Lars Eidinger, Anton von Lucke, Misel Maticevic': 1,\n",
              " 'Ingrid Guimarães, Fábio Assunção, Alice Braga, Rosanne Mulholland, Caroline Abras, João Assunção': 1,\n",
              " 'Sofia Wylie, Tiarnie Coupland, Trae Robin, Gemma Chua-Tran, Ashleigh Ross, Yasmin Honeychurch, Raj Labade, Christopher Kirby, Melissa Bonne, Kate Box': 1,\n",
              " 'Daisuke Ono, Satoshi Hino, Kazuyuki Okitsu, Yuka Nukui, Kaori Maeda, Hikaru Akao, Junichi Suwabe, Keiji Fujiwara': 1,\n",
              " 'Marcus Chang, Ivy Shao, Mini Tsai, Yorke Sun, Ray Yang, Chang Chieh': 1,\n",
              " 'Ludovik, Jérôme Niel, Nicolas Berno, Johann Dionnet, Caroline Anglade, Joséphine Draï, Pauline Deshons, Marc Riso, Romain Lancry, Nicolas Lumbreras, Claire Tran, Pitcho Womba Konga': 1,\n",
              " 'Dan Aaron Ramnarong, Pimchanok Leuwisetpaiboon, Chanintorn Jitpreeda, Chonlakarn Puangnoy, Achita Pramoj Na Ayudhya, Vichuda Pindum, Kriengsak Hrientong, Likit Sittiphun': 1,\n",
              " 'Missy Peregrym, Jeff Roop, Eric Balfour, Nicholas Campbell': 1,\n",
              " 'Joe Anderson, William Baldwin, Donald Sutherland, Alisha Bailey, Alastair Mackenzie, Dominic Mafham, Jessamine-Bliss Bell, Martin Hutson, Aaron McCusker, Cyril Nri': 1,\n",
              " 'Black Deniro, Byron \"Squally\" Vinson, Dominic Costa, Nick Ferraro, Peter Ferriero, Jowharah Jones': 1,\n",
              " 'Adrien Brody, Sam Neill, Robin McLeavy, Bruce Spence, Jenni Baird, Chloe Bayliss, Anna Lise Phillips, George Shevtsov': 1,\n",
              " 'Anthony LaPaglia, Kim Coates, Enrico Colantoni, Paul Sorvino, Maxim Roy, Brett Donahue, Michelle Mylett, Claudia Ferri, Tony Nappo': 1,\n",
              " 'Will Smith, Martin Lawrence, Téa Leoni, Tchéky Karyo, Theresa Randle, Joe Pantoliano, Emmanuel Xuereb, Michael Imperioli, Nestor Serrano, Julio Oscar Mechoso': 1,\n",
              " 'Will Smith, Martin Lawrence, Jordi Mollà, Gabrielle Union, Peter Stormare, Theresa Randle, Joe Pantoliano, Michael Shannon, Jon Seda, Yul Vazquez': 1,\n",
              " \"Nigel O'Neill, Susan Lynch, Józef Pawlowski, Stuart Graham, David Pearse, Brian Milligan, Anna Prochniak, Stella McCusker, Ian McElhinney, Lalor Roddy\": 1,\n",
              " 'Jack Whitehall, Mathew Horne, Sarah Solemani, Michelle Gomez, Nikki Runeckles, Kae Alexander, Layton Williams, Ethan Lawrence, Charlie Wernham, Jack Binstead, Jack Bence, Harry Enfield': 1,\n",
              " 'Chutimon Chuengcharoensukying, Chanon Santinatornkul, Teeradon Supapunpinyo, Eisaya Hosuwan, Thaneth Warakulnukroh, Sarinrat Thomas, Ego Mikitas, Pasin Kuansataporn, Sahajak Boonthanakit, Kanjana Vinaipanid': 1,\n",
              " 'Johnny Knoxville, Jackson Nicoll, Greg Harris, Georgina Cates, Kamber Hejlik, Jill Killington, Madison Davis, George Faughnan, Spike Jonze, Catherine Keener': 1,\n",
              " 'Kim Sang-jung, Ma Dong-seok, Park Hae-Jin, Cho Dong-hyuk, Kang Ye-won, Kang Shin-il, Ji-a Min, Hwang Seung-eon': 1,\n",
              " 'Joong-hoon Park, Jin-mo Joo, Yang Ik-june, Moo-Yul Kim, Ji Soo, Young-chang Song, Hong-Fa Kim, Tae-ho Ryu, Yu-seok Kim, Soo-young Park, Yoon-hee Lee': 1,\n",
              " 'Jack Cutmore-Scott, Lili Simmons, Brandon Scott, Chase Williamson, Noureen DeWulf, Seth Morris, Christine Donlon, Trent Haaga, Kahyun Kim, Cynthia Rose Hall, Zedrick Restauro, Eric Podnar': 1,\n",
              " 'Jonathan Park, Awkwafina, David Lee, Richard Lee': 1,\n",
              " 'Kheiron, Catherine Deneuve, André Dussollier, Louison Blivet, Adil Dehbi, Hakou Benosmane, Youssouff Wague, Mahia Zrouki, Joseph Jovanovic': 1,\n",
              " 'Additi Gupta, Sanjeeda Sheikh, Kiran Karmarkar, Abhinav Shukla, Tanushree Kaushal, Mona Ambegaonkar': 1,\n",
              " 'Amruta Subhash, Rajesh More, Devika Daftardar, Renuka Daftardar, Uttara Baokar, Jyoti Subhash, Milind Shinde, Sachin Mondkar': 1,\n",
              " 'Amitabh Bachchan, Taapsee Pannu, Amrita Singh, Tony Luke, Manav Kaul': 1,\n",
              " 'Kevin Makely, Bruce Dern, Mira Sorvino, Trace Adkins, Wes Studi, Tony Todd, Jeff Fahey, James Russo, Amanda Wyss': 1,\n",
              " 'Nobunaga Shimazaki, Takayuki Sugo, Bin Shimada, Rikiya Koyama, Takuya Eguchi, Banjo Ginga, Takehito Koyasu, Kenjiro Tsuda, Chafurin, Issei Futamata, Mugihito, Yoshihisa Kawahara, Sora Amamiya, Toru Furuya': 1,\n",
              " 'Jonah Wineberg, Deven Christian Mack, Margarita Valderrama, Ticoon Kim, Jason Deline, Will Bowes': 1,\n",
              " 'Meghna Erande Joshi, Parminder Ghumman': 1,\n",
              " 'Alejandro Goic, Trinidad González, Ingrid Isensee, Mario Horton, Manuela Oyarzún, Fernanda Urrejola, Catalina Saavedra, Pablo Schwarz, Aline Küppenheim, Marcial Tagle, Víctor Quezada, Alfredo Castro, Roberto Farías, Hugo Medina, Daniel Candia, María Paz Grandjean, Alejandro Sieveking, Nicolás Durán, Sergio Hernández, Willy Semler, Erto Pantoja': 1,\n",
              " 'Kevin Bacon, Bob Hoskins, Bridget Fonda, Jim Cummings, Phil Collins, Jack Angel, Danny Mann, Robbie Rist': 1,\n",
              " 'Maurice LaMarche, Jodi Benson, Lacey Chabert, David Carradine, Mark Hamill, Charles Fleischer, Peter MacNicol, Rob Paulsen, Nicolette Little, Melanie Stone': 1,\n",
              " 'Maurice LaMarche, Sean Astin, Keith Carradine, Charles Fleischer, Jodi Benson, Bill Fagerbakke, Charity James, Kathy Najimy, David Paymer, Jean Smart': 1,\n",
              " 'Osman Khalid Butt, Ainy Jaffri, Sadaf Kanwal, Khurram Patras, Ali Sheikh, Zeeshan Ali, Durdana Butt, Shafqat Cheema, Adeel Hashmi, Javed Sheikh': 1,\n",
              " 'Hande Doğandemir, Fatih Artman, Devrim Yakut, Cengiz Bozkurt, Erdal Tosun, Berat Yenilmez, Ercan Yazgan, Sadi Celil Cengiz, Cihan Ercan, Burcu Biricik, Tarık Ünlüoğlu, Gürkan Uygun, Gökçe Bahadır': 1,\n",
              " 'Chigul, Patrick Diabuah, Adetomiwa Edun, Uche Jumbo, Saidi Balogun, Ali Nuhu, Bimbo Manuel, Akah Nnani, Damilola Adegbite, Dorcas Shola Fapson': 1,\n",
              " 'Hannah Marks, Liana Liberato, Dylan Sprouse, Luke Spencer Roberts, Jessica Hecht, Addison Riecke, Meagan Kimberly Smith, Haley Ramm': 1,\n",
              " 'Zoe Lister-Jones, Adam Pally, Fred Armisen, Susie Essman, Retta, Hannah Simone, Brooklyn Decker, Angelique Cabral, Colin Hanks, Ravi V. Patel, Jamie Chung, Erinn Hayes, Gillian Zinser, Jesse Williams': 1,\n",
              " 'Kyle Gallner, Adam Nee, Matthew Gray Gubler, Melissa Benoist, Hannibal Buress, Eric Christian Olsen, Stephen Lang, Daniel Edward Mora, Johnny Pemberton, Cooper Huckabee, Lee Garlington, Beth Grant, Creed Bratton': 1,\n",
              " 'Uttam Kumar, Sulakshana Pandit, Utpal Dutt, Bindu, Amjad Khan, Helen, Indrani Mukherjee, Padma Khanna, Iftekhar': 1,\n",
              " 'Puri Hiranyapluek, Paradorn Srichaphan, Chatchai Plengpanich': 1,\n",
              " 'Riteish Deshmukh, Pulkit Samrat, Kumud Mishra, Chandan Roy Sanyal, Arya Babbar, Shivkumar Subramaniam, Tom Alter, Jacqueline Fernandez': 1,\n",
              " 'Sean Jindachot, Nutt Devahastin Na Ayudhya, Patharamanop Isariy, Manatsanun Phanlerdwongsakul, Anchasa Mongkhonsama, Keerati Mahapreukpong': 1,\n",
              " 'Vayu Kessuvit, Ekapol Deebunmee, Nuttapong Boonyuen, Thanadol Auepongs, Martin Sidel, Nichaphat Chatchaipholrat, Narupornkamol Chaisang, Jidapa Siribunchawan, Hortnarong Teng, Everest Moe, Le Trung Hieu': 1,\n",
              " \"Chalad Na Songkhla, Sahatchai 'Stop' Chumrum, Pornchai Hongrattanaporn, Kongsak Kaenmeepol, Samart Saengsa-Ngiam, Suthpong Kanithanon\": 1,\n",
              " 'Wanida Termthanaporn, Isariya Patharamanop, Nontanun Anchuleepradit, Chonnikan Netjui, Attharut Krongrasri, Sumet Ong-Art, Penpak Sirikul, Suppakorn Chaiyo, Thawat Pornrattanaprasert, M.L. Kwantip Devakula, Yingsak Chonglertjetsadawong, Apichet Atirattana, Rika Ishige': 1,\n",
              " 'Nida Patcharaveerapong, Nicole Theriault, Nattapol Diloknawarit, Tosatid Darnkhuntod, Narupornkamol Chaisang, Pavadee Komchokpaisan, Kawin Manonukul, Ponlawit Ketprapakorn, Rudklao Amratisha, Paramej Noiam, Tachakorn Boonlupyanun, Teera Pratumtree, Nawarat Techarathanaprasert, Naphon Phromsuwan': 1,\n",
              " 'Apinya Sakuljaroensuk, Kanokchat Munyadon, Gyeon Seo, Nalin Hohler, Thongpoom Siripipat, Chinawut Indracusin, Preeyada Sitthachai, Akarin Akaranitimaytharatt, Adul Charoenrasameekiat, Kanlaya Lertkasemsup': 1,\n",
              " 'Chanon Santinatornkul, Sutatta Udomsilp, Morakot Liu, Varot Makaduangkeo, Sutthatip Wutichaipradit, Cholsawas Tiewwanichkul, Surapol Poonpiriya, Hattaya Wongkrachang': 1,\n",
              " 'Theeradej Wongpuapan, Sirin Horwang, Ungsumalynn Sirapatsakmetha, Panissara Phimpru, Taksaorn Paksukcharern, Charlie Trairat, Kazuki Yano': 1,\n",
              " 'Johan Cruyff, Andrés Iniesta, Gary Lineker, Xavi Hernández, Lionel Messi, Pau Gasol': 1,\n",
              " 'Naseeruddin Shah, Arjun Mathur, Vijay Raaz, Tannishtha Chatterjee, Violante Placido, Benjamin Gilani': 1,\n",
              " 'Hisham Fageeh, Fatima Al-Banawi, Sami Hifny, Khairia Nazmi, Abdulmajeed Al-Ruhaidi': 1,\n",
              " 'Laurence Rupp, Jeanne Goursaud, David Schütter, Ronald Zehrfeld, Nicki von Tempelhoff, Bernhard Schütz, Eva Verena Müller, Sophie Rois, Gaetano Aronica, Nikolai Kinski, Jeremy Miliker': 1,\n",
              " 'Kelly Sheridan, Kazumi Evans, Claire Corlett, Ashlyn Drummond, Alex Kelly, Tabitha St. Germain, Shannon Chan-Kent': 1,\n",
              " 'Erica Lindbeck, Shannon Chan-Kent, Kazumi Evans, Claire Corlett, Ciana Swales, Adrian Petriw, Maryke Hendrikse, Paul Dobson, Garry Chalk': 1,\n",
              " 'America Young, Kirsten Day, Cassandra Morris, Cassidy Naber, Ritesh Rajan': 1,\n",
              " 'America Young, Kirsten Day, Cassandra Morris, Cassidy Naber, Emma Galvin, Stephanie Sheh, Desirae Whitfield, Cristina Milizia, Lisa Fuson, Greg Chun, Ritesh Rajan, Eamon Brennan': 1,\n",
              " 'Kelly Sheridan, Kathleen Barr, Tabitha St. Germain, Peter Mel, Nakia Burrise, Maryke Hendrikse, Emma Pierson, Ciara Janson, Garry Chalk, Nicole Oliver': 1,\n",
              " 'Kelly Sheridan, Britt Irvin, Michael Kopsa, Rebecca Husain, Kira Tozer': 1,\n",
              " 'Kelly Sheridan, Chiara Zanni, Bethany Brown, Devyn Dalton, Michael Dobson, Brynna Drummond, Rachel Harrison, Alessandro Juliani, Peter Kelamis, Omari Newton, Ingrid Nilson, Nicole Oliver, Shaun Smyth, Kira Tozer': 1,\n",
              " 'Kate Higgins, Sean Hankinson, Haviland Stillwell, Paula Rhodes, Charlie Bodin, Laura Gerow, Katie Crown, Nakia Burrise, Tara Sands, Ashlyn Selich': 1,\n",
              " 'America Young, Erica Lindbeck, Ritesh Rajan, Dave Fennoy, Stephanie Sheh, Cristina Milizia, Desirae Whitfield, Emma Galvin, Angelo Restaino, Eamon Brennan, Ogie Banks': 1,\n",
              " 'Erica Lindbeck, Robbie Daymond, Kimberly Woods, Sarah Anne Williams, Michael Chandler, Dwight Schultz, Ben Bledsoe, Jonathan Lipow, Lucien Dodge, Laura Post': 1,\n",
              " 'Diana Kaarina, Adrian Petriw, Britt Irvin, Cassandra Morris, Kate Higgins, Silvio Pollio, Brittney Wilson, Alexandra Carter, Nicole Oliver, Barbara Tyson': 1,\n",
              " 'Diana Kaarina, Morwenna Banks, Nicole Oliver, Brittney Wilson, Ali Liebert, Shannon Chan-Kent, Madeleine Peters, Cathy Weseluck, Ellen Kennedy, Vincent Tong, Derek Waters, Brian Drummond, Tabitha St. Germain, Bethany Brown, Miranda Nolte, Kelly Metzger, Kazumi Evans, Anna Cummer': 1,\n",
              " 'Erica Lindbeck, Stephanie Sheh, Jenny Pellicer, Alyssya Swales, Elizabeth Irving, Brian Dobson, Rebecca Husain, Cathy Weseluck': 1,\n",
              " 'Kelly Sheridan, Jennifer Waris, Ashleigh Ball, Tiffany Kathryn, Ellie King, Peter Kelamis, Jonathan Holmes, Allison Warnyca, Christopher Gaze, Lauren Lavoie': 1,\n",
              " 'Erica Lindbeck, Sienna Bohn, Shannon Chan-Kent, Michael Dobson, Alyssya Swales, Rebekah Asselstine, Brad Swaile, Sam Vincent, Ingrid Nilson, Nesta Cooper': 1,\n",
              " 'Barbra Streisand': 1,\n",
              " 'Kathryn Bernardo, Daniel Padilla, Joshua Garcia, Aiko Melendez, Joey Marquez, Ricky Davao, Maria Isabel Lopez, Ana Capri, Cris Villanueva': 1,\n",
              " 'Emraan Hashmi, Viineet Kumar, Sobhita Dhulipala, Jaideep Ahlawat, Kirti Kulhari, Sohum Shah, Rajit Kapoor, Danish Hussain': 1,\n",
              " 'Ayushmann Khurrana, Kriti Sanon, Rajkummar Rao, Pankaj Tripathi, Seema Pahwa, Rohit Chaudhury, Swati Semwal': 1,\n",
              " 'Hailee Steinfeld, Jessica Alba, Samuel L. Jackson, Sophie Turner, Dove Cameron, Toby Sebastian, Gabriel Basso, Thomas Mann, Rachael Harris, Dan Fogler, Steve-O, Rob Huebel, Finesse Mitchell, Jaime King': 1,\n",
              " \"Ranbir Kapoor, Priyanka Chopra, Ileana D'Cruz, Saurabh Shukla, Ashish Vidyarthi, Rupa Ganguly, Bholaraj Sapkota, Jishu Sengupta, Haradhan Bannerjee\": 1,\n",
              " 'Fabrizio Copano, Rodrigo Salinas, Pedro Ruminot, Sergio Freire, Juanita Ringeling, Alessandra Denegri, Luis Dubó, Felipe Avello': 1,\n",
              " 'Devon Terrell, Anya Taylor-Joy, Jason Mitchell, Ashley Judd, Jenna Elfman, Ellar Coltrane, Avi Nash, Linus Roache, John Benjamin Hickey': 1,\n",
              " 'Twinkle Khanna, Bobby Deol, Danny Denzongpa, Raj Babbar, Ashwin Kaushal, Mukesh Khanna, Harish Patel': 1,\n",
              " 'Trey Parker, Matt Stone, Dian Bachar, Yasmine Bleeth, Jenny McCarthy, Ernest Borgnine, Robert Vaughn, Trevor Einhorn': 1,\n",
              " 'Michael Douglas, Sharon Stone, George Dzundza, Jeanne Tripplehorn, Denis Arndt, Leilani Sarelle, Bruce A. Young, Chelcie Ross, Dorothy Malone, Wayne Knight, Daniel von Bargen, Stephen Tobolowsky': 1,\n",
              " 'Rosa Romay, Alberto Escobal, Jaime de Diego, Josu Cubero': 1,\n",
              " 'Vera Farmiga, Freddie Highmore, Max Thieriot, Olivia Cooke, Nicola Peltz, Nestor Carbonell, Mike Vogel, Keegan Connor Tracy': 1,\n",
              " 'Deep Joshi, Jasmine Kaur, Mohit Bhaskar, Vijay S. Kumar, Prince Kanwaljit Singh, Tarlochan Singh, Harsh Sethi': 1,\n",
              " 'Steve Young': 1,\n",
              " 'Kevin Conroy, Mark Hamill, Tara Strong, Ray Wise, John DiMaggio, Robin Atkin Downes, Brian George, JP Karliak, Andrew Kishino, Nolan North': 1,\n",
              " 'Lisa Teige, Fabian Svegaard Tapia, Vebjørn Enger, Charlott Madeleine Utzig, Stig R. Amdam, Karen-Lise Mynster': 1,\n",
              " 'Josh Duhamel, Dean Winters, Aubrey Dollar, Edward Fordham Jr., Kal Penn, Janet McTeer, Liza Lapira, Damon Herriman, Meredith Eaton': 1,\n",
              " 'Louis Mandylor, Daniel Southworth, Richard Alan Reid, Oleg Taktarov, Natassia Malthe, Jason Earles, Dominique Swain, Michael Paré': 1,\n",
              " 'Rajesh Khanna, A.K. Hangal, Durga Khote, Jaya Bhaduri, Kali Bannerjee, Usha Kiran, Asrani, Paintal': 1,\n",
              " 'Camilla Jo-Ann Daries, Wafeeq Narimab, Anna Louw, Steven Afrikaner, Ashwyn Mberi, Robert Hara Gaeb': 1,\n",
              " 'Luis Gerardo Méndez, Brontis Jodorowsky, Joonas Saartamo, Laura Birn, Ilkka Koivula, Ville Virtanen, Raúl Villegas, Miriam Balderas, Ximena Guzmán': 1,\n",
              " 'Farooq Shaikh, Smita Patil, Naseeruddin Shah, Bharat Kapoor, Supriya Pathak, Rita Rani Kaul, Malika': 1,\n",
              " 'Amitabh Bachchan, Hema Malini, Raveena Tandon, Sonu Sood, Sonal Chauhan, Charmy Kaur, Prakash Raj, Makrand Deshpande, Subbaraju, Shawar Ali, Rajeev Verma': 1,\n",
              " 'Andy Whitfield': 1,\n",
              " 'Matthew Espinosa, Sarah Jeffery, Allison Paige, Tava Smiley, Caitlin Keats, LaMonica Garrett, Mahaley Patel, Mason McCulley, Liana Ramirez': 1,\n",
              " 'Jason Tsou, Queen Wei, River Huang, Fabien Yang, Tang Chen-Kang, Figaro Tseng': 1,\n",
              " 'Bobby Dou, Peijia Huang, Nylon Chen, Vivi Lee, Edison Wang, Serena Fang': 1,\n",
              " 'Nataliya Medvedeva, Polina Kutepova': 1,\n",
              " 'Rowan Atkinson, Peter MacNicol, John Mills, Pamela Reed, Harris Yulin, Burt Reynolds, Larry Drake, Danny Goldring, Johnny Galecki, Chris Ellis, Andrew Lawrence, Peter Egan, Peter Capaldi, June Brown, Peter James, Sandra Oh': 1,\n",
              " 'Steve Leonard, Francis Manapul, Kathryn Denning, Scott Edwards, Mike Paixao': 1,\n",
              " 'Chikahiro Kobayashi, Sayaka Senbongi, Yuki Ono, Atsumi Tanezaki, Junya Enoki, Yuma Uchida, Takeo Otsuka, Naoto Kobayashi, Yoshiyuki Shimozuma, Nobuhiko Okamoto, Fukushi Ochiai, Takaaki Torashima, Sayumi Watabe, Genki Muro, Yuichi Iguchi, Yuko Hara, Ikuto Kanemasa, Ouchi Akane, Hibiku Yamamura, Sakura Ando, Akio Otsuka, Mitsuaki Hoshino, Kenyu Horiuchi': 1,\n",
              " 'Idris Elba, Abraham Attah, Kurt Egyiawan, Jude Akuwudike, Emmanuel \"King Kong\" Nii Adom Quaye, Ama K. Abebrese, Kobina Amissah Sam, Francis Weddey, Richard Pepple': 1,\n",
              " 'Kyung-ho Jung, So-yeon Kim, Hyun-min Yoon, Goo Jin, Hyun-joo Gong, Si-eon Lee, Yeong-gyu Park, Seok-Hwan An, Myung-Ryul Nam, Eun-ji Jo': 1,\n",
              " 'Khalil Everage, Anthony Anderson, Uzo Aduba, Emayatzy Corinealdi, Paul Walter Hauser, Dave East, Seandrea Sledge, Ashley Jackson, Megan Sousa': 1,\n",
              " 'Olga Breeskin, Lyn May, Rossy Mendoza, Wanda Seux, Princesa Yamal': 1,\n",
              " 'Kristin Kreuk, Jay Ryan, Max Brown, Austin Basis, Nina Lisandrello, Brian White, Sendhil Ramamurthy': 1,\n",
              " 'Vice Ganda, Coco Martin, James Reid, Nadine Lustre, Karla Estrada, Ryan Bang, Badjie Mortiz, Alonzo Muhlach, Marco Masa, Lassy Marquez, MC Calaquian': 1,\n",
              " 'Methinee Kingpayome, Son Songpaisarn, Yingying Sarucha, Pim Pimjira Jaroenlak, Jespipat Tilapornputt, Groupz Chutharut Anusin, Aon Korakot Tunkaew, Raviyanun Takerd, Nat Thephussadin Na Ayutthaya, Bam Pakakanya Charoenyos, Eye Warapairin Laphatsanitirot, Pemy Peramin Thabkaew, Darin Hansen, Hongyok Pornphan Rerkatakarn, Rattanapond Klinkulabhiran, Oliver Pupart, Organ Wacharapolmek, Patiparn Pataweekarn, Yuthana Puengklarng, Ak Akarat, Point Cholawit Meetongcom, Copter Phumin, Koii Korakod, Mila Thanapa, Mild Anis Suwit': 1,\n",
              " 'Mike Judge, Bruce Willis, Demi Moore, Cloris Leachman, Robert Stack, Jacqueline Barba, Pamela Blair, Eric Bogosian, Kristofor Brown, Tony Darling, David Letterman': 1,\n",
              " 'Faizon Love, Vanessa Bell Calloway, Wayne Collins, Jonell Green, Marques Houston, Tone-Loc, Myra J., Nell Carter': 1,\n",
              " 'Herjunot Ali, Winky Wiryawan, Erly Ashy, Laura Basuki, Tarzan, Aida Nurmala, Otto Djauhari, Indra Herlambang': 1,\n",
              " 'Lee Min-ki, Jung So-min, Esom, Kim Ga-eun, Park Byung-eun, Kim Min-seok, Moon Hee-kyung, Kim Byung-ok, Kim Sun-young': 1,\n",
              " 'Hassan El Raddad, Emy Samir Ghanim, Bayyumi Fuad, Taher Abu Lela, Nesreen Ameen, Mourad Makram, Diaa El-Merghani, Juditta Salem-Wolff': 1,\n",
              " 'Michelle Obama': 1,\n",
              " 'Anne Hathaway, James McAvoy, Julie Walters, James Cromwell, Maggie Smith, Laurence Fox, Ian Richardson': 1,\n",
              " 'Adam Sandler, Keri Russell, Guy Pearce, Russell Brand, Richard Griffiths, Jonathan Pryce, Courteney Cox, Lucy Lawless, Teresa Palmer, Aisha Tyler, Laura Ann Kesling, Jackie Sandler, Lorna Scott, Dana Min Goodman, Andrew Collins, Jonathan Loughran, Jonathan Morgan Heit, Nick Swardson, Tim Herlihy, Billy Tyler, Johntae Lipscomb, Mikey Post, Sebastian Saraceno, Bill Romanowski, Sadie Sandler, Carmen Electra, Allen Covert, Kathryn Joosten, Annalise Basso, Blake Clark, Julia Lea Wolov, Sarah G. Buxton': 1,\n",
              " 'Jerry Seinfeld, Renée Zellweger, Matthew Broderick, Patrick Warburton, John Goodman, Chris Rock, Kathy Bates, Barry Levinson, Larry King, Ray Liotta': 1,\n",
              " 'Michaela Coel, Arinzé Kene, George MacKay, Ashley Thomas, Joe Dempsie, Ronke Adekoluejo, Luke Norris, Mya Lewis': 1,\n",
              " 'Damilola Adegbite, O.C. Ukeje, Beverly Naya, Meg Otanwa, Anee Icha, Patrick Diabuah, Tunbosun Aiyedehin, Patrick Doyle': 1,\n",
              " 'Zoey Deutch, Halston Sage, Erica Tremblay, Logan Miller, Cynthy Wu, Kian Lawley, Jennifer Beals, Medalion Rahimi, Diego Boneta, Elena Kampouris, Liv Hewson, G. Hannelius, Nicholas Lea, Claire Margaret Corlett, Roan Curtis': 1,\n",
              " 'Kate Bosworth, Thomas Jane, Jacob Tremblay, Annabeth Gish, Dash Mihok, Jay Karnes, Lance E. Nichols': 1,\n",
              " 'Leonardo DiCaprio': 1,\n",
              " 'Maged El Kedwany, Hana Shiha, Ahmed Dawood, Lana Mushtak, Hany El Metennawy': 1,\n",
              " 'Todrick Hall': 1,\n",
              " 'Pok Piyatida Woramusik, Willie Ruengrit McIntosh, Charebelle Lanlalin, Tono Pakin Kumwilaisuk, Point Cholawit Meetongcom, Cee Hathaiphat, Pitta Na Pattalung, Ae Sasikarn Aphichartworasilp, Louis Pongphan Petchbuntoon, Sawitree Samipak': 1,\n",
              " 'Erdal Beşikçioğlu, Fatih Artman, İnanç Konukçu, Seda Bakan, Berkan Şal, Ayça Eren, Berke Üzrek, Canan Ergüder, Ege Aydan, Eray Eserol, Hakan Hatipoğlu': 1,\n",
              " 'Sunny Leone, Rajneesh Duggal, Rajeev Verma, Daniel Weber, Yuvraj Siddharth Singh, Ziesha Nancy': 1,\n",
              " 'Tony McCoy': 1,\n",
              " 'Kevin Clash, Whoopi Goldberg': 1,\n",
              " 'Gabrielle Union, Lisa Vidal, Margaret Avery, Omari Hardwick, Latarsha Rose, Aaron D. Spears, B.J. Britt, Raven Goodwin, Richard Roundtree': 1,\n",
              " 'Omoni Oboli, Majid Michel, Ayo Makun, Uru Eke, Ime Bishop Umoh, Lepacious Bose, Seun Akindele, Sylvia Oluchy, Chika Chukwu': 1,\n",
              " 'Mark Schneider, Frank Samson': 1,\n",
              " 'Ezzat El Alaily, Mireille Maalouf, Joseph Bou Nassar, Elie Adabachi, Philippe Akiki, Ahmed Al Zein': 1,\n",
              " 'Stef Aerts, Tom Vermeir, Charlotte Vandermeersch, Hélène Devos, Boris Van Severen, Sara De Bosschere, Dominique Van Malder, Sam Louwyck, Stefaan De Winter, Silvanus Saow': 1,\n",
              " 'Kura Forrester, William Davis, Tina Cook, Hariata Moriarty': 1,\n",
              " 'Brec Bassinger, Coy Stewart, Jackie Radinsky, Buddy Handleson, Lilimar, Haley Tju, Dorien Wilson, Rio Mangini, Annie Tedesco': 1,\n",
              " 'Gonzalo Delgado, Olivia Molinaro Eijo, Jeannette Sauksteliskis, Tomás Wahrmann, María Noel Gutiérrez, Marcelo Fernández Borsari, Alejandro Castiglioni, Cecilia Caballero Jeske, Martín Reyes, Carolina Penadés': 1,\n",
              " 'Erika Linder, Natalie Krill, Sebastian Pigott, Mayko Nguyen, Tommie-Amber Pirie, Melanie Leishman, Andrea Stefancikova, Daniela Barbosa': 1,\n",
              " 'Preston Nyman, Sian Taylor, Ian Puleston-Davies, Sara Crowe, Sarah Ann Kennedy, Judy Flynn, John Sparkes, David Graham': 1,\n",
              " 'Tara Strong, Montse Hernandez, David Kaye, Roger Craig Smith, Todd Haberkorn, Dwight Schultz, Daryl Sabara': 1,\n",
              " 'Ben Platt': 1,\n",
              " 'Chris Klein, Jon Lovitz, Chelsey Reist, Lochlyn Munro, Liam Hughes, Jill Morrison, Zak Santiago, Garfield Wilson, Jonathan Silverman': 1,\n",
              " \"Mira Sorvino, Kristoffer Polaha, Doug Jones, Paul Sorvino, Aaron Farb, Ser'Darius Blain, Christopher Backus, Christopher Masterson, Tommy Kijas, Kee Seymore, Marla Adams\": 1,\n",
              " 'Gabriel Bateman, Darby Camp, Kiele Sanchez, Jerod Haynes, Gralen Bryant Banks, Angus Sampson, Will Rothhaar, Jim Gleason, Brady Permenter': 1,\n",
              " 'Nick Whitaker, Chris Kendrick, Randall Newsome, Duane Stephens, Lincoln Hoppe, Christy Summerhays, Scott Wilkinson': 1,\n",
              " 'Ron Moody, Patsy Garrett, Cynthia Smith': 1,\n",
              " 'Michael Roark, Trace Adkins, Ali Afshar, Allison Paige, Tony Panterra, Brando Eaton, Hunter Clowdus, Michael King': 1,\n",
              " 'Paul Kalkbrenner, Rita Lengyel, Corinna Harfouch, Araba Walton, Peter Schneider, Rolf Peter Kahl, Henriette Müller, Udo Kroschwald, Megan Gay, Max Mauff': 1,\n",
              " 'Ata Demirer, Necati Bilgiç, Tarık Ünlüoğlu, Özlem Türkad, Nihal Yalçın, Cemil Özbayer, Cengiz Bozkurt, Orhan Güner, Mert Aran': 1,\n",
              " 'Matthias Habich, Max Riemelt, Teresa Palmer, Lucie Aron, Emma Bading': 1,\n",
              " 'Felicitas Woll, Janina Uhse, Jan Sosniok, Matthias Klimsa, Sandra Borgmann, Kai Lentrodt, Armin Rohde, Gitta Schweighöfer, Kailas Mahadevan': 1,\n",
              " 'Hiroaki Iwanaga, Takahiro Sakurai, Toa Yukinari, Yuki Kaji, Minako Kotobuki, Takahiro Fujiwara, Yoshiro Matsumoto, Kazuki Yao, Aki Toyosaki, Rikiya Koyama, Kenta Miyake': 1,\n",
              " 'Hiroaki Iwanaga, Takahiro Sakurai, Toa Yukinari, Yuki Kaji, Minako Kotobuki, Takahiro Fujiwara, Yoshiro Matsumoto, Kazuki Yao, Aki Toyosaki, Rikiya Koyama, Kenta Miyake, Nobuyuki Katsube, Houchu Ohtsuka, Takayuki Sugo': 1,\n",
              " 'Hiroaki Iwanaga, Takahiro Sakurai, Toa Yukinari, Yuki Kaji, Yoshiro Matsumoto, Minako Kotobuki, Takahiro Fujiwara, Kazuki Yao, Yuichi Nakamura, Aki Toyosaki, Akio Otsuka': 1,\n",
              " 'Jackie Tohn, David So, Rosemary Shrager': 1,\n",
              " 'Da-hae Lee, Zhou Mi, Wang Qiuzi, Kwang-hyun Park, Jia Zhengyu, Jeong-hak Park': 1,\n",
              " 'Sameh Hussain, Menna Arafa, Merna al-Mohandes': 1,\n",
              " 'Jerry Seinfeld, Leslie Jones, Taylor Tomlinson, Tom Segura, Jack Whitehall, Michelle Buteau, Bert Kreischer, Jo Koy, Donnell Rawlings, Jim Jefferies, Nikki Glaser, George Lopez, Sam Jay, Marc Maron, Kevin Hart, Michael McIntyre, Fortune Feimster, Eric André, Jim Norton, Felipe Esparza, Hannah Gadsby, Patton Oswalt, Vir Das, Robert Kelly, Urzila Carlson, Tom Papa, Kanan Gill, Ms. Pat, Rob Schneider, Adrienne Iapalucci, Kenny Sebastian, Thomas Middleditch, Ben Schwartz': 1,\n",
              " \"Daniel Levy, Eugene Levy, Catherine O'Hara, Annie Murphy, Chris Elliott, Emily Hampshire, Sarah Levy, Jennifer Robertson, Noah Reid, Dustin Milligan, Karen Robinson, Rizwan Manji\": 1,\n",
              " 'Stephen Sondheim, Harold Prince, Jason Alexander, Mandy Patinkin, Lonny Price': 1,\n",
              " 'Sam Ashe Arnold, Cole Sand, Brianna Reed, Brittany Garms, Alison Becker, Larry Bates, Tiffany Espensen, Rachel Gage, Matt Battaglia, Affion Crockett': 1,\n",
              " 'Viineet Kumar, Aahana Kumra, Suchitra Pillai, Jatin Goswami, Siddharth Menon, Manjiri Pupala, Yashwant Wasnik, Savita Bajaj, Jitendra Joshi, Syna Anand': 1,\n",
              " 'Bethany Hamilton': 1,\n",
              " 'Bob Odenkirk, Jonathan Banks, Michael McKean, Rhea Seehorn, Patrick Fabian, Michael Mando, Giancarlo Esposito': 1,\n",
              " 'Paulina Andreeva, Kirill Käro, Aleksandr Ustyugov, Olga Lomonosova, Eldar Kalimulin, Vitaliya Kornienko, Vera Panfilova, Aleksandr Kuznetsov, Fyodor Lavrov, Sergey Sosnovskiy, Kirill Polukhin, Pavel Vorontsov': 1,\n",
              " 'William Ackman': 1,\n",
              " 'Betty White, Valerie Bertinelli, Georgia Engel, Tina Fey, Valerie Harper, Jennifer Love Hewitt, Carl Reiner, Ryan Reynolds, Alex Trebek': 1,\n",
              " 'Jennette McCurdy, Jesse Carere, Ryan Allen, Justin Kelly, Kyle Mac, Jack Murray, Brooke Palsson, Jim Watson, Wesley Morgan, Krystal Hope Nausbaum, Shailene Garnett, Canute Gomes, Sarah Podemski, Shailyn Pierre-Dixon, Jesse Bostick, Steven Grayhm, Percy Hynes White, Mercedes Morris, Samantha Munro': 1,\n",
              " 'Gerald Anderson, Julia Barretto, Yayo Aguila, Christian Vazquez': 1,\n",
              " 'Zach Galifianakis, Lauren Lapkus, Ryan Gaul, Jiavani Linayao, Will Ferrell': 1,\n",
              " 'Nicolas Cage, Franka Potente, Penelope Mitchell, Garrett Clayton, Lydia Hearst, Hopper Penn': 1,\n",
              " 'Anil Kapoor, Akshay Kumar, Kareena Kapoor, Sushmita Sen, Shamita Shetty, Manoj Bajpayee, Kabir Bedi, Nafisa Ali, Supriya Pathak, Raj Premi, Supriya Karnik': 1,\n",
              " 'Ahmed Helmy, Zeina, Shery Adel, Emy Samir Ghanim, Yousef Fawzy, Yasser El Tobgy, Wael Sami, Maryam Saleh': 1,\n",
              " 'Marina Inoue, Junya Enoki, Fumihiro Okabayashi, Tsubasa Yonaga, Ayahi Takagaki, Yu Kobayashi': 1,\n",
              " 'Marina Inoue, Ryoko Shiraishi, Takuma Terashima, Junko Takeuchi, Fumihiro Okabayashi, Yu Kobayashi, Ayahi Takagaki': 1,\n",
              " 'Erika Harlacher, Griffin Puatu, Kimlinh Tran, Taylor Henry, Janice Roman Roku, Brian Anderson': 1,\n",
              " 'Laura Stahl, Billy Kametz, Derek Stephen Prince, Kyle McCarley, Brandon Winckler, Kimlinh Tran': 1,\n",
              " 'Aki Kanada, Satoshi Hino, Emiri Kato, Kei Shindo, Robert Tinkler, Peter Cugno, Lisette St. Louis, Barbara Mamabolo': 1,\n",
              " 'Cezmi Baskın, Özgü Namal, Umut Kurt, Nazmi Kırık, Bahri Beyat, Meral Okay, Dilber Ay, Şahin Irmak, Oktay Kaynarca, Burak Tamdoğan': 1,\n",
              " 'Kunal Nayyar': 1,\n",
              " 'Frank Grillo, Bojana Novakovic, Jonny Weston, Callan Mulvey, Antonio Fargas, Yayan Ruhian, Pamelyn Chee, Jacob Vargas, Iko Uwais': 1,\n",
              " 'Jim Rash, Matt Duffer, Ross Duffer, Shawn Levy, David Harbour, Finn Wolfhard, Millie Bobby Brown, Gaten Matarazzo, Caleb McLaughlin, Natalia Dyer, Charlie Heaton, Noah Schnapp, Joe Keery, Dacre Montgomery, Sadie Sink, Paul Reiser, Sean Astin, Randy Havens, Brett Gelman, Linnea Berthelsen': 1,\n",
              " 'Ishaan Khattar, Malavika Mohanan, Goutam Ghose, Sharada, Tannishtha Chatterjee, Shashank Shende, Hema Singh, Akash Gopal': 1,\n",
              " 'Deven Bhojani, Suchita Trivedi, Sarita Joshi, Varun Khandelwal, Bhavna Khatri, Dushyant Wagh, Gulfam Khan, Atul Parchure': 1,\n",
              " 'Swara Bhasker, Dolly Singh, Ravi Patel, Varun Thakur, Mona Ambegaonkar, Girish Kulkarni': 1,\n",
              " 'Karuna Pandey, Chandan Anand, Kanika Shivpuri, Ved Thappar, Nupur Alankar, Tarun Mehta, Priya Marathe, Vasundhara Kaul, Ankit Narang, Arshima Thapar': 1,\n",
              " 'Akshay Kumar, Govinda, Lara Dutta, Paresh Rawal, Rajpal Yadav, Jackie Shroff, Arbaaz Khan, Tanushree Dutta, Asrani, Shakti Kapoor': 1,\n",
              " 'Sagar Deshmukh, Vijay Kenkre, Iravati Harshe, Shubhangi Damle, Sachin Khedekar, Sunil Barve, Ashwini Giri, Rajan Bhise': 1,\n",
              " 'Sagar Deshmukh, Iravati Harshe, Vijay Kenkre, Shubhangi Damle, Ashwini Giri, Nina Kulkarni, Dalip Tahil, Girish Kulkarni': 1,\n",
              " 'Gippy Grewal, Gurpreet Guggi, Ragini Khanna, Om Puri, B.N. Sharma, Avtar Gill, Karamjit Anmol, Rana Jung Bahadur': 1,\n",
              " 'Sunny Kaushal, Rukshar Dhillon, Shriya Pilgaonkar, Parmeet Sethi, Samir Soni, Chaitanya Sharma, Sheeba Chaddha, Akarsh Khurana': 1,\n",
              " 'Imran Rasheed, Mittal Chouhan, Trimala Adhikari, Bhushan Vikas, Ravi Goswami, Raghav Dutt, Kumkum Chouhan, Rohan Mobarsa': 1,\n",
              " 'Harshvardhan Kapoor, Priyanshu Painyuli, Ashish Verma, Shreiya Sabharwal, Pratap Phad, Chinmayee Mandlekar, Nishikant Kamat, Hrishikesh Joshi': 1,\n",
              " 'Nitin Reddy, Rashmika Mandanna, Sampath Raj, Jishu Sengupta, Anant Nag': 1,\n",
              " 'Akshay Kumar, Vidya Balan, Ameesha Patel, Shiney Ahuja, Paresh Rawal, Rajpal Yadav, Manoj Joshi, Asrani, Vikram Gokhale, Rasika Joshi': 1,\n",
              " 'Ajay Devgn, Urmila Matondkar, Nana Patekar, Rekha, Fardeen Khan, Victor Banerjee, Tanuja, Seema Biswas': 1,\n",
              " 'Raghuvir Yadav, Masha Paur, Mohan Joshi, Manoj Joshi, Mukesh Tiwari, Shakti Kapoor, Sitaram Panchal, Kunika Lall': 1,\n",
              " 'Lina Larissa Strahl, Lisa-Marie Koroll, Louis Held, Ruby O. Fee, Charly Hübner, Michael Maertens, Winnie Böwe, Fabian Buch, Max von der Groeben, Martin Seifert': 1,\n",
              " 'Lina Larissa Strahl, Lisa-Marie Koroll, Louis Held, Emilio Moutaoukkil, Michael Maertens, Martin Seifert, Winnie Böwe, Fabian Buch, Mavie Hörbiger, Olli Schulz, Charly Hübner, Milan Peschel': 1,\n",
              " 'Lina Larissa Strahl, Lisa-Marie Koroll, Tilman Pörzgen, Philipp Laude, Charly Hübner, Louis Held, Benjamin Lutzke, Max von der Groeben, Kostja Ullmann, Michael Maertens, Fabian Buch, Winnie Böwe': 1,\n",
              " 'Lina Larissa Strahl, Lisa-Marie Koroll, Louis Held, Lea van Acken, Emilio Sakraya, Michael Maertens, Martin Seifert': 1,\n",
              " 'Ungku Ismail, Fasha Sandha, Bell Ngasri, Wan Sharmila': 1,\n",
              " \"Wesley Barker, Herbie Baez, Elisabeth Lund, Shannon Chandler, Billy Forester, Frank Addela, Kyle Jordan, Dave 'Foots' Footman, Derek Stephen Prince, Vivian Smallwood\": 1,\n",
              " \"Joey Kern, Adam Brody, Zachary Knighton, Tyler Labine, Pablo Schreiber, Toby Huss, Heidi Heaslet, Ahna O'Reilly\": 1,\n",
              " 'Adam Sandler, Joey Lauren Adams, Jon Stewart, Cole Sprouse, Dylan Sprouse, Josh Mostel, Leslie Mann, Allen Covert, Rob Schneider, Kristy Swanson': 1,\n",
              " 'Frankie Muniz, Paul Giamatti, Amanda Bynes, Amanda Detmer, Donald Faison, Sandra Oh, Russell Hornsby, Michael Bryan French, Christine Tucci, Lee Majors, John Cho': 1,\n",
              " 'Christoph Sanders, Jason Patric, Clint Glenn Hummel, Lou Diamond Phillips, Danny Trejo, Scott Martin, Elizabeth McLaughlin, Stephanie Beran, K.C. Clyde, Michael Paré': 1,\n",
              " 'Drew Barrymore, John Krasinski, Kristen Bell, Dermot Mulroney, Tim Blake Nelson, Vinessa Shaw, Ted Danson, Stephen Root, Rob Riggle, Michael Gaston': 1,\n",
              " 'Nick Kroll, John Mulaney, Jessi Klein, Jason Mantzoukas, Jenny Slate, Fred Armisen, Maya Rudolph, Jordan Peele': 1,\n",
              " 'Ashley Judd, Patrick Wilson, Whoopi Goldberg, John Benjamin Hickey, Jane Krakowski, Judith Ivey, Jasmine Guy, Chris Sarandon, Anthony LaPaglia, Jenna Elfman, Angelina Fiordellisi, Mary Testa, Dagmara Dominczyk, Mary Pat Gleason, Joe Inscoe, James Hampton, Paul Wilson': 1,\n",
              " 'Kendall Schmidt, James Maslow, Carlos PenaVega, Logan Henderson, Ciara Bravo, Challen Cates, Tanya Chisholm, Stephen Kramer Glickman, Trevor Devall, Christopher Shyer': 1,\n",
              " 'Bigflo & Oli': 1,\n",
              " \"Ricky Garcia, Jodelle Ferland, Barry Bostwick, Fiona Vroom, Kevin O'Grady, Karen Holness\": 1,\n",
              " 'Nick Broomfield': 1,\n",
              " 'Bikram Choudhury': 1,\n",
              " 'Bill Hicks, Steve Hicks': 1,\n",
              " 'Bill Nye, Karlie Kloss, Derek Muller, Emily Calandrelli, Nazeem Hussain, Joanna Hausmann': 1,\n",
              " 'Bill Nye, Neil deGrasse Tyson, Eugenie Scott, Francis Collins, Ann Druyan': 1,\n",
              " 'Irrfan Khan, Shah Rukh Khan, Lara Dutta, Rajpal Yadav, Om Puri, Asrani, Manoj Joshi': 1,\n",
              " 'Jamie Bell, Gary Lewis, Stuart Wells, Billy Fane, Colin MacLachlan, Nicola Blackwell, Carol McGuigan, Joe Renton, Janine Birkett, Charlie Hardwick, Mike Elliot, Jean Heywood, Jamie Draven, Julie Walters, Trevor Fox, Adam Cooper': 1,\n",
              " 'Billy Graham, Jeff Hoyt, Tom Brokaw, Greta Van Susteren, Diane Sawyer, Larry King, George Bush Sr., George W. Bush, Bill Clinton, Franklin Graham': 1,\n",
              " 'Billy Eichner': 1,\n",
              " 'Joy Sengupta, Koneenica Banerjee, Kanchana Moitra, Pradip Mukherjee': 1,\n",
              " 'Luna Wedler, Jessica Schwarz, Adrian Julius Tillmann, Thomas Prenn, Jing Xiang, Caro Cult, Sebastian Jakob Doppelbauer': 1,\n",
              " 'Nina Kulkarni, Suhas Palshikar, Kushal Badrike, Spruha Joshi, Mangesh Desai, Smita Tambe, Veena Jamkar, Sandeep Khare': 1,\n",
              " 'Sermiyan Midyat, Şafak Sezer, Nicole Faria, Burak Satıbol': 1,\n",
              " 'Sandra Bullock, Trevante Rhodes, John Malkovich, Sarah Paulson, BD Wong, Jacki Weaver, Rosa Salazar, Danielle Macdonald, Lil Rel Howery, Tom Hollander': 1,\n",
              " 'Mary Joy Apostol, Arnold Reyes, Ku Aquino, John Arcilla, Dido Dela Paz, Elora Espano, Ronnie Quizon, Rolando T. Inocencio, Suzette Ranillo, Angelica C. Ferro': 1,\n",
              " \"Toni Collette, Matthew Goode, Andreas Apergis, Michael Smiley, Fionnula Flanagan, Suzanne Clément, Jordan Poole, Megan O'Kelly, Anton Gillis-Adelman, Tyrone Benskin, Vincent Hoss-Desmarais\": 1,\n",
              " 'Jason Ritter, Jaime King, Marianna Palka, Brighton Sharbino, Rio Mangini, Jason Maybaum, Kingston Foster, Arielle Kebbel, Martin Starr, Roger Guenveur Smith, Caroline Aaron, Bill Smitrovich': 1,\n",
              " 'Kate Nhung, Thanh Pham, Petey Majik Nguyen, Suboi, Jayvee Mai The Hiep, Lam Thanh My': 1,\n",
              " 'Laura Vandervoort, Greyston Holt, Greg Bryk, Steve Lund, Paul Greene, Michael Xavier, Genelle Williams': 1,\n",
              " 'María Mera, Toni Salgado, Miquel Insua, Denis Gómez, Lucía Álvarez, Sara Sanz, Jimmy Núñez, Paloma Saavedra, Manuel Cortés, Yelena Molina, Ricardo de Barreiro, Nerea Barros, Santiago Cuquejo, Martina Stetson, Carlos Villarino': 1,\n",
              " 'Ahmed Helmy, Lotfy Labib, Edward, Enaam Salousa': 1,\n",
              " 'Pulkit Samrat, Ashok Pathak, Tanvir Singh, Amita Pathak, Sunil Shetty, Rajendra Sethi, Mohan Kapoor': 1,\n",
              " 'Soham Chakraborty, Bidya Sinha Mim, Ashish Vidyarthi, Rajatabha Dutta, Rudranil Ghosh, Kharaj Mukherjee': 1,\n",
              " 'Hugo Weaving, James Frecheville, Stephen Rea, Freddie Fox, Barry Keoghan, Moe Dunford, Sarah Greene, Jim Broadbent': 1,\n",
              " 'Dawnisha Halfkenny, Simeon Henderson, Corey Hendrix, Malcom Banks, Nadia Simms, Brian White, Brely Evans, Cynda Williams, Carl Anthony Payne II': 1,\n",
              " 'Daisuke Ono, Maaya Sakamoto, Hiroki Touchi, Yuki Kaji, Emiri Kato, Koji Yusa, Shunji Fujimura, Yukari Tamura, Romi Park, Jun Fukuyama': 1,\n",
              " 'Rashed Al Shamrani, Sayed Rajab, Dina Talaat, Mohamad Al Ahmad, Maram Al Bloushi, Mahmoud Bu Shehri, Aseel Omran, Mona Shaddad, Azeez Khayoun, Ayman Mabrouk, Eisa Diab, Dima Al Jundi': 1,\n",
              " 'Michaela Coel, John Goodman, Abena Ayivor, Noma Dumezweni, Ronald Guttman, Danny Sapani, Harriet Walter, Tyrone Huggins, Emmanuel Imani, Lucian Msamati, Tamara Tunie': 1,\n",
              " 'Pavan Malhotra, Kay Kay Menon, Aditya Srivastava, Dibyendu Bhattacharya, Kishore Kadam, Gajraj Rao, Zakir Hussain, Imtiaz Ali, Pratima Kazmi, Raj Arjun': 1,\n",
              " 'Josh Hartnett, Ewan McGregor, Tom Sizemore, Eric Bana, William Fichtner, Ewen Bremner, Sam Shepard, Gabriel Casseus, Kim Coates, Hugh Dancy, Ron Eldard, Ioan Gruffudd, Tom Guiry, Charlie Hofheimer, Danny Hoch, Jason Isaacs, Zeljko Ivanek, Glenn Morshower, Jeremy Piven, Brendan Sexton III': 1,\n",
              " 'Barış Kılıç, Tuvana Türkay, Serhat Tutumluer, Gülçin Santırcıoğlu, Kenan Bal': 1,\n",
              " 'Ceaser Emanuel, Dutchess Lattimore, Puma Robinson, Alex Estevez, Sassy Bermudez': 1,\n",
              " \"Cress Williams, James Remar, Marvin 'Krondon' Jones III, Jill Scott, China Anne McClain, Damon Gupton, Nafessa Williams, Christine Adams\": 1,\n",
              " 'Jesse Plemons, Cristin Milioti, Jimmi Simpson, Rosemarie DeWitt, Douglas Hodge, Andrea Riseborough, Brenna Harding, Owen Teague, Andrew Gower, Kiran Sonia Sawar, Georgina Campbell, Joe Cole, Maxine Peake, Jake Davies, Clint Dyer, Letitia Wright, Babs Olusanmokun, Bryce Dallas Howard, Alice Eve, Michael Kelly, Cherry Jones, Gugu Mbatha-Raw, Mackenzie Davis, Wyatt Russell, Benedict Wong, Kelly Macdonald, Faye Marsay, Madeline Brewer, Hannah John-Kamen, Malachi Kirby, Alex Lawther, Jerome Flynn, James Norton, Rory Kinnear, Lindsay Duncan, Daniel Kaluuya, Jessica Brown Findlay, Rupert Everett, Toby Kebbell, Jodie Whittaker, Hayley Atwell, Domhnall Gleeson, Lenora Crichlow, Michael Smiley, Daniel Rigby, Chloe Pirrie, Jason Flemyng, Jon Hamm, Oona Chaplin, Rafe Spall': 1,\n",
              " 'Fionn Whitehead, Will Poulter, Craig Parkinson, Alice Lowe, Asim Chaudhry': 1,\n",
              " 'Güler Ökten, Hazal Türesan, İlkin Tüfekçi, Bedia Ener, Erkan Can, Öykü Karayel, Emre Kızılırmak, Bestemsu Özdemir, Engin Akyürek, Burak Tamdoğan, Saygın Soysal, Tuba Büyüküstün, Ali Yörenç, Ahmet Tansu Taşanlar, Elif İnci': 1,\n",
              " \"Chadwick Boseman, Michael B. Jordan, Lupita Nyong'o, Danai Gurira, Martin Freeman, Daniel Kaluuya, Letitia Wright, Winston Duke, Sterling K. Brown, Angela Bassett, Forest Whitaker, Andy Serkis, Florence Kasumba, John Kani, David S. Lee, Stan Lee\": 1,\n",
              " 'Alexander Nevsky, Kristanna Loken, Adrian Paul, Robert Davi, Robert Madrid, Matthias Hues, Oksana Sidorenko, Emmanuil Vitorgan, Olga Rodionova, Polina Butorina': 1,\n",
              " 'Jude Law, Scoot McNairy, Ben Mendelsohn, Bobby Schofield, Tobias Menzies, Michael Smiley, Grigoriy Dobrygin, David Threlfall, Jodie Whittaker, Karl Davies': 1,\n",
              " 'Cam Gigandet, Teri Reeves, Michael Dale, Dion Mucciacito, Casey Hendershot, Benjamin Charles Watson, John Brodsky, Arash Mokhtar': 1,\n",
              " 'Samuel L. Jackson, Christina Ricci, Justin Timberlake, S. Epatha Merkerson, John Cothran, David Banner, Michael Raymond-James, Adriane Lenox, Kim Richards, Neimus K. Williams': 1,\n",
              " 'Ricardo Darín, Leonardo Sbaraglia, Laia Costa, Federico Luppi, Dolores Fonzi, Andrés Herrera': 1,\n",
              " 'Suliane Brahim, Hubert Delattre, Laurent Capelluto, Samuel Jouy, Renaud Rutten, Camille Aguilar, Tiphaine Daviot, Naidra Ayadi, Brigitte Sy, Anne Suarez, Dan Herzberg, Olivier Bonjour, Thomas Doret': 1,\n",
              " 'Jaime King, Justin Chu Cary, Christine Lee, Sal Velez Jr., Kelsey Flower, Erika Hau, Edsson Morales, Gwynyth Walsh, Stafford Perry, Mustafa Alabssi': 1,\n",
              " 'Blackpink': 1,\n",
              " 'Anthony Hopkins, Julia Stiles, Alexander Ludwig, Ray Liotta, Hal Holbrook, Lochlyn Munro, Steve Bacic, Aaron Pearl, Aleks Paunovic': 1,\n",
              " 'Takahiro Sakurai, Kana Hanazawa, Sora Amamiya, Kazuhiro Yamaji, Mamoru Miyano, Aya Suzaki, Nobunaga Shimazaki, Yuki Kaji, Aki Toyosaki, Saori Hayami': 1,\n",
              " 'Benjamin Dickey, Alia Shawkat, Josh Hamilton, Charlie Sexton, Sam Rockwell, Wyatt Russell, Steve Zahn, Kris Kristofferson, Richard Linklater, David Kallaway, Ritchie Montgomery': 1,\n",
              " 'Daiki Shigeoka, Akito Kiriyama, Junta Nakama, Tomohiro Kamiyama, Ryusei Fujii, Takahiro Hamada, Nozomu Kotaki, Umika Kawashima, Takeshi Kaga, Norio Wakamoto': 1,\n",
              " 'Masakazu Morita, Fumiko Orikasa, Yuki Matsuoka, Noriaki Sugiyama, Hiroki Yasumoto, Kentaro Ito, Ryotaro Okiayu': 1,\n",
              " 'Masakazu Morita, Fumiko Orikasa, Aya Hirano, Hiroshi Kamiya, Mitsuaki Madono, Ryotaro Okiayu, Kentaro Ito, Shinichiro Miki, Satsuki Yukino, Masaaki Tsukada': 1,\n",
              " 'Masakazu Morita, Fumiko Orikasa, Kazuya Nakai, Noriaki Sugiyama, Kentarô Itô, Yuki Matsuoka, Ryotaro Okiayu, Romi Park': 1,\n",
              " 'Miles Teller, Aaron Eckhart, Katey Sagal, Ciarán Hinds, Ted Levine, Jordan Gelber, Amanda Clayton, Daniel Sauli, Christine Evangelista, Tina Casciani': 1,\n",
              " 'Ahmad Thaher, Maher Khammash, Odai Hijazi, Nadeem Rimawi, Mahmoud al Massad, Nadim Mushahwar': 1,\n",
              " 'Mélanie Bernier, Clovis Cornillac, Lilou Fogli, Philippe Duquesne, Grégoire Oestermann, Oscar Copp, Boris Terral, Manu Payet': 1,\n",
              " 'Andy Lau, Sammi Cheng, Gao Yuanyuan, Guo Tao, Philip Keung, Lam Suet, Lo Hoi-pang, Tai-Lo Ma, Man-Wai Wong, Ying-Ying Yiu, Yi Zi': 1,\n",
              " 'Ryan Kwanten, Rufus Sewell, Toni Collette, Robin McLeavy, David Wenham, Barry Humphries, Richard Roxburgh, Deborah Mailman, Barry Otto': 1,\n",
              " 'Joey Rasdien, David Kau, David Kibuuka, Chris Forrest, Santhiran Moonsamy, Quentin Krog, Kaseran Pillay, Mabutho Sithole, Mel Miller, Kagiso Lediga, Craig Urbani': 1,\n",
              " 'Syrus Shahidi, Lionel Abelanski, Charlotte Gabris, Tom Hygreck, Sylvain Quimene, Laura Boujenah, Foed Amara': 1,\n",
              " 'Nawat Kulrattanarak, Woranuch Wongsawan, Jespipat Tilapornputt, Paramej Noiam, Phutharit Prombandal': 1,\n",
              " 'Ama Qamata, Khosi Ngema, Gail Mabalane, Thabang Molaba, Dillon Windvogel, Natasha Thahane, Arno Greeff, Xolile Tshabalala, Getmore Sithole, Cindy Mahlangu, Ryle De Morny, Greteli Fincham, Sello Maake Ka-Ncube, Odwa Gwanya, Mekaila Mathys, Sandi Schultz, Duane Williams, Shamilla Miller, Patrick Mofokeng': 1,\n",
              " 'Mel Gibson, Erin Moriarty, Diego Luna, Michael Parks, William H. Macy, Miguel Sandoval, Dale Dickey, Richard Cabral, Daniel Moncada, Ryan Dorsey': 1,\n",
              " 'Manish Chaudhary, Kunal Kemmu, Amrita Puri, Shekar Shukla, Teeshay, Mia Evonne Uyeda': 1,\n",
              " \"Derek Phillips, Jason O'Mara, Claudia Christian, Mamie Gummer, Jessica Henwick, Elias Toufexis, Chris Diamantopoulos, Adetokumboh M'Cormack, Matthew Mercer, Melina Kanakaredes, Danny Jacobs, Matt Lowe, Adam Croasdell, Jennifer Hale, David Shaughnessy, Fred Tatasciore, Vanessa Marshall\": 1,\n",
              " ...}"
            ]
          },
          "metadata": {},
          "execution_count": 31
        }
      ]
    },
    {
      "cell_type": "code",
      "source": [
        "#top 10 actors on netflix\n",
        "netflix_cast_count = pd.DataFrame(netflix_cast_dict.values(),netflix_cast_dict.keys()).reset_index().rename(columns={'index':'actors', 0:'count'})[1:11]\n",
        "plt.figure(figsize=(15,5))\n",
        "sns.barplot(x='Actors',y='count',data=netflix_cast_count,palette=\"Blues\")\n",
        "plt.title(\"Top 10 ACTORS on Netflix\",size='16',fontweight=\"bold\")\n",
        "plt.xticks(rotation=90)\n",
        "plt.show()"
      ],
      "metadata": {
        "colab": {
          "base_uri": "https://localhost:8080/",
          "height": 397
        },
        "id": "woLqnqFv_PHH",
        "outputId": "77e48f3b-2405-4a74-81f7-8a592a318bce"
      },
      "execution_count": 32,
      "outputs": [
        {
          "output_type": "error",
          "ename": "ValueError",
          "evalue": "ignored",
          "traceback": [
            "\u001b[0;31m---------------------------------------------------------------------------\u001b[0m",
            "\u001b[0;31mValueError\u001b[0m                                Traceback (most recent call last)",
            "\u001b[0;32m<ipython-input-32-bf558a31944e>\u001b[0m in \u001b[0;36m<module>\u001b[0;34m\u001b[0m\n\u001b[1;32m      2\u001b[0m \u001b[0mnetflix_cast_count\u001b[0m \u001b[0;34m=\u001b[0m \u001b[0mpd\u001b[0m\u001b[0;34m.\u001b[0m\u001b[0mDataFrame\u001b[0m\u001b[0;34m(\u001b[0m\u001b[0mnetflix_cast_dict\u001b[0m\u001b[0;34m.\u001b[0m\u001b[0mvalues\u001b[0m\u001b[0;34m(\u001b[0m\u001b[0;34m)\u001b[0m\u001b[0;34m,\u001b[0m\u001b[0mnetflix_cast_dict\u001b[0m\u001b[0;34m.\u001b[0m\u001b[0mkeys\u001b[0m\u001b[0;34m(\u001b[0m\u001b[0;34m)\u001b[0m\u001b[0;34m)\u001b[0m\u001b[0;34m.\u001b[0m\u001b[0mreset_index\u001b[0m\u001b[0;34m(\u001b[0m\u001b[0;34m)\u001b[0m\u001b[0;34m.\u001b[0m\u001b[0mrename\u001b[0m\u001b[0;34m(\u001b[0m\u001b[0mcolumns\u001b[0m\u001b[0;34m=\u001b[0m\u001b[0;34m{\u001b[0m\u001b[0;34m'index'\u001b[0m\u001b[0;34m:\u001b[0m\u001b[0;34m'actors'\u001b[0m\u001b[0;34m,\u001b[0m \u001b[0;36m0\u001b[0m\u001b[0;34m:\u001b[0m\u001b[0;34m'count'\u001b[0m\u001b[0;34m}\u001b[0m\u001b[0;34m)\u001b[0m\u001b[0;34m[\u001b[0m\u001b[0;36m1\u001b[0m\u001b[0;34m:\u001b[0m\u001b[0;36m11\u001b[0m\u001b[0;34m]\u001b[0m\u001b[0;34m\u001b[0m\u001b[0;34m\u001b[0m\u001b[0m\n\u001b[1;32m      3\u001b[0m \u001b[0mplt\u001b[0m\u001b[0;34m.\u001b[0m\u001b[0mfigure\u001b[0m\u001b[0;34m(\u001b[0m\u001b[0mfigsize\u001b[0m\u001b[0;34m=\u001b[0m\u001b[0;34m(\u001b[0m\u001b[0;36m15\u001b[0m\u001b[0;34m,\u001b[0m\u001b[0;36m5\u001b[0m\u001b[0;34m)\u001b[0m\u001b[0;34m)\u001b[0m\u001b[0;34m\u001b[0m\u001b[0;34m\u001b[0m\u001b[0m\n\u001b[0;32m----> 4\u001b[0;31m \u001b[0msns\u001b[0m\u001b[0;34m.\u001b[0m\u001b[0mbarplot\u001b[0m\u001b[0;34m(\u001b[0m\u001b[0mx\u001b[0m\u001b[0;34m=\u001b[0m\u001b[0;34m'Actors'\u001b[0m\u001b[0;34m,\u001b[0m\u001b[0my\u001b[0m\u001b[0;34m=\u001b[0m\u001b[0;34m'count'\u001b[0m\u001b[0;34m,\u001b[0m\u001b[0mdata\u001b[0m\u001b[0;34m=\u001b[0m\u001b[0mnetflix_cast_count\u001b[0m\u001b[0;34m,\u001b[0m\u001b[0mpalette\u001b[0m\u001b[0;34m=\u001b[0m\u001b[0;34m\"Blues\"\u001b[0m\u001b[0;34m)\u001b[0m\u001b[0;34m\u001b[0m\u001b[0;34m\u001b[0m\u001b[0m\n\u001b[0m\u001b[1;32m      5\u001b[0m \u001b[0mplt\u001b[0m\u001b[0;34m.\u001b[0m\u001b[0mtitle\u001b[0m\u001b[0;34m(\u001b[0m\u001b[0;34m\"Top 10 ACTORS on Netflix\"\u001b[0m\u001b[0;34m,\u001b[0m\u001b[0msize\u001b[0m\u001b[0;34m=\u001b[0m\u001b[0;34m'16'\u001b[0m\u001b[0;34m,\u001b[0m\u001b[0mfontweight\u001b[0m\u001b[0;34m=\u001b[0m\u001b[0;34m\"bold\"\u001b[0m\u001b[0;34m)\u001b[0m\u001b[0;34m\u001b[0m\u001b[0;34m\u001b[0m\u001b[0m\n\u001b[1;32m      6\u001b[0m \u001b[0mplt\u001b[0m\u001b[0;34m.\u001b[0m\u001b[0mxticks\u001b[0m\u001b[0;34m(\u001b[0m\u001b[0mrotation\u001b[0m\u001b[0;34m=\u001b[0m\u001b[0;36m90\u001b[0m\u001b[0;34m)\u001b[0m\u001b[0;34m\u001b[0m\u001b[0;34m\u001b[0m\u001b[0m\n",
            "\u001b[0;32m/usr/local/lib/python3.8/dist-packages/seaborn/_decorators.py\u001b[0m in \u001b[0;36minner_f\u001b[0;34m(*args, **kwargs)\u001b[0m\n\u001b[1;32m     44\u001b[0m             )\n\u001b[1;32m     45\u001b[0m         \u001b[0mkwargs\u001b[0m\u001b[0;34m.\u001b[0m\u001b[0mupdate\u001b[0m\u001b[0;34m(\u001b[0m\u001b[0;34m{\u001b[0m\u001b[0mk\u001b[0m\u001b[0;34m:\u001b[0m \u001b[0marg\u001b[0m \u001b[0;32mfor\u001b[0m \u001b[0mk\u001b[0m\u001b[0;34m,\u001b[0m \u001b[0marg\u001b[0m \u001b[0;32min\u001b[0m \u001b[0mzip\u001b[0m\u001b[0;34m(\u001b[0m\u001b[0msig\u001b[0m\u001b[0;34m.\u001b[0m\u001b[0mparameters\u001b[0m\u001b[0;34m,\u001b[0m \u001b[0margs\u001b[0m\u001b[0;34m)\u001b[0m\u001b[0;34m}\u001b[0m\u001b[0;34m)\u001b[0m\u001b[0;34m\u001b[0m\u001b[0;34m\u001b[0m\u001b[0m\n\u001b[0;32m---> 46\u001b[0;31m         \u001b[0;32mreturn\u001b[0m \u001b[0mf\u001b[0m\u001b[0;34m(\u001b[0m\u001b[0;34m**\u001b[0m\u001b[0mkwargs\u001b[0m\u001b[0;34m)\u001b[0m\u001b[0;34m\u001b[0m\u001b[0;34m\u001b[0m\u001b[0m\n\u001b[0m\u001b[1;32m     47\u001b[0m     \u001b[0;32mreturn\u001b[0m \u001b[0minner_f\u001b[0m\u001b[0;34m\u001b[0m\u001b[0;34m\u001b[0m\u001b[0m\n\u001b[1;32m     48\u001b[0m \u001b[0;34m\u001b[0m\u001b[0m\n",
            "\u001b[0;32m/usr/local/lib/python3.8/dist-packages/seaborn/categorical.py\u001b[0m in \u001b[0;36mbarplot\u001b[0;34m(x, y, hue, data, order, hue_order, estimator, ci, n_boot, units, seed, orient, color, palette, saturation, errcolor, errwidth, capsize, dodge, ax, **kwargs)\u001b[0m\n\u001b[1;32m   3180\u001b[0m ):\n\u001b[1;32m   3181\u001b[0m \u001b[0;34m\u001b[0m\u001b[0m\n\u001b[0;32m-> 3182\u001b[0;31m     plotter = _BarPlotter(x, y, hue, data, order, hue_order,\n\u001b[0m\u001b[1;32m   3183\u001b[0m                           \u001b[0mestimator\u001b[0m\u001b[0;34m,\u001b[0m \u001b[0mci\u001b[0m\u001b[0;34m,\u001b[0m \u001b[0mn_boot\u001b[0m\u001b[0;34m,\u001b[0m \u001b[0munits\u001b[0m\u001b[0;34m,\u001b[0m \u001b[0mseed\u001b[0m\u001b[0;34m,\u001b[0m\u001b[0;34m\u001b[0m\u001b[0;34m\u001b[0m\u001b[0m\n\u001b[1;32m   3184\u001b[0m                           \u001b[0morient\u001b[0m\u001b[0;34m,\u001b[0m \u001b[0mcolor\u001b[0m\u001b[0;34m,\u001b[0m \u001b[0mpalette\u001b[0m\u001b[0;34m,\u001b[0m \u001b[0msaturation\u001b[0m\u001b[0;34m,\u001b[0m\u001b[0;34m\u001b[0m\u001b[0;34m\u001b[0m\u001b[0m\n",
            "\u001b[0;32m/usr/local/lib/python3.8/dist-packages/seaborn/categorical.py\u001b[0m in \u001b[0;36m__init__\u001b[0;34m(self, x, y, hue, data, order, hue_order, estimator, ci, n_boot, units, seed, orient, color, palette, saturation, errcolor, errwidth, capsize, dodge)\u001b[0m\n\u001b[1;32m   1582\u001b[0m                  errwidth, capsize, dodge):\n\u001b[1;32m   1583\u001b[0m         \u001b[0;34m\"\"\"Initialize the plotter.\"\"\"\u001b[0m\u001b[0;34m\u001b[0m\u001b[0;34m\u001b[0m\u001b[0m\n\u001b[0;32m-> 1584\u001b[0;31m         self.establish_variables(x, y, hue, data, orient,\n\u001b[0m\u001b[1;32m   1585\u001b[0m                                  order, hue_order, units)\n\u001b[1;32m   1586\u001b[0m         \u001b[0mself\u001b[0m\u001b[0;34m.\u001b[0m\u001b[0mestablish_colors\u001b[0m\u001b[0;34m(\u001b[0m\u001b[0mcolor\u001b[0m\u001b[0;34m,\u001b[0m \u001b[0mpalette\u001b[0m\u001b[0;34m,\u001b[0m \u001b[0msaturation\u001b[0m\u001b[0;34m)\u001b[0m\u001b[0;34m\u001b[0m\u001b[0;34m\u001b[0m\u001b[0m\n",
            "\u001b[0;32m/usr/local/lib/python3.8/dist-packages/seaborn/categorical.py\u001b[0m in \u001b[0;36mestablish_variables\u001b[0;34m(self, x, y, hue, data, orient, order, hue_order, units)\u001b[0m\n\u001b[1;32m    151\u001b[0m                 \u001b[0;32mif\u001b[0m \u001b[0misinstance\u001b[0m\u001b[0;34m(\u001b[0m\u001b[0mvar\u001b[0m\u001b[0;34m,\u001b[0m \u001b[0mstr\u001b[0m\u001b[0;34m)\u001b[0m\u001b[0;34m:\u001b[0m\u001b[0;34m\u001b[0m\u001b[0;34m\u001b[0m\u001b[0m\n\u001b[1;32m    152\u001b[0m                     \u001b[0merr\u001b[0m \u001b[0;34m=\u001b[0m \u001b[0;34m\"Could not interpret input '{}'\"\u001b[0m\u001b[0;34m.\u001b[0m\u001b[0mformat\u001b[0m\u001b[0;34m(\u001b[0m\u001b[0mvar\u001b[0m\u001b[0;34m)\u001b[0m\u001b[0;34m\u001b[0m\u001b[0;34m\u001b[0m\u001b[0m\n\u001b[0;32m--> 153\u001b[0;31m                     \u001b[0;32mraise\u001b[0m \u001b[0mValueError\u001b[0m\u001b[0;34m(\u001b[0m\u001b[0merr\u001b[0m\u001b[0;34m)\u001b[0m\u001b[0;34m\u001b[0m\u001b[0;34m\u001b[0m\u001b[0m\n\u001b[0m\u001b[1;32m    154\u001b[0m \u001b[0;34m\u001b[0m\u001b[0m\n\u001b[1;32m    155\u001b[0m             \u001b[0;31m# Figure out the plotting orientation\u001b[0m\u001b[0;34m\u001b[0m\u001b[0;34m\u001b[0m\u001b[0;34m\u001b[0m\u001b[0m\n",
            "\u001b[0;31mValueError\u001b[0m: Could not interpret input 'Actors'"
          ]
        },
        {
          "output_type": "display_data",
          "data": {
            "text/plain": [
              "<Figure size 1080x360 with 0 Axes>"
            ]
          },
          "metadata": {}
        }
      ]
    },
    {
      "cell_type": "markdown",
      "source": [
        "##### 2. What is/are the insight(s) found from the chart?"
      ],
      "metadata": {
        "id": "eZrbJ2SmphqO"
      }
    },
    {
      "cell_type": "markdown",
      "source": [
        "Answer Here"
      ],
      "metadata": {
        "id": "mZtgC_hjphqO"
      }
    },
    {
      "cell_type": "markdown",
      "source": [
        "##### 3. Will the gained insights help creating a positive business impact? \n",
        "Are there any insights that lead to negative growth? Justify with specific reason."
      ],
      "metadata": {
        "id": "rFu4xreNphqO"
      }
    },
    {
      "cell_type": "markdown",
      "source": [
        "Answer Here"
      ],
      "metadata": {
        "id": "ey_0qi68phqO"
      }
    },
    {
      "cell_type": "markdown",
      "source": [
        "#### Chart - 9"
      ],
      "metadata": {
        "id": "YJ55k-q6phqO"
      }
    },
    {
      "cell_type": "code",
      "source": [
        "# Chart - 9 visualization code"
      ],
      "metadata": {
        "id": "B2aS4O1ophqO"
      },
      "execution_count": null,
      "outputs": []
    },
    {
      "cell_type": "markdown",
      "source": [
        "##### 1. Why did you pick the specific chart?"
      ],
      "metadata": {
        "id": "gCFgpxoyphqP"
      }
    },
    {
      "cell_type": "markdown",
      "source": [
        "Answer Here."
      ],
      "metadata": {
        "id": "TVxDimi2phqP"
      }
    },
    {
      "cell_type": "markdown",
      "source": [
        "##### 2. What is/are the insight(s) found from the chart?"
      ],
      "metadata": {
        "id": "OVtJsKN_phqQ"
      }
    },
    {
      "cell_type": "markdown",
      "source": [
        "Answer Here"
      ],
      "metadata": {
        "id": "ngGi97qjphqQ"
      }
    },
    {
      "cell_type": "markdown",
      "source": [
        "##### 3. Will the gained insights help creating a positive business impact? \n",
        "Are there any insights that lead to negative growth? Justify with specific reason."
      ],
      "metadata": {
        "id": "lssrdh5qphqQ"
      }
    },
    {
      "cell_type": "markdown",
      "source": [
        "Answer Here"
      ],
      "metadata": {
        "id": "tBpY5ekJphqQ"
      }
    },
    {
      "cell_type": "markdown",
      "source": [
        "#### Chart - 10"
      ],
      "metadata": {
        "id": "U2RJ9gkRphqQ"
      }
    },
    {
      "cell_type": "code",
      "source": [
        "# Chart - 10 visualization code"
      ],
      "metadata": {
        "id": "GM7a4YP4phqQ"
      },
      "execution_count": null,
      "outputs": []
    },
    {
      "cell_type": "markdown",
      "source": [
        "##### 1. Why did you pick the specific chart?"
      ],
      "metadata": {
        "id": "1M8mcRywphqQ"
      }
    },
    {
      "cell_type": "markdown",
      "source": [
        "Answer Here."
      ],
      "metadata": {
        "id": "8agQvks0phqQ"
      }
    },
    {
      "cell_type": "markdown",
      "source": [
        "##### 2. What is/are the insight(s) found from the chart?"
      ],
      "metadata": {
        "id": "tgIPom80phqQ"
      }
    },
    {
      "cell_type": "markdown",
      "source": [
        "Answer Here"
      ],
      "metadata": {
        "id": "Qp13pnNzphqQ"
      }
    },
    {
      "cell_type": "markdown",
      "source": [
        "##### 3. Will the gained insights help creating a positive business impact? \n",
        "Are there any insights that lead to negative growth? Justify with specific reason."
      ],
      "metadata": {
        "id": "JMzcOPDDphqR"
      }
    },
    {
      "cell_type": "markdown",
      "source": [
        "Answer Here"
      ],
      "metadata": {
        "id": "R4Ka1PC2phqR"
      }
    },
    {
      "cell_type": "markdown",
      "source": [
        "#### Chart - 11"
      ],
      "metadata": {
        "id": "x-EpHcCOp1ci"
      }
    },
    {
      "cell_type": "code",
      "source": [
        "# Chart - 11 visualization code"
      ],
      "metadata": {
        "id": "mAQTIvtqp1cj"
      },
      "execution_count": null,
      "outputs": []
    },
    {
      "cell_type": "markdown",
      "source": [
        "##### 1. Why did you pick the specific chart?"
      ],
      "metadata": {
        "id": "X_VqEhTip1ck"
      }
    },
    {
      "cell_type": "markdown",
      "source": [
        "Answer Here."
      ],
      "metadata": {
        "id": "-vsMzt_np1ck"
      }
    },
    {
      "cell_type": "markdown",
      "source": [
        "##### 2. What is/are the insight(s) found from the chart?"
      ],
      "metadata": {
        "id": "8zGJKyg5p1ck"
      }
    },
    {
      "cell_type": "markdown",
      "source": [
        "Answer Here"
      ],
      "metadata": {
        "id": "ZYdMsrqVp1ck"
      }
    },
    {
      "cell_type": "markdown",
      "source": [
        "##### 3. Will the gained insights help creating a positive business impact? \n",
        "Are there any insights that lead to negative growth? Justify with specific reason."
      ],
      "metadata": {
        "id": "PVzmfK_Ep1ck"
      }
    },
    {
      "cell_type": "markdown",
      "source": [
        "Answer Here"
      ],
      "metadata": {
        "id": "druuKYZpp1ck"
      }
    },
    {
      "cell_type": "markdown",
      "source": [
        "#### Chart - 12"
      ],
      "metadata": {
        "id": "n3dbpmDWp1ck"
      }
    },
    {
      "cell_type": "code",
      "source": [
        "# Chart - 12 visualization code"
      ],
      "metadata": {
        "id": "bwevp1tKp1ck"
      },
      "execution_count": null,
      "outputs": []
    },
    {
      "cell_type": "markdown",
      "source": [
        "##### 1. Why did you pick the specific chart?"
      ],
      "metadata": {
        "id": "ylSl6qgtp1ck"
      }
    },
    {
      "cell_type": "markdown",
      "source": [
        "Answer Here."
      ],
      "metadata": {
        "id": "m2xqNkiQp1ck"
      }
    },
    {
      "cell_type": "markdown",
      "source": [
        "##### 2. What is/are the insight(s) found from the chart?"
      ],
      "metadata": {
        "id": "ZWILFDl5p1ck"
      }
    },
    {
      "cell_type": "markdown",
      "source": [
        "Answer Here"
      ],
      "metadata": {
        "id": "x-lUsV2mp1ck"
      }
    },
    {
      "cell_type": "markdown",
      "source": [
        "##### 3. Will the gained insights help creating a positive business impact? \n",
        "Are there any insights that lead to negative growth? Justify with specific reason."
      ],
      "metadata": {
        "id": "M7G43BXep1ck"
      }
    },
    {
      "cell_type": "markdown",
      "source": [
        "Answer Here"
      ],
      "metadata": {
        "id": "5wwDJXsLp1cl"
      }
    },
    {
      "cell_type": "markdown",
      "source": [
        "#### Chart - 13"
      ],
      "metadata": {
        "id": "Ag9LCva-p1cl"
      }
    },
    {
      "cell_type": "code",
      "source": [
        "# Chart - 13 visualization code"
      ],
      "metadata": {
        "id": "EUfxeq9-p1cl"
      },
      "execution_count": null,
      "outputs": []
    },
    {
      "cell_type": "markdown",
      "source": [
        "##### 1. Why did you pick the specific chart?"
      ],
      "metadata": {
        "id": "E6MkPsBcp1cl"
      }
    },
    {
      "cell_type": "markdown",
      "source": [
        "Answer Here."
      ],
      "metadata": {
        "id": "V22bRsFWp1cl"
      }
    },
    {
      "cell_type": "markdown",
      "source": [
        "##### 2. What is/are the insight(s) found from the chart?"
      ],
      "metadata": {
        "id": "2cELzS2fp1cl"
      }
    },
    {
      "cell_type": "markdown",
      "source": [
        "Answer Here"
      ],
      "metadata": {
        "id": "ozQPc2_Ip1cl"
      }
    },
    {
      "cell_type": "markdown",
      "source": [
        "##### 3. Will the gained insights help creating a positive business impact? \n",
        "Are there any insights that lead to negative growth? Justify with specific reason."
      ],
      "metadata": {
        "id": "3MPXvC8up1cl"
      }
    },
    {
      "cell_type": "markdown",
      "source": [
        "Answer Here"
      ],
      "metadata": {
        "id": "GL8l1tdLp1cl"
      }
    },
    {
      "cell_type": "markdown",
      "source": [
        "#### Chart - 14 - Correlation Heatmap"
      ],
      "metadata": {
        "id": "NC_X3p0fY2L0"
      }
    },
    {
      "cell_type": "code",
      "source": [
        "# Correlation Heatmap visualization code"
      ],
      "metadata": {
        "id": "xyC9zolEZNRQ"
      },
      "execution_count": null,
      "outputs": []
    },
    {
      "cell_type": "markdown",
      "source": [
        "##### 1. Why did you pick the specific chart?"
      ],
      "metadata": {
        "id": "UV0SzAkaZNRQ"
      }
    },
    {
      "cell_type": "markdown",
      "source": [
        "Answer Here."
      ],
      "metadata": {
        "id": "DVPuT8LYZNRQ"
      }
    },
    {
      "cell_type": "markdown",
      "source": [
        "##### 2. What is/are the insight(s) found from the chart?"
      ],
      "metadata": {
        "id": "YPEH6qLeZNRQ"
      }
    },
    {
      "cell_type": "markdown",
      "source": [
        "Answer Here"
      ],
      "metadata": {
        "id": "bfSqtnDqZNRR"
      }
    },
    {
      "cell_type": "markdown",
      "source": [
        "#### Chart - 15 - Pair Plot "
      ],
      "metadata": {
        "id": "q29F0dvdveiT"
      }
    },
    {
      "cell_type": "code",
      "source": [
        "# Pair Plot visualization code"
      ],
      "metadata": {
        "id": "o58-TEIhveiU"
      },
      "execution_count": null,
      "outputs": []
    },
    {
      "cell_type": "markdown",
      "source": [
        "##### 1. Why did you pick the specific chart?"
      ],
      "metadata": {
        "id": "EXh0U9oCveiU"
      }
    },
    {
      "cell_type": "markdown",
      "source": [
        "Answer Here."
      ],
      "metadata": {
        "id": "eMmPjTByveiU"
      }
    },
    {
      "cell_type": "markdown",
      "source": [
        "##### 2. What is/are the insight(s) found from the chart?"
      ],
      "metadata": {
        "id": "22aHeOlLveiV"
      }
    },
    {
      "cell_type": "markdown",
      "source": [
        "Answer Here"
      ],
      "metadata": {
        "id": "uPQ8RGwHveiV"
      }
    },
    {
      "cell_type": "markdown",
      "source": [
        "## ***5. Hypothesis Testing***"
      ],
      "metadata": {
        "id": "g-ATYxFrGrvw"
      }
    },
    {
      "cell_type": "markdown",
      "source": [
        "### Based on your chart experiments, define three hypothetical statements from the dataset. In the next three questions, perform hypothesis testing to obtain final conclusion about the statements through your code and statistical testing."
      ],
      "metadata": {
        "id": "Yfr_Vlr8HBkt"
      }
    },
    {
      "cell_type": "markdown",
      "source": [
        "Answer Here."
      ],
      "metadata": {
        "id": "-7MS06SUHkB-"
      }
    },
    {
      "cell_type": "markdown",
      "source": [
        "### Hypothetical Statement - 1"
      ],
      "metadata": {
        "id": "8yEUt7NnHlrM"
      }
    },
    {
      "cell_type": "markdown",
      "source": [
        "#### 1. State Your research hypothesis as a null hypothesis and alternate hypothesis."
      ],
      "metadata": {
        "id": "tEA2Xm5dHt1r"
      }
    },
    {
      "cell_type": "markdown",
      "source": [
        "Answer Here."
      ],
      "metadata": {
        "id": "HI9ZP0laH0D-"
      }
    },
    {
      "cell_type": "markdown",
      "source": [
        "#### 2. Perform an appropriate statistical test."
      ],
      "metadata": {
        "id": "I79__PHVH19G"
      }
    },
    {
      "cell_type": "code",
      "source": [
        "# Perform Statistical Test to obtain P-Value"
      ],
      "metadata": {
        "id": "oZrfquKtyian"
      },
      "execution_count": null,
      "outputs": []
    },
    {
      "cell_type": "markdown",
      "source": [
        "##### Which statistical test have you done to obtain P-Value?"
      ],
      "metadata": {
        "id": "Ou-I18pAyIpj"
      }
    },
    {
      "cell_type": "markdown",
      "source": [
        "Answer Here."
      ],
      "metadata": {
        "id": "s2U0kk00ygSB"
      }
    },
    {
      "cell_type": "markdown",
      "source": [
        "##### Why did you choose the specific statistical test?"
      ],
      "metadata": {
        "id": "fF3858GYyt-u"
      }
    },
    {
      "cell_type": "markdown",
      "source": [
        "Answer Here."
      ],
      "metadata": {
        "id": "HO4K0gP5y3B4"
      }
    },
    {
      "cell_type": "markdown",
      "source": [
        "### Hypothetical Statement - 2"
      ],
      "metadata": {
        "id": "4_0_7-oCpUZd"
      }
    },
    {
      "cell_type": "markdown",
      "source": [
        "#### 1. State Your research hypothesis as a null hypothesis and alternate hypothesis."
      ],
      "metadata": {
        "id": "hwyV_J3ipUZe"
      }
    },
    {
      "cell_type": "markdown",
      "source": [
        "Answer Here."
      ],
      "metadata": {
        "id": "FnpLGJ-4pUZe"
      }
    },
    {
      "cell_type": "markdown",
      "source": [
        "#### 2. Perform an appropriate statistical test."
      ],
      "metadata": {
        "id": "3yB-zSqbpUZe"
      }
    },
    {
      "cell_type": "code",
      "source": [
        "# Perform Statistical Test to obtain P-Value"
      ],
      "metadata": {
        "id": "sWxdNTXNpUZe"
      },
      "execution_count": null,
      "outputs": []
    },
    {
      "cell_type": "markdown",
      "source": [
        "##### Which statistical test have you done to obtain P-Value?"
      ],
      "metadata": {
        "id": "dEUvejAfpUZe"
      }
    },
    {
      "cell_type": "markdown",
      "source": [
        "Answer Here."
      ],
      "metadata": {
        "id": "oLDrPz7HpUZf"
      }
    },
    {
      "cell_type": "markdown",
      "source": [
        "##### Why did you choose the specific statistical test?"
      ],
      "metadata": {
        "id": "Fd15vwWVpUZf"
      }
    },
    {
      "cell_type": "markdown",
      "source": [
        "Answer Here."
      ],
      "metadata": {
        "id": "4xOGYyiBpUZf"
      }
    },
    {
      "cell_type": "markdown",
      "source": [
        "### Hypothetical Statement - 3"
      ],
      "metadata": {
        "id": "bn_IUdTipZyH"
      }
    },
    {
      "cell_type": "markdown",
      "source": [
        "#### 1. State Your research hypothesis as a null hypothesis and alternate hypothesis."
      ],
      "metadata": {
        "id": "49K5P_iCpZyH"
      }
    },
    {
      "cell_type": "markdown",
      "source": [
        "Answer Here."
      ],
      "metadata": {
        "id": "7gWI5rT9pZyH"
      }
    },
    {
      "cell_type": "markdown",
      "source": [
        "#### 2. Perform an appropriate statistical test."
      ],
      "metadata": {
        "id": "Nff-vKELpZyI"
      }
    },
    {
      "cell_type": "code",
      "source": [
        "# Perform Statistical Test to obtain P-Value"
      ],
      "metadata": {
        "id": "s6AnJQjtpZyI"
      },
      "execution_count": null,
      "outputs": []
    },
    {
      "cell_type": "markdown",
      "source": [
        "##### Which statistical test have you done to obtain P-Value?"
      ],
      "metadata": {
        "id": "kLW572S8pZyI"
      }
    },
    {
      "cell_type": "markdown",
      "source": [
        "Answer Here."
      ],
      "metadata": {
        "id": "ytWJ8v15pZyI"
      }
    },
    {
      "cell_type": "markdown",
      "source": [
        "##### Why did you choose the specific statistical test?"
      ],
      "metadata": {
        "id": "dWbDXHzopZyI"
      }
    },
    {
      "cell_type": "markdown",
      "source": [
        "Answer Here."
      ],
      "metadata": {
        "id": "M99G98V6pZyI"
      }
    },
    {
      "cell_type": "markdown",
      "source": [
        "## ***6. Feature Engineering & Data Pre-processing***"
      ],
      "metadata": {
        "id": "yLjJCtPM0KBk"
      }
    },
    {
      "cell_type": "markdown",
      "source": [
        "### 1. Handling Missing Values"
      ],
      "metadata": {
        "id": "xiyOF9F70UgQ"
      }
    },
    {
      "cell_type": "code",
      "source": [
        "# Handling Missing Values & Missing Value Imputation"
      ],
      "metadata": {
        "id": "iRsAHk1K0fpS"
      },
      "execution_count": null,
      "outputs": []
    },
    {
      "cell_type": "markdown",
      "source": [
        "#### What all missing value imputation techniques have you used and why did you use those techniques?"
      ],
      "metadata": {
        "id": "7wuGOrhz0itI"
      }
    },
    {
      "cell_type": "markdown",
      "source": [
        "Answer Here."
      ],
      "metadata": {
        "id": "1ixusLtI0pqI"
      }
    },
    {
      "cell_type": "markdown",
      "source": [
        "### 2. Handling Outliers"
      ],
      "metadata": {
        "id": "id1riN9m0vUs"
      }
    },
    {
      "cell_type": "code",
      "source": [
        "# Handling Outliers & Outlier treatments"
      ],
      "metadata": {
        "id": "M6w2CzZf04JK"
      },
      "execution_count": null,
      "outputs": []
    },
    {
      "cell_type": "markdown",
      "source": [
        "##### What all outlier treatment techniques have you used and why did you use those techniques?"
      ],
      "metadata": {
        "id": "578E2V7j08f6"
      }
    },
    {
      "cell_type": "markdown",
      "source": [
        "Answer Here."
      ],
      "metadata": {
        "id": "uGZz5OrT1HH-"
      }
    },
    {
      "cell_type": "markdown",
      "source": [
        "### 3. Categorical Encoding"
      ],
      "metadata": {
        "id": "89xtkJwZ18nB"
      }
    },
    {
      "cell_type": "code",
      "source": [
        "# Encode your categorical columns"
      ],
      "metadata": {
        "id": "21JmIYMG2hEo"
      },
      "execution_count": null,
      "outputs": []
    },
    {
      "cell_type": "markdown",
      "source": [
        "#### What all categorical encoding techniques have you used & why did you use those techniques?"
      ],
      "metadata": {
        "id": "67NQN5KX2AMe"
      }
    },
    {
      "cell_type": "markdown",
      "source": [
        "Answer Here."
      ],
      "metadata": {
        "id": "UDaue5h32n_G"
      }
    },
    {
      "cell_type": "markdown",
      "source": [
        "### 4. Textual Data Preprocessing \n",
        "(It's mandatory for textual dataset i.e., NLP, Sentiment Analysis, Text Clustering etc.)"
      ],
      "metadata": {
        "id": "Iwf50b-R2tYG"
      }
    },
    {
      "cell_type": "markdown",
      "source": [
        "#### 1. Expand Contraction"
      ],
      "metadata": {
        "id": "GMQiZwjn3iu7"
      }
    },
    {
      "cell_type": "code",
      "source": [
        "# Expand Contraction"
      ],
      "metadata": {
        "id": "PTouz10C3oNN"
      },
      "execution_count": null,
      "outputs": []
    },
    {
      "cell_type": "markdown",
      "source": [
        "#### 2. Lower Casing"
      ],
      "metadata": {
        "id": "WVIkgGqN3qsr"
      }
    },
    {
      "cell_type": "code",
      "source": [
        "# Lower Casing"
      ],
      "metadata": {
        "id": "88JnJ1jN3w7j"
      },
      "execution_count": null,
      "outputs": []
    },
    {
      "cell_type": "markdown",
      "source": [
        "#### 3. Removing Punctuations"
      ],
      "metadata": {
        "id": "XkPnILGE3zoT"
      }
    },
    {
      "cell_type": "code",
      "source": [
        "# Remove Punctuations"
      ],
      "metadata": {
        "id": "vqbBqNaA33c0"
      },
      "execution_count": null,
      "outputs": []
    },
    {
      "cell_type": "markdown",
      "source": [
        "#### 4. Removing URLs & Removing words and digits contain digits."
      ],
      "metadata": {
        "id": "Hlsf0x5436Go"
      }
    },
    {
      "cell_type": "code",
      "source": [
        "# Remove URLs & Remove words and digits contain digits"
      ],
      "metadata": {
        "id": "2sxKgKxu4Ip3"
      },
      "execution_count": null,
      "outputs": []
    },
    {
      "cell_type": "markdown",
      "source": [
        "#### 5. Removing Stopwords & Removing White spaces"
      ],
      "metadata": {
        "id": "mT9DMSJo4nBL"
      }
    },
    {
      "cell_type": "code",
      "source": [
        "# Remove Stopwords"
      ],
      "metadata": {
        "id": "T2LSJh154s8W"
      },
      "execution_count": null,
      "outputs": []
    },
    {
      "cell_type": "code",
      "source": [
        "# Remove White spaces"
      ],
      "metadata": {
        "id": "EgLJGffy4vm0"
      },
      "execution_count": null,
      "outputs": []
    },
    {
      "cell_type": "markdown",
      "source": [
        "#### 6. Rephrase Text"
      ],
      "metadata": {
        "id": "c49ITxTc407N"
      }
    },
    {
      "cell_type": "code",
      "source": [
        "# Rephrase Text"
      ],
      "metadata": {
        "id": "foqY80Qu48N2"
      },
      "execution_count": null,
      "outputs": []
    },
    {
      "cell_type": "markdown",
      "source": [
        "#### 7. Tokenization"
      ],
      "metadata": {
        "id": "OeJFEK0N496M"
      }
    },
    {
      "cell_type": "code",
      "source": [
        "# Tokenization"
      ],
      "metadata": {
        "id": "ijx1rUOS5CUU"
      },
      "execution_count": null,
      "outputs": []
    },
    {
      "cell_type": "markdown",
      "source": [
        "#### 8. Text Normalization"
      ],
      "metadata": {
        "id": "9ExmJH0g5HBk"
      }
    },
    {
      "cell_type": "code",
      "source": [
        "# Normalizing Text (i.e., Stemming, Lemmatization etc.)"
      ],
      "metadata": {
        "id": "AIJ1a-Zc5PY8"
      },
      "execution_count": null,
      "outputs": []
    },
    {
      "cell_type": "markdown",
      "source": [
        "##### Which text normalization technique have you used and why?"
      ],
      "metadata": {
        "id": "cJNqERVU536h"
      }
    },
    {
      "cell_type": "markdown",
      "source": [
        "Answer Here."
      ],
      "metadata": {
        "id": "Z9jKVxE06BC1"
      }
    },
    {
      "cell_type": "markdown",
      "source": [
        "#### 9. Part of speech tagging"
      ],
      "metadata": {
        "id": "k5UmGsbsOxih"
      }
    },
    {
      "cell_type": "code",
      "source": [
        "# POS Taging"
      ],
      "metadata": {
        "id": "btT3ZJBAO6Ik"
      },
      "execution_count": null,
      "outputs": []
    },
    {
      "cell_type": "markdown",
      "source": [
        "#### 10. Text Vectorization"
      ],
      "metadata": {
        "id": "T0VqWOYE6DLQ"
      }
    },
    {
      "cell_type": "code",
      "source": [
        "# Vectorizing Text"
      ],
      "metadata": {
        "id": "yBRtdhth6JDE"
      },
      "execution_count": null,
      "outputs": []
    },
    {
      "cell_type": "markdown",
      "source": [
        "##### Which text vectorization technique have you used and why?"
      ],
      "metadata": {
        "id": "qBMux9mC6MCf"
      }
    },
    {
      "cell_type": "markdown",
      "source": [
        "Answer Here."
      ],
      "metadata": {
        "id": "su2EnbCh6UKQ"
      }
    },
    {
      "cell_type": "markdown",
      "source": [
        "### 4. Feature Manipulation & Selection"
      ],
      "metadata": {
        "id": "-oLEiFgy-5Pf"
      }
    },
    {
      "cell_type": "markdown",
      "source": [
        "#### 1. Feature Manipulation"
      ],
      "metadata": {
        "id": "C74aWNz2AliB"
      }
    },
    {
      "cell_type": "code",
      "source": [
        "# Manipulate Features to minimize feature correlation and create new features"
      ],
      "metadata": {
        "id": "h1qC4yhBApWC"
      },
      "execution_count": null,
      "outputs": []
    },
    {
      "cell_type": "markdown",
      "source": [
        "#### 2. Feature Selection"
      ],
      "metadata": {
        "id": "2DejudWSA-a0"
      }
    },
    {
      "cell_type": "code",
      "source": [
        "# Select your features wisely to avoid overfitting"
      ],
      "metadata": {
        "id": "YLhe8UmaBCEE"
      },
      "execution_count": null,
      "outputs": []
    },
    {
      "cell_type": "markdown",
      "source": [
        "##### What all feature selection methods have you used  and why?"
      ],
      "metadata": {
        "id": "pEMng2IbBLp7"
      }
    },
    {
      "cell_type": "markdown",
      "source": [
        "Answer Here."
      ],
      "metadata": {
        "id": "rb2Lh6Z8BgGs"
      }
    },
    {
      "cell_type": "markdown",
      "source": [
        "##### Which all features you found important and why?"
      ],
      "metadata": {
        "id": "rAdphbQ9Bhjc"
      }
    },
    {
      "cell_type": "markdown",
      "source": [
        "Answer Here."
      ],
      "metadata": {
        "id": "fGgaEstsBnaf"
      }
    },
    {
      "cell_type": "markdown",
      "source": [
        "### 5. Data Transformation"
      ],
      "metadata": {
        "id": "TNVZ9zx19K6k"
      }
    },
    {
      "cell_type": "markdown",
      "source": [
        "#### Do you think that your data needs to be transformed? If yes, which transformation have you used. Explain Why?"
      ],
      "metadata": {
        "id": "nqoHp30x9hH9"
      }
    },
    {
      "cell_type": "code",
      "source": [
        "# Transform Your data"
      ],
      "metadata": {
        "id": "I6quWQ1T9rtH"
      },
      "execution_count": null,
      "outputs": []
    },
    {
      "cell_type": "markdown",
      "source": [
        "### 6. Data Scaling"
      ],
      "metadata": {
        "id": "rMDnDkt2B6du"
      }
    },
    {
      "cell_type": "code",
      "source": [
        "# Scaling your data"
      ],
      "metadata": {
        "id": "dL9LWpySC6x_"
      },
      "execution_count": null,
      "outputs": []
    },
    {
      "cell_type": "markdown",
      "source": [
        "##### Which method have you used to scale you data and why?"
      ],
      "metadata": {
        "id": "yiiVWRdJDDil"
      }
    },
    {
      "cell_type": "markdown",
      "source": [
        "### 7. Dimesionality Reduction"
      ],
      "metadata": {
        "id": "1UUpS68QDMuG"
      }
    },
    {
      "cell_type": "markdown",
      "source": [
        "##### Do you think that dimensionality reduction is needed? Explain Why?"
      ],
      "metadata": {
        "id": "kexQrXU-DjzY"
      }
    },
    {
      "cell_type": "markdown",
      "source": [
        "Answer Here."
      ],
      "metadata": {
        "id": "GGRlBsSGDtTQ"
      }
    },
    {
      "cell_type": "code",
      "source": [
        "# DImensionality Reduction (If needed)"
      ],
      "metadata": {
        "id": "kQfvxBBHDvCa"
      },
      "execution_count": null,
      "outputs": []
    },
    {
      "cell_type": "markdown",
      "source": [
        "##### Which dimensionality reduction technique have you used and why? (If dimensionality reduction done on dataset.)"
      ],
      "metadata": {
        "id": "T5CmagL3EC8N"
      }
    },
    {
      "cell_type": "markdown",
      "source": [
        "Answer Here."
      ],
      "metadata": {
        "id": "ZKr75IDuEM7t"
      }
    },
    {
      "cell_type": "markdown",
      "source": [
        "### 8. Data Splitting"
      ],
      "metadata": {
        "id": "BhH2vgX9EjGr"
      }
    },
    {
      "cell_type": "code",
      "source": [
        "# Split your data to train and test. Choose Splitting ratio wisely."
      ],
      "metadata": {
        "id": "0CTyd2UwEyNM"
      },
      "execution_count": null,
      "outputs": []
    },
    {
      "cell_type": "markdown",
      "source": [
        "##### What data splitting ratio have you used and why? "
      ],
      "metadata": {
        "id": "qjKvONjwE8ra"
      }
    },
    {
      "cell_type": "markdown",
      "source": [
        "Answer Here."
      ],
      "metadata": {
        "id": "Y2lJ8cobFDb_"
      }
    },
    {
      "cell_type": "markdown",
      "source": [
        "### 9. Handling Imbalanced Dataset"
      ],
      "metadata": {
        "id": "P1XJ9OREExlT"
      }
    },
    {
      "cell_type": "markdown",
      "source": [
        "##### Do you think the dataset is imbalanced? Explain Why."
      ],
      "metadata": {
        "id": "VFOzZv6IFROw"
      }
    },
    {
      "cell_type": "markdown",
      "source": [
        "Answer Here."
      ],
      "metadata": {
        "id": "GeKDIv7pFgcC"
      }
    },
    {
      "cell_type": "code",
      "source": [
        "# Handling Imbalanced Dataset (If needed)"
      ],
      "metadata": {
        "id": "nQsRhhZLFiDs"
      },
      "execution_count": null,
      "outputs": []
    },
    {
      "cell_type": "markdown",
      "source": [
        "##### What technique did you use to handle the imbalance dataset and why? (If needed to be balanced)"
      ],
      "metadata": {
        "id": "TIqpNgepFxVj"
      }
    },
    {
      "cell_type": "markdown",
      "source": [
        "Answer Here."
      ],
      "metadata": {
        "id": "qbet1HwdGDTz"
      }
    },
    {
      "cell_type": "markdown",
      "source": [
        "## ***7. ML Model Implementation***"
      ],
      "metadata": {
        "id": "VfCC591jGiD4"
      }
    },
    {
      "cell_type": "markdown",
      "source": [
        "### ML Model - 1"
      ],
      "metadata": {
        "id": "OB4l2ZhMeS1U"
      }
    },
    {
      "cell_type": "code",
      "source": [
        "# ML Model - 1 Implementation\n",
        "\n",
        "# Fit the Algorithm\n",
        "\n",
        "# Predict on the model"
      ],
      "metadata": {
        "id": "7ebyywQieS1U"
      },
      "execution_count": null,
      "outputs": []
    },
    {
      "cell_type": "markdown",
      "source": [
        "#### 1. Explain the ML Model used and it's performance using Evaluation metric Score Chart."
      ],
      "metadata": {
        "id": "ArJBuiUVfxKd"
      }
    },
    {
      "cell_type": "code",
      "source": [
        "# Visualizing evaluation Metric Score chart"
      ],
      "metadata": {
        "id": "rqD5ZohzfxKe"
      },
      "execution_count": null,
      "outputs": []
    },
    {
      "cell_type": "markdown",
      "source": [
        "#### 2. Cross- Validation & Hyperparameter Tuning"
      ],
      "metadata": {
        "id": "4qY1EAkEfxKe"
      }
    },
    {
      "cell_type": "code",
      "source": [
        "# ML Model - 1 Implementation with hyperparameter optimization techniques (i.e., GridSearch CV, RandomSearch CV, Bayesian Optimization etc.)\n",
        "\n",
        "# Fit the Algorithm\n",
        "\n",
        "# Predict on the model"
      ],
      "metadata": {
        "id": "Dy61ujd6fxKe"
      },
      "execution_count": null,
      "outputs": []
    },
    {
      "cell_type": "markdown",
      "source": [
        "##### Which hyperparameter optimization technique have you used and why?"
      ],
      "metadata": {
        "id": "PiV4Ypx8fxKe"
      }
    },
    {
      "cell_type": "markdown",
      "source": [
        "Answer Here."
      ],
      "metadata": {
        "id": "negyGRa7fxKf"
      }
    },
    {
      "cell_type": "markdown",
      "source": [
        "##### Have you seen any improvement? Note down the improvement with updates Evaluation metric Score Chart."
      ],
      "metadata": {
        "id": "TfvqoZmBfxKf"
      }
    },
    {
      "cell_type": "markdown",
      "source": [
        "Answer Here."
      ],
      "metadata": {
        "id": "OaLui8CcfxKf"
      }
    },
    {
      "cell_type": "markdown",
      "source": [
        "### ML Model - 2"
      ],
      "metadata": {
        "id": "dJ2tPlVmpsJ0"
      }
    },
    {
      "cell_type": "markdown",
      "source": [
        "#### 1. Explain the ML Model used and it's performance using Evaluation metric Score Chart."
      ],
      "metadata": {
        "id": "JWYfwnehpsJ1"
      }
    },
    {
      "cell_type": "code",
      "source": [
        "# Visualizing evaluation Metric Score chart"
      ],
      "metadata": {
        "id": "yEl-hgQWpsJ1"
      },
      "execution_count": null,
      "outputs": []
    },
    {
      "cell_type": "markdown",
      "source": [
        "#### 2. Cross- Validation & Hyperparameter Tuning"
      ],
      "metadata": {
        "id": "-jK_YjpMpsJ2"
      }
    },
    {
      "cell_type": "code",
      "source": [
        "# ML Model - 1 Implementation with hyperparameter optimization techniques (i.e., GridSearch CV, RandomSearch CV, Bayesian Optimization etc.)\n",
        "\n",
        "# Fit the Algorithm\n",
        "\n",
        "# Predict on the model"
      ],
      "metadata": {
        "id": "Dn0EOfS6psJ2"
      },
      "execution_count": null,
      "outputs": []
    },
    {
      "cell_type": "markdown",
      "source": [
        "##### Which hyperparameter optimization technique have you used and why?"
      ],
      "metadata": {
        "id": "HAih1iBOpsJ2"
      }
    },
    {
      "cell_type": "markdown",
      "source": [
        "Answer Here."
      ],
      "metadata": {
        "id": "9kBgjYcdpsJ2"
      }
    },
    {
      "cell_type": "markdown",
      "source": [
        "##### Have you seen any improvement? Note down the improvement with updates Evaluation metric Score Chart."
      ],
      "metadata": {
        "id": "zVGeBEFhpsJ2"
      }
    },
    {
      "cell_type": "markdown",
      "source": [
        "Answer Here."
      ],
      "metadata": {
        "id": "74yRdG6UpsJ3"
      }
    },
    {
      "cell_type": "markdown",
      "source": [
        "#### 3. Explain each evaluation metric's indication towards business and the business impact pf the ML model used."
      ],
      "metadata": {
        "id": "bmKjuQ-FpsJ3"
      }
    },
    {
      "cell_type": "markdown",
      "source": [
        "Answer Here."
      ],
      "metadata": {
        "id": "BDKtOrBQpsJ3"
      }
    },
    {
      "cell_type": "markdown",
      "source": [
        "### ML Model - 3"
      ],
      "metadata": {
        "id": "Fze-IPXLpx6K"
      }
    },
    {
      "cell_type": "code",
      "source": [
        "# ML Model - 3 Implementation\n",
        "\n",
        "# Fit the Algorithm\n",
        "\n",
        "# Predict on the model"
      ],
      "metadata": {
        "id": "FFrSXAtrpx6M"
      },
      "execution_count": null,
      "outputs": []
    },
    {
      "cell_type": "markdown",
      "source": [
        "#### 1. Explain the ML Model used and it's performance using Evaluation metric Score Chart."
      ],
      "metadata": {
        "id": "7AN1z2sKpx6M"
      }
    },
    {
      "cell_type": "code",
      "source": [
        "# Visualizing evaluation Metric Score chart"
      ],
      "metadata": {
        "id": "xIY4lxxGpx6M"
      },
      "execution_count": null,
      "outputs": []
    },
    {
      "cell_type": "markdown",
      "source": [
        "#### 2. Cross- Validation & Hyperparameter Tuning"
      ],
      "metadata": {
        "id": "9PIHJqyupx6M"
      }
    },
    {
      "cell_type": "code",
      "source": [
        "# ML Model - 3 Implementation with hyperparameter optimization techniques (i.e., GridSearch CV, RandomSearch CV, Bayesian Optimization etc.)\n",
        "\n",
        "# Fit the Algorithm\n",
        "\n",
        "# Predict on the model"
      ],
      "metadata": {
        "id": "eSVXuaSKpx6M"
      },
      "execution_count": null,
      "outputs": []
    },
    {
      "cell_type": "markdown",
      "source": [
        "##### Which hyperparameter optimization technique have you used and why?"
      ],
      "metadata": {
        "id": "_-qAgymDpx6N"
      }
    },
    {
      "cell_type": "markdown",
      "source": [
        "Answer Here."
      ],
      "metadata": {
        "id": "lQMffxkwpx6N"
      }
    },
    {
      "cell_type": "markdown",
      "source": [
        "##### Have you seen any improvement? Note down the improvement with updates Evaluation metric Score Chart."
      ],
      "metadata": {
        "id": "Z-hykwinpx6N"
      }
    },
    {
      "cell_type": "markdown",
      "source": [
        "Answer Here."
      ],
      "metadata": {
        "id": "MzVzZC6opx6N"
      }
    },
    {
      "cell_type": "markdown",
      "source": [
        "### 1. Which Evaluation metrics did you consider for a positive business impact and why?"
      ],
      "metadata": {
        "id": "h_CCil-SKHpo"
      }
    },
    {
      "cell_type": "markdown",
      "source": [
        "Answer Here."
      ],
      "metadata": {
        "id": "jHVz9hHDKFms"
      }
    },
    {
      "cell_type": "markdown",
      "source": [
        "### 2. Which ML model did you choose from the above created models as your final prediction model and why?"
      ],
      "metadata": {
        "id": "cBFFvTBNJzUa"
      }
    },
    {
      "cell_type": "markdown",
      "source": [
        "Answer Here."
      ],
      "metadata": {
        "id": "6ksF5Q1LKTVm"
      }
    },
    {
      "cell_type": "markdown",
      "source": [
        "### 3. Explain the model which you have used and the feature importance using any model explainability tool?"
      ],
      "metadata": {
        "id": "HvGl1hHyA_VK"
      }
    },
    {
      "cell_type": "markdown",
      "source": [
        "Answer Here."
      ],
      "metadata": {
        "id": "YnvVTiIxBL-C"
      }
    },
    {
      "cell_type": "markdown",
      "source": [
        "## ***8.*** ***Future Work (Optional)***"
      ],
      "metadata": {
        "id": "EyNgTHvd2WFk"
      }
    },
    {
      "cell_type": "markdown",
      "source": [
        "### 1. Save the best performing ml model in a pickle file or joblib file format for deployment process.\n"
      ],
      "metadata": {
        "id": "KH5McJBi2d8v"
      }
    },
    {
      "cell_type": "code",
      "source": [
        "# Save the File"
      ],
      "metadata": {
        "id": "bQIANRl32f4J"
      },
      "execution_count": null,
      "outputs": []
    },
    {
      "cell_type": "markdown",
      "source": [
        "### 2. Again Load the saved model file and try to predict unseen data for a sanity check.\n"
      ],
      "metadata": {
        "id": "iW_Lq9qf2h6X"
      }
    },
    {
      "cell_type": "code",
      "source": [
        "# Load the File and predict unseen data."
      ],
      "metadata": {
        "id": "oEXk9ydD2nVC"
      },
      "execution_count": null,
      "outputs": []
    },
    {
      "cell_type": "markdown",
      "source": [
        "### ***Congrats! Your model is successfully created and ready for deployment on a live server for a real user interaction !!!***"
      ],
      "metadata": {
        "id": "-Kee-DAl2viO"
      }
    },
    {
      "cell_type": "markdown",
      "source": [
        "# **Conclusion**"
      ],
      "metadata": {
        "id": "gCX9965dhzqZ"
      }
    },
    {
      "cell_type": "markdown",
      "source": [
        "Write the conclusion here."
      ],
      "metadata": {
        "id": "Fjb1IsQkh3yE"
      }
    },
    {
      "cell_type": "markdown",
      "source": [
        "### ***Hurrah! You have successfully completed your Machine Learning Capstone Project !!!***"
      ],
      "metadata": {
        "id": "gIfDvo9L0UH2"
      }
    }
  ]
}